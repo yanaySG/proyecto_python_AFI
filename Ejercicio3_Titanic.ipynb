{
 "cells": [
  {
   "cell_type": "markdown",
   "id": "b70d7b81",
   "metadata": {},
   "source": [
    "# Ejercicio 3. Titanic"
   ]
  },
  {
   "cell_type": "markdown",
   "id": "8fba009b",
   "metadata": {},
   "source": [
    "Uno de los conjuntos de datos más típicos utilizados, de forma académica, para explicar conceptos de data science es el que contiene información de personas supervivientes y fallecidas en el hundimiento del Titanic.\n",
    "\n",
    "Para obtener este conjunto de datos descargar el fichero train.csv de la página de la competición Titanic: Machine learning for disaster (https://www.kaggle.com/c/titanic/data)."
   ]
  },
  {
   "cell_type": "markdown",
   "id": "d42acce1",
   "metadata": {},
   "source": [
    "## Explorando el Titanic"
   ]
  },
  {
   "cell_type": "markdown",
   "id": "37a2848e",
   "metadata": {},
   "source": [
    "El objetivo de este ejercicio, es realizar un análisis exploratorio sencillo sobre este conjunto de datos, utilizando las diferentes funcionalidades que pone a nuestra disposición el módulo pandas de Python.\n",
    "\n",
    "El análisis a realizar sobre el contenido del set de datos deberá ser completo (PERO SIMPLE), incluyendo, por ejemplo:\n",
    "- Listado de variables contenidas en el set de datos.\n",
    "- Descripción/significado de cada una de las variables.\n",
    "- Tipo (categórica o numérica) de cada una de las variables.\n",
    "- Frecuencias sobre los valores de las variables categóricas.\n",
    "- Estadísticos básicos sobre las variables numéricas.\n",
    "- Análisis de valores nulos que incluya qué variables los contienen, su representatividad dentro del set de datos y qué posible solución podríamos dar.\n",
    "\n",
    "Como en cualquier análisis exploratorio es muy importante que el proceso seguido, los análisis realizados y las conclusiones alcanzadas queden perfectamente explicadas y documentadas."
   ]
  },
  {
   "cell_type": "code",
   "execution_count": 1,
   "id": "9e3532ab",
   "metadata": {},
   "outputs": [],
   "source": [
    "#librerías\n",
    "import numpy as np\n",
    "import pandas as pd\n",
    "import matplotlib.pyplot as plt\n",
    "import seaborn as sns"
   ]
  },
  {
   "cell_type": "code",
   "execution_count": 2,
   "id": "fd9666aa",
   "metadata": {},
   "outputs": [
    {
     "data": {
      "text/html": [
       "<div>\n",
       "<style scoped>\n",
       "    .dataframe tbody tr th:only-of-type {\n",
       "        vertical-align: middle;\n",
       "    }\n",
       "\n",
       "    .dataframe tbody tr th {\n",
       "        vertical-align: top;\n",
       "    }\n",
       "\n",
       "    .dataframe thead th {\n",
       "        text-align: right;\n",
       "    }\n",
       "</style>\n",
       "<table border=\"1\" class=\"dataframe\">\n",
       "  <thead>\n",
       "    <tr style=\"text-align: right;\">\n",
       "      <th></th>\n",
       "      <th>Survived</th>\n",
       "      <th>Pclass</th>\n",
       "      <th>Name</th>\n",
       "      <th>Sex</th>\n",
       "      <th>Age</th>\n",
       "      <th>SibSp</th>\n",
       "      <th>Parch</th>\n",
       "      <th>Ticket</th>\n",
       "      <th>Fare</th>\n",
       "      <th>Cabin</th>\n",
       "      <th>Embarked</th>\n",
       "    </tr>\n",
       "    <tr>\n",
       "      <th>PassengerId</th>\n",
       "      <th></th>\n",
       "      <th></th>\n",
       "      <th></th>\n",
       "      <th></th>\n",
       "      <th></th>\n",
       "      <th></th>\n",
       "      <th></th>\n",
       "      <th></th>\n",
       "      <th></th>\n",
       "      <th></th>\n",
       "      <th></th>\n",
       "    </tr>\n",
       "  </thead>\n",
       "  <tbody>\n",
       "    <tr>\n",
       "      <th>1</th>\n",
       "      <td>0</td>\n",
       "      <td>3</td>\n",
       "      <td>Braund, Mr. Owen Harris</td>\n",
       "      <td>male</td>\n",
       "      <td>22.0</td>\n",
       "      <td>1</td>\n",
       "      <td>0</td>\n",
       "      <td>A/5 21171</td>\n",
       "      <td>7.2500</td>\n",
       "      <td>NaN</td>\n",
       "      <td>S</td>\n",
       "    </tr>\n",
       "    <tr>\n",
       "      <th>2</th>\n",
       "      <td>1</td>\n",
       "      <td>1</td>\n",
       "      <td>Cumings, Mrs. John Bradley (Florence Briggs Th...</td>\n",
       "      <td>female</td>\n",
       "      <td>38.0</td>\n",
       "      <td>1</td>\n",
       "      <td>0</td>\n",
       "      <td>PC 17599</td>\n",
       "      <td>71.2833</td>\n",
       "      <td>C85</td>\n",
       "      <td>C</td>\n",
       "    </tr>\n",
       "    <tr>\n",
       "      <th>3</th>\n",
       "      <td>1</td>\n",
       "      <td>3</td>\n",
       "      <td>Heikkinen, Miss. Laina</td>\n",
       "      <td>female</td>\n",
       "      <td>26.0</td>\n",
       "      <td>0</td>\n",
       "      <td>0</td>\n",
       "      <td>STON/O2. 3101282</td>\n",
       "      <td>7.9250</td>\n",
       "      <td>NaN</td>\n",
       "      <td>S</td>\n",
       "    </tr>\n",
       "    <tr>\n",
       "      <th>4</th>\n",
       "      <td>1</td>\n",
       "      <td>1</td>\n",
       "      <td>Futrelle, Mrs. Jacques Heath (Lily May Peel)</td>\n",
       "      <td>female</td>\n",
       "      <td>35.0</td>\n",
       "      <td>1</td>\n",
       "      <td>0</td>\n",
       "      <td>113803</td>\n",
       "      <td>53.1000</td>\n",
       "      <td>C123</td>\n",
       "      <td>S</td>\n",
       "    </tr>\n",
       "    <tr>\n",
       "      <th>5</th>\n",
       "      <td>0</td>\n",
       "      <td>3</td>\n",
       "      <td>Allen, Mr. William Henry</td>\n",
       "      <td>male</td>\n",
       "      <td>35.0</td>\n",
       "      <td>0</td>\n",
       "      <td>0</td>\n",
       "      <td>373450</td>\n",
       "      <td>8.0500</td>\n",
       "      <td>NaN</td>\n",
       "      <td>S</td>\n",
       "    </tr>\n",
       "  </tbody>\n",
       "</table>\n",
       "</div>"
      ],
      "text/plain": [
       "             Survived  Pclass  \\\n",
       "PassengerId                     \n",
       "1                   0       3   \n",
       "2                   1       1   \n",
       "3                   1       3   \n",
       "4                   1       1   \n",
       "5                   0       3   \n",
       "\n",
       "                                                          Name     Sex   Age  \\\n",
       "PassengerId                                                                    \n",
       "1                                      Braund, Mr. Owen Harris    male  22.0   \n",
       "2            Cumings, Mrs. John Bradley (Florence Briggs Th...  female  38.0   \n",
       "3                                       Heikkinen, Miss. Laina  female  26.0   \n",
       "4                 Futrelle, Mrs. Jacques Heath (Lily May Peel)  female  35.0   \n",
       "5                                     Allen, Mr. William Henry    male  35.0   \n",
       "\n",
       "             SibSp  Parch            Ticket     Fare Cabin Embarked  \n",
       "PassengerId                                                          \n",
       "1                1      0         A/5 21171   7.2500   NaN        S  \n",
       "2                1      0          PC 17599  71.2833   C85        C  \n",
       "3                0      0  STON/O2. 3101282   7.9250   NaN        S  \n",
       "4                1      0            113803  53.1000  C123        S  \n",
       "5                0      0            373450   8.0500   NaN        S  "
      ]
     },
     "execution_count": 2,
     "metadata": {},
     "output_type": "execute_result"
    }
   ],
   "source": [
    "titanic = pd.read_csv(\"Data/train.csv\", na_values='', index_col=0)\n",
    "titanic.head(5)"
   ]
  },
  {
   "cell_type": "code",
   "execution_count": 3,
   "id": "e3b2601f",
   "metadata": {},
   "outputs": [
    {
     "name": "stdout",
     "output_type": "stream",
     "text": [
      "(891, 11)\n"
     ]
    }
   ],
   "source": [
    "df_dim = titanic.shape\n",
    "print(df_dim)"
   ]
  },
  {
   "cell_type": "markdown",
   "id": "437b31a0",
   "metadata": {},
   "source": [
    "#### Listado de variables contenidas en el set de datos."
   ]
  },
  {
   "cell_type": "code",
   "execution_count": 4,
   "id": "7f62d7b9",
   "metadata": {},
   "outputs": [
    {
     "data": {
      "text/plain": [
       "0     Survived\n",
       "1       Pclass\n",
       "2         Name\n",
       "3          Sex\n",
       "4          Age\n",
       "5        SibSp\n",
       "6        Parch\n",
       "7       Ticket\n",
       "8         Fare\n",
       "9        Cabin\n",
       "10    Embarked\n",
       "dtype: object"
      ]
     },
     "execution_count": 4,
     "metadata": {},
     "output_type": "execute_result"
    }
   ],
   "source": [
    "variables = pd.Series(titanic.columns)\n",
    "variables"
   ]
  },
  {
   "cell_type": "markdown",
   "id": "3b0ec10c",
   "metadata": {},
   "source": [
    "#### Descripción/significado de cada una de las variables\n",
    "Agregando la descripcion a las variables según la documentación de la página web."
   ]
  },
  {
   "cell_type": "code",
   "execution_count": 5,
   "id": "c62b1350",
   "metadata": {},
   "outputs": [
    {
     "data": {
      "text/html": [
       "<div>\n",
       "<style scoped>\n",
       "    .dataframe tbody tr th:only-of-type {\n",
       "        vertical-align: middle;\n",
       "    }\n",
       "\n",
       "    .dataframe tbody tr th {\n",
       "        vertical-align: top;\n",
       "    }\n",
       "\n",
       "    .dataframe thead th {\n",
       "        text-align: right;\n",
       "    }\n",
       "</style>\n",
       "<table border=\"1\" class=\"dataframe\">\n",
       "  <thead>\n",
       "    <tr style=\"text-align: right;\">\n",
       "      <th></th>\n",
       "      <th>Variable</th>\n",
       "      <th>Descripción</th>\n",
       "    </tr>\n",
       "  </thead>\n",
       "  <tbody>\n",
       "    <tr>\n",
       "      <th>0</th>\n",
       "      <td>Survived</td>\n",
       "      <td>Survival (0 = No; 1 = Yes)</td>\n",
       "    </tr>\n",
       "    <tr>\n",
       "      <th>1</th>\n",
       "      <td>Pclass</td>\n",
       "      <td>Passenger Class (1 = 1st; 2 = 2nd; 3 = 3rd)</td>\n",
       "    </tr>\n",
       "    <tr>\n",
       "      <th>2</th>\n",
       "      <td>Name</td>\n",
       "      <td>Name</td>\n",
       "    </tr>\n",
       "    <tr>\n",
       "      <th>3</th>\n",
       "      <td>Sex</td>\n",
       "      <td>Sex</td>\n",
       "    </tr>\n",
       "    <tr>\n",
       "      <th>4</th>\n",
       "      <td>Age</td>\n",
       "      <td>Age</td>\n",
       "    </tr>\n",
       "    <tr>\n",
       "      <th>5</th>\n",
       "      <td>SibSp</td>\n",
       "      <td>Number of Siblings/Spouses Aboard</td>\n",
       "    </tr>\n",
       "    <tr>\n",
       "      <th>6</th>\n",
       "      <td>Parch</td>\n",
       "      <td>Number of Parents/Children Aboard</td>\n",
       "    </tr>\n",
       "    <tr>\n",
       "      <th>7</th>\n",
       "      <td>Ticket</td>\n",
       "      <td>Ticket Number</td>\n",
       "    </tr>\n",
       "    <tr>\n",
       "      <th>8</th>\n",
       "      <td>Fare</td>\n",
       "      <td>Passenger Fare</td>\n",
       "    </tr>\n",
       "    <tr>\n",
       "      <th>9</th>\n",
       "      <td>Cabin</td>\n",
       "      <td>Cabin</td>\n",
       "    </tr>\n",
       "    <tr>\n",
       "      <th>10</th>\n",
       "      <td>Embarked</td>\n",
       "      <td>Port of Embarkation (C = Cherbourg; Q = Queens...</td>\n",
       "    </tr>\n",
       "  </tbody>\n",
       "</table>\n",
       "</div>"
      ],
      "text/plain": [
       "    Variable                                        Descripción\n",
       "0   Survived                         Survival (0 = No; 1 = Yes)\n",
       "1     Pclass        Passenger Class (1 = 1st; 2 = 2nd; 3 = 3rd)\n",
       "2       Name                                               Name\n",
       "3        Sex                                                Sex\n",
       "4        Age                                                Age\n",
       "5      SibSp                  Number of Siblings/Spouses Aboard\n",
       "6      Parch                  Number of Parents/Children Aboard\n",
       "7     Ticket                                      Ticket Number\n",
       "8       Fare                                     Passenger Fare\n",
       "9      Cabin                                              Cabin\n",
       "10  Embarked  Port of Embarkation (C = Cherbourg; Q = Queens..."
      ]
     },
     "metadata": {},
     "output_type": "display_data"
    }
   ],
   "source": [
    "description = pd.Series(['Survival (0 = No; 1 = Yes)','Passenger Class (1 = 1st; 2 = 2nd; 3 = 3rd)','Name','Sex','Age','Number of Siblings/Spouses Aboard','Number of Parents/Children Aboard','Ticket Number','Passenger Fare','Cabin','Port of Embarkation (C = Cherbourg; Q = Queenstown; S = Southampton)'])\n",
    "var_desc = pd.concat([variables, description], axis=1, keys=['Variable', 'Descripción'])\n",
    "display(var_desc)"
   ]
  },
  {
   "cell_type": "markdown",
   "id": "0a968d3c",
   "metadata": {},
   "source": [
    "#### Tipo (categórica o numérica) de cada una de las variables."
   ]
  },
  {
   "cell_type": "code",
   "execution_count": 6,
   "id": "b9868b26",
   "metadata": {},
   "outputs": [
    {
     "data": {
      "text/plain": [
       "Survived      int64\n",
       "Pclass        int64\n",
       "Name         object\n",
       "Sex          object\n",
       "Age         float64\n",
       "SibSp         int64\n",
       "Parch         int64\n",
       "Ticket       object\n",
       "Fare        float64\n",
       "Cabin        object\n",
       "Embarked     object\n",
       "dtype: object"
      ]
     },
     "execution_count": 6,
     "metadata": {},
     "output_type": "execute_result"
    }
   ],
   "source": [
    "var_data_types = titanic.dtypes\n",
    "var_data_types"
   ]
  },
  {
   "cell_type": "markdown",
   "id": "c74fb787",
   "metadata": {},
   "source": [
    "#### Frecuencias sobre los valores de las variables categóricas."
   ]
  },
  {
   "cell_type": "markdown",
   "id": "9b31685f",
   "metadata": {},
   "source": [
    "Se han identificado cuatro variables categóricas que son: \n",
    "- Survived, con dos posibles valores que representan si una persona sobrevivió o no\n",
    "- Pclass, con tres valores posibles que representan las clases sociales a las que pertenecián los pasajeros, \n",
    "- Sex, con 2 valores posibles que representan el sexo de los pasajeros\n",
    "- Embarked con tres valores posibles que representan los puertos de embarque.\n",
    "\n",
    "Algunas de las variables categóricas tienen valores numéricos dentro del data set, esto puede causar problemas al analizar los datos, por esta razón se decide cambiar los valores de las variables para evitar confusiones y mejorar la visualización de los datos."
   ]
  },
  {
   "cell_type": "code",
   "execution_count": 7,
   "id": "af11e9cc",
   "metadata": {},
   "outputs": [
    {
     "data": {
      "text/html": [
       "<div>\n",
       "<style scoped>\n",
       "    .dataframe tbody tr th:only-of-type {\n",
       "        vertical-align: middle;\n",
       "    }\n",
       "\n",
       "    .dataframe tbody tr th {\n",
       "        vertical-align: top;\n",
       "    }\n",
       "\n",
       "    .dataframe thead th {\n",
       "        text-align: right;\n",
       "    }\n",
       "</style>\n",
       "<table border=\"1\" class=\"dataframe\">\n",
       "  <thead>\n",
       "    <tr style=\"text-align: right;\">\n",
       "      <th></th>\n",
       "      <th>Survived</th>\n",
       "      <th>Pclass</th>\n",
       "      <th>Sex</th>\n",
       "      <th>Embarked</th>\n",
       "    </tr>\n",
       "    <tr>\n",
       "      <th>PassengerId</th>\n",
       "      <th></th>\n",
       "      <th></th>\n",
       "      <th></th>\n",
       "      <th></th>\n",
       "    </tr>\n",
       "  </thead>\n",
       "  <tbody>\n",
       "    <tr>\n",
       "      <th>1</th>\n",
       "      <td>No</td>\n",
       "      <td>3rd</td>\n",
       "      <td>male</td>\n",
       "      <td>Southampton</td>\n",
       "    </tr>\n",
       "    <tr>\n",
       "      <th>2</th>\n",
       "      <td>Yes</td>\n",
       "      <td>1st</td>\n",
       "      <td>female</td>\n",
       "      <td>Cherbourg</td>\n",
       "    </tr>\n",
       "    <tr>\n",
       "      <th>3</th>\n",
       "      <td>Yes</td>\n",
       "      <td>3rd</td>\n",
       "      <td>female</td>\n",
       "      <td>Southampton</td>\n",
       "    </tr>\n",
       "    <tr>\n",
       "      <th>4</th>\n",
       "      <td>Yes</td>\n",
       "      <td>1st</td>\n",
       "      <td>female</td>\n",
       "      <td>Southampton</td>\n",
       "    </tr>\n",
       "    <tr>\n",
       "      <th>5</th>\n",
       "      <td>No</td>\n",
       "      <td>3rd</td>\n",
       "      <td>male</td>\n",
       "      <td>Southampton</td>\n",
       "    </tr>\n",
       "  </tbody>\n",
       "</table>\n",
       "</div>"
      ],
      "text/plain": [
       "            Survived Pclass     Sex     Embarked\n",
       "PassengerId                                     \n",
       "1                 No    3rd    male  Southampton\n",
       "2                Yes    1st  female    Cherbourg\n",
       "3                Yes    3rd  female  Southampton\n",
       "4                Yes    1st  female  Southampton\n",
       "5                 No    3rd    male  Southampton"
      ]
     },
     "execution_count": 7,
     "metadata": {},
     "output_type": "execute_result"
    }
   ],
   "source": [
    "#renombrando la variable categóricas Survived \n",
    "titanic.loc[titanic.Survived==1, 'Survived'] = 'Yes'\n",
    "titanic.loc[titanic.Survived==0, 'Survived'] = 'No'\n",
    "\n",
    "#renombrando la variable categóricas Pclass\n",
    "titanic.loc[titanic.Pclass==1, 'Pclass'] = '1st'\n",
    "titanic.loc[titanic.Pclass==2, 'Pclass'] = '2nd'\n",
    "titanic.loc[titanic.Pclass==3, 'Pclass'] = '3rd'\n",
    "\n",
    "#renombrando la variable categóricas Embarked\n",
    "titanic.loc[titanic.Embarked=='C', 'Embarked'] = 'Cherbourg'\n",
    "titanic.loc[titanic.Embarked=='Q', 'Embarked'] = 'Queenstown'\n",
    "titanic.loc[titanic.Embarked=='S', 'Embarked'] = 'Southampton'\n",
    "\n",
    "#dataframe con la variables categoricas\n",
    "categorical_variables = pd.DataFrame({'Survived':titanic.Survived, 'Pclass': titanic.Pclass, 'Sex': titanic.Sex, 'Embarked': titanic.Embarked})\n",
    "categorical_variables.head(5)"
   ]
  },
  {
   "cell_type": "code",
   "execution_count": 8,
   "id": "f60c630f",
   "metadata": {},
   "outputs": [],
   "source": [
    "def categorical_var_analysis(var):\n",
    "    c_var = categorical_variables[var].value_counts()\n",
    "    p_var = 100 * c_var / len(categorical_variables[var])\n",
    "    acum_p_var = p_var.cumsum()\n",
    "    \n",
    "    var_df = pd.concat([c_var, \n",
    "                        round(p_var, 2).astype(str) + \" %\", \n",
    "                        round(acum_p_var, 2).astype(str) + \" %\"], \n",
    "                       axis=1, keys=['Conteo', 'Porciento', 'Porciento acumulado'])\n",
    "    var_df.index += \" Class\"\n",
    "    \n",
    "    display(round(var_df,2)) \n",
    "    \n",
    "    \n",
    "    # plotting\n",
    "    plt.figure(figsize=(20, 4))\n",
    "    \n",
    "    plt.subplot(131)\n",
    "    plt.pie(var_df['Conteo'], labels = var_df.index)\n",
    "    \n",
    "    plt.subplot(132)\n",
    "    plt.bar(var_df.index, var_df['Conteo'])\n",
    "    \n",
    "    plt.tight_layout()\n"
   ]
  },
  {
   "cell_type": "markdown",
   "id": "1065a5b8",
   "metadata": {},
   "source": [
    "###### Variable Survived"
   ]
  },
  {
   "cell_type": "code",
   "execution_count": 9,
   "id": "31275dcf",
   "metadata": {},
   "outputs": [
    {
     "data": {
      "text/html": [
       "<div>\n",
       "<style scoped>\n",
       "    .dataframe tbody tr th:only-of-type {\n",
       "        vertical-align: middle;\n",
       "    }\n",
       "\n",
       "    .dataframe tbody tr th {\n",
       "        vertical-align: top;\n",
       "    }\n",
       "\n",
       "    .dataframe thead th {\n",
       "        text-align: right;\n",
       "    }\n",
       "</style>\n",
       "<table border=\"1\" class=\"dataframe\">\n",
       "  <thead>\n",
       "    <tr style=\"text-align: right;\">\n",
       "      <th></th>\n",
       "      <th>Conteo</th>\n",
       "      <th>Porciento</th>\n",
       "      <th>Porciento acumulado</th>\n",
       "    </tr>\n",
       "  </thead>\n",
       "  <tbody>\n",
       "    <tr>\n",
       "      <th>No Class</th>\n",
       "      <td>549</td>\n",
       "      <td>61.62 %</td>\n",
       "      <td>61.62 %</td>\n",
       "    </tr>\n",
       "    <tr>\n",
       "      <th>Yes Class</th>\n",
       "      <td>342</td>\n",
       "      <td>38.38 %</td>\n",
       "      <td>100.0 %</td>\n",
       "    </tr>\n",
       "  </tbody>\n",
       "</table>\n",
       "</div>"
      ],
      "text/plain": [
       "           Conteo Porciento Porciento acumulado\n",
       "No Class      549   61.62 %             61.62 %\n",
       "Yes Class     342   38.38 %             100.0 %"
      ]
     },
     "metadata": {},
     "output_type": "display_data"
    },
    {
     "data": {
      "image/png": "[encoded data removed]",
      "text/plain": [
       "<Figure size 1440x288 with 2 Axes>"
      ]
     },
     "metadata": {
      "needs_background": "light"
     },
     "output_type": "display_data"
    }
   ],
   "source": [
    "categorical_var_analysis(\"Survived\")"
   ]
  },
  {
   "cell_type": "markdown",
   "id": "c749eac8",
   "metadata": {},
   "source": [
    "###### Variable Pclass"
   ]
  },
  {
   "cell_type": "code",
   "execution_count": 10,
   "id": "9e5248b3",
   "metadata": {},
   "outputs": [
    {
     "data": {
      "text/html": [
       "<div>\n",
       "<style scoped>\n",
       "    .dataframe tbody tr th:only-of-type {\n",
       "        vertical-align: middle;\n",
       "    }\n",
       "\n",
       "    .dataframe tbody tr th {\n",
       "        vertical-align: top;\n",
       "    }\n",
       "\n",
       "    .dataframe thead th {\n",
       "        text-align: right;\n",
       "    }\n",
       "</style>\n",
       "<table border=\"1\" class=\"dataframe\">\n",
       "  <thead>\n",
       "    <tr style=\"text-align: right;\">\n",
       "      <th></th>\n",
       "      <th>Conteo</th>\n",
       "      <th>Porciento</th>\n",
       "      <th>Porciento acumulado</th>\n",
       "    </tr>\n",
       "  </thead>\n",
       "  <tbody>\n",
       "    <tr>\n",
       "      <th>3rd Class</th>\n",
       "      <td>491</td>\n",
       "      <td>55.11 %</td>\n",
       "      <td>55.11 %</td>\n",
       "    </tr>\n",
       "    <tr>\n",
       "      <th>1st Class</th>\n",
       "      <td>216</td>\n",
       "      <td>24.24 %</td>\n",
       "      <td>79.35 %</td>\n",
       "    </tr>\n",
       "    <tr>\n",
       "      <th>2nd Class</th>\n",
       "      <td>184</td>\n",
       "      <td>20.65 %</td>\n",
       "      <td>100.0 %</td>\n",
       "    </tr>\n",
       "  </tbody>\n",
       "</table>\n",
       "</div>"
      ],
      "text/plain": [
       "           Conteo Porciento Porciento acumulado\n",
       "3rd Class     491   55.11 %             55.11 %\n",
       "1st Class     216   24.24 %             79.35 %\n",
       "2nd Class     184   20.65 %             100.0 %"
      ]
     },
     "metadata": {},
     "output_type": "display_data"
    },
    {
     "data": {
      "image/png": "[encoded data removed]",
      "text/plain": [
       "<Figure size 1440x288 with 2 Axes>"
      ]
     },
     "metadata": {
      "needs_background": "light"
     },
     "output_type": "display_data"
    }
   ],
   "source": [
    "categorical_var_analysis(\"Pclass\")"
   ]
  },
  {
   "cell_type": "markdown",
   "id": "2f455c11",
   "metadata": {},
   "source": [
    "###### Variable Sex"
   ]
  },
  {
   "cell_type": "code",
   "execution_count": 11,
   "id": "385303ee",
   "metadata": {},
   "outputs": [
    {
     "data": {
      "text/html": [
       "<div>\n",
       "<style scoped>\n",
       "    .dataframe tbody tr th:only-of-type {\n",
       "        vertical-align: middle;\n",
       "    }\n",
       "\n",
       "    .dataframe tbody tr th {\n",
       "        vertical-align: top;\n",
       "    }\n",
       "\n",
       "    .dataframe thead th {\n",
       "        text-align: right;\n",
       "    }\n",
       "</style>\n",
       "<table border=\"1\" class=\"dataframe\">\n",
       "  <thead>\n",
       "    <tr style=\"text-align: right;\">\n",
       "      <th></th>\n",
       "      <th>Conteo</th>\n",
       "      <th>Porciento</th>\n",
       "      <th>Porciento acumulado</th>\n",
       "    </tr>\n",
       "  </thead>\n",
       "  <tbody>\n",
       "    <tr>\n",
       "      <th>male Class</th>\n",
       "      <td>577</td>\n",
       "      <td>64.76 %</td>\n",
       "      <td>64.76 %</td>\n",
       "    </tr>\n",
       "    <tr>\n",
       "      <th>female Class</th>\n",
       "      <td>314</td>\n",
       "      <td>35.24 %</td>\n",
       "      <td>100.0 %</td>\n",
       "    </tr>\n",
       "  </tbody>\n",
       "</table>\n",
       "</div>"
      ],
      "text/plain": [
       "              Conteo Porciento Porciento acumulado\n",
       "male Class       577   64.76 %             64.76 %\n",
       "female Class     314   35.24 %             100.0 %"
      ]
     },
     "metadata": {},
     "output_type": "display_data"
    },
    {
     "data": {
      "image/png": "[encoded data removed]",
      "text/plain": [
       "<Figure size 1440x288 with 2 Axes>"
      ]
     },
     "metadata": {
      "needs_background": "light"
     },
     "output_type": "display_data"
    }
   ],
   "source": [
    "categorical_var_analysis(\"Sex\")"
   ]
  },
  {
   "cell_type": "markdown",
   "id": "e9883027",
   "metadata": {},
   "source": [
    "###### Variable Embarked"
   ]
  },
  {
   "cell_type": "code",
   "execution_count": 12,
   "id": "f0c5b7df",
   "metadata": {},
   "outputs": [
    {
     "data": {
      "text/html": [
       "<div>\n",
       "<style scoped>\n",
       "    .dataframe tbody tr th:only-of-type {\n",
       "        vertical-align: middle;\n",
       "    }\n",
       "\n",
       "    .dataframe tbody tr th {\n",
       "        vertical-align: top;\n",
       "    }\n",
       "\n",
       "    .dataframe thead th {\n",
       "        text-align: right;\n",
       "    }\n",
       "</style>\n",
       "<table border=\"1\" class=\"dataframe\">\n",
       "  <thead>\n",
       "    <tr style=\"text-align: right;\">\n",
       "      <th></th>\n",
       "      <th>Conteo</th>\n",
       "      <th>Porciento</th>\n",
       "      <th>Porciento acumulado</th>\n",
       "    </tr>\n",
       "  </thead>\n",
       "  <tbody>\n",
       "    <tr>\n",
       "      <th>Southampton Class</th>\n",
       "      <td>644</td>\n",
       "      <td>72.28 %</td>\n",
       "      <td>72.28 %</td>\n",
       "    </tr>\n",
       "    <tr>\n",
       "      <th>Cherbourg Class</th>\n",
       "      <td>168</td>\n",
       "      <td>18.86 %</td>\n",
       "      <td>91.13 %</td>\n",
       "    </tr>\n",
       "    <tr>\n",
       "      <th>Queenstown Class</th>\n",
       "      <td>77</td>\n",
       "      <td>8.64 %</td>\n",
       "      <td>99.78 %</td>\n",
       "    </tr>\n",
       "  </tbody>\n",
       "</table>\n",
       "</div>"
      ],
      "text/plain": [
       "                   Conteo Porciento Porciento acumulado\n",
       "Southampton Class     644   72.28 %             72.28 %\n",
       "Cherbourg Class       168   18.86 %             91.13 %\n",
       "Queenstown Class       77    8.64 %             99.78 %"
      ]
     },
     "metadata": {},
     "output_type": "display_data"
    },
    {
     "data": {
      "image/png": "[encoded data removed]",
      "text/plain": [
       "<Figure size 1440x288 with 2 Axes>"
      ]
     },
     "metadata": {
      "needs_background": "light"
     },
     "output_type": "display_data"
    }
   ],
   "source": [
    "categorical_var_analysis(\"Embarked\")"
   ]
  },
  {
   "cell_type": "code",
   "execution_count": 37,
   "id": "4dc315bd",
   "metadata": {},
   "outputs": [
    {
     "data": {
      "text/plain": [
       "<AxesSubplot:xlabel='Pclass'>"
      ]
     },
     "execution_count": 37,
     "metadata": {},
     "output_type": "execute_result"
    },
    {
     "data": {
      "image/png": "[encoded data removed]",
      "text/plain": [
       "<Figure size 432x288 with 1 Axes>"
      ]
     },
     "metadata": {
      "needs_background": "light"
     },
     "output_type": "display_data"
    }
   ],
   "source": [
    "pd.crosstab(index=titanic['Survived'], columns=titanic['Pclass'], margins=False)\n",
    "pd.crosstab(index=titanic['Survived'], columns=titanic['Pclass'],margins=True).apply(lambda x: x/len(titanic) * 100, axis=1)\n",
    "pd.crosstab(index=titanic['Pclass'],columns=titanic['Survived']).plot(kind='bar')"
   ]
  },
  {
   "cell_type": "markdown",
   "id": "cbd1c905",
   "metadata": {},
   "source": [
    "#### Estadísticos básicos sobre las variables numéricas."
   ]
  },
  {
   "cell_type": "code",
   "execution_count": 13,
   "id": "e3c533c8",
   "metadata": {},
   "outputs": [],
   "source": [
    "#PENDIENTE"
   ]
  },
  {
   "cell_type": "markdown",
   "id": "7e0e196d",
   "metadata": {},
   "source": [
    "#### Análisis de valores nulos que incluya qué variables los contienen, su representatividad dentro del set de datos y qué posible solución podríamos dar."
   ]
  },
  {
   "cell_type": "code",
   "execution_count": 14,
   "id": "75327191",
   "metadata": {},
   "outputs": [],
   "source": [
    "#PENDIENTE"
   ]
  },
  {
   "cell_type": "markdown",
   "id": "b08c7f8a",
   "metadata": {},
   "source": [
    "## Analizando el Titanic"
   ]
  },
  {
   "cell_type": "markdown",
   "id": "ee2eca88",
   "metadata": {},
   "source": [
    "Tras la exploración del conjunto de datos del ejercicio anterior, debería ser muy sencillo obtener insights o conclusiones sobre los pasajeros del Titanic y su hundimiento.\n",
    "\n",
    "Obviamente, al trabajar únicamente con una muestra del conjunto de datos (sólo estamos utilizando el conjunto de entrenamiento de la competición), las conclusiones alcanzadas no serán completamente correctas y podrán tener cierto sesgo, pero es más que suficiente para un ejercicio académico.\n",
    "\n",
    "El objetivo de este ejercicio, será utilizar las diferentes funcionalidades de agrupación y agregación que pone a nuestra disposición el módulo pandas de Python para responder a un pequeño conjunto de preguntas sobre la catástrofe.\n",
    "\n",
    "El listado de preguntas que se deberá responder es el siguiente:\n",
    "- ¿Fallecieron más mujeres u hombres? ¿Cuánto más en porcentaje?\n",
    "- ¿Qué clase de pasajeros (primera, segunda o tercera) sobrevivió más?\n",
    "- ¿Cuál fue la edad media de los supervivientes en cada una de las clases?\n",
    "- ¿Cuál de los puertos de embarque es el más rico (aquel con la media de precio de billete más cara)?\n",
    "- ¿Qué correlación hay entre la longitud del nombre de un pasajero y el importe de su billete?"
   ]
  },
  {
   "cell_type": "code",
   "execution_count": 15,
   "id": "cc42e600",
   "metadata": {},
   "outputs": [],
   "source": [
    "#PENDIENTE"
   ]
  }
 ],
 "metadata": {
  "kernelspec": {
   "display_name": "Python 3",
   "language": "python",
   "name": "python3"
  },
  "language_info": {
   "codemirror_mode": {
    "name": "ipython",
    "version": 3
   },
   "file_extension": ".py",
   "mimetype": "text/x-python",
   "name": "python",
   "nbconvert_exporter": "python",
   "pygments_lexer": "ipython3",
   "version": "3.8.8"
  }
 },
 "nbformat": 4,
 "nbformat_minor": 5
}
