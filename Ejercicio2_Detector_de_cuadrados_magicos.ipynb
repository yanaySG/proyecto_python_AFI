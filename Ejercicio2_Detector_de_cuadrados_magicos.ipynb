{
 "cells": [
  {
   "cell_type": "markdown",
   "id": "9e873914",
   "metadata": {},
   "source": [
    "# Detector de cuadrados mágicos"
   ]
  },
  {
   "cell_type": "markdown",
   "id": "0700266b",
   "metadata": {},
   "source": [
    "Un cuadrado mágico es una matriz cuadrada de números enteros en la que se cumple que la suma de los números en cada fila, en cada columna y en ambas diagonales da siempre el mismo valor, denominado constante mágica.\n",
    "\n",
    "El objetivo de este ejercicio, es crear una función, basada en las funcionalidades que nos da el módulo NumPy de Python, que permita detectar si un fichero de texto tiene como contenido un cuadrado mágico o no. La función deberá tener la siguiente cabecera.\n",
    "\n",
    "                         def es_cuadrado_magico(ruta)\n",
    "Las tareas que tendrá que realizar dicha función, son las siguientes:\n",
    "- Leer, de la ruta recibida como parámetro y mediante la función loadtxt, una matriz de enteros de NumPy (asume que el fichero tiene el formato básico que NumPy utiliza al llamar a la función savetxt).\n",
    "- Comprobar que la matriz leída es, efectivamente, un cuadrado mágico validando que se cumplen las propiedades necesarias:\n",
    "    - Es cuadrada.\n",
    "    - Contiene enteros.\n",
    "    - La suma de filas, columnas y diagonales coinciden.\n",
    "\n",
    "Como resultado, la función devolverá:\n",
    "- La cadena “No es un cuadrado mágico” en caso de que no se cumplan las propiedades.\n",
    "- La cadena “Es un cuadrado mágico de constante XX” en caso de que se cumplan las propiedades. Donde XX será el valor concreto de la constante mágica del cuadrado validado.\n",
    "\n",
    "Se deberán tener en cuenta (y controlar) los posibles errores asociados a la lectura (p.e. la ruta no existe, el fichero leído no tiene el formato adecuado...), pero no es necesario que se haga un control específico de cada uno de los mismos. Es decir, con controlar cualquier posible excepción y mostrar un mensaje de error genérico sería suficiente."
   ]
  },
  {
   "cell_type": "code",
   "execution_count": 1,
   "id": "10fadd64",
   "metadata": {},
   "outputs": [],
   "source": [
    "import numpy as np"
   ]
  },
  {
   "cell_type": "code",
   "execution_count": 2,
   "id": "cb6b36dd",
   "metadata": {},
   "outputs": [],
   "source": [
    "def magic_square(ruta):\n",
    "    \n",
    "    arr = np.loadtxt(ruta, dtype=int)\n",
    "    \n",
    "    if(arr.shape[0] != arr.shape[1]): # verificar que la matriz es cuadrada\n",
    "        return -1\n",
    "    \n",
    "    sumV  = np.sum(arr, axis=1)    # calculando la suma de las filas\n",
    "    sumH  = np.sum(arr, axis=0)    # calculando la suma de las columnas\n",
    "    diag1 = np.trace(arr)          # calculando la primera diagonal\n",
    "    rarr  = np.rot90(arr)          # se rota la matriz para calcular la segunda diagonal\n",
    "    diag2 = np.trace(rarr)         # calculando la segunda diagonal\n",
    "       \n",
    "    magic_num = sumV[0] # se parte de la suposición de que la primera columna es el número mágico.\n",
    "    \n",
    "    # se verifica si los arreglos de sumas en columnas y filas son iguales al número mágico\n",
    "    for i in range(0, arr.shape[0]-1):\n",
    "        if magic_num != sumV[i] or magic_num != sumH[i]:\n",
    "            return -1\n",
    "        \n",
    "    # se comprueba que las diagonales sean también iguales al número magico\n",
    "    if magic_num != diag1 or magic_num != diag2:\n",
    "        return -1\n",
    "    \n",
    "    return magic_num"
   ]
  },
  {
   "cell_type": "code",
   "execution_count": 3,
   "id": "3e9fbb34",
   "metadata": {
    "scrolled": true
   },
   "outputs": [
    {
     "name": "stdout",
     "output_type": "stream",
     "text": [
      "CUADRADA DE VALOR: 15\n"
     ]
    }
   ],
   "source": [
    "ruta1 = \"Data/cuadrado_magico.txt\"\n",
    "\n",
    "magic_num = magic_square(ruta1)\n",
    "if(magic_num != -1):\n",
    "    print(\"CUADRADA DE VALOR: \"  + str(magic_num))\n",
    "else:\n",
    "    print(\"NO ES CUADRADA\")"
   ]
  },
  {
   "cell_type": "code",
   "execution_count": 4,
   "id": "861315b1",
   "metadata": {},
   "outputs": [
    {
     "name": "stdout",
     "output_type": "stream",
     "text": [
      "NO ES CUADRADA\n"
     ]
    }
   ],
   "source": [
    "ruta2 = \"Data/cuadrado_NO_magico.txt\"\n",
    "\n",
    "magic_num = magic_square(ruta2)\n",
    "if(magic_num != -1):\n",
    "    print(\"CUADRADA DE VALOR: \"  + str(magic_num))\n",
    "else:\n",
    "    print(\"NO ES CUADRADA\")"
   ]
  }
 ],
 "metadata": {
  "kernelspec": {
   "display_name": "Python 3",
   "language": "python",
   "name": "python3"
  },
  "language_info": {
   "codemirror_mode": {
    "name": "ipython",
    "version": 3
   },
   "file_extension": ".py",
   "mimetype": "text/x-python",
   "name": "python",
   "nbconvert_exporter": "python",
   "pygments_lexer": "ipython3",
   "version": "3.8.8"
  }
 },
 "nbformat": 4,
 "nbformat_minor": 5
}
