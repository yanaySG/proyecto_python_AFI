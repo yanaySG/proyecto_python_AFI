{
 "cells": [
  {
   "cell_type": "markdown",
   "id": "7be74dd4",
   "metadata": {},
   "source": [
    "<h1>Introducción a matplotlib</h1>"
   ]
  },
  {
   "cell_type": "markdown",
   "id": "b1ff5eaf",
   "metadata": {},
   "source": [
    "En este primer notebook, vamos a centrarnos en entender la filosofía de trabajo de matplotlib y cómo se debe trabajar con el módulo. Aunque las funciones más importantes ofrecidas por matplotlib se verán en siguientes notebooks, en este utilizaremos algunas de las más básicas."
   ]
  },
  {
   "cell_type": "markdown",
   "id": "82c492f7",
   "metadata": {},
   "source": [
    "<h2>Preparación del entorno para matplotlib</h2>"
   ]
  },
  {
   "cell_type": "markdown",
   "id": "4ea4066c",
   "metadata": {},
   "source": [
    "Para que <b>matplotlib</b> pueda renderizar gráficos dentro de un notebook, es necesario, ejecutar de forma previa el siguiente comando."
   ]
  },
  {
   "cell_type": "code",
   "execution_count": 1,
   "id": "78b31a93",
   "metadata": {},
   "outputs": [],
   "source": [
    "%matplotlib inline"
   ]
  },
  {
   "cell_type": "markdown",
   "id": "867a612d",
   "metadata": {},
   "source": [
    "Una vez hemos asegurado que la renderización de los gráficos se realizará correctamente en nuestro notebook, podemos pasar a cargar el paquete. Aunque matplotlib incluye varios submódulos (pylab, cbook...), en este curso nos vamos a centrar en el submódulo de visualización <b>pyplot</b>.<br/><br/>\n",
    "Aunque no es obligatorio, es recomendable utilizar para la carga del paquete en nuestro entorno el alias <b>plt</b>. La mayor parte de la documentación, libros y ejemplos online que se pueden encontrar siguen este estándar \"de facto\" (como ocurre en otros paquete como NumPy con np o Pandas con pd)."
   ]
  },
  {
   "cell_type": "code",
   "execution_count": 2,
   "id": "e925a4ca",
   "metadata": {},
   "outputs": [],
   "source": [
    "import matplotlib.pyplot as plt"
   ]
  },
  {
   "cell_type": "markdown",
   "id": "ceadcd24",
   "metadata": {},
   "source": [
    "<h2>Nuestro primer gráfico</h2>"
   ]
  },
  {
   "cell_type": "markdown",
   "id": "debb1bad",
   "metadata": {},
   "source": [
    "Creemos nuestro primer gráfico. Vamos a crear un gráfico de línea representando la función f(x) = x**2. Podemos hacerlo mediante la función <b>plot</b>, la más básica de las ofrecidas por matplotlib."
   ]
  },
  {
   "cell_type": "code",
   "execution_count": 3,
   "id": "31c571d3",
   "metadata": {},
   "outputs": [
    {
     "data": {
      "text/plain": [
       "[<matplotlib.lines.Line2D at 0x19380641fa0>]"
      ]
     },
     "execution_count": 3,
     "metadata": {},
     "output_type": "execute_result"
    },
    {
     "data": {
      "image/png": "[encoded data removed]",
      "text/plain": [
       "<Figure size 432x288 with 1 Axes>"
      ]
     },
     "metadata": {
      "needs_background": "light"
     },
     "output_type": "display_data"
    }
   ],
   "source": [
    "x_values = range(10)\n",
    "y_values = [value ** 2 for value in x_values]\n",
    "plt.plot(x_values, y_values)"
   ]
  },
  {
   "cell_type": "markdown",
   "id": "0491a3f9",
   "metadata": {},
   "source": [
    "<h2>Entendiendo la salida de la función plot</h2>"
   ]
  },
  {
   "cell_type": "markdown",
   "id": "10392bd4",
   "metadata": {},
   "source": [
    "Podemos ver que la salida contiene dos elementos:\n",
    "\n",
    "<ul>\n",
    "<li>Primero un objeto gráfico de tipo Line2D representado por la cadena entre corchetes.</li>\n",
    "<li>Segundo la representación gráfica de dicho objeto.</li>\n",
    "</ul>\n",
    "\n",
    "Esta salida doble se da por el modo de funcionamiento <b>interactivo</b> establecido actualmente para matplotlib. El modo interactivo, hace que el paquete lleve a cabo el renderizado de forma automática (sin llamar a la función <b>show</b> al finalizar la ejecución de un bloque de código que incluya y llamadas a funciones del módulo. Esto hace que la salida obtenida dependa del conjunto de operaciones ejecutadas lo que, en consolas interactivas como notebooks, Spyder o Rodeo, en las que tenemos control absoluto sobre el conjunto de instrucciones que enviamos \"en bloque\" a la consola pueda ser interesante. \n",
    "\n",
    "Sin embargo el modo interactivo de matplotlib es configurable. Si no se especifica nada, por defecto se establecerá en función del tipo de entorno que estemos utilizando.\n",
    "\n",
    "<ul>\n",
    "<li><b>Interactvo:</b> En notebook e IDEs gráficos como Rodeo o Spyder.</li>\n",
    "<li><b>No interactivo:</b> En consolas de comandos como \"python\" o \"ipython\" y en ejecución de scripts .py completos</li>\n",
    "</ul>\n",
    "\n",
    "Para comprobar el modo de funcionamiento establecido y modificarlo, matplotlib nos da tres funciones."
   ]
  },
  {
   "cell_type": "code",
   "execution_count": 4,
   "id": "0cccb5f2",
   "metadata": {},
   "outputs": [
    {
     "name": "stdout",
     "output_type": "stream",
     "text": [
      "True\n",
      "False\n",
      "True\n"
     ]
    }
   ],
   "source": [
    "# Comprobar el modo de funcionamiento de matplotlib\n",
    "print(plt.isinteractive())\n",
    "\n",
    "# Desactivar el modo interactivo\n",
    "plt.ioff()\n",
    "print(plt.isinteractive())\n",
    "\n",
    "# Activar el modo interactivo\n",
    "plt.ion()\n",
    "print(plt.isinteractive())"
   ]
  },
  {
   "cell_type": "markdown",
   "id": "bfe9f294",
   "metadata": {},
   "source": [
    "Probemos a generar el gráfico anterior en modo no interactivo."
   ]
  },
  {
   "cell_type": "code",
   "execution_count": 5,
   "id": "1de81c3c",
   "metadata": {},
   "outputs": [
    {
     "name": "stdout",
     "output_type": "stream",
     "text": [
      "False\n"
     ]
    },
    {
     "data": {
      "text/plain": [
       "[<matplotlib.lines.Line2D at 0x193807396d0>]"
      ]
     },
     "execution_count": 5,
     "metadata": {},
     "output_type": "execute_result"
    },
    {
     "data": {
      "image/png": "[encoded data removed]",
      "text/plain": [
       "<Figure size 432x288 with 1 Axes>"
      ]
     },
     "metadata": {
      "needs_background": "light"
     },
     "output_type": "display_data"
    }
   ],
   "source": [
    "plt.ioff()\n",
    "print(plt.isinteractive())\n",
    "plt.plot(x_values,y_values)"
   ]
  },
  {
   "cell_type": "markdown",
   "id": "daebdab4",
   "metadata": {},
   "source": [
    "¿Qué ha pasado? Se debería haber visualizado sólo el elemento gráfico y no el renderizado. Sin embargo vemos la misma respuesta.\n",
    "\n",
    "La explicación a este funcionamiento \"anómalo\" la tenemos en el IDE que estamos utilizando. Los Notebooks (al menos en su versión actual) hacen funcionar matplotlib en modo interactivo independientemente de lo que establezcamos nosotros en la configuración. Sin embargo, el funcionamiento de estos parámetros es correcto en consola e IDEs más tradicionales."
   ]
  },
  {
   "cell_type": "markdown",
   "id": "a0f578d9",
   "metadata": {},
   "source": [
    "<h2>Un gráfico con más componentes</h2>"
   ]
  },
  {
   "cell_type": "markdown",
   "id": "bd9c32ec",
   "metadata": {},
   "source": [
    "Para comprender cuál es la filosofía de trabajo con matplotlib vamos a tratar de crear un gráfico un poco más completo. Este gráfico tendrá:\n",
    "\n",
    "<ul>\n",
    "<li>Una serie que contenga la función seno.</li>\n",
    "<li>Una serie que contenga la función coseno.</li>\n",
    "<li>Nombres en ambos ejes.</li>\n",
    "<li>Una leyenda que indique qué linea representa cada función</li>\n",
    "</ul>\n",
    "\n",
    "Para facilitar la creación del set de datos, vamos a utilizar NumPy."
   ]
  },
  {
   "cell_type": "code",
   "execution_count": 6,
   "id": "782a664f",
   "metadata": {},
   "outputs": [
    {
     "data": {
      "image/png": "[encoded data removed]",
      "text/plain": [
       "<Figure size 432x288 with 1 Axes>"
      ]
     },
     "metadata": {
      "needs_background": "light"
     },
     "output_type": "display_data"
    }
   ],
   "source": [
    "import numpy as np\n",
    "\n",
    "# Creamos nuestro set de datos\n",
    "x_values = np.linspace(0, 2 * np.pi, 100)\n",
    "sin_y_values = np.sin(x_values)\n",
    "cos_y_values = np.cos(x_values)\n",
    "\n",
    "# Añadimos las serie e la función seno\n",
    "sin_line, = plt.plot(x_values,sin_y_values)\n",
    "cos_line, = plt.plot(x_values,cos_y_values)\n",
    "plt.xlabel('x values')\n",
    "plt.ylabel('y values')\n",
    "plt.legend([sin_line, cos_line], ['y = sin(x)', 'y = cos(x)'])\n",
    "plt.show()"
   ]
  },
  {
   "cell_type": "markdown",
   "id": "9ae87859",
   "metadata": {},
   "source": [
    "Podemos ver, por tanto, que matplotlib en términos de funcionamiento se sitúa en un punto intermedio entre ggplot2 y base-r. \n",
    "\n",
    "Tenemos una llamada a una función (con diversos parámetros) por cada componentes que queramos ir añadiendo al gráfico (en lugar de un framework basado en componentes), pero estas funciones van modificando un objeto gráfico interno que no se renderiza (en función de la parametrización de \"modo interactivo\") hasta el momento en el que el usuario creador del gráfico decide (en lugar de crear una imagen e ir modificándola posteriormente)."
   ]
  }
 ],
 "metadata": {
  "kernelspec": {
   "display_name": "Python 3",
   "language": "python",
   "name": "python3"
  },
  "language_info": {
   "codemirror_mode": {
    "name": "ipython",
    "version": 3
   },
   "file_extension": ".py",
   "mimetype": "text/x-python",
   "name": "python",
   "nbconvert_exporter": "python",
   "pygments_lexer": "ipython3",
   "version": "3.8.8"
  }
 },
 "nbformat": 4,
 "nbformat_minor": 5
}
