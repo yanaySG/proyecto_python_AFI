{
 "cells": [
  {
   "cell_type": "markdown",
   "id": "03ef929a",
   "metadata": {},
   "source": [
    "<h1>Anotaciones - Textos y leyendas</h1>"
   ]
  },
  {
   "cell_type": "markdown",
   "id": "9d4d54aa",
   "metadata": {},
   "source": [
    "Como se ha podido ver, hasta el momento los gráficos realizados tienen algunas carencias claras:\n",
    "\n",
    "<ul>\n",
    "<li>No indican el significado de cada uno de los ejes.</li>\n",
    "<li>No disponen de una leyenda que explique el significado de los diferentes colores/series incluidos.</li>\n",
    "<li>En algunos casos, los ticks no representan los valores que se quieren representar.</li>\n",
    "</ul>\n",
    "\n",
    "En este notebook vamos a ver las alternativas que nos ofrece matplotlib para incluir en nuestros gráficos estos elementos \"textuales\" de forma que sean completamente autoexplicativos.\n",
    "\n",
    "Para empezar, como siempre, importamos el módulo y cargamos los sets de datos."
   ]
  },
  {
   "cell_type": "code",
   "execution_count": 3,
   "id": "37ac0fc9",
   "metadata": {},
   "outputs": [],
   "source": [
    "%matplotlib inline\n",
    "import numpy as np\n",
    "import pandas as pd\n",
    "import matplotlib.pyplot as plt\n",
    "\n",
    "mtcars = pd.read_table(\"data/mtcars.txt\", sep = \",\")\n",
    "diamonds = pd.read_table(\"data/diamonds.txt\", sep = \",\")"
   ]
  },
  {
   "cell_type": "code",
   "execution_count": null,
   "id": "d6cfb0ff",
   "metadata": {},
   "outputs": [],
   "source": []
  }
 ],
 "metadata": {
  "kernelspec": {
   "display_name": "Python 3",
   "language": "python",
   "name": "python3"
  },
  "language_info": {
   "codemirror_mode": {
    "name": "ipython",
    "version": 3
   },
   "file_extension": ".py",
   "mimetype": "text/x-python",
   "name": "python",
   "nbconvert_exporter": "python",
   "pygments_lexer": "ipython3",
   "version": "3.8.8"
  }
 },
 "nbformat": 4,
 "nbformat_minor": 5
}
