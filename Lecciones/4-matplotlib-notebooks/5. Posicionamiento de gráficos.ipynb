{
 "cells": [
  {
   "cell_type": "markdown",
   "id": "a7b4074f",
   "metadata": {},
   "source": [
    "<h1>Posicionamiento de gráficos</h1>"
   ]
  },
  {
   "cell_type": "markdown",
   "id": "24d6e9e9",
   "metadata": {},
   "source": [
    "Aunque ya hemos visto algún ejemplo de posicionamiento (se podría considerar que la relación de aspecto del gráfico tiene más que ver con su posicionamiento que con la escala de los ejes), en este notebook vamos a ver qué posibilidades nos da matplotlib para la gestión de tamaños, grids multigráficos, etc.\n",
    "\n",
    "Como siempre, empezamos por la carga del módulo y de los sets de datos."
   ]
  },
  {
   "cell_type": "code",
   "execution_count": 1,
   "id": "d7ef0da6",
   "metadata": {},
   "outputs": [],
   "source": [
    "%matplotlib inline\n",
    "import numpy as np\n",
    "import pandas as pd\n",
    "import matplotlib.pyplot as plt\n",
    "\n",
    "mtcars = pd.read_table(\"data/mtcars.txt\", sep = \",\")\n",
    "diamonds = pd.read_table(\"data/diamonds.txt\", sep = \",\")"
   ]
  },
  {
   "cell_type": "code",
   "execution_count": null,
   "id": "b9d0d9b3",
   "metadata": {},
   "outputs": [],
   "source": []
  }
 ],
 "metadata": {
  "kernelspec": {
   "display_name": "Python 3",
   "language": "python",
   "name": "python3"
  },
  "language_info": {
   "codemirror_mode": {
    "name": "ipython",
    "version": 3
   },
   "file_extension": ".py",
   "mimetype": "text/x-python",
   "name": "python",
   "nbconvert_exporter": "python",
   "pygments_lexer": "ipython3",
   "version": "3.8.8"
  }
 },
 "nbformat": 4,
 "nbformat_minor": 5
}
