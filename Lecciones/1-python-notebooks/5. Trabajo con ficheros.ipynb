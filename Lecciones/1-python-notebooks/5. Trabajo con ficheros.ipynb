{
 "cells": [
  {
   "cell_type": "markdown",
   "id": "ea3660f6",
   "metadata": {},
   "source": [
    "# Introducción a Python - Trabajo con ficheros"
   ]
  },
  {
   "cell_type": "markdown",
   "id": "dfa85c78",
   "metadata": {},
   "source": [
    "Por último, y de forma muy testimonial, vamos a revisar algunos conceptos de trabajo con ficheros de texto plano. "
   ]
  },
  {
   "cell_type": "markdown",
   "id": "71e04d0d",
   "metadata": {},
   "source": [
    "### Escritura de ficheros de texto plano"
   ]
  },
  {
   "cell_type": "markdown",
   "id": "3511e9e8",
   "metadata": {},
   "source": [
    "A la hora de escribir ficheros, como en otros lenguajes de programación, los puntos clave son: el modo de apertura (\"w\" para sobreescritura y \"a\" para continuación) y el cierre del fichero una vez se ha finalizado el trabajo con el mismo."
   ]
  },
  {
   "cell_type": "code",
   "execution_count": 6,
   "id": "91aaf64d",
   "metadata": {},
   "outputs": [],
   "source": [
    "fichero = open(\"prueba.txt\", \"w\")\n",
    "fichero.write(\"Esto\\n\")\n",
    "fichero.write(\"es\\n\")\n",
    "fichero.write(\"una\\n\")\n",
    "fichero.write(\"prueba\")\n",
    "fichero.close()"
   ]
  },
  {
   "cell_type": "code",
   "execution_count": 24,
   "id": "b9f5ee55",
   "metadata": {},
   "outputs": [],
   "source": [
    "fichero = open(\"prueba2.txt\", \"w\")\n",
    "fichero.write(\"Esto\\n\")\n",
    "fichero.write(\"es\\n\")\n",
    "fichero.write(\"otra\\n\")\n",
    "fichero.close()"
   ]
  },
  {
   "cell_type": "code",
   "execution_count": 25,
   "id": "474dabf3",
   "metadata": {},
   "outputs": [],
   "source": [
    "fichero = open(\"prueba2.txt\", \"a\")\n",
    "fichero.write(\"prueba\\n\")\n",
    "fichero.close()"
   ]
  },
  {
   "cell_type": "markdown",
   "id": "cdac37ee",
   "metadata": {},
   "source": [
    "Para agregar palabras con acento:"
   ]
  },
  {
   "cell_type": "code",
   "execution_count": 26,
   "id": "d9ff7d23",
   "metadata": {},
   "outputs": [],
   "source": [
    "import codecs as cd\n",
    "\n",
    "fichero = cd.open(\"prueba2.txt\", \"a\", \"utf-8\")\n",
    "fichero.write(\"más\")\n",
    "fichero.close()"
   ]
  },
  {
   "cell_type": "markdown",
   "id": "f642846d",
   "metadata": {},
   "source": [
    "### Lectura de ficheros de texto plano"
   ]
  },
  {
   "cell_type": "markdown",
   "id": "2e7adcd4",
   "metadata": {},
   "source": [
    "De nuevo, a la hora de leer ficheros, los puntos clave serán de nuevo: el modo de apertura (\"r\" para lectura y \"r+\" para lectura y escritura) y el cierre del fichero una vez se ha finalizado el trabajo con el mismo."
   ]
  },
  {
   "cell_type": "code",
   "execution_count": 27,
   "id": "b38c2fe7",
   "metadata": {},
   "outputs": [
    {
     "name": "stdout",
     "output_type": "stream",
     "text": [
      "Esto\n",
      "es\n",
      "una\n",
      "prueba\n"
     ]
    }
   ],
   "source": [
    "fichero = open(\"prueba.txt\", \"r\")\n",
    "contenido = fichero.read()\n",
    "fichero.close()\n",
    "\n",
    "print(contenido)"
   ]
  },
  {
   "cell_type": "code",
   "execution_count": 31,
   "id": "d78b4347",
   "metadata": {},
   "outputs": [
    {
     "name": "stdout",
     "output_type": "stream",
     "text": [
      "Esto\n",
      "\n",
      "es\n",
      "\n",
      "una\n",
      "\n",
      "prueba\n"
     ]
    }
   ],
   "source": [
    "fichero = open(\"prueba.txt\", \"r\")\n",
    "\n",
    "for linea in fichero:\n",
    "    print(linea)\n",
    "\n",
    "fichero.close()"
   ]
  },
  {
   "cell_type": "code",
   "execution_count": null,
   "id": "29aba352",
   "metadata": {},
   "outputs": [],
   "source": []
  }
 ],
 "metadata": {
  "kernelspec": {
   "display_name": "Python 3",
   "language": "python",
   "name": "python3"
  },
  "language_info": {
   "codemirror_mode": {
    "name": "ipython",
    "version": 3
   },
   "file_extension": ".py",
   "mimetype": "text/x-python",
   "name": "python",
   "nbconvert_exporter": "python",
   "pygments_lexer": "ipython3",
   "version": "3.8.8"
  }
 },
 "nbformat": 4,
 "nbformat_minor": 5
}
