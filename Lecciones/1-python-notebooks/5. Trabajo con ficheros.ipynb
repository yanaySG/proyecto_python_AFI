{
 "cells": [
  {
   "cell_type": "markdown",
   "id": "ea3660f6",
   "metadata": {},
   "source": [
    "# Introducción a Python - Trabajo con ficheros"
   ]
  },
  {
   "cell_type": "markdown",
   "id": "dfa85c78",
   "metadata": {},
   "source": [
    "Por último, y de forma muy testimonial, vamos a revisar algunos conceptos de trabajo con ficheros de texto plano. "
   ]
  },
  {
   "cell_type": "markdown",
   "id": "71e04d0d",
   "metadata": {},
   "source": [
    "### Escritura de ficheros de texto plano"
   ]
  },
  {
   "cell_type": "markdown",
   "id": "3511e9e8",
   "metadata": {},
   "source": [
    "A la hora de escribir ficheros, como en otros lenguajes de programación, los puntos clave son: el modo de apertura (\"w\" para sobreescritura y \"a\" para continuación) y el cierre del fichero una vez se ha finalizado el trabajo con el mismo."
   ]
  },
  {
   "cell_type": "code",
   "execution_count": 1,
   "id": "91aaf64d",
   "metadata": {},
   "outputs": [],
   "source": [
    "fichero = open(\"prueba.txt\", \"w\")\n",
    "fichero.write(\"Esto\\n\")\n",
    "fichero.write(\"es\\n\")\n",
    "fichero.write(\"una\\n\")\n",
    "fichero.write(\"prueba\")\n",
    "fichero.close()"
   ]
  },
  {
   "cell_type": "code",
   "execution_count": 2,
   "id": "b9f5ee55",
   "metadata": {},
   "outputs": [],
   "source": [
    "fichero = open(\"prueba2.txt\", \"w\")\n",
    "fichero.write(\"Esto\\n\")\n",
    "fichero.write(\"es\\n\")\n",
    "fichero.write(\"otra\\n\")\n",
    "fichero.close()"
   ]
  },
  {
   "cell_type": "code",
   "execution_count": 3,
   "id": "474dabf3",
   "metadata": {},
   "outputs": [],
   "source": [
    "fichero = open(\"prueba2.txt\", \"a\")\n",
    "fichero.write(\"prueba\\n\")\n",
    "fichero.close()"
   ]
  },
  {
   "cell_type": "markdown",
   "id": "bcdcab43",
   "metadata": {},
   "source": [
    "Para agregar palabras con acento:"
   ]
  },
  {
   "cell_type": "code",
   "execution_count": 4,
   "id": "d9ff7d23",
   "metadata": {},
   "outputs": [],
   "source": [
    "import codecs as cd\n",
    "\n",
    "fichero = cd.open(\"prueba2.txt\", \"a\", \"utf-8\")\n",
    "fichero.write(\"más\")\n",
    "fichero.close()"
   ]
  },
  {
   "cell_type": "markdown",
   "id": "1deaa8fa",
   "metadata": {},
   "source": [
    "### Lectura de ficheros de texto plano"
   ]
  },
  {
   "cell_type": "markdown",
   "id": "8819a228",
   "metadata": {},
   "source": [
    "De nuevo, a la hora de leer ficheros, los puntos clave serán de nuevo: el modo de apertura (\"r\" para lectura y \"r+\" para lectura y escritura) y el cierre del fichero una vez se ha finalizado el trabajo con el mismo."
   ]
  },
  {
   "cell_type": "code",
   "execution_count": 5,
   "id": "874a061e",
   "metadata": {},
   "outputs": [
    {
     "name": "stdout",
     "output_type": "stream",
     "text": [
      "Esto\n",
      "es\n",
      "una\n",
      "prueba\n"
     ]
    }
   ],
   "source": [
    "fichero = open(\"prueba.txt\", \"r\")\n",
    "contenido = fichero.read()\n",
    "fichero.close()\n",
    "\n",
    "print(contenido)"
   ]
  },
  {
   "cell_type": "code",
   "execution_count": 6,
   "id": "68b1b7a2",
   "metadata": {},
   "outputs": [
    {
     "name": "stdout",
     "output_type": "stream",
     "text": [
      "Esto\n",
      "\n",
      "es\n",
      "\n",
      "una\n",
      "\n",
      "prueba\n"
     ]
    }
   ],
   "source": [
    "fichero = open(\"prueba.txt\", \"r\")\n",
    "\n",
    "for linea in fichero:\n",
    "    print(linea)\n",
    "\n",
    "fichero.close()"
   ]
  }
 ],
 "metadata": {
  "kernelspec": {
   "display_name": "Python 3",
   "language": "python",
   "name": "python3"
  },
  "language_info": {
   "codemirror_mode": {
    "name": "ipython",
    "version": 3
   },
   "file_extension": ".py",
   "mimetype": "text/x-python",
   "name": "python",
   "nbconvert_exporter": "python",
   "pygments_lexer": "ipython3",
   "version": "3.8.8"
  }
 },
 "nbformat": 4,
 "nbformat_minor": 5
}
