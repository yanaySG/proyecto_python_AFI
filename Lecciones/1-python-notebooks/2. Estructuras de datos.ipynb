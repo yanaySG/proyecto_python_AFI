{
 "cells": [
  {
   "cell_type": "markdown",
   "id": "a4d985e7",
   "metadata": {},
   "source": [
    "# Introducción a Python - Estructuras de datos"
   ]
  },
  {
   "cell_type": "markdown",
   "id": "22580516",
   "metadata": {},
   "source": [
    "En este apartado vamos a revisar las estructuras de datos (colecciones) básicas de Python, sus propiedades y las operaciones básicas que se pueden realizar con y sobre ellos. En concreto, en Python tenemos tres estructuras básicas de datos.\n",
    "\n",
    "<ul>\n",
    "<li>Secuencias</li>\n",
    "<li>Diccionarios</li>\n",
    "<li>Conjuntos</li>\n",
    "</ul>\n"
   ]
  },
  {
   "cell_type": "markdown",
   "id": "68ffdd10",
   "metadata": {},
   "source": [
    "### Secuencias"
   ]
  },
  {
   "cell_type": "markdown",
   "id": "932c461f",
   "metadata": {},
   "source": [
    "Una secuencia es un listado unidimensional y ordenado de valores que pueden ser de cualquier tipo, incluso otras estructuras de datos anidadas. Existen tres tipos bien diferenciados\n",
    "\n",
    "<ul>\n",
    "<li>Tuplas: listados inmutables.</li>\n",
    "<li>Listas: listados mutables.</li>\n",
    "<li>Cadenas de caracteres: inmutables y cuyos elementos son siempre caracteres.</li>\n",
    "</ul>\n",
    "\n",
    "Casi todas las operaciones disponibles se pueden aplicar sobre cualquier tipo de secuencia (excepto las que implican modificación que, lógicamente, sólo se pueden aplicar sobre listas)."
   ]
  },
  {
   "cell_type": "markdown",
   "id": "66a0efce",
   "metadata": {},
   "source": [
    "##### <b>Creación de secuencias</b>"
   ]
  },
  {
   "cell_type": "code",
   "execution_count": 1,
   "id": "c1d2f7b3",
   "metadata": {},
   "outputs": [],
   "source": [
    "tuple_1 = (1,2,3,4)\n",
    "list_1 = [1,2,3,4]\n",
    "str_1 = \"esto es una cadena\""
   ]
  },
  {
   "cell_type": "markdown",
   "id": "fea1c44f",
   "metadata": {},
   "source": [
    "###### <b>Conversión/casting entre tipos de secuencia</b>"
   ]
  },
  {
   "cell_type": "code",
   "execution_count": 2,
   "id": "ad44d90a",
   "metadata": {},
   "outputs": [
    {
     "name": "stdout",
     "output_type": "stream",
     "text": [
      "tuple_2 = (1, 2, 3, 4) <class 'tuple'> \n",
      "\n",
      "list_2 = [1, 2, 3, 4] <class 'list'> \n",
      "\n",
      "tuple_3 = ('e', 's', 't', 'o', ' ', 'e', 's', ' ', 'u', 'n', 'a', ' ', 'c', 'a', 'd', 'e', 'n', 'a') <class 'tuple'> \n",
      "\n",
      "list_3 = ['e', 's', 't', 'o', ' ', 'e', 's', ' ', 'u', 'n', 'a', ' ', 'c', 'a', 'd', 'e', 'n', 'a'] <class 'list'> \n",
      "\n"
     ]
    }
   ],
   "source": [
    "tuple_2 = tuple(list_1)     # convertir de lista a tupla\n",
    "list_2  = list(tuple_1)     # convertir de tupla a lista\n",
    "tuple_3 = tuple(str_1)      # convetir de cadena a tupla\n",
    "list_3  = list(str_1)       # convertir de cadena a lista\n",
    "\n",
    "print(\"tuple_2 =\", tuple_2, type(tuple_2), \"\\n\")\n",
    "print(\"list_2 =\" , list_2 , type(list_2) , \"\\n\")\n",
    "print(\"tuple_3 =\", tuple_3, type(tuple_3), \"\\n\")\n",
    "print(\"list_3 =\" , list_3 , type(list_3) , \"\\n\")\n"
   ]
  },
  {
   "cell_type": "code",
   "execution_count": 3,
   "id": "cf751bd1",
   "metadata": {},
   "outputs": [
    {
     "name": "stdout",
     "output_type": "stream",
     "text": [
      "(1, 'hola', False, 6.3) [1, 'hola', False, 6.3] esto es una cadena \n",
      "\n",
      "tupla2 = (1, 'hola', False, 6.3) <class 'tuple'> \n",
      "\n",
      "lista2 = [1, 'hola', False, 6.3] <class 'list'> \n",
      "\n",
      "tupla3 = ('e', 's', 't', 'o', ' ', 'e', 's', ' ', 'u', 'n', 'a', ' ', 'c', 'a', 'd', 'e', 'n', 'a') <class 'tuple'> \n",
      "\n"
     ]
    }
   ],
   "source": [
    "tupla  = (1, \"hola\", False, 6.3)\n",
    "lista  = [1, \"hola\", False, 6.3]\n",
    "string = \"esto es una cadena\"\n",
    "entero = 12\n",
    "\n",
    "print(tupla, lista, string, \"\\n\")\n",
    "\n",
    "tupla2 = tuple(lista)         # lista a tupla\n",
    "lista2 = list(tupla)          # tupla a lista\n",
    "tupla3 = tuple(string)        # cadena a tupla\n",
    "#tupla_entero = tuple(entero) # 'int' object is not iterable\n",
    "\n",
    "print(\"tupla2 =\", tupla2, type(tupla2), \"\\n\")\n",
    "print(\"lista2 =\", lista2, type(lista2), \"\\n\")\n",
    "print(\"tupla3 =\", tupla3, type(tupla3), \"\\n\")\n"
   ]
  },
  {
   "cell_type": "markdown",
   "id": "6ac0bfa0",
   "metadata": {},
   "source": [
    "###### Creación de secuencias anidadas"
   ]
  },
  {
   "cell_type": "code",
   "execution_count": 4,
   "id": "8d42fe0d",
   "metadata": {},
   "outputs": [
    {
     "name": "stdout",
     "output_type": "stream",
     "text": [
      "tupla_1 = (1, 2, (3, 4), [1, 2, 3]) <class 'tuple'> \n",
      "\n",
      "list_1 = [1, 2, 3, [4, 5], 'prueba', (1, 2, 3)] <class 'list'> \n",
      "\n"
     ]
    }
   ],
   "source": [
    "tupla_1 = (1,2,(3,4),[1,2,3])\n",
    "list_1 = [1,2,3, [4,5], \"prueba\", (1,2,3)]\n",
    "\n",
    "print(\"tupla_1 =\", tupla_1, type(tupla_1), \"\\n\")\n",
    "print(\"list_1 =\" , list_1 , type(list_1) , \"\\n\" )"
   ]
  },
  {
   "cell_type": "markdown",
   "id": "42cf8ea9",
   "metadata": {},
   "source": [
    "###### Concatenación de secuencias"
   ]
  },
  {
   "cell_type": "code",
   "execution_count": 5,
   "id": "13672fd9",
   "metadata": {},
   "outputs": [
    {
     "name": "stdout",
     "output_type": "stream",
     "text": [
      "tuple_3 = (1, 2, (3, 4), [1, 2, 3], 5, 6, 7, 8) <class 'tuple'> \n",
      "\n",
      "list_3 = [1, 2, 3, 4, 5, 6, 7, 8] <class 'list'> \n",
      "\n",
      "str_3 = esto es una cadena esto es otra cadena <class 'str'> \n",
      "\n"
     ]
    }
   ],
   "source": [
    "tuple_1 = (1,2,3,4)\n",
    "list_1  = [1,2,3,4]\n",
    "str_1   = \"esto es una cadena\"\n",
    "\n",
    "tuple_2 = (5,6,7,8)\n",
    "list_2  = [5,6,7,8]\n",
    "str_2   = \" esto es otra cadena\"\n",
    "\n",
    "tuple_3 = tupla_1 + tuple_2\n",
    "list_3  = list_1  + list_2\n",
    "str_3   = str_1   + str_2\n",
    "\n",
    "print(\"tuple_3 =\", tuple_3, type(tuple_3), \"\\n\")\n",
    "print(\"list_3 =\" , list_3 , type(list_3) , \"\\n\")\n",
    "print(\"str_3 =\"  , str_3  , type(str_3)  , \"\\n\")\n"
   ]
  },
  {
   "cell_type": "code",
   "execution_count": 6,
   "id": "6b7fd75d",
   "metadata": {},
   "outputs": [
    {
     "name": "stdout",
     "output_type": "stream",
     "text": [
      "tuple_2 = ('hola', 'mundo', 'hola', 'mundo', 'hola', 'mundo')\n",
      "list_2 = ['hola', 'mundo', 'hola', 'mundo']\n",
      "list_2 = [1, 2, 3, 1, 2, 3]\n",
      "str_2 = prueba prueba prueba \n"
     ]
    }
   ],
   "source": [
    "# tupla texto\n",
    "tuple_1 = (\"hola\", \"mundo\")\n",
    "tuple_2 = tuple_1 * 3\n",
    "print(\"tuple_2 =\", tuple_2)\n",
    "\n",
    "# lista texto\n",
    "list_1 = [\"hola\", \"mundo\"]\n",
    "list_2 = list_1 * 2\n",
    "print(\"list_2 =\", list_2)\n",
    "\n",
    "# lista enteros\n",
    "list_1 = [1,2,3]\n",
    "list_2 = list_1 * 2\n",
    "print(\"list_2 =\", list_2)\n",
    "\n",
    "# cadenas\n",
    "str_1 = \"prueba \"\n",
    "str_2 = str_1 * 3\n",
    "print(\"str_2 =\", str_2)"
   ]
  },
  {
   "cell_type": "markdown",
   "id": "cdc2fb93",
   "metadata": {},
   "source": [
    "##### Comprobación de si un elemento existe en la secuencia"
   ]
  },
  {
   "cell_type": "code",
   "execution_count": 7,
   "id": "00097104",
   "metadata": {},
   "outputs": [
    {
     "name": "stdout",
     "output_type": "stream",
     "text": [
      "is_4_in_tuple_1 = True \n",
      "\n",
      "is_not_5_in_tuple_1 = True \n",
      "\n",
      "is_not_4_in_list_1 = False \n",
      "\n",
      "is_5_in_list_1 = False \n",
      "\n",
      "is_e_in_str_1 = True \n",
      "\n",
      "is_not_z_in_str_1 True \n",
      "\n"
     ]
    }
   ],
   "source": [
    "tuple_1 = (1, 2, 3, 4)\n",
    "list_1 = [1, 2, 3, 4]\n",
    "str_1 = \"esto es una cadena\"\n",
    "\n",
    "is_4_in_tuple_1     = 4 in tuple_1\n",
    "is_not_5_in_tuple_1 = 5 not in tuple_1\n",
    "is_not_4_in_list_1  = 4 not in list_1\n",
    "is_5_in_list_1      = 5 in list_1 \n",
    "is_e_in_str_1       = \"e\" in str_1\n",
    "is_not_z_in_str_1   = \"z\" not in str_1\n",
    "\n",
    "\n",
    "print(\"is_4_in_tuple_1 =\"    , is_4_in_tuple_1    , \"\\n\")\n",
    "print(\"is_not_5_in_tuple_1 =\", is_not_5_in_tuple_1, \"\\n\")\n",
    "print(\"is_not_4_in_list_1 =\" , is_not_4_in_list_1 , \"\\n\")\n",
    "print(\"is_5_in_list_1 =\"     , is_5_in_list_1     , \"\\n\")\n",
    "print(\"is_e_in_str_1 =\"      , is_e_in_str_1      , \"\\n\")\n",
    "print(\"is_not_z_in_str_1\"    , is_not_z_in_str_1  , \"\\n\")"
   ]
  },
  {
   "cell_type": "markdown",
   "id": "7aa3b68f",
   "metadata": {},
   "source": [
    "##### Acceso a un elemento de la secuencia por posición (índice positivo)"
   ]
  },
  {
   "cell_type": "code",
   "execution_count": 8,
   "id": "f9918778",
   "metadata": {},
   "outputs": [
    {
     "name": "stdout",
     "output_type": "stream",
     "text": [
      "1\n",
      "4\n",
      "e\n"
     ]
    }
   ],
   "source": [
    "tuple_1 = (1, 2, 3, 4)\n",
    "list_1 = [1, 2, 3, 4]\n",
    "str_1 = \"esto es una cadena\"\n",
    "\n",
    "print(tuple_1[0])\n",
    "print(list_1[3])\n",
    "print(str_1[5])"
   ]
  },
  {
   "cell_type": "markdown",
   "id": "9d593cc4",
   "metadata": {},
   "source": [
    "##### Acceso a un elemento de la secuencia por posición (índice negativo)"
   ]
  },
  {
   "cell_type": "code",
   "execution_count": 9,
   "id": "38250b1f",
   "metadata": {},
   "outputs": [
    {
     "name": "stdout",
     "output_type": "stream",
     "text": [
      "1\n",
      "2\n",
      "a\n"
     ]
    }
   ],
   "source": [
    "tuple_1 = (1, 2, 3, 4)\n",
    "list_1 = [1, 2, 3, 4]\n",
    "str_1 = \"esto es una cadena\"\n",
    "\n",
    "print(tuple_1[-4])\n",
    "print(list_1[-3])\n",
    "print(str_1[-5])"
   ]
  },
  {
   "cell_type": "markdown",
   "id": "eaea2d34",
   "metadata": {},
   "source": [
    "##### Slicing de secuencias"
   ]
  },
  {
   "cell_type": "markdown",
   "id": "7c6f7d36",
   "metadata": {},
   "source": [
    "<ul>\n",
    "<li>Selección (mediante copia, no referencia) de un conjunto ordenado de elementos de una secuencia.</li>\n",
    "<li>Se realiza mediante la notación secuencia[a:b:c]. Donde:\n",
    "<ul>\n",
    "<li>a: Índice del primer elemento a extrar (en base 0). Si se omite se extrae desde el principio de la secuencia.</li>\n",
    "<li>b: Índice del primero elemento que NO se extrae (en base 0). Si se omite se extrae hasta el final de la secuencia.</li>\n",
    "<li>c: Tamaño del salto a aplicar en la extracción. Si se omite se asume 1.\n",
    "</ul>\n",
    "</ul>"
   ]
  },
  {
   "cell_type": "code",
   "execution_count": 10,
   "id": "f2915d34",
   "metadata": {},
   "outputs": [
    {
     "name": "stdout",
     "output_type": "stream",
     "text": [
      "(1, 2, 3, 4)\n",
      "(3, 4)\n",
      "[1, 2, 3]\n",
      "[3]\n",
      "esto es una cad\n",
      "anedac anu se otse\n",
      "[4, 3, 2, 1]\n"
     ]
    }
   ],
   "source": [
    "tuple_1 = (1, 2, 3, 4)\n",
    "list_1 = [1, 2, 3, 4]\n",
    "str_1 = \"esto es una cadena\"\n",
    "\n",
    "print(tuple_1[:])\n",
    "print(tuple_1[2:])\n",
    "print(list_1[:3])\n",
    "print(list_1[2:3])\n",
    "print(str_1[:-3])\n",
    "print(str_1[::-1])\n",
    "print(list_1[::-1])"
   ]
  },
  {
   "cell_type": "code",
   "execution_count": 11,
   "id": "f61bacd4",
   "metadata": {},
   "outputs": [
    {
     "name": "stdout",
     "output_type": "stream",
     "text": [
      "[1, 2, 3]\n",
      "[25, 2, 3]\n",
      "[25, [2, 3], 3]\n"
     ]
    }
   ],
   "source": [
    "list_2 = list_1[:3]\n",
    "print(list_2)\n",
    "\n",
    "list_2[0] = 25\n",
    "print(list_2)\n",
    "\n",
    "list_2[1] = [2,3]\n",
    "print(list_2)"
   ]
  },
  {
   "cell_type": "markdown",
   "id": "4416a0b5",
   "metadata": {},
   "source": [
    "##### Longitud de secuencias"
   ]
  },
  {
   "cell_type": "code",
   "execution_count": 12,
   "id": "37606127",
   "metadata": {},
   "outputs": [
    {
     "name": "stdout",
     "output_type": "stream",
     "text": [
      "4\n",
      "4\n",
      "18\n"
     ]
    }
   ],
   "source": [
    "tuple_1 = (1, 2, 3, 4)\n",
    "list_1 = [1, 2, 3, 4]\n",
    "str_1 = \"esto es una cadena\"\n",
    "\n",
    "print(len(tuple_1))\n",
    "print(len(list_1))\n",
    "print(len(str_1))\n"
   ]
  },
  {
   "cell_type": "markdown",
   "id": "f51efcbd",
   "metadata": {},
   "source": [
    "##### Obtención del primer índice de un elemento"
   ]
  },
  {
   "cell_type": "code",
   "execution_count": 13,
   "id": "2bd1c1d6",
   "metadata": {},
   "outputs": [
    {
     "name": "stdout",
     "output_type": "stream",
     "text": [
      "2\n",
      "3\n",
      "2\n"
     ]
    }
   ],
   "source": [
    "tuple_1 = (1, 2, 3, 4)\n",
    "list_1 = [1, 2, 3, 4]\n",
    "str_1 = \"esto es una cadena\"\n",
    "\n",
    "print(tuple_1.index(3))\n",
    "print(list_1.index(4))\n",
    "print(str_1.index(\"t\"))\n"
   ]
  },
  {
   "cell_type": "markdown",
   "id": "1e5305d3",
   "metadata": {},
   "source": [
    "##### Obtención del número de repeticiones de un elemento"
   ]
  },
  {
   "cell_type": "code",
   "execution_count": 14,
   "id": "dff2aff5",
   "metadata": {},
   "outputs": [
    {
     "name": "stdout",
     "output_type": "stream",
     "text": [
      "1\n",
      "1\n",
      "3\n"
     ]
    }
   ],
   "source": [
    "tuple_1 = (1, 2, 3, 4)\n",
    "list_1 = [1, 2, 3, 4]\n",
    "str_1 = \"esto es una cadena\"\n",
    "\n",
    "print(tuple_1.count(1))\n",
    "print(list_1.count(3))\n",
    "print(str_1.count(\"e\"))\n"
   ]
  },
  {
   "cell_type": "markdown",
   "id": "85e39cc6",
   "metadata": {},
   "source": [
    "##### Extracción de elementos a variables"
   ]
  },
  {
   "cell_type": "code",
   "execution_count": 15,
   "id": "5f305bd8",
   "metadata": {},
   "outputs": [
    {
     "name": "stdout",
     "output_type": "stream",
     "text": [
      "(1, 2, 3, 4) 1 2 3 4\n",
      "[1, 2, 3, 4] 1 2 3 4\n"
     ]
    }
   ],
   "source": [
    "tuple_1 = (1,2,3,4)\n",
    "list_1 = [1,2,3,4]\n",
    "\n",
    "var_1, var_2, var_3, var_4 = tuple_1\n",
    "print(tuple_1, var_1, var_2, var_3, var_4)\n",
    "\n",
    "var_1, var_2, var_3, var_4 = list_1\n",
    "print(list_1, var_1, var_2, var_3, var_4)"
   ]
  },
  {
   "cell_type": "markdown",
   "id": "bcdae57d",
   "metadata": {},
   "source": [
    "##### Mezcla ordenada de secuencias"
   ]
  },
  {
   "cell_type": "code",
   "execution_count": 16,
   "id": "bbba2819",
   "metadata": {},
   "outputs": [
    {
     "name": "stdout",
     "output_type": "stream",
     "text": [
      "(1, 'uno') (2, 'dos') (3, 'tres') (4, 'cuatro') (5, 'cinco')\n",
      "-------\n",
      "[(1, 'ONE'), (2, 'TWO'), (3, 'THREE')]\n",
      "{(1, 'one', 'ONE'), (2, 'two', 'TWO')}\n"
     ]
    }
   ],
   "source": [
    "# Example 1\n",
    "tuple_1 = (1, 2, 3, 4, 5)\n",
    "list_1 = [\"uno\", \"dos\", \"tres\", \"cuatro\", \"cinco\"]\n",
    "print(*zip(tuple_1, list_1))\n",
    "\n",
    "print(\"-------\")\n",
    "# Example 2: Different number of iterable elements\n",
    "numbersList = [1, 2, 3]\n",
    "str_list = ['one', 'two']\n",
    "numbers_tuple = ('ONE', 'TWO', 'THREE', 'FOUR')\n",
    "\n",
    "result = zip(numbersList, numbers_tuple) # the size is different\n",
    "print(list(result)) # Converting to list\n",
    "\n",
    "result = zip(numbersList, str_list, numbers_tuple)\n",
    "print(set(result)) # Converting to set\n"
   ]
  },
  {
   "cell_type": "markdown",
   "id": "3c6d74fb",
   "metadata": {},
   "source": [
    "##### Creación de secuencias numéricas"
   ]
  },
  {
   "cell_type": "code",
   "execution_count": 17,
   "id": "46967f5e",
   "metadata": {},
   "outputs": [
    {
     "name": "stdout",
     "output_type": "stream",
     "text": [
      "[0, 1, 2, 3, 4, 5, 6, 7, 8, 9]\n",
      "[5, 6, 7, 8, 9]\n",
      "(0, 2, 4, 6, 8, 10, 12, 14, 16, 18, 20, 22, 24, 26, 28, 30, 32, 34, 36, 38, 40, 42, 44, 46, 48, 50, 52, 54, 56, 58, 60, 62, 64, 66, 68, 70, 72, 74, 76, 78, 80, 82, 84, 86, 88, 90, 92, 94, 96, 98)\n"
     ]
    }
   ],
   "source": [
    "list_1 = list(range(10))\n",
    "print(list_1)\n",
    "\n",
    "list_2 = list(range(5,10))\n",
    "print(list_2)\n",
    "\n",
    "list_3 = tuple(range(0,100,2))\n",
    "print(list_3)"
   ]
  },
  {
   "cell_type": "markdown",
   "id": "0cf871ec",
   "metadata": {},
   "source": [
    "###### Adición de elementos a una lista (por el final) - SÓLO LISTAS"
   ]
  },
  {
   "cell_type": "code",
   "execution_count": 18,
   "id": "4795c805",
   "metadata": {},
   "outputs": [
    {
     "name": "stdout",
     "output_type": "stream",
     "text": [
      "['uno', 'dos', 'tres']\n",
      "['uno', 'dos', 'tres', ['tres', 'cuatro']]\n"
     ]
    }
   ],
   "source": [
    "list_1 = [\"uno\", \"dos\"]\n",
    "list_1.append(\"tres\")\n",
    "print(list_1)\n",
    "\n",
    "list_1.append([\"tres\",\"cuatro\"])\n",
    "print(list_1)\n",
    "\n",
    "# 'tuple' object has no attribute 'append'\n",
    "# 'str' object has no attribute 'append'"
   ]
  },
  {
   "cell_type": "markdown",
   "id": "a5660c93",
   "metadata": {},
   "source": [
    "###### Inserción un elemento en una posición específica - SÓLO LISTAS"
   ]
  },
  {
   "cell_type": "code",
   "execution_count": 19,
   "id": "a5d42a91",
   "metadata": {},
   "outputs": [
    {
     "name": "stdout",
     "output_type": "stream",
     "text": [
      "['uno', 'dos', 'tres']\n",
      "['uno', 'dos', 'hello', 'tres']\n",
      "['uno', 'dos', 'hello']\n"
     ]
    }
   ],
   "source": [
    "list_1 = [\"dos\", \"tres\"]\n",
    "list_1.insert(0,\"uno\")\n",
    "print(list_1)\n",
    "\n",
    "list_1.insert(2, \"hello\")\n",
    "print(list_1)\n",
    "\n",
    "list_1.remove(\"tres\")\n",
    "print(list_1)"
   ]
  },
  {
   "cell_type": "markdown",
   "id": "149d8f72",
   "metadata": {},
   "source": [
    "##### Asignación de valor a un slice - SÓLO LISTAS"
   ]
  },
  {
   "cell_type": "code",
   "execution_count": 20,
   "id": "5bca24f0",
   "metadata": {},
   "outputs": [
    {
     "name": "stdout",
     "output_type": "stream",
     "text": [
      "[1, 2, 5, 6, 5]\n",
      "[1, 2, 3, 4]\n",
      "[1, 2, 7, 8, 9, 10, 4]\n"
     ]
    }
   ],
   "source": [
    "list_1 = [1,2,3,4,5]\n",
    "list_1[2:4] = [5,6] \n",
    "print(list_1)\n",
    "\n",
    "list_1[2:5] = [3,4]\n",
    "print(list_1)\n",
    "\n",
    "list_1[2:3] = [7,8,9,10]\n",
    "print(list_1)"
   ]
  },
  {
   "cell_type": "markdown",
   "id": "c323872f",
   "metadata": {},
   "source": [
    "###### Recuperación y eliminación de un elemento en una posición específica - SÓLO LISTAS"
   ]
  },
  {
   "cell_type": "code",
   "execution_count": 21,
   "id": "21269731",
   "metadata": {},
   "outputs": [
    {
     "name": "stdout",
     "output_type": "stream",
     "text": [
      "4\n",
      "[1, 2, 3, 5]\n",
      "[2, 3, 4, 5]\n"
     ]
    }
   ],
   "source": [
    "list_1 = [1, 2, 3, 4, 5]\n",
    "list_pop = list_1.pop(3)\n",
    "print(list_pop)\n",
    "print(list_1)\n",
    "\n",
    "list_1 = [1, 2, 3, 4, 5]\n",
    "del(list_1[0])\n",
    "print(list_1)"
   ]
  },
  {
   "cell_type": "markdown",
   "id": "d6facd8e",
   "metadata": {},
   "source": [
    "###### Eliminación del primer elemento coincidente (no anidado) - SÓLO LISTAS"
   ]
  },
  {
   "cell_type": "code",
   "execution_count": 22,
   "id": "a3d5374a",
   "metadata": {},
   "outputs": [
    {
     "name": "stdout",
     "output_type": "stream",
     "text": [
      "[1, 2, 3]\n",
      "[1, 3, [4, 5]]\n"
     ]
    }
   ],
   "source": [
    "list_1 = [1, 2, 3, [4, 5]]\n",
    "list_1.remove([4,5])\n",
    "print(list_1)\n",
    "\n",
    "list_1 = [1, 2, 3, [4, 5]]\n",
    "list_1.remove(2)\n",
    "print(list_1)"
   ]
  },
  {
   "cell_type": "markdown",
   "id": "30e811f6",
   "metadata": {},
   "source": [
    "##### Ordenación de elementos - SÓLO LISTAS"
   ]
  },
  {
   "cell_type": "code",
   "execution_count": 23,
   "id": "88c1ea54",
   "metadata": {},
   "outputs": [
    {
     "name": "stdout",
     "output_type": "stream",
     "text": [
      "[1, 2, 3, 4, 5]\n",
      "[5, 4, 3, 2, 1]\n",
      "['amarillo', 'azul', 'lila', 'rojo', 'verde', 'violeta']\n",
      "['violeta', 'verde', 'rojo', 'lila', 'azul', 'amarillo']\n"
     ]
    }
   ],
   "source": [
    "list_1 = [1, 3, 4, 2, 5]\n",
    "list_1.sort()\n",
    "print(list_1)\n",
    "\n",
    "list_1.sort(reverse=True)\n",
    "print(list_1)\n",
    "\n",
    "list_1 = [\"azul\",\"rojo\",\"verde\",\"lila\",\"amarillo\",\"violeta\"]\n",
    "list_1.sort()\n",
    "print(list_1)\n",
    "list_1.sort(reverse=True)\n",
    "print(list_1)"
   ]
  },
  {
   "cell_type": "markdown",
   "id": "d956e222",
   "metadata": {},
   "source": [
    "##### Recuperación inversa de elementos - SÓLO LISTAS"
   ]
  },
  {
   "cell_type": "code",
   "execution_count": 24,
   "id": "abc3d7a0",
   "metadata": {},
   "outputs": [
    {
     "name": "stdout",
     "output_type": "stream",
     "text": [
      "[5, 2, 4, 3, 1]\n"
     ]
    }
   ],
   "source": [
    "list_1 = [1, 3, 4, 2, 5]\n",
    "list_1.reverse()\n",
    "print(list_1)"
   ]
  },
  {
   "cell_type": "markdown",
   "id": "4c24681c",
   "metadata": {},
   "source": [
    "##### Conversión a mayúsculas/minúsculas - SÓLO CADENAS"
   ]
  },
  {
   "cell_type": "code",
   "execution_count": 25,
   "id": "c18d618e",
   "metadata": {},
   "outputs": [
    {
     "name": "stdout",
     "output_type": "stream",
     "text": [
      "ESTO ES UNA PRUEBA\n",
      "esto es una prueba\n"
     ]
    }
   ],
   "source": [
    "str_1 = \"esto es una prueba\"\n",
    "str_1 = str_1.upper()\n",
    "print(str_1)\n",
    "\n",
    "str_2 = \"ESTO ES UNA PRUEBA\"\n",
    "str_2 = str_2.lower()\n",
    "print(str_2)"
   ]
  },
  {
   "cell_type": "markdown",
   "id": "d4892abd",
   "metadata": {},
   "source": [
    "##### Segmentación por carácter - SÓLO CADENAS"
   ]
  },
  {
   "cell_type": "code",
   "execution_count": 26,
   "id": "7f4bebc6",
   "metadata": {},
   "outputs": [
    {
     "name": "stdout",
     "output_type": "stream",
     "text": [
      "esto es una prueba\n",
      "['esto', 'es', 'una', 'prueba']\n"
     ]
    }
   ],
   "source": [
    "str_1 = \"esto es una prueba\"\n",
    "str_split = str_1.split()\n",
    "print(str_1)\n",
    "print(str_split)"
   ]
  },
  {
   "cell_type": "markdown",
   "id": "3d851c8e",
   "metadata": {},
   "source": [
    "##### Reemplazo en cadenas - SÓLO CADENAS"
   ]
  },
  {
   "cell_type": "code",
   "execution_count": 27,
   "id": "42c52318",
   "metadata": {},
   "outputs": [
    {
     "name": "stdout",
     "output_type": "stream",
     "text": [
      "esto es una prueba una\n",
      "esto es otra prueba otra\n",
      "esto es otra prueba una\n"
     ]
    }
   ],
   "source": [
    "# string.replace(old,new,count) \n",
    "# old − This is the old substring to be replaced.\n",
    "# new − This is the new substring, which would replace the old substring.\n",
    "# count − If this optional argument count is given, only the first count occurrences are replaced.\n",
    "\n",
    "str_1 = \"esto es una prueba una\"\n",
    "str_rep_1 = str_1.replace(\"una\", \"otra\")\n",
    "str_rep_2 = str_1.replace(\"una\", \"otra\", 1) \n",
    "\n",
    "print(str_1)\n",
    "print(str_rep_1)\n",
    "print(str_rep_2)"
   ]
  },
  {
   "cell_type": "markdown",
   "id": "919c92b1",
   "metadata": {},
   "source": [
    "### Diccionarios (dict)"
   ]
  },
  {
   "cell_type": "markdown",
   "id": "7995f58b",
   "metadata": {},
   "source": [
    "Un diccionario es una estructura que:\n",
    "<ul>\n",
    "<li>Contiene un listado de pares clave-valor.</li>\n",
    "<li>También se puede llamar array asociativo o <i>hash map</i>.</li>\n",
    "<li>Sin orden</li>\n",
    "<li>Cuyas claves son cadenas de caracteres o valores numéricos.</li>\n",
    "<li>Cuyos valores son valores o secuencias (anidadas).</li>\n",
    "</ul>"
   ]
  },
  {
   "cell_type": "markdown",
   "id": "8ed53505",
   "metadata": {},
   "source": [
    "##### Creación de un diccionario"
   ]
  },
  {
   "cell_type": "code",
   "execution_count": 28,
   "id": "d861b205",
   "metadata": {},
   "outputs": [
    {
     "name": "stdout",
     "output_type": "stream",
     "text": [
      "{'clave_1': 1, 'clave_2': 'prueba', 'clave_3': {'clave_3_1': 'hello', 'clave_3_2': 'world'}}\n",
      "{10: 1, 2: 2}\n"
     ]
    }
   ],
   "source": [
    "dict_1 = {\"clave_1\": 1, \"clave_2\": \"prueba\", \"clave_3\":{\"clave_3_1\":\"hello\", \"clave_3_2\":\"world\"}}\n",
    "print(dict_1)\n",
    "\n",
    "dict_2 = {10:1, 2:2}\n",
    "print(dict_2)"
   ]
  },
  {
   "cell_type": "markdown",
   "id": "70d3c3ef",
   "metadata": {},
   "source": [
    "##### Creación de diccionarios anidados"
   ]
  },
  {
   "cell_type": "code",
   "execution_count": 29,
   "id": "1ab0cd4a",
   "metadata": {},
   "outputs": [
    {
     "name": "stdout",
     "output_type": "stream",
     "text": [
      "{'clave_1': 1, 'clave_2': {'clave_2_1': [1, 2, 3], 'clave_2_2': 'prueba'}}\n",
      "{'clave_1': 1, 'clave_2': {'clave_2_1': (1, 2, 3), 'clave_2_2': 'prueba'}}\n"
     ]
    }
   ],
   "source": [
    "dict_1 = {\"clave_1\": 1, \"clave_2\": {\"clave_2_1\": [1,2,3], \"clave_2_2\": \"prueba\"}}\n",
    "print(dict_1)\n",
    "\n",
    "dict_2 = {\"clave_1\": 1, \"clave_2\": {\"clave_2_1\": (1,2,3), \"clave_2_2\": \"prueba\"}}\n",
    "print(dict_2)"
   ]
  },
  {
   "cell_type": "markdown",
   "id": "56aad841",
   "metadata": {},
   "source": [
    "##### Creación de diccionarios desde tuplas clave-valor"
   ]
  },
  {
   "cell_type": "code",
   "execution_count": 30,
   "id": "30189e2d",
   "metadata": {},
   "outputs": [
    {
     "name": "stdout",
     "output_type": "stream",
     "text": [
      "{'uno': 1, 'dos': 2, 'tres': 3, 'cuatro': 4}\n",
      "{1: 'uno', 2: 'dos', 3: 'tres', 4: 'cuatro'}\n"
     ]
    }
   ],
   "source": [
    "tuple_1 = (1,2,3,4,5)\n",
    "list_1 = [\"uno\", \"dos\", \"tres\", \"cuatro\"]\n",
    "\n",
    "dict_1 = dict(zip(list_1,tuple_1)) # list_1=clave, tuple_1=valor\n",
    "print(dict_1)\n",
    "\n",
    "dict_2 = dict(zip(tuple_1,list_1)) # tuple_1=clave, list_1=valor\n",
    "print(dict_2)"
   ]
  },
  {
   "cell_type": "markdown",
   "id": "8514681f",
   "metadata": {},
   "source": [
    "##### Unión de dos diccionarios"
   ]
  },
  {
   "cell_type": "code",
   "execution_count": 31,
   "id": "30bf3698",
   "metadata": {},
   "outputs": [
    {
     "name": "stdout",
     "output_type": "stream",
     "text": [
      "{'clave_1': 1, 'clave_2': 2, 'clave_3': 3, 'clave_4': 4}\n",
      "{'clave_1': 1, 'clave_2': 2, 'clave_3': 33, 'clave_4': 44}\n",
      "(1, 3) (2, 4)\n",
      "[(1, 3), (2, 4)]\n",
      "{1: 3, 2: 4}\n",
      "('clave_1', 'clave_3') ('clave_2', 'clave_4')\n"
     ]
    }
   ],
   "source": [
    "dict_1 = {\"clave_1\": 1, \"clave_2\": 2}\n",
    "dict_2 = {\"clave_3\": 3, \"clave_4\": 4}\n",
    "dict_3 = {\"clave_3\": 33, \"clave_4\": 44}\n",
    "\n",
    "dict_1.update(dict_2) # add dict_2 to dict_1 \n",
    "print(dict_1)\n",
    "\n",
    "dict_1.update(dict_3) # modify equal kyes\n",
    "print(dict_1)\n",
    "\n",
    "print(*zip(dict_1.values(),dict_2.values()))\n",
    "print(list(zip(dict_1.values(),dict_2.values())))\n",
    "print(dict(zip(dict_1.values(),dict_2.values())))\n",
    "\n",
    "print(*zip(dict_1.keys(),dict_2.keys()))"
   ]
  },
  {
   "cell_type": "markdown",
   "id": "0b394e97",
   "metadata": {},
   "source": [
    "##### Inserción (o modificación) de un elemento del diccionario por clave"
   ]
  },
  {
   "cell_type": "code",
   "execution_count": 32,
   "id": "f61118b4",
   "metadata": {},
   "outputs": [
    {
     "name": "stdout",
     "output_type": "stream",
     "text": [
      "{'clave_1': 50, 'clave_2': 2, 'clave_3': 'prueba'}\n"
     ]
    }
   ],
   "source": [
    "dict_1 = {\"clave_1\": 1, \"clave_2\": 2}\n",
    "dict_1[\"clave_3\"] = \"prueba\"\n",
    "dict_1[\"clave_1\"] = 50\n",
    "print(dict_1)"
   ]
  },
  {
   "cell_type": "markdown",
   "id": "fcd8228a",
   "metadata": {},
   "source": [
    "##### Recuperación y eliminación de un elemento de una clave específica"
   ]
  },
  {
   "cell_type": "code",
   "execution_count": 33,
   "id": "ef403121",
   "metadata": {},
   "outputs": [
    {
     "name": "stdout",
     "output_type": "stream",
     "text": [
      "prueba <class 'str'>\n",
      "{'clave_1': 1, 'clave_3': 3}\n"
     ]
    }
   ],
   "source": [
    "dict_1 = {\"clave_1\": 1, \"clave_2\": \"prueba\", \"clave_3\": 3}\n",
    "dict_pop = dict_1.pop(\"clave_2\")\n",
    "\n",
    "print(dict_pop, type(dict_pop))\n",
    "print(dict_1)"
   ]
  },
  {
   "cell_type": "markdown",
   "id": "d841b539",
   "metadata": {},
   "source": [
    "##### Comprobación de si un elemento existe en el diccionario"
   ]
  },
  {
   "cell_type": "code",
   "execution_count": 34,
   "id": "2723578c",
   "metadata": {},
   "outputs": [
    {
     "name": "stdout",
     "output_type": "stream",
     "text": [
      "True\n",
      "True\n",
      "False\n",
      "True\n"
     ]
    }
   ],
   "source": [
    "dict_1 = {\"clave_1\": 1, \"clave_2\": \"prueba\"}\n",
    "\n",
    "print(\"clave_1\" in dict_1) # por clave\n",
    "print(\"clave_1\" in dict_1.keys()) # por clave idem linea anterior\n",
    "print(1 in dict_1) # ninguna clave con valor 1\n",
    "\n",
    "print(1 in dict_1.values()) # por valor"
   ]
  },
  {
   "cell_type": "markdown",
   "id": "0249cda0",
   "metadata": {},
   "source": [
    "##### Eliminación de un elemento de un diccionario"
   ]
  },
  {
   "cell_type": "code",
   "execution_count": 35,
   "id": "37cce650",
   "metadata": {},
   "outputs": [
    {
     "name": "stdout",
     "output_type": "stream",
     "text": [
      "{'clave_2': 'prueba'}\n"
     ]
    }
   ],
   "source": [
    "dict_1 = {\"clave_1\": 1, \"clave_2\": \"prueba\"}\n",
    "del(dict_1[\"clave_1\"])\n",
    "print(dict_1)"
   ]
  },
  {
   "cell_type": "markdown",
   "id": "b78843a2",
   "metadata": {},
   "source": [
    "##### Eliminación de todos los elementos de un diccionario"
   ]
  },
  {
   "cell_type": "code",
   "execution_count": 36,
   "id": "fc6e5584",
   "metadata": {},
   "outputs": [
    {
     "name": "stdout",
     "output_type": "stream",
     "text": [
      "{}\n"
     ]
    }
   ],
   "source": [
    "dict_1 = {\"clave_1\": 1, \"clave_2\": 2}\n",
    "dict_1.clear()\n",
    "print(dict_1)"
   ]
  },
  {
   "cell_type": "markdown",
   "id": "a6a2bef7",
   "metadata": {},
   "source": [
    "##### Acceso a un elemento por clave"
   ]
  },
  {
   "cell_type": "code",
   "execution_count": 37,
   "id": "6c52d4f0",
   "metadata": {},
   "outputs": [
    {
     "name": "stdout",
     "output_type": "stream",
     "text": [
      "1\n"
     ]
    }
   ],
   "source": [
    "dict_1 = {\"clave_1\": 1, \"clave_2\": 2}\n",
    "print(dict_1[\"clave_1\"])"
   ]
  },
  {
   "cell_type": "markdown",
   "id": "79064164",
   "metadata": {},
   "source": [
    "##### Recuperación de elementos como una lista"
   ]
  },
  {
   "cell_type": "code",
   "execution_count": 38,
   "id": "5856de55",
   "metadata": {},
   "outputs": [
    {
     "name": "stdout",
     "output_type": "stream",
     "text": [
      "dict_items([('clave_1', 1), ('clave_2', 2), ('clave_3', 3)])\n"
     ]
    }
   ],
   "source": [
    "dict_1 = {\"clave_1\": 1, \"clave_2\": 2, \"clave_3\": 3}\n",
    "print(dict_1.items())"
   ]
  },
  {
   "cell_type": "markdown",
   "id": "d8148156",
   "metadata": {},
   "source": [
    "##### Recuperación de claves y valores como una lista"
   ]
  },
  {
   "cell_type": "code",
   "execution_count": 39,
   "id": "668ab87f",
   "metadata": {},
   "outputs": [
    {
     "name": "stdout",
     "output_type": "stream",
     "text": [
      "dict_keys(['clave_1', 'clave_2', 'clave_3'])\n",
      "dict_values([1, 2, 3])\n"
     ]
    }
   ],
   "source": [
    "dict_1 = {\"clave_1\": 1, \"clave_2\": 2, \"clave_3\": 3}\n",
    "print(dict_1.keys())\n",
    "print(dict_1.values())"
   ]
  },
  {
   "cell_type": "markdown",
   "id": "437c5e03",
   "metadata": {},
   "source": [
    "### Conjuntos (set)"
   ]
  },
  {
   "cell_type": "markdown",
   "id": "43906399",
   "metadata": {},
   "source": [
    "Un conjunto es una secuencia:\n",
    "<ul>\n",
    "<li>Unidimensional (de un único nivel)</li>\n",
    "<li>Mutable</li>\n",
    "<li>De tamaño variable (al ser mutable es obvio)</li>\n",
    "<li>Desordenada</li>\n",
    "<li>Cuyos elementos son valores o secuencias</li>\n",
    "<li>Cuyos elementos son únicos</li>\n",
    "</ul>"
   ]
  },
  {
   "cell_type": "markdown",
   "id": "d6f8b1ca",
   "metadata": {},
   "source": [
    "##### Cración de un conjunto"
   ]
  },
  {
   "cell_type": "code",
   "execution_count": 40,
   "id": "d753c0cb",
   "metadata": {},
   "outputs": [
    {
     "name": "stdout",
     "output_type": "stream",
     "text": [
      "{1, 2, 3, 4, 5} <class 'set'>\n",
      "{1, 2, 4}\n",
      "{True, 34, 40, 'abc', 'male'}\n"
     ]
    }
   ],
   "source": [
    "set_1 = {1,2,3,4,5}\n",
    "print(set_1, type(set_1))\n",
    "\n",
    "set_1 = {1, 2, 1, 4, 1} # observar que los valores repetidos se eliminan\n",
    "print(set_1)\n",
    "\n",
    "set_1 = {\"abc\", 34, True, 40, \"male\"}\n",
    "print(set_1) # lo desordena"
   ]
  },
  {
   "cell_type": "markdown",
   "id": "6afe6b77",
   "metadata": {},
   "source": [
    "##### Conversión/casting a conjunto"
   ]
  },
  {
   "cell_type": "code",
   "execution_count": 41,
   "id": "fb2dd6fa",
   "metadata": {},
   "outputs": [
    {
     "name": "stdout",
     "output_type": "stream",
     "text": [
      "{1, 2, 3, 4, 5} <class 'set'>\n"
     ]
    }
   ],
   "source": [
    "list_1 = [1,2,3,4,5]\n",
    "set_1 = set(list_1)\n",
    "print(set_1, type(set_1))"
   ]
  },
  {
   "cell_type": "markdown",
   "id": "9f1891ad",
   "metadata": {},
   "source": [
    "##### Unión de conjuntos"
   ]
  },
  {
   "cell_type": "code",
   "execution_count": 42,
   "id": "88198cf3",
   "metadata": {},
   "outputs": [
    {
     "name": "stdout",
     "output_type": "stream",
     "text": [
      "{1, 2, 3, 4, 5, 6}\n"
     ]
    }
   ],
   "source": [
    "set_1 = {1,2,3,4,5}\n",
    "set_2 = {3,4,5,6}\n",
    "print(set_1 | set_2) # no se repiten sus valores"
   ]
  },
  {
   "cell_type": "markdown",
   "id": "a6af0395",
   "metadata": {},
   "source": [
    "##### Intersección de conjuntos"
   ]
  },
  {
   "cell_type": "code",
   "execution_count": 43,
   "id": "c3b7437d",
   "metadata": {},
   "outputs": [
    {
     "name": "stdout",
     "output_type": "stream",
     "text": [
      "{3, 4, 5}\n"
     ]
    }
   ],
   "source": [
    "set_1 = {1,2,3,4,5}\n",
    "set_2 = {3,4,5,6,7}\n",
    "set_3 = set_1 & set_2\n",
    "print(set_3)"
   ]
  },
  {
   "cell_type": "markdown",
   "id": "f0d6434d",
   "metadata": {},
   "source": [
    "##### Diferencia de conjuntos"
   ]
  },
  {
   "cell_type": "code",
   "execution_count": 44,
   "id": "2ada9d38",
   "metadata": {},
   "outputs": [
    {
     "name": "stdout",
     "output_type": "stream",
     "text": [
      "{1, 2}\n",
      "{6, 7}\n"
     ]
    }
   ],
   "source": [
    "set_1 = {1, 2, 3, 4, 5}\n",
    "set_2 = {3, 4, 5, 6, 7}\n",
    "\n",
    "print(set_1-set_2) # elementos en el primer set que no están en el segundo\n",
    "print(set_2-set_1) # elementos en el segundo set que no están en el primero"
   ]
  },
  {
   "cell_type": "markdown",
   "id": "6797a32a",
   "metadata": {},
   "source": [
    "##### Diferencia simétrica de conjuntos"
   ]
  },
  {
   "cell_type": "code",
   "execution_count": 45,
   "id": "ea66fa42",
   "metadata": {},
   "outputs": [
    {
     "name": "stdout",
     "output_type": "stream",
     "text": [
      "{1, 2, 6, 7}\n",
      "{1, 2, 6, 7}\n"
     ]
    }
   ],
   "source": [
    "set_1 = {1, 2, 3, 4, 5}\n",
    "set_2 = {3, 4, 5, 6, 7}\n",
    "\n",
    "print(set_1 ^ set_2) # todos los elementos diferentes entre ambos sets\n",
    "print(set_2 ^ set_1) # mismo resultado obvio"
   ]
  },
  {
   "cell_type": "markdown",
   "id": "1dd9ed81",
   "metadata": {},
   "source": [
    "##### Inserción de elementos en un conjunto"
   ]
  },
  {
   "cell_type": "code",
   "execution_count": 46,
   "id": "017d7e9d",
   "metadata": {},
   "outputs": [
    {
     "name": "stdout",
     "output_type": "stream",
     "text": [
      "{1, 2, 3, 4, 5, 6}\n"
     ]
    }
   ],
   "source": [
    "set_1 = {1, 2, 3, 4, 5}\n",
    "set_1.add(6)\n",
    "print(set_1)"
   ]
  },
  {
   "cell_type": "markdown",
   "id": "a38647f1",
   "metadata": {},
   "source": [
    "##### Comprobación de existencia de un elemento en el conjunto"
   ]
  },
  {
   "cell_type": "code",
   "execution_count": 47,
   "id": "025649bb",
   "metadata": {},
   "outputs": [
    {
     "name": "stdout",
     "output_type": "stream",
     "text": [
      "True\n",
      "False\n"
     ]
    }
   ],
   "source": [
    "set_1 = {1, 2, 3, 4, 5}\n",
    "print(3 in set_1)\n",
    "print(6 in set_1)"
   ]
  },
  {
   "cell_type": "markdown",
   "id": "d9a8465f",
   "metadata": {},
   "source": [
    "##### Comprobación de subconjunto"
   ]
  },
  {
   "cell_type": "code",
   "execution_count": 48,
   "id": "3145e74b",
   "metadata": {},
   "outputs": [
    {
     "name": "stdout",
     "output_type": "stream",
     "text": [
      "True\n",
      "False\n"
     ]
    }
   ],
   "source": [
    "set_1 = {1, 2, 3, 4, 5}\n",
    "set_2 = {1, 2, 3}\n",
    "print(set_1 >= set_2) # set_1 contiene a set_2  =>  set_2 es un subconjunto de set_1\n",
    "\n",
    "set_1 = {1, 2, 3, 4, 5}\n",
    "set_2 = {1, 2, 6}\n",
    "print(set_1 >= set_2) # set_1 no contiene a set_2, se observa un elemento diferente"
   ]
  },
  {
   "cell_type": "markdown",
   "id": "c37bc1c9",
   "metadata": {},
   "source": [
    "##### Comprobación de superconjunto"
   ]
  },
  {
   "cell_type": "code",
   "execution_count": 49,
   "id": "940ca647",
   "metadata": {},
   "outputs": [
    {
     "name": "stdout",
     "output_type": "stream",
     "text": [
      "True\n"
     ]
    }
   ],
   "source": [
    "set_1 = {1, 2, 3, 4, 5}\n",
    "set_2 = {1, 2, 3}\n",
    "\n",
    "print(set_2 <= set_1) # set_1 es un superconjunto de set_2"
   ]
  },
  {
   "cell_type": "markdown",
   "id": "e647f008",
   "metadata": {},
   "source": [
    "##### Eliminación de un elemento de un conjunto por valor"
   ]
  },
  {
   "cell_type": "code",
   "execution_count": 50,
   "id": "feb5f43f",
   "metadata": {},
   "outputs": [
    {
     "name": "stdout",
     "output_type": "stream",
     "text": [
      "{1, 2, 3, 4}\n",
      "{1, 2, 4}\n",
      "{1, 2, 4}\n"
     ]
    }
   ],
   "source": [
    "set_1 = {1, 2, 3, 4, 5}\n",
    "\n",
    "set_1.remove(5)  \n",
    "print(set_1)\n",
    "\n",
    "set_1.discard(3) \n",
    "print(set_1)\n",
    "\n",
    "set_1.discard(7) # If the element is not present no error or exception is raised and stays the original set\n",
    "print(set_1)"
   ]
  },
  {
   "cell_type": "markdown",
   "id": "71bec300",
   "metadata": {},
   "source": [
    "##### Eliminación de todos los elementos de un conjunto"
   ]
  },
  {
   "cell_type": "code",
   "execution_count": 51,
   "id": "f53b7a10",
   "metadata": {},
   "outputs": [
    {
     "data": {
      "text/plain": [
       "set()"
      ]
     },
     "execution_count": 51,
     "metadata": {},
     "output_type": "execute_result"
    }
   ],
   "source": [
    "set_1 = {1,2,3,4,5,6}\n",
    "set_1.clear()\n",
    "set_1"
   ]
  },
  {
   "cell_type": "markdown",
   "id": "3ef00e06",
   "metadata": {},
   "source": [
    "## Python Names/Variables and Values\n",
    "\n",
    "https://www.youtube.com/watch?v=_AEJHKGk9ns"
   ]
  },
  {
   "cell_type": "code",
   "execution_count": 52,
   "id": "9860fa10",
   "metadata": {},
   "outputs": [
    {
     "name": "stdout",
     "output_type": "stream",
     "text": [
      "12 23\n"
     ]
    }
   ],
   "source": [
    "# Names refer to values\n",
    "x = 23 # \"x\" points to value 23\n",
    "\n",
    "# Many names can refer to one value\n",
    "y = x  # \"y\" points also to value 23\n",
    "\n",
    "# Names can be assing independently\n",
    "x = 12 # \"x\" does not point to 23 anymore, now it's pointing to 12. But \"y\" is still 23 \n",
    "print(x, y)"
   ]
  },
  {
   "cell_type": "markdown",
   "id": "eed47256",
   "metadata": {},
   "source": [
    "#### Assingement never copies data!!!!!"
   ]
  },
  {
   "cell_type": "code",
   "execution_count": 53,
   "id": "f4c41214",
   "metadata": {},
   "outputs": [
    {
     "name": "stdout",
     "output_type": "stream",
     "text": [
      "[1, 2, 3, 4]\n",
      "[1, 2, 3, 4, 5]\n"
     ]
    }
   ],
   "source": [
    "nums = [1,2,3]    # \"nums\" is pointed to a value list\n",
    "other = nums      # \"other\" is pointed to the same value of list\n",
    "\n",
    "nums.append(4)    # if list is change by one \"nums\" it'll be changed in \"other\"\n",
    "print(other)\n",
    "\n",
    "nums.append(5)    # and viceversa\n",
    "print(nums)"
   ]
  },
  {
   "cell_type": "markdown",
   "id": "f319d71b",
   "metadata": {},
   "source": [
    "#### Immutable values: \n",
    "\n",
    "- Inmutable types: ints, floats, strings, tuples\n",
    "- Values that cannot be change in place.\n",
    "- No method on them can chage their value."
   ]
  },
  {
   "cell_type": "code",
   "execution_count": 54,
   "id": "2d8aa1c0",
   "metadata": {},
   "outputs": [
    {
     "name": "stdout",
     "output_type": "stream",
     "text": [
      "hello there\n",
      "hello\n"
     ]
    }
   ],
   "source": [
    "x = \"hello\"      # \"x\" points to value \"hello\"\n",
    "y = x            # \"y\" points to the same value \"hello\"\n",
    "x = x + \" there\" # \"x\" now points to another value: \"hello there\"\n",
    "\n",
    "print(x)\n",
    "print(y)"
   ]
  },
  {
   "cell_type": "code",
   "execution_count": 55,
   "id": "151482ee",
   "metadata": {},
   "outputs": [
    {
     "name": "stdout",
     "output_type": "stream",
     "text": [
      "[1, 2, 3] [1, 2, 3, 10]\n",
      "[12, 2, 3] [1, 2, 3, 10]\n"
     ]
    }
   ],
   "source": [
    "# inmutable\n",
    "x = 5                 # \"x\" points to value 1\n",
    "x = x + 1             # changing an int => REBINDING => makes a new int \n",
    "nums.append(7)        # changing a list => MUTATING  => modifie the list, does not make a new one\n",
    "\n",
    "# mutable\n",
    "nums = [1,2,3]        # \"x\" points to list\n",
    "nums_2 = nums + [10]  # rebinding lists => creating a brand new list \n",
    "print(nums, nums_2)   # nums and nums_2 points to a differente lists\n",
    "\n",
    "nums[0]=12            # testing\n",
    "print(nums, nums_2)   # changing some element in nums does not change nums_2"
   ]
  },
  {
   "cell_type": "code",
   "execution_count": 56,
   "id": "34f10744",
   "metadata": {},
   "outputs": [
    {
     "name": "stdout",
     "output_type": "stream",
     "text": [
      "[1, 2, 3, 4, 5]\n"
     ]
    }
   ],
   "source": [
    "# Inmutable variables\n",
    "x,y = 5,1    # assingment\n",
    "x += y       # conceptually is the same as x=x+y            \n",
    "\n",
    "# Mutable variables. These is the same\n",
    "nums = [1,2,3]     # assingment\n",
    "nums += [4,5]      # is the same as nums=nums+[4,5]\n",
    "print(nums)"
   ]
  },
  {
   "cell_type": "markdown",
   "id": "8d0e365d",
   "metadata": {},
   "source": [
    "#### Example reasignation and mutation ON LISTS"
   ]
  },
  {
   "cell_type": "code",
   "execution_count": 57,
   "id": "5306a173",
   "metadata": {},
   "outputs": [
    {
     "name": "stdout",
     "output_type": "stream",
     "text": [
      "nums_2 [1, 2, 3, 8, 9]\n",
      "nums   [1, 2, 3, 10, 11]\n",
      "other  [1, 2, 3, 10, 11] \n",
      "\n",
      "nums   [1, 2, 3, 10, 11, 3]\n",
      "other  [1, 2, 3, 10, 11]\n"
     ]
    }
   ],
   "source": [
    "nums = [1,2,3]               # \"nums\" is pointed to a value list\n",
    "other = nums                 # \"other\" is pointed to de same value list that \"nums\"\n",
    "\n",
    "nums_2 = nums + [8,9]        # reasignation\n",
    "nums += [10,11]              # mutation\n",
    "\n",
    "print(\"nums_2\", nums_2)\n",
    "print(\"nums  \", nums)     \n",
    "print(\"other \", other, \"\\n\") # \"other still has the same value than \"nums\"   \n",
    "\n",
    "\n",
    "nums = nums + [3]            # reasignation using the same variable/name\n",
    "print(\"nums  \", nums)\n",
    "print(\"other \", other)       # now \"other\" does not have the same value that \"nums\""
   ]
  },
  {
   "cell_type": "markdown",
   "id": "c01dc086",
   "metadata": {},
   "source": [
    "#### Reference can be more than just names "
   ]
  },
  {
   "cell_type": "code",
   "execution_count": 58,
   "id": "eac2f5c9",
   "metadata": {},
   "outputs": [
    {
     "name": "stdout",
     "output_type": "stream",
     "text": [
      "[1, 10, 3]\n",
      "2\n"
     ]
    }
   ],
   "source": [
    "nums = [1,2,3]         # \"nums\" is pointed to a value list. Each element poits to some values\n",
    "x = nums[1]            # \"x\" is pointed to the same value \"nums\"'s list in position \"1\" is pointed\n",
    "\n",
    "nums[1] = 10           # position \"1\" in \"nums\" now is reasign to a value 10\n",
    "print(nums)            # \"nums\" changes\n",
    "print(x)               # but \"x\" does not."
   ]
  }
 ],
 "metadata": {
  "kernelspec": {
   "display_name": "Python 3",
   "language": "python",
   "name": "python3"
  },
  "language_info": {
   "codemirror_mode": {
    "name": "ipython",
    "version": 3
   },
   "file_extension": ".py",
   "mimetype": "text/x-python",
   "name": "python",
   "nbconvert_exporter": "python",
   "pygments_lexer": "ipython3",
   "version": "3.8.8"
  }
 },
 "nbformat": 4,
 "nbformat_minor": 5
}
