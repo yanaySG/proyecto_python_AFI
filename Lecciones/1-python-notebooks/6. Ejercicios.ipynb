{
 "cells": [
  {
   "cell_type": "markdown",
   "id": "f9ecb953",
   "metadata": {},
   "source": [
    "# Introducción a Python - Ejercicios"
   ]
  },
  {
   "cell_type": "markdown",
   "id": "4210562f",
   "metadata": {},
   "source": [
    "### 1. Escribir un programa que solicite al usuario una lista de números separados por coma, construya una lista y una tupla a partir de la lista recibida y las muestre por pantalla"
   ]
  },
  {
   "cell_type": "code",
   "execution_count": 50,
   "id": "6b24f60f",
   "metadata": {},
   "outputs": [],
   "source": [
    "def build_tuple_list(*numbers):\n",
    "    if all(isinstance(x, (int, float)) for x in numbers) == False:\n",
    "        print(\"Not all variables are numbers\")\n",
    "    return (list(numbers), tuple(numbers))"
   ]
  },
  {
   "cell_type": "code",
   "execution_count": 66,
   "id": "50b005cf",
   "metadata": {},
   "outputs": [
    {
     "name": "stdout",
     "output_type": "stream",
     "text": [
      "[1, 2, 3, 4] <class 'list'>\n",
      "(1, 2, 3, 4) <class 'tuple'>\n"
     ]
    }
   ],
   "source": [
    "list_nums, tuple_nums = build_tuple_list(1, 2, 3, 4)\n",
    "\n",
    "print(list_nums, type(list_args))\n",
    "print(tuple_nums, type(tuple_args))"
   ]
  },
  {
   "cell_type": "code",
   "execution_count": 65,
   "id": "4de85e31",
   "metadata": {},
   "outputs": [
    {
     "name": "stdout",
     "output_type": "stream",
     "text": [
      "--> 1,e,8,2,10\n",
      "invalid literal for int() with base 10: 'e' Caracter no numérico\n",
      "Not all variables are numbers\n",
      "[[1, 'e', 8, 2, 10]] <class 'list'>\n",
      "([1, 'e', 8, 2, 10],) <class 'tuple'>\n"
     ]
    }
   ],
   "source": [
    "entrada = input(\"--> \")\n",
    "numbers = entrada.split(\",\")\n",
    "\n",
    "for i in range(0, len(numbers)):\n",
    "    try:\n",
    "        numbers[i] = int(numbers[i])\n",
    "    except Exception as e:\n",
    "        print(e, \"Caracter no numérico\")\n",
    "    continue\n",
    "\n",
    "list_nums, tuple_nums = build_tuple_list(numbers)\n",
    "print(list_nums, type(list_args))\n",
    "print(tuple_nums, type(tuple_args))"
   ]
  },
  {
   "cell_type": "code",
   "execution_count": null,
   "id": "165a9a21",
   "metadata": {},
   "outputs": [],
   "source": []
  }
 ],
 "metadata": {
  "kernelspec": {
   "display_name": "Python 3",
   "language": "python",
   "name": "python3"
  },
  "language_info": {
   "codemirror_mode": {
    "name": "ipython",
    "version": 3
   },
   "file_extension": ".py",
   "mimetype": "text/x-python",
   "name": "python",
   "nbconvert_exporter": "python",
   "pygments_lexer": "ipython3",
   "version": "3.8.8"
  }
 },
 "nbformat": 4,
 "nbformat_minor": 5
}
