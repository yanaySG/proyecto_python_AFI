{
 "cells": [
  {
   "cell_type": "markdown",
   "source": [
    "# Introducción a Python - Ejercicios"
   ],
   "metadata": {}
  },
  {
   "cell_type": "markdown",
   "source": [
    "### 1. Escribir un programa que solicite al usuario una lista de números separados por coma, construya una lista y una tupla a partir de la lista recibida y las muestre por pantalla"
   ],
   "metadata": {}
  },
  {
   "cell_type": "markdown",
   "source": [
    "Creando una función para realizar el ejercicio. Se agrega un warning que llama la atención si los parámetros no son numéricos."
   ],
   "metadata": {}
  },
  {
   "cell_type": "code",
   "execution_count": 1,
   "source": [
    "def build_tuple_list(*numbers):\r\n",
    "\r\n",
    "    if all(isinstance(x, (int, float)) for x in numbers) == False:\r\n",
    "        print(\"Warning: Not all variables are numbers\")\r\n",
    "    \r\n",
    "    return (list(numbers), tuple(numbers))"
   ],
   "outputs": [],
   "metadata": {}
  },
  {
   "cell_type": "markdown",
   "source": [
    "Utilizando la función. Entrada de parámetros correctos."
   ],
   "metadata": {}
  },
  {
   "cell_type": "code",
   "execution_count": 2,
   "source": [
    "list_nums, tuple_nums = build_tuple_list(1, 2, 3, 4)\r\n",
    "\r\n",
    "print(list_nums, type(list_nums))\r\n",
    "print(tuple_nums, type(list_nums))"
   ],
   "outputs": [
    {
     "output_type": "stream",
     "name": "stdout",
     "text": [
      "[1, 2, 3, 4] <class 'list'>\n",
      "(1, 2, 3, 4) <class 'list'>\n"
     ]
    }
   ],
   "metadata": {}
  },
  {
   "cell_type": "markdown",
   "source": [
    "Utilizando la función. Entrada de parámetros incorrectos."
   ],
   "metadata": {}
  },
  {
   "cell_type": "code",
   "execution_count": 3,
   "source": [
    "list_nums, tuple_nums = build_tuple_list(1, 2, \"f\", 3, 4, \"S\")\r\n",
    "\r\n",
    "print(list_nums, type(list_nums))\r\n",
    "print(tuple_nums, type(list_nums))"
   ],
   "outputs": [
    {
     "output_type": "stream",
     "name": "stdout",
     "text": [
      "Warning: Not all variables are numbers\n",
      "[1, 2, 'f', 3, 4, 'S'] <class 'list'>\n",
      "(1, 2, 'f', 3, 4, 'S') <class 'list'>\n"
     ]
    }
   ],
   "metadata": {}
  },
  {
   "cell_type": "markdown",
   "source": [
    "Entrada de parámetros por teclado."
   ],
   "metadata": {}
  },
  {
   "cell_type": "code",
   "execution_count": 4,
   "source": [
    "entrada = input(\"--> \")\r\n",
    "numbers = entrada.split(\",\")\r\n",
    "\r\n",
    "for i in range(0, len(numbers)):\r\n",
    "    try:\r\n",
    "        numbers[i] = int(numbers[i])\r\n",
    "    except Exception as e:\r\n",
    "        None\r\n",
    "    continue\r\n",
    "    \r\n",
    "list_nums, tuple_nums = build_tuple_list(*numbers)\r\n",
    "print(list_nums, type(list_nums))\r\n",
    "print(tuple_nums, type(tuple_nums))"
   ],
   "outputs": [
    {
     "output_type": "stream",
     "name": "stdout",
     "text": [
      "--> 1,2,3,'a','c',4,5\n",
      "Warning: Not all variables are numbers\n",
      "[1, 2, 3, \"'a'\", \"'c'\", 4, 5] <class 'list'>\n",
      "(1, 2, 3, \"'a'\", \"'c'\", 4, 5) <class 'tuple'>\n"
     ]
    }
   ],
   "metadata": {}
  },
  {
   "cell_type": "markdown",
   "source": [
    "### 2. Escribir un programa que solicite al usuario un número n y devuelva el resultado de n + nn + nnn. (Ejemplo: n = 5 daría como resultado 615, 5 + 55 + 555)"
   ],
   "metadata": {}
  },
  {
   "cell_type": "code",
   "execution_count": 9,
   "source": [
    "def sum_n(n):\r\n",
    "    try:\r\n",
    "        n = int(n)\r\n",
    "        return(n + int(str(n)*2) + int(str(n)*3))\r\n",
    "    except Exception as e:\r\n",
    "        return(\"Error:\" ,e)"
   ],
   "outputs": [],
   "metadata": {}
  },
  {
   "cell_type": "code",
   "execution_count": 10,
   "source": [
    "print(sum_n(\"5\"))\r\n",
    "print(sum_n(1))\r\n",
    "print(sum_n(\"abc\"))"
   ],
   "outputs": [
    {
     "output_type": "stream",
     "name": "stdout",
     "text": [
      "615\n",
      "123\n",
      "('Error:', ValueError(\"invalid literal for int() with base 10: 'abc'\"))\n"
     ]
    }
   ],
   "metadata": {}
  },
  {
   "cell_type": "markdown",
   "source": [
    "### 3. Escribir un programa que solicite al usuario un listado de nombres separados por punto y coma, construya una lista e imprima por pantalla los elementos pares de la lista"
   ],
   "metadata": {}
  },
  {
   "cell_type": "code",
   "execution_count": 11,
   "source": [
    "def even(names):\r\n",
    "    names_list = list(names.split(\";\"))\r\n",
    "    names_even_indices = [name for index, name in enumerate(names_list) if index % 2 == 0 ]\r\n",
    "    return(names_even_indices)"
   ],
   "outputs": [],
   "metadata": {}
  },
  {
   "cell_type": "code",
   "execution_count": 12,
   "source": [
    "ejemplo=even(\"juan; pedro; pepe; ramon\")\r\n",
    "print(ejemplo)"
   ],
   "outputs": [
    {
     "output_type": "stream",
     "name": "stdout",
     "text": [
      "['juan', ' pepe']\n"
     ]
    }
   ],
   "metadata": {}
  },
  {
   "cell_type": "markdown",
   "source": [
    "### 4. Escribir un programa que solicite al usuario dos cadenas de texto y detecte si la segunda está contenida en la primera."
   ],
   "metadata": {}
  },
  {
   "cell_type": "code",
   "execution_count": 13,
   "source": [
    "def contains(str_1, str_2):\r\n",
    "    return(str_2 in str_1)"
   ],
   "outputs": [],
   "metadata": {}
  },
  {
   "cell_type": "code",
   "execution_count": 14,
   "source": [
    "t = contains(\"esto es una prueba\", \"es una\")\r\n",
    "f = contains(\"esto es una prueba\", \"esuna\")\r\n",
    "\r\n",
    "print(t)\r\n",
    "print(f)"
   ],
   "outputs": [
    {
     "output_type": "stream",
     "name": "stdout",
     "text": [
      "True\n",
      "False\n"
     ]
    }
   ],
   "metadata": {}
  },
  {
   "cell_type": "markdown",
   "source": [
    "### 5. Escribir un programa que solicite al usuario una lista de nombres separados por coma, una posición y devuelva la lista de nombres sustituyendo el que aparece en la posición indicada por \"Miguel\""
   ],
   "metadata": {}
  },
  {
   "cell_type": "code",
   "execution_count": 15,
   "source": [
    "def change_names(names, pos=0):\r\n",
    "    try:\r\n",
    "        index_Miguel = names.index(\"Miguel\")\r\n",
    "        names[index_Miguel] = names[pos]\r\n",
    "        names[pos] = \"Miguel\"\r\n",
    "        return(names)\r\n",
    "    except Exception as e:\r\n",
    "        return(\"Error:\" ,e)    "
   ],
   "outputs": [],
   "metadata": {}
  },
  {
   "cell_type": "code",
   "execution_count": 16,
   "source": [
    "print(change_names([\"Alina\", \"Miguel\"]))                                 # ex.1 using pos by default\r\n",
    "print(change_names([\"Juana\", \"Pedro\", \"Miguel\", \"María\"], pos=3))        # ex.2  \r\n",
    "print(change_names([\"Miguel\", \"Alex\", \"Rosa\"], pos=3))                   # ex.3 pos out of range\r\n",
    "print(change_names([\"Alia\", \"Marinette\",  \"Francois\", \"Helen\"], pos=1))  # ex.4 Miguel does not exists"
   ],
   "outputs": [
    {
     "output_type": "stream",
     "name": "stdout",
     "text": [
      "['Miguel', 'Alina']\n",
      "['Juana', 'Pedro', 'María', 'Miguel']\n",
      "('Error:', IndexError('list index out of range'))\n",
      "('Error:', ValueError(\"'Miguel' is not in list\"))\n"
     ]
    }
   ],
   "metadata": {}
  },
  {
   "cell_type": "markdown",
   "source": [
    "### 6. Escribir un programa que reciba del usuario un número y detecte si este es capicúa."
   ],
   "metadata": {}
  },
  {
   "cell_type": "code",
   "execution_count": 17,
   "source": [
    "def capicua(number):\r\n",
    "    number_list = list(str(number))\r\n",
    "    number_reverse = number_list.copy()\r\n",
    "    number_reverse.reverse()\r\n",
    "    return(number_list==number_reverse, number_list,number_reverse)    "
   ],
   "outputs": [],
   "metadata": {}
  },
  {
   "cell_type": "code",
   "execution_count": 18,
   "source": [
    "print(capicua(123))\r\n",
    "print(capicua(12321))"
   ],
   "outputs": [
    {
     "output_type": "stream",
     "name": "stdout",
     "text": [
      "(False, ['1', '2', '3'], ['3', '2', '1'])\n",
      "(True, ['1', '2', '3', '2', '1'], ['1', '2', '3', '2', '1'])\n"
     ]
    }
   ],
   "metadata": {}
  },
  {
   "cell_type": "markdown",
   "source": [
    "### 7. Escribir un programa que reciba dos números del usuario y devuelva \"Divisible\" si el primero es divisible por el segundo o \"No divisible\" en caso contrario."
   ],
   "metadata": {}
  },
  {
   "cell_type": "code",
   "execution_count": 19,
   "source": [
    "def es_divisible(dividendo, divisor):  \r\n",
    "    try:\r\n",
    "        return \"Divisible\" if int(dividendo) % int(divisor) == 0 else \"No divisible\"\r\n",
    "    except Exception as e:\r\n",
    "        return \"Error\", e"
   ],
   "outputs": [],
   "metadata": {}
  },
  {
   "cell_type": "code",
   "execution_count": 20,
   "source": [
    "print(es_divisible(14,7))\r\n",
    "print(es_divisible(12,5))\r\n",
    "print(es_divisible(\"15\",5))\r\n",
    "print(es_divisible(\"hola\",5))\r\n",
    "print(es_divisible(0,0))"
   ],
   "outputs": [
    {
     "output_type": "stream",
     "name": "stdout",
     "text": [
      "Divisible\n",
      "No divisible\n",
      "Divisible\n",
      "('Error', ValueError(\"invalid literal for int() with base 10: 'hola'\"))\n",
      "('Error', ZeroDivisionError('integer division or modulo by zero'))\n"
     ]
    }
   ],
   "metadata": {}
  },
  {
   "cell_type": "markdown",
   "source": [
    "### 8. Escribir un programa que reciba una lista de palabras separadas por coma y devuelva un diccionario en el que las claves sean las palabras introducidas y el valor el número de veces que se repite cada una de ellas en la lista. Emplea bucles tradicionales."
   ],
   "metadata": {}
  },
  {
   "cell_type": "code",
   "execution_count": 21,
   "source": [
    "def to_dictionary(words_list):\r\n",
    "    words_dict = {}\r\n",
    "    for element in words_list:\r\n",
    "        words_dict[element] = words_list.count(element)\r\n",
    "    return words_dict\r\n",
    "\r\n",
    "def to_dictionary_inline(words_list):\r\n",
    "    words_dict = {element:words_list.count(element) for element in words_list}\r\n",
    "    return words_dict"
   ],
   "outputs": [],
   "metadata": {}
  },
  {
   "cell_type": "code",
   "execution_count": 22,
   "source": [
    "w = [\"pera\", \"manzana\", \"manzana\", \"piña\", \"manzana\",\"pera\", \"pera\", \"uva\"]\r\n",
    "\r\n",
    "print(to_dictionary(w))\r\n",
    "print(to_dictionary_inline(w))"
   ],
   "outputs": [
    {
     "output_type": "stream",
     "name": "stdout",
     "text": [
      "{'pera': 3, 'manzana': 3, 'piña': 1, 'uva': 1}\n",
      "{'pera': 3, 'manzana': 3, 'piña': 1, 'uva': 1}\n"
     ]
    }
   ],
   "metadata": {}
  },
  {
   "cell_type": "markdown",
   "source": [
    "### 9. Escribir un programa que reciba un número que se utilizará como límite superior (incluido) de una secuencia numérica. El programa devolverá una lista de tuplas en las que cada tupla i-ésima contendra dos elementos: el elemento i-ésimo de la secuencia y un flag que indique si el número es o no primo."
   ],
   "metadata": {}
  },
  {
   "cell_type": "code",
   "execution_count": 23,
   "source": [
    "def is_prime(num):\r\n",
    "    if num > 1:\r\n",
    "        for i in range(2, num):\r\n",
    "            if num % i == 0:\r\n",
    "                return \"not prime\"\r\n",
    "        else:                     \r\n",
    "            return \"prime\"\r\n",
    "    else:\r\n",
    "        return \"not prime\"\r\n",
    "\r\n",
    "def build_tuples_list(upper_threshold):\r\n",
    "    sequence = range(1,upper_threshold+1)\r\n",
    "    result = [(element, is_prime(element)) for element in sequence]\r\n",
    "    return result\r\n"
   ],
   "outputs": [],
   "metadata": {}
  },
  {
   "cell_type": "code",
   "execution_count": 24,
   "source": [
    "build_tuples_list(10)"
   ],
   "outputs": [
    {
     "output_type": "execute_result",
     "data": {
      "text/plain": [
       "[(1, 'not prime'),\n",
       " (2, 'prime'),\n",
       " (3, 'prime'),\n",
       " (4, 'not prime'),\n",
       " (5, 'prime'),\n",
       " (6, 'not prime'),\n",
       " (7, 'prime'),\n",
       " (8, 'not prime'),\n",
       " (9, 'not prime'),\n",
       " (10, 'not prime')]"
      ]
     },
     "metadata": {},
     "execution_count": 24
    }
   ],
   "metadata": {}
  },
  {
   "cell_type": "markdown",
   "source": [
    "### 10. Escribir un programa que reciba una lista de palabras separadas por coma y devuelva la lista eliminando de la misma aquellos elementos que contengan 2 o más letras 'a'."
   ],
   "metadata": {}
  },
  {
   "cell_type": "code",
   "execution_count": 25,
   "source": [
    "def del_more_than_2_a(words):\r\n",
    "    word_list = words.split(\",\")\r\n",
    "    return list(filter(lambda word: (word.count(\"a\") < 2), word_list))"
   ],
   "outputs": [],
   "metadata": {}
  },
  {
   "cell_type": "code",
   "execution_count": 26,
   "source": [
    "words = \"hello,my,name,is,yanay\"\r\n",
    "del_more_than_2_a(words)"
   ],
   "outputs": [
    {
     "output_type": "execute_result",
     "data": {
      "text/plain": [
       "['hello', 'my', 'name', 'is']"
      ]
     },
     "metadata": {},
     "execution_count": 26
    }
   ],
   "metadata": {}
  },
  {
   "cell_type": "markdown",
   "source": [
    "### 11. Simplifica el mismo programa anterior con una compresión de listas."
   ],
   "metadata": {}
  },
  {
   "cell_type": "code",
   "execution_count": 27,
   "source": [
    "def del_more_than_2_a(words):\r\n",
    "    word_list = words.split(\",\")\r\n",
    "    return [word for word in word_list if word.count(\"a\")<2]"
   ],
   "outputs": [],
   "metadata": {}
  },
  {
   "cell_type": "code",
   "execution_count": 28,
   "source": [
    "words = \"hello,my,name,is,yanay\"\r\n",
    "del_more_than_2_a(words)"
   ],
   "outputs": [
    {
     "output_type": "execute_result",
     "data": {
      "text/plain": [
       "['hello', 'my', 'name', 'is']"
      ]
     },
     "metadata": {},
     "execution_count": 28
    }
   ],
   "metadata": {}
  },
  {
   "cell_type": "markdown",
   "source": [
    "### 12. Escribe (y utiliza) una función que calcule el área de un círculo recibiendo como parámetro (opcional de valor por defecto 1) su radio. El módulo math de Python contiene una constante para PI."
   ],
   "metadata": {}
  },
  {
   "cell_type": "code",
   "execution_count": 29,
   "source": [
    "import math\r\n",
    "\r\n",
    "def circle_area(radio=1):\r\n",
    "    return math.pi * radio**2"
   ],
   "outputs": [],
   "metadata": {}
  },
  {
   "cell_type": "code",
   "execution_count": 30,
   "source": [
    "print(circle_area())\r\n",
    "print(circle_area(4))"
   ],
   "outputs": [
    {
     "output_type": "stream",
     "name": "stdout",
     "text": [
      "3.141592653589793\n",
      "50.26548245743669\n"
     ]
    }
   ],
   "metadata": {}
  },
  {
   "cell_type": "markdown",
   "source": [
    "### 13. Escribe una función que devuelva una lista con n (recibido como parámetro obligatorio) números aleatorios entre 0 y 1 generados con una distribución uniforme. El módulo random de Python contiene una función uniform."
   ],
   "metadata": {}
  },
  {
   "cell_type": "code",
   "execution_count": 31,
   "source": [
    "import random\r\n",
    "\r\n",
    "def random_list(n):\r\n",
    "    return [random.uniform(0,1) for num in range(0,n)]"
   ],
   "outputs": [],
   "metadata": {}
  },
  {
   "cell_type": "code",
   "execution_count": 32,
   "source": [
    "random_list(10)"
   ],
   "outputs": [
    {
     "output_type": "execute_result",
     "data": {
      "text/plain": [
       "[0.055313761979181364,\n",
       " 0.725413787636384,\n",
       " 0.5754569617297328,\n",
       " 0.9342145824424055,\n",
       " 0.07481049689206543,\n",
       " 0.9850874344695426,\n",
       " 0.689740945540064,\n",
       " 0.5248442334072844,\n",
       " 0.4161718276221267,\n",
       " 0.6283045983343079]"
      ]
     },
     "metadata": {},
     "execution_count": 32
    }
   ],
   "metadata": {}
  },
  {
   "cell_type": "markdown",
   "source": [
    "### 14. Escribe una función que reciba un nombre de fichero, lo abra y devuelva un diccionario con las palabras (asume que están separadas siempre por espacios) y frecuencias encontradas dentro del mismo. Se deberá controlar la posibilidad de que el fichero indicado no exista."
   ],
   "metadata": {}
  },
  {
   "cell_type": "code",
   "execution_count": 33,
   "source": [
    "import os.path\r\n",
    "\r\n",
    "def manage_file(file_name):\r\n",
    "\r\n",
    "    if not os.path.isfile(file_name):\r\n",
    "        return {}\r\n",
    "\r\n",
    "    with open(file_name, \"r\") as file:\r\n",
    "        content = file.read()\r\n",
    "        content_list = content.split(\" \")\r\n",
    "        return {word: content_list.count(word) for word in content_list}\r\n"
   ],
   "outputs": [],
   "metadata": {}
  },
  {
   "cell_type": "code",
   "execution_count": 34,
   "source": [
    "if manage_file(\"fichero_que_no_existe.txt\") == {}:\r\n",
    "    print(\"file does not exists\")"
   ],
   "outputs": [
    {
     "output_type": "stream",
     "name": "stdout",
     "text": [
      "file does not exists\n"
     ]
    }
   ],
   "metadata": {}
  },
  {
   "cell_type": "code",
   "execution_count": 35,
   "source": [
    "manage_file(\"ejercicio.txt\")"
   ],
   "outputs": [
    {
     "output_type": "execute_result",
     "data": {
      "text/plain": [
       "{'Python': 1,\n",
       " 'is': 1,\n",
       " 'an': 1,\n",
       " 'interpreted': 1,\n",
       " 'high-level': 1,\n",
       " 'general-purpose': 1,\n",
       " 'programming': 1,\n",
       " 'language.': 1,\n",
       " \"Python's\": 1,\n",
       " 'design': 1,\n",
       " 'philosophy': 1,\n",
       " 'emphasizes': 1,\n",
       " 'code': 2,\n",
       " 'readability': 1,\n",
       " 'with': 1,\n",
       " 'its': 2,\n",
       " 'notable': 1,\n",
       " 'use': 1,\n",
       " 'of': 1,\n",
       " 'significant': 1,\n",
       " 'indentation.': 1,\n",
       " 'Its': 1,\n",
       " 'language': 1,\n",
       " 'constructs': 1,\n",
       " 'as': 2,\n",
       " 'well': 1,\n",
       " 'object-oriented': 1,\n",
       " 'approach': 1,\n",
       " 'aim': 1,\n",
       " 'to': 1,\n",
       " 'help': 1,\n",
       " 'programmers': 1,\n",
       " 'write': 1,\n",
       " 'clear,': 1,\n",
       " 'logical': 1,\n",
       " 'for': 1,\n",
       " 'small': 1,\n",
       " 'and': 1,\n",
       " 'large-scale': 1,\n",
       " 'projects.': 1}"
      ]
     },
     "metadata": {},
     "execution_count": 35
    }
   ],
   "metadata": {}
  },
  {
   "cell_type": "markdown",
   "source": [
    "### 15. Escribe una función que reciba dos nombres de ficheros, el primero se utilizará para generar el diccionario del ejercicio anterior, el segundo para almacenar dicho diccionario en formato .tsv (tabulador = \\t; salto de linea = \\n)"
   ],
   "metadata": {}
  },
  {
   "cell_type": "code",
   "execution_count": 36,
   "source": [
    "import os.path\r\n",
    "import csv\r\n",
    "\r\n",
    "def create_tsv(file_name_in, file_name_out):\r\n",
    "    \r\n",
    "    dict_in = manage_file(file_name_in)\r\n",
    "    if dict_in == {}:\r\n",
    "        return \"File_in does not exists\"\r\n",
    "    \r\n",
    "    with open(file_name_out, \"w\", newline='\\n') as file_out:\r\n",
    "        tsv_writer = csv.writer(file_out, delimiter='\\t')\r\n",
    "        tsv_writer.writerow(['name', 'count'])\r\n",
    "        [tsv_writer.writerow([key , value]) for key, value in dict_in.items()]\r\n",
    "        return \"done\""
   ],
   "outputs": [],
   "metadata": {}
  },
  {
   "cell_type": "code",
   "execution_count": 37,
   "source": [
    "create_tsv(\"este_fichero_no_existe.txt\", \"ejercicio_out.tsv\")"
   ],
   "outputs": [
    {
     "output_type": "execute_result",
     "data": {
      "text/plain": [
       "'File_in does not exists'"
      ]
     },
     "metadata": {},
     "execution_count": 37
    }
   ],
   "metadata": {}
  },
  {
   "cell_type": "code",
   "execution_count": 38,
   "source": [
    "create_tsv(\"ejercicio.txt\", \"ejercicio_out.tsv\")"
   ],
   "outputs": [
    {
     "output_type": "execute_result",
     "data": {
      "text/plain": [
       "'done'"
      ]
     },
     "metadata": {},
     "execution_count": 38
    }
   ],
   "metadata": {}
  }
 ],
 "metadata": {
  "kernelspec": {
   "display_name": "Python 3",
   "language": "python",
   "name": "python3"
  },
  "language_info": {
   "codemirror_mode": {
    "name": "ipython",
    "version": 3
   },
   "file_extension": ".py",
   "mimetype": "text/x-python",
   "name": "python",
   "nbconvert_exporter": "python",
   "pygments_lexer": "ipython3",
   "version": "3.8.8"
  }
 },
 "nbformat": 4,
 "nbformat_minor": 5
}