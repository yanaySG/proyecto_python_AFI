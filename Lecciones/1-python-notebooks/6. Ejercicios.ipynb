{
 "cells": [
  {
   "cell_type": "markdown",
   "id": "74ae99c0",
   "metadata": {},
   "source": [
    "# Introducción a Python - Ejercicios"
   ]
  },
  {
   "cell_type": "markdown",
   "id": "6f9229b2",
   "metadata": {},
   "source": [
    "### 1. Escribir un programa que solicite al usuario una lista de números separados por coma, construya una lista y una tupla a partir de la lista recibida y las muestre por pantalla"
   ]
  },
  {
   "cell_type": "markdown",
   "id": "8d3af4e5",
   "metadata": {},
   "source": [
    "Creando una función para realizar el ejercicio. Se agrega un warning que llama la atención si los parámetros no son numéricos."
   ]
  },
  {
   "cell_type": "code",
   "execution_count": 50,
   "id": "108eb319",
   "metadata": {},
   "outputs": [],
   "source": [
    "def build_tuple_list(*numbers):\n",
    "    if all(isinstance(x, (int, float)) for x in numbers) == False:\n",
    "        print(\"Warning: Not all variables are numbers\")\n",
    "    return (list(numbers), tuple(numbers))"
   ]
  },
  {
   "cell_type": "markdown",
   "id": "7b03e548",
   "metadata": {},
   "source": [
    "Utilizando la función. Entrada de parámetros correctos."
   ]
  },
  {
   "cell_type": "code",
   "execution_count": 66,
   "id": "3b12e558",
   "metadata": {},
   "outputs": [
    {
     "name": "stdout",
     "output_type": "stream",
     "text": [
      "[1, 2, 3, 4] <class 'list'>\n",
      "(1, 2, 3, 4) <class 'tuple'>\n"
     ]
    }
   ],
   "source": [
    "list_nums, tuple_nums = build_tuple_list(1, 2, 3, 4)\n",
    "\n",
    "print(list_nums, type(list_args))\n",
    "print(tuple_nums, type(tuple_args))"
   ]
  },
  {
   "cell_type": "markdown",
   "id": "ed617656",
   "metadata": {},
   "source": [
    "Utilizando la función. Entrada de parámetros incorrectos."
   ]
  },
  {
   "cell_type": "code",
   "execution_count": 70,
   "id": "2a1625f8",
   "metadata": {},
   "outputs": [
    {
     "name": "stdout",
     "output_type": "stream",
     "text": [
      "Not all variables are numbers\n",
      "[1, 2, 'f', 3, 4, 'S'] <class 'list'>\n",
      "(1, 2, 'f', 3, 4, 'S') <class 'tuple'>\n"
     ]
    }
   ],
   "source": [
    "list_nums, tuple_nums = build_tuple_list(1, 2, \"f\", 3, 4, \"S\")\n",
    "\n",
    "print(list_nums, type(list_args))\n",
    "print(tuple_nums, type(tuple_args))"
   ]
  },
  {
   "cell_type": "markdown",
   "id": "25e88a63",
   "metadata": {},
   "source": [
    "Entrada de parámetros por teclado."
   ]
  },
  {
   "cell_type": "code",
   "execution_count": 65,
   "id": "eeb74012",
   "metadata": {},
   "outputs": [
    {
     "name": "stdout",
     "output_type": "stream",
     "text": [
      "--> 1,e,8,2,10\n",
      "invalid literal for int() with base 10: 'e' Caracter no numérico\n",
      "Not all variables are numbers\n",
      "[[1, 'e', 8, 2, 10]] <class 'list'>\n",
      "([1, 'e', 8, 2, 10],) <class 'tuple'>\n"
     ]
    }
   ],
   "source": [
    "entrada = input(\"--> \")\n",
    "numbers = entrada.split(\",\")\n",
    "\n",
    "for i in range(0, len(numbers)):\n",
    "    try:\n",
    "        numbers[i] = int(numbers[i])\n",
    "    except Exception as e:\n",
    "        print(e, \"Caracter no numérico\")\n",
    "    continue\n",
    "\n",
    "list_nums, tuple_nums = build_tuple_list(numbers)\n",
    "print(list_nums, type(list_args))\n",
    "print(tuple_nums, type(tuple_args))"
   ]
  },
  {
   "cell_type": "markdown",
   "id": "6794bc70",
   "metadata": {},
   "source": [
    "### 2. Escribir un programa que solicite al usuario un número n y devuelva el resultado de n + nn + nnn. (Ejemplo: n = 5 daría como resultado 615, 5 + 55 + 555)"
   ]
  },
  {
   "cell_type": "code",
   "execution_count": 14,
   "id": "c8f429a1",
   "metadata": {},
   "outputs": [],
   "source": [
    "def sum_n(n):\n",
    "    try:\n",
    "        n = int(n)\n",
    "        return(n + int(str(n)*2) + int(str(n)*3))\n",
    "    except Exception as e:\n",
    "        return(\"Error:\" ,e)"
   ]
  },
  {
   "cell_type": "code",
   "execution_count": 15,
   "id": "bf1902b8",
   "metadata": {},
   "outputs": [
    {
     "name": "stdout",
     "output_type": "stream",
     "text": [
      "615\n",
      "123\n",
      "('Error:', ValueError(\"invalid literal for int() with base 10: 'abc'\"))\n"
     ]
    }
   ],
   "source": [
    "print(sum_n(\"5\"))\n",
    "print(sum_n(1))\n",
    "print(sum_n(\"abc\"))"
   ]
  },
  {
   "cell_type": "markdown",
   "id": "c19aaac8",
   "metadata": {},
   "source": [
    "### 3. Escribir un programa que solicite al usuario un listado de nombres separados por punto y coma, construya una lista e imprima por pantalla los elementos pares de la lista"
   ]
  },
  {
   "cell_type": "code",
   "execution_count": 178,
   "id": "928f7ca0",
   "metadata": {},
   "outputs": [],
   "source": [
    "def even(names):\n",
    "    names_list = list(names.split(\";\"))\n",
    "    names_even_indices = [name for index, name in enumerate(names_list) if index % 2 == 0 ]\n",
    "    return(names_even_indices)"
   ]
  },
  {
   "cell_type": "code",
   "execution_count": 181,
   "id": "9a220ffc",
   "metadata": {},
   "outputs": [
    {
     "name": "stdout",
     "output_type": "stream",
     "text": [
      "['juan', ' pepe']\n"
     ]
    }
   ],
   "source": [
    "ejemplo=even(\"juan; pedro; pepe; ramon\")\n",
    "print(ejemplo)"
   ]
  },
  {
   "cell_type": "markdown",
   "id": "14a2a2a5",
   "metadata": {},
   "source": [
    "### 4. Escribir un programa que solicite al usuario dos cadenas de texto y detecte si la segunda está contenida en la primera."
   ]
  },
  {
   "cell_type": "code",
   "execution_count": 183,
   "id": "0b5481b9",
   "metadata": {},
   "outputs": [],
   "source": [
    "def contains(str_1, str_2):\n",
    "    return(str_2 in str_1)"
   ]
  },
  {
   "cell_type": "code",
   "execution_count": 187,
   "id": "fcb7f06a",
   "metadata": {},
   "outputs": [
    {
     "name": "stdout",
     "output_type": "stream",
     "text": [
      "True\n",
      "False\n"
     ]
    }
   ],
   "source": [
    "t = contains(\"esto es una prueba\", \"es una\")\n",
    "f = contains(\"esto es una prueba\", \"esuna\")\n",
    "\n",
    "print(t)\n",
    "print(f)"
   ]
  },
  {
   "cell_type": "markdown",
   "id": "b7b707ea",
   "metadata": {},
   "source": [
    "### 5. Escribir un programa que solicite al usuario una lista de nombres separados por coma, una posición y devuelva la lista de nombres sustituyendo el que aparece en la posición indicada por \"Miguel\""
   ]
  },
  {
   "cell_type": "code",
   "execution_count": 30,
   "id": "0dd2d1cf",
   "metadata": {},
   "outputs": [],
   "source": [
    "def change_names(names, pos=0):\n",
    "    try:\n",
    "        index_Miguel = names.index(\"Miguel\")\n",
    "        names[index_Miguel] = names[pos]\n",
    "        names[pos] = \"Miguel\"\n",
    "        return(names)\n",
    "    except Exception as e:\n",
    "        return(\"Error:\" ,e)    "
   ]
  },
  {
   "cell_type": "code",
   "execution_count": 32,
   "id": "97ccdb92",
   "metadata": {},
   "outputs": [
    {
     "name": "stdout",
     "output_type": "stream",
     "text": [
      "['Miguel', 'Alina']\n",
      "['Juana', 'Pedro', 'María', 'Miguel']\n",
      "('Error:', IndexError('list index out of range'))\n",
      "('Error:', ValueError(\"'Miguel' is not in list\"))\n"
     ]
    }
   ],
   "source": [
    "print(change_names([\"Alina\", \"Miguel\"]))                                 # ex.1 using pos by default\n",
    "print(change_names([\"Juana\", \"Pedro\", \"Miguel\", \"María\"], pos=3))        # ex.2  \n",
    "print(change_names([\"Miguel\", \"Alex\", \"Rosa\"], pos=3))                   # ex.3 pos out of range\n",
    "print(change_names([\"Alia\", \"Marinette\",  \"Francois\", \"Helen\"], pos=1))  # ex.4 Miguel does not exists"
   ]
  },
  {
   "cell_type": "markdown",
   "id": "3d882c01",
   "metadata": {},
   "source": [
    "### 6. Escribir un programa que reciba del usuario un número y detecte si este es capicúa."
   ]
  },
  {
   "cell_type": "code",
   "execution_count": 70,
   "id": "245b2e19",
   "metadata": {},
   "outputs": [],
   "source": [
    "def capicua(number):\n",
    "    number_list = list(str(number))\n",
    "    number_reverse = number_list.copy()\n",
    "    number_reverse.reverse()\n",
    "    return(number_list==number_reverse, number_list,number_reverse)    "
   ]
  },
  {
   "cell_type": "code",
   "execution_count": 72,
   "id": "c4c3f7b5",
   "metadata": {},
   "outputs": [
    {
     "name": "stdout",
     "output_type": "stream",
     "text": [
      "(False, ['1', '2', '3'], ['3', '2', '1'])\n",
      "(True, ['1', '2', '3', '2', '1'], ['1', '2', '3', '2', '1'])\n"
     ]
    }
   ],
   "source": [
    "print(capicua(123))\n",
    "print(capicua(12321))"
   ]
  },
  {
   "cell_type": "markdown",
   "id": "2045e768",
   "metadata": {},
   "source": [
    "### 7. Escribir un programa que reciba dos números del usuario y devuelva \"Divisible\" si el primero es divisible por el segundo o \"No divisible\" en caso contrario."
   ]
  },
  {
   "cell_type": "code",
   "execution_count": 120,
   "id": "8c33c293",
   "metadata": {},
   "outputs": [],
   "source": [
    "def es_divisible(dividendo, divisor):  \n",
    "    try:\n",
    "        return \"Divisible\" if int(dividendo) % int(divisor) == 0 else \"No divisible\"\n",
    "    except Exception as e:\n",
    "        return \"Error\", e"
   ]
  },
  {
   "cell_type": "code",
   "execution_count": 122,
   "id": "e3b0390a",
   "metadata": {},
   "outputs": [
    {
     "name": "stdout",
     "output_type": "stream",
     "text": [
      "Divisible\n",
      "No divisible\n",
      "Divisible\n",
      "('Error', ValueError(\"invalid literal for int() with base 10: 'hola'\"))\n",
      "('Error', ZeroDivisionError('integer division or modulo by zero'))\n"
     ]
    }
   ],
   "source": [
    "print(es_divisible(14,7))\n",
    "print(es_divisible(12,5))\n",
    "print(es_divisible(\"15\",5))\n",
    "print(es_divisible(\"hola\",5))\n",
    "print(es_divisible(0,0))"
   ]
  },
  {
   "cell_type": "markdown",
   "id": "553b887d",
   "metadata": {},
   "source": [
    "### 8. Escribir un programa que reciba una lista de palabras separadas por coma y devuelva un diccionario en el que las claves sean las palabras introducidas y el valor el número de veces que se repite cada una de ellas en la lista. Emplea bucles tradicionales."
   ]
  },
  {
   "cell_type": "code",
   "execution_count": 147,
   "id": "9e1220a6",
   "metadata": {},
   "outputs": [],
   "source": [
    "def to_dictionary(words_list):\n",
    "    words_dict = {}\n",
    "    for element in words_list:\n",
    "        words_dict[element] = words_list.count(element)\n",
    "    return words_dict\n",
    "\n",
    "def to_dictionary_inline(words_list):\n",
    "    words_dict = {element:words_list.count(element) for element in words_list}\n",
    "    return words_dict"
   ]
  },
  {
   "cell_type": "code",
   "execution_count": 148,
   "id": "11519878",
   "metadata": {},
   "outputs": [
    {
     "name": "stdout",
     "output_type": "stream",
     "text": [
      "{'pera': 3, 'manzana': 3, 'piña': 1, 'uva': 1}\n",
      "{'pera': 3, 'manzana': 3, 'piña': 1, 'uva': 1}\n"
     ]
    }
   ],
   "source": [
    "w = [\"pera\", \"manzana\", \"manzana\", \"piña\", \"manzana\",\"pera\", \"pera\", \"uva\"]\n",
    "\n",
    "print(to_dictionary(w))\n",
    "print(to_dictionary_inline(w))"
   ]
  },
  {
   "cell_type": "markdown",
   "id": "26469fc1",
   "metadata": {},
   "source": [
    "### 9. Escribir un programa que reciba un número que se utilizará como límite superior (incluido) de una secuencia numérica. El programa devolverá una lista de tuplas en las que cada tupla i-ésima contendra dos elementos: el elemento i-ésimo de la secuencia y un flag que indique si el número es o no primo."
   ]
  },
  {
   "cell_type": "code",
   "execution_count": 266,
   "id": "e4cfcd56",
   "metadata": {},
   "outputs": [],
   "source": [
    "def is_prime(num):\n",
    "    if num > 1:\n",
    "        for i in range(2, num):\n",
    "            if num % i == 0:\n",
    "                return \"not prime\"\n",
    "        else:                     \n",
    "            return \"prime\"\n",
    "    else:\n",
    "        return \"not prime\"\n",
    "\n",
    "def build_tuples_list(upper_threshold):\n",
    "    sequence = range(1,upper_threshold+1)\n",
    "    result = [(element, is_prime(element)) for element in sequence]\n",
    "    return result\n"
   ]
  },
  {
   "cell_type": "code",
   "execution_count": 267,
   "id": "a757c926",
   "metadata": {},
   "outputs": [
    {
     "data": {
      "text/plain": [
       "[(1, 'not prime'),\n",
       " (2, 'prime'),\n",
       " (3, 'prime'),\n",
       " (4, 'not prime'),\n",
       " (5, 'prime'),\n",
       " (6, 'not prime'),\n",
       " (7, 'prime'),\n",
       " (8, 'not prime'),\n",
       " (9, 'not prime'),\n",
       " (10, 'not prime')]"
      ]
     },
     "execution_count": 267,
     "metadata": {},
     "output_type": "execute_result"
    }
   ],
   "source": [
    "build_tuples_list(10)"
   ]
  },
  {
   "cell_type": "markdown",
   "id": "08a4cc46",
   "metadata": {},
   "source": [
    "### 10. Escribir un programa que reciba una lista de palabras separadas por coma y devuelva la lista eliminando de la misma aquellos elementos que contengan 2 o más letras 'a'."
   ]
  },
  {
   "cell_type": "code",
   "execution_count": 289,
   "id": "7ce014d1",
   "metadata": {},
   "outputs": [],
   "source": [
    "def del_more_than_2_a(words):\n",
    "    word_list = words.split(\",\")\n",
    "    return list(filter(lambda word: (word.count(\"a\") < 2), word_list))"
   ]
  },
  {
   "cell_type": "code",
   "execution_count": 290,
   "id": "bb2be7ca",
   "metadata": {},
   "outputs": [
    {
     "data": {
      "text/plain": [
       "['hello', 'my', 'name', 'is']"
      ]
     },
     "execution_count": 290,
     "metadata": {},
     "output_type": "execute_result"
    }
   ],
   "source": [
    "words = \"hello,my,name,is,yanay\"\n",
    "del_more_than_2_a(words)"
   ]
  },
  {
   "cell_type": "markdown",
   "id": "4c31ed63",
   "metadata": {},
   "source": [
    "### 11. Simplifica el mismo programa anterior con una compresión de listas."
   ]
  },
  {
   "cell_type": "code",
   "execution_count": 291,
   "id": "60790c42",
   "metadata": {},
   "outputs": [],
   "source": [
    "def del_more_than_2_a(words):\n",
    "    word_list = words.split(\",\")\n",
    "    return [word for word in word_list if word.count(\"a\")<2]"
   ]
  },
  {
   "cell_type": "code",
   "execution_count": 292,
   "id": "99eb0e6f",
   "metadata": {},
   "outputs": [
    {
     "data": {
      "text/plain": [
       "['hello', 'my', 'name', 'is']"
      ]
     },
     "execution_count": 292,
     "metadata": {},
     "output_type": "execute_result"
    }
   ],
   "source": [
    "words = \"hello,my,name,is,yanay\"\n",
    "del_more_than_2_a(words)"
   ]
  },
  {
   "cell_type": "markdown",
   "id": "bed9909e",
   "metadata": {},
   "source": [
    "### 12. Escribe (y utiliza) una función que calcule el área de un círculo recibiendo como parámetro (opcional de valor por defecto 1) su radio. El módulo math de Python contiene una constante para PI."
   ]
  },
  {
   "cell_type": "code",
   "execution_count": null,
   "id": "7d27819a",
   "metadata": {},
   "outputs": [],
   "source": []
  },
  {
   "cell_type": "markdown",
   "id": "40c90002",
   "metadata": {},
   "source": [
    "### 13. Escribe una función que devuelva una lista con n (recibido como parámetro obligatorio) números aleatorios entre 0 y 1 generados con una distribución uniforme. El módulo random de Python contiene una función uniform."
   ]
  },
  {
   "cell_type": "code",
   "execution_count": null,
   "id": "ddae1efe",
   "metadata": {},
   "outputs": [],
   "source": []
  },
  {
   "cell_type": "markdown",
   "id": "34dfdec5",
   "metadata": {},
   "source": [
    "### 14. Escribe una función que reciba un nombre de fichero, lo abra y devuelva un diccionario con las palabras (asume que están separadas siempre por espacios) y frecuencias encontradas dentro del mismo. Se deberá controlar la posibilidad de que el fichero indicado no exista."
   ]
  },
  {
   "cell_type": "code",
   "execution_count": null,
   "id": "21471907",
   "metadata": {},
   "outputs": [],
   "source": []
  },
  {
   "cell_type": "markdown",
   "id": "193cf2c7",
   "metadata": {},
   "source": [
    "### 15. Escribe una función que reciba dos nombres de ficheros, el primero se utilizará para generar el diccionario del ejercicio anterior, el segundo para almacenar dicho diccionario en formato .tsv (tabulador = \\t; salto de linea = \\n)"
   ]
  }
 ],
 "metadata": {
  "kernelspec": {
   "display_name": "Python 3",
   "language": "python",
   "name": "python3"
  },
  "language_info": {
   "codemirror_mode": {
    "name": "ipython",
    "version": 3
   },
   "file_extension": ".py",
   "mimetype": "text/x-python",
   "name": "python",
   "nbconvert_exporter": "python",
   "pygments_lexer": "ipython3",
   "version": "3.8.8"
  }
 },
 "nbformat": 4,
 "nbformat_minor": 5
}
