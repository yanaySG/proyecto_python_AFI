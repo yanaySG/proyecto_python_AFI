{
 "cells": [
  {
   "cell_type": "markdown",
   "id": "74ae99c0",
   "metadata": {},
   "source": [
    "# Introducción a Python - Ejercicios"
   ]
  },
  {
   "cell_type": "markdown",
   "id": "6f9229b2",
   "metadata": {},
   "source": [
    "### 1. Escribir un programa que solicite al usuario una lista de números separados por coma, construya una lista y una tupla a partir de la lista recibida y las muestre por pantalla"
   ]
  },
  {
   "cell_type": "markdown",
   "id": "8d3af4e5",
   "metadata": {},
   "source": [
    "Creando una función para realizar el ejercicio. Se agrega un warning que llama la atención si los parámetros no son numéricos."
   ]
  },
  {
   "cell_type": "code",
   "execution_count": 1,
   "id": "108eb319",
   "metadata": {},
   "outputs": [],
   "source": [
    "def build_tuple_list(*numbers):\n",
    "\n",
    "    if all(isinstance(x, (int, float)) for x in numbers) == False:\n",
    "        print(\"Warning: Not all variables are numbers\")\n",
    "    \n",
    "    return (list(numbers), tuple(numbers))"
   ]
  },
  {
   "cell_type": "markdown",
   "id": "7b03e548",
   "metadata": {},
   "source": [
    "Utilizando la función. Entrada de parámetros correctos."
   ]
  },
  {
   "cell_type": "code",
   "execution_count": 2,
   "id": "3b12e558",
   "metadata": {},
   "outputs": [
    {
     "name": "stdout",
     "output_type": "stream",
     "text": [
      "[1, 2, 3, 4] <class 'list'>\n",
      "(1, 2, 3, 4) <class 'list'>\n"
     ]
    }
   ],
   "source": [
    "list_nums, tuple_nums = build_tuple_list(1, 2, 3, 4)\n",
    "\n",
    "print(list_nums, type(list_nums))\n",
    "print(tuple_nums, type(list_nums))"
   ]
  },
  {
   "cell_type": "markdown",
   "id": "ed617656",
   "metadata": {},
   "source": [
    "Utilizando la función. Entrada de parámetros incorrectos."
   ]
  },
  {
   "cell_type": "code",
   "execution_count": 3,
   "id": "2a1625f8",
   "metadata": {},
   "outputs": [
    {
     "name": "stdout",
     "output_type": "stream",
     "text": [
      "Warning: Not all variables are numbers\n",
      "[1, 2, 'f', 3, 4, 'S'] <class 'list'>\n",
      "(1, 2, 'f', 3, 4, 'S') <class 'list'>\n"
     ]
    }
   ],
   "source": [
    "list_nums, tuple_nums = build_tuple_list(1, 2, \"f\", 3, 4, \"S\")\n",
    "\n",
    "print(list_nums, type(list_nums))\n",
    "print(tuple_nums, type(list_nums))"
   ]
  },
  {
   "cell_type": "markdown",
   "id": "25e88a63",
   "metadata": {},
   "source": [
    "Entrada de parámetros por teclado."
   ]
  },
  {
   "cell_type": "code",
   "execution_count": 4,
   "id": "eeb74012",
   "metadata": {},
   "outputs": [
    {
     "name": "stdout",
     "output_type": "stream",
     "text": [
      "--> 1,2,3,'a','c',4,5\n",
      "Warning: Not all variables are numbers\n",
      "[1, 2, 3, \"'a'\", \"'c'\", 4, 5] <class 'list'>\n",
      "(1, 2, 3, \"'a'\", \"'c'\", 4, 5) <class 'tuple'>\n"
     ]
    }
   ],
   "source": [
    "entrada = input(\"--> \")\n",
    "numbers = entrada.split(\",\")\n",
    "\n",
    "for i in range(0, len(numbers)):\n",
    "    try:\n",
    "        numbers[i] = int(numbers[i])\n",
    "    except Exception as e:\n",
    "        None\n",
    "    continue\n",
    "    \n",
    "list_nums, tuple_nums = build_tuple_list(*numbers)\n",
    "print(list_nums, type(list_nums))\n",
    "print(tuple_nums, type(tuple_nums))"
   ]
  },
  {
   "cell_type": "markdown",
   "id": "6794bc70",
   "metadata": {},
   "source": [
    "### 2. Escribir un programa que solicite al usuario un número n y devuelva el resultado de n + nn + nnn. (Ejemplo: n = 5 daría como resultado 615, 5 + 55 + 555)"
   ]
  },
  {
   "cell_type": "code",
   "execution_count": 9,
   "id": "c8f429a1",
   "metadata": {},
   "outputs": [],
   "source": [
    "def sum_n(n):\n",
    "    try:\n",
    "        n = int(n)\n",
    "        return(n + int(str(n)*2) + int(str(n)*3))\n",
    "    except Exception as e:\n",
    "        return(\"Error:\" ,e)"
   ]
  },
  {
   "cell_type": "code",
   "execution_count": 10,
   "id": "bf1902b8",
   "metadata": {},
   "outputs": [
    {
     "name": "stdout",
     "output_type": "stream",
     "text": [
      "615\n",
      "123\n",
      "('Error:', ValueError(\"invalid literal for int() with base 10: 'abc'\"))\n"
     ]
    }
   ],
   "source": [
    "print(sum_n(\"5\"))\n",
    "print(sum_n(1))\n",
    "print(sum_n(\"abc\"))"
   ]
  },
  {
   "cell_type": "markdown",
   "id": "c19aaac8",
   "metadata": {},
   "source": [
    "### 3. Escribir un programa que solicite al usuario un listado de nombres separados por punto y coma, construya una lista e imprima por pantalla los elementos pares de la lista"
   ]
  },
  {
   "cell_type": "code",
   "execution_count": 11,
   "id": "928f7ca0",
   "metadata": {},
   "outputs": [],
   "source": [
    "def even(names):\n",
    "    names_list = list(names.split(\";\"))\n",
    "    names_even_indices = [name for index, name in enumerate(names_list) if index % 2 == 0 ]\n",
    "    return(names_even_indices)"
   ]
  },
  {
   "cell_type": "code",
   "execution_count": 12,
   "id": "9a220ffc",
   "metadata": {},
   "outputs": [
    {
     "name": "stdout",
     "output_type": "stream",
     "text": [
      "['juan', ' pepe']\n"
     ]
    }
   ],
   "source": [
    "ejemplo=even(\"juan; pedro; pepe; ramon\")\n",
    "print(ejemplo)"
   ]
  },
  {
   "cell_type": "markdown",
   "id": "14a2a2a5",
   "metadata": {},
   "source": [
    "### 4. Escribir un programa que solicite al usuario dos cadenas de texto y detecte si la segunda está contenida en la primera."
   ]
  },
  {
   "cell_type": "code",
   "execution_count": 13,
   "id": "0b5481b9",
   "metadata": {},
   "outputs": [],
   "source": [
    "def contains(str_1, str_2):\n",
    "    return(str_2 in str_1)"
   ]
  },
  {
   "cell_type": "code",
   "execution_count": 14,
   "id": "fcb7f06a",
   "metadata": {},
   "outputs": [
    {
     "name": "stdout",
     "output_type": "stream",
     "text": [
      "True\n",
      "False\n"
     ]
    }
   ],
   "source": [
    "t = contains(\"esto es una prueba\", \"es una\")\n",
    "f = contains(\"esto es una prueba\", \"esuna\")\n",
    "\n",
    "print(t)\n",
    "print(f)"
   ]
  },
  {
   "cell_type": "markdown",
   "id": "b7b707ea",
   "metadata": {},
   "source": [
    "### 5. Escribir un programa que solicite al usuario una lista de nombres separados por coma, una posición y devuelva la lista de nombres sustituyendo el que aparece en la posición indicada por \"Miguel\""
   ]
  },
  {
   "cell_type": "code",
   "execution_count": 15,
   "id": "0dd2d1cf",
   "metadata": {},
   "outputs": [],
   "source": [
    "def change_names(names, pos=0):\n",
    "    try:\n",
    "        index_Miguel = names.index(\"Miguel\")\n",
    "        names[index_Miguel] = names[pos]\n",
    "        names[pos] = \"Miguel\"\n",
    "        return(names)\n",
    "    except Exception as e:\n",
    "        return(\"Error:\" ,e)    "
   ]
  },
  {
   "cell_type": "code",
   "execution_count": 16,
   "id": "83dc1592",
   "metadata": {},
   "outputs": [
    {
     "name": "stdout",
     "output_type": "stream",
     "text": [
      "['Miguel', 'Alina']\n",
      "['Juana', 'Pedro', 'María', 'Miguel']\n",
      "('Error:', IndexError('list index out of range'))\n",
      "('Error:', ValueError(\"'Miguel' is not in list\"))\n"
     ]
    }
   ],
   "source": [
    "print(change_names([\"Alina\", \"Miguel\"]))                                 # ex.1 using pos by default\n",
    "print(change_names([\"Juana\", \"Pedro\", \"Miguel\", \"María\"], pos=3))        # ex.2  \n",
    "print(change_names([\"Miguel\", \"Alex\", \"Rosa\"], pos=3))                   # ex.3 pos out of range\n",
    "print(change_names([\"Alia\", \"Marinette\",  \"Francois\", \"Helen\"], pos=1))  # ex.4 Miguel does not exists"
   ]
  },
  {
   "cell_type": "markdown",
   "id": "e1662b5a",
   "metadata": {},
   "source": [
    "### 6. Escribir un programa que reciba del usuario un número y detecte si este es capicúa."
   ]
  },
  {
   "cell_type": "code",
   "execution_count": 17,
   "id": "38a07fb5",
   "metadata": {},
   "outputs": [],
   "source": [
    "def capicua(number):\n",
    "    number_list = list(str(number))\n",
    "    number_reverse = number_list.copy()\n",
    "    number_reverse.reverse()\n",
    "    return(number_list==number_reverse, number_list,number_reverse)    "
   ]
  },
  {
   "cell_type": "code",
   "execution_count": 18,
   "id": "33950e49",
   "metadata": {},
   "outputs": [
    {
     "name": "stdout",
     "output_type": "stream",
     "text": [
      "(False, ['1', '2', '3'], ['3', '2', '1'])\n",
      "(True, ['1', '2', '3', '2', '1'], ['1', '2', '3', '2', '1'])\n"
     ]
    }
   ],
   "source": [
    "print(capicua(123))\n",
    "print(capicua(12321))"
   ]
  },
  {
   "cell_type": "markdown",
   "id": "30aea128",
   "metadata": {},
   "source": [
    "### 7. Escribir un programa que reciba dos números del usuario y devuelva \"Divisible\" si el primero es divisible por el segundo o \"No divisible\" en caso contrario."
   ]
  },
  {
   "cell_type": "code",
   "execution_count": 19,
   "id": "1fa72990",
   "metadata": {},
   "outputs": [],
   "source": [
    "def es_divisible(dividendo, divisor):  \n",
    "    try:\n",
    "        return \"Divisible\" if int(dividendo) % int(divisor) == 0 else \"No divisible\"\n",
    "    except Exception as e:\n",
    "        return \"Error\", e"
   ]
  },
  {
   "cell_type": "code",
   "execution_count": 20,
   "id": "0dd17a28",
   "metadata": {},
   "outputs": [
    {
     "name": "stdout",
     "output_type": "stream",
     "text": [
      "Divisible\n",
      "No divisible\n",
      "Divisible\n",
      "('Error', ValueError(\"invalid literal for int() with base 10: 'hola'\"))\n",
      "('Error', ZeroDivisionError('integer division or modulo by zero'))\n"
     ]
    }
   ],
   "source": [
    "print(es_divisible(14,7))\n",
    "print(es_divisible(12,5))\n",
    "print(es_divisible(\"15\",5))\n",
    "print(es_divisible(\"hola\",5))\n",
    "print(es_divisible(0,0))"
   ]
  },
  {
   "cell_type": "markdown",
   "id": "88b218f8",
   "metadata": {},
   "source": [
    "### 8. Escribir un programa que reciba una lista de palabras separadas por coma y devuelva un diccionario en el que las claves sean las palabras introducidas y el valor el número de veces que se repite cada una de ellas en la lista. Emplea bucles tradicionales."
   ]
  },
  {
   "cell_type": "code",
   "execution_count": 21,
   "id": "bf7b7153",
   "metadata": {},
   "outputs": [],
   "source": [
    "def to_dictionary(words_list):\n",
    "    words_dict = {}\n",
    "    for element in words_list:\n",
    "        words_dict[element] = words_list.count(element)\n",
    "    return words_dict\n",
    "\n",
    "def to_dictionary_inline(words_list):\n",
    "    words_dict = {element:words_list.count(element) for element in words_list}\n",
    "    return words_dict"
   ]
  },
  {
   "cell_type": "code",
   "execution_count": 22,
   "id": "6d66cf87",
   "metadata": {},
   "outputs": [
    {
     "name": "stdout",
     "output_type": "stream",
     "text": [
      "{'pera': 3, 'manzana': 3, 'piña': 1, 'uva': 1}\n",
      "{'pera': 3, 'manzana': 3, 'piña': 1, 'uva': 1}\n"
     ]
    }
   ],
   "source": [
    "w = [\"pera\", \"manzana\", \"manzana\", \"piña\", \"manzana\",\"pera\", \"pera\", \"uva\"]\n",
    "\n",
    "print(to_dictionary(w))\n",
    "print(to_dictionary_inline(w))"
   ]
  },
  {
   "cell_type": "markdown",
   "id": "73a91f83",
   "metadata": {},
   "source": [
    "### 9. Escribir un programa que reciba un número que se utilizará como límite superior (incluido) de una secuencia numérica. El programa devolverá una lista de tuplas en las que cada tupla i-ésima contendra dos elementos: el elemento i-ésimo de la secuencia y un flag que indique si el número es o no primo."
   ]
  },
  {
   "cell_type": "code",
   "execution_count": 23,
   "id": "216db463",
   "metadata": {},
   "outputs": [],
   "source": [
    "def is_prime(num):\n",
    "    if num > 1:\n",
    "        for i in range(2, num):\n",
    "            if num % i == 0:\n",
    "                return \"not prime\"\n",
    "        else:                     \n",
    "            return \"prime\"\n",
    "    else:\n",
    "        return \"not prime\"\n",
    "\n",
    "def build_tuples_list(upper_threshold):\n",
    "    sequence = range(1,upper_threshold+1)\n",
    "    result = [(element, is_prime(element)) for element in sequence]\n",
    "    return result\n"
   ]
  },
  {
   "cell_type": "code",
   "execution_count": 24,
   "id": "c6d7ea8b",
   "metadata": {},
   "outputs": [
    {
     "data": {
      "text/plain": [
       "[(1, 'not prime'),\n",
       " (2, 'prime'),\n",
       " (3, 'prime'),\n",
       " (4, 'not prime'),\n",
       " (5, 'prime'),\n",
       " (6, 'not prime'),\n",
       " (7, 'prime'),\n",
       " (8, 'not prime'),\n",
       " (9, 'not prime'),\n",
       " (10, 'not prime')]"
      ]
     },
     "execution_count": 24,
     "metadata": {},
     "output_type": "execute_result"
    }
   ],
   "source": [
    "build_tuples_list(10)"
   ]
  },
  {
   "cell_type": "markdown",
   "id": "e3ae49ae",
   "metadata": {},
   "source": [
    "### 10. Escribir un programa que reciba una lista de palabras separadas por coma y devuelva la lista eliminando de la misma aquellos elementos que contengan 2 o más letras 'a'."
   ]
  },
  {
   "cell_type": "code",
   "execution_count": 25,
   "id": "36795304",
   "metadata": {},
   "outputs": [],
   "source": [
    "def del_more_than_2_a(words):\n",
    "    word_list = words.split(\",\")\n",
    "    return list(filter(lambda word: (word.count(\"a\") < 2), word_list))"
   ]
  },
  {
   "cell_type": "code",
   "execution_count": 26,
   "id": "d24fd008",
   "metadata": {},
   "outputs": [
    {
     "data": {
      "text/plain": [
       "['hello', 'my', 'name', 'is']"
      ]
     },
     "execution_count": 26,
     "metadata": {},
     "output_type": "execute_result"
    }
   ],
   "source": [
    "words = \"hello,my,name,is,yanay\"\n",
    "del_more_than_2_a(words)"
   ]
  },
  {
   "cell_type": "markdown",
   "id": "01f2e77f",
   "metadata": {},
   "source": [
    "### 11. Simplifica el mismo programa anterior con una compresión de listas."
   ]
  },
  {
   "cell_type": "code",
   "execution_count": 27,
   "id": "ec5f648f",
   "metadata": {},
   "outputs": [],
   "source": [
    "def del_more_than_2_a(words):\n",
    "    word_list = words.split(\",\")\n",
    "    return [word for word in word_list if word.count(\"a\")<2]"
   ]
  },
  {
   "cell_type": "code",
   "execution_count": 28,
   "id": "a09c83f4",
   "metadata": {},
   "outputs": [
    {
     "data": {
      "text/plain": [
       "['hello', 'my', 'name', 'is']"
      ]
     },
     "execution_count": 28,
     "metadata": {},
     "output_type": "execute_result"
    }
   ],
   "source": [
    "words = \"hello,my,name,is,yanay\"\n",
    "del_more_than_2_a(words)"
   ]
  },
  {
   "cell_type": "markdown",
   "id": "f89a5aa2",
   "metadata": {},
   "source": [
    "### 12. Escribe (y utiliza) una función que calcule el área de un círculo recibiendo como parámetro (opcional de valor por defecto 1) su radio. El módulo math de Python contiene una constante para PI."
   ]
  },
  {
   "cell_type": "code",
   "execution_count": 29,
   "id": "c0953ce2",
   "metadata": {},
   "outputs": [],
   "source": [
    "import math\n",
    "\n",
    "def circle_area(radio=1):\n",
    "    return math.pi * radio**2"
   ]
  },
  {
   "cell_type": "code",
   "execution_count": 30,
   "id": "a34f4062",
   "metadata": {},
   "outputs": [
    {
     "name": "stdout",
     "output_type": "stream",
     "text": [
      "3.141592653589793\n",
      "50.26548245743669\n"
     ]
    }
   ],
   "source": [
    "print(circle_area())\n",
    "print(circle_area(4))"
   ]
  },
  {
   "cell_type": "markdown",
   "id": "98689b99",
   "metadata": {},
   "source": [
    "### 13. Escribe una función que devuelva una lista con n (recibido como parámetro obligatorio) números aleatorios entre 0 y 1 generados con una distribución uniforme. El módulo random de Python contiene una función uniform."
   ]
  },
  {
   "cell_type": "code",
   "execution_count": 31,
   "id": "2a9e106f",
   "metadata": {},
   "outputs": [],
   "source": [
    "import random\n",
    "\n",
    "def random_list(n):\n",
    "    return [random.uniform(0,1) for num in range(0,n)]"
   ]
  },
  {
   "cell_type": "code",
   "execution_count": 32,
   "id": "9b38f298",
   "metadata": {},
   "outputs": [
    {
     "data": {
      "text/plain": [
       "[0.055313761979181364,\n",
       " 0.725413787636384,\n",
       " 0.5754569617297328,\n",
       " 0.9342145824424055,\n",
       " 0.07481049689206543,\n",
       " 0.9850874344695426,\n",
       " 0.689740945540064,\n",
       " 0.5248442334072844,\n",
       " 0.4161718276221267,\n",
       " 0.6283045983343079]"
      ]
     },
     "execution_count": 32,
     "metadata": {},
     "output_type": "execute_result"
    }
   ],
   "source": [
    "random_list(10)"
   ]
  },
  {
   "cell_type": "markdown",
   "id": "21313ef1",
   "metadata": {},
   "source": [
    "### 14. Escribe una función que reciba un nombre de fichero, lo abra y devuelva un diccionario con las palabras (asume que están separadas siempre por espacios) y frecuencias encontradas dentro del mismo. Se deberá controlar la posibilidad de que el fichero indicado no exista."
   ]
  },
  {
   "cell_type": "code",
   "execution_count": 33,
   "id": "d6c90b9c",
   "metadata": {},
   "outputs": [],
   "source": [
    "import os.path\n",
    "\n",
    "def manage_file(file_name):\n",
    "\n",
    "    if not os.path.isfile(file_name):\n",
    "        return {}\n",
    "\n",
    "    with open(file_name, \"r\") as file:\n",
    "        content = file.read()\n",
    "        content_list = content.split(\" \")\n",
    "        return {word: content_list.count(word) for word in content_list}\n"
   ]
  },
  {
   "cell_type": "code",
   "execution_count": 34,
   "id": "d769f256",
   "metadata": {},
   "outputs": [
    {
     "name": "stdout",
     "output_type": "stream",
     "text": [
      "file does not exists\n"
     ]
    }
   ],
   "source": [
    "if manage_file(\"fichero_que_no_existe.txt\") == {}:\n",
    "    print(\"file does not exists\")"
   ]
  },
  {
   "cell_type": "code",
   "execution_count": 35,
   "id": "7aa94da5",
   "metadata": {},
   "outputs": [
    {
     "data": {
      "text/plain": [
       "{'Python': 1,\n",
       " 'is': 1,\n",
       " 'an': 1,\n",
       " 'interpreted': 1,\n",
       " 'high-level': 1,\n",
       " 'general-purpose': 1,\n",
       " 'programming': 1,\n",
       " 'language.': 1,\n",
       " \"Python's\": 1,\n",
       " 'design': 1,\n",
       " 'philosophy': 1,\n",
       " 'emphasizes': 1,\n",
       " 'code': 2,\n",
       " 'readability': 1,\n",
       " 'with': 1,\n",
       " 'its': 2,\n",
       " 'notable': 1,\n",
       " 'use': 1,\n",
       " 'of': 1,\n",
       " 'significant': 1,\n",
       " 'indentation.': 1,\n",
       " 'Its': 1,\n",
       " 'language': 1,\n",
       " 'constructs': 1,\n",
       " 'as': 2,\n",
       " 'well': 1,\n",
       " 'object-oriented': 1,\n",
       " 'approach': 1,\n",
       " 'aim': 1,\n",
       " 'to': 1,\n",
       " 'help': 1,\n",
       " 'programmers': 1,\n",
       " 'write': 1,\n",
       " 'clear,': 1,\n",
       " 'logical': 1,\n",
       " 'for': 1,\n",
       " 'small': 1,\n",
       " 'and': 1,\n",
       " 'large-scale': 1,\n",
       " 'projects.': 1}"
      ]
     },
     "execution_count": 35,
     "metadata": {},
     "output_type": "execute_result"
    }
   ],
   "source": [
    "manage_file(\"ejercicio.txt\")"
   ]
  },
  {
   "cell_type": "markdown",
   "id": "4b46f988",
   "metadata": {},
   "source": [
    "### 15. Escribe una función que reciba dos nombres de ficheros, el primero se utilizará para generar el diccionario del ejercicio anterior, el segundo para almacenar dicho diccionario en formato .tsv (tabulador = \\t; salto de linea = \\n)"
   ]
  },
  {
   "cell_type": "code",
   "execution_count": 36,
   "id": "865cd1a9",
   "metadata": {},
   "outputs": [],
   "source": [
    "import os.path\n",
    "import csv\n",
    "\n",
    "def create_tsv(file_name_in, file_name_out):\n",
    "    \n",
    "    dict_in = manage_file(file_name_in)\n",
    "    if dict_in == {}:\n",
    "        return \"File_in does not exists\"\n",
    "    \n",
    "    with open(file_name_out, \"w\", newline='\\n') as file_out:\n",
    "        tsv_writer = csv.writer(file_out, delimiter='\\t')\n",
    "        tsv_writer.writerow(['name', 'count'])\n",
    "        [tsv_writer.writerow([key , value]) for key, value in dict_in.items()]\n",
    "        return \"done\""
   ]
  },
  {
   "cell_type": "code",
   "execution_count": 37,
   "id": "6a343cee",
   "metadata": {},
   "outputs": [
    {
     "data": {
      "text/plain": [
       "'File_in does not exists'"
      ]
     },
     "execution_count": 37,
     "metadata": {},
     "output_type": "execute_result"
    }
   ],
   "source": [
    "create_tsv(\"este_fichero_no_existe.txt\", \"ejercicio_out.tsv\")"
   ]
  },
  {
   "cell_type": "code",
   "execution_count": 38,
   "id": "baa4e95c",
   "metadata": {},
   "outputs": [
    {
     "data": {
      "text/plain": [
       "'done'"
      ]
     },
     "execution_count": 38,
     "metadata": {},
     "output_type": "execute_result"
    }
   ],
   "source": [
    "create_tsv(\"ejercicio.txt\", \"ejercicio_out.tsv\")"
   ]
  },
  {
   "cell_type": "code",
   "execution_count": null,
   "id": "64e0e384",
   "metadata": {},
   "outputs": [],
   "source": []
  }
 ],
 "metadata": {
  "kernelspec": {
   "display_name": "Python 3",
   "language": "python",
   "name": "python3"
  },
  "language_info": {
   "codemirror_mode": {
    "name": "ipython",
    "version": 3
   },
   "file_extension": ".py",
   "mimetype": "text/x-python",
   "name": "python",
   "nbconvert_exporter": "python",
   "pygments_lexer": "ipython3",
   "version": "3.8.8"
  }
 },
 "nbformat": 4,
 "nbformat_minor": 5
}
