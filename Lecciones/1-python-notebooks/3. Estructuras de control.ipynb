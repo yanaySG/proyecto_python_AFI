{
 "cells": [
  {
   "cell_type": "markdown",
   "id": "582261b9",
   "metadata": {},
   "source": [
    "# Introducción a Python - Estructuras de control"
   ]
  },
  {
   "cell_type": "markdown",
   "id": "f2600d3c",
   "metadata": {},
   "source": [
    "En este apartado revisaremos las diferentes estructuras de control de flujo que nos permitirán (realmente) la construcción de programas. Estas estructuras son idénticas en funcionamiento al resto de lenguajes de programación, aunque variará ligeramente la sintáxis de las mismas."
   ]
  },
  {
   "cell_type": "markdown",
   "id": "39427fb4",
   "metadata": {},
   "source": [
    "### Condicionales (if, elif, else)"
   ]
  },
  {
   "cell_type": "markdown",
   "id": "804df777",
   "metadata": {},
   "source": [
    "Esta estructura de control nos permitirá elegir, en base a una condición dada, la ejecución de diferentes bloques de código."
   ]
  },
  {
   "cell_type": "code",
   "execution_count": 1,
   "id": "30977f89",
   "metadata": {},
   "outputs": [
    {
     "name": "stdout",
     "output_type": "stream",
     "text": [
      "get a walk\n"
     ]
    }
   ],
   "source": [
    "price_cab = 10.00\n",
    "price_bus = 2.50\n",
    "available_money = 1.50\n",
    "\n",
    "if price_cab < available_money:\n",
    "    print(\"get a cab\")\n",
    "    \n",
    "if price_bus < available_money and price_cab > available_money:\n",
    "    print(\"get a bus\")\n",
    "\n",
    "if price_bus > available_money:\n",
    "    print(\"get a walk\")"
   ]
  },
  {
   "cell_type": "markdown",
   "id": "237da3ae",
   "metadata": {},
   "source": [
    "Esta forma de realizar expresiones condicionales es muy redundante y obliga a la utilización de condiciones demasiado complejas. Se podría reescribir el mismo programa."
   ]
  },
  {
   "cell_type": "code",
   "execution_count": 2,
   "id": "c3aee5b5",
   "metadata": {},
   "outputs": [
    {
     "name": "stdout",
     "output_type": "stream",
     "text": [
      "get a walk\n"
     ]
    }
   ],
   "source": [
    "if price_cab < available_money:\n",
    "    print(\"get a cab\")\n",
    "elif price_bus < available_money:\n",
    "    print(\"get a bus\")\n",
    "else:\n",
    "    print(\"get a walk\")"
   ]
  },
  {
   "cell_type": "markdown",
   "id": "303dbeb5",
   "metadata": {},
   "source": [
    "### Bucle - for"
   ]
  },
  {
   "cell_type": "markdown",
   "id": "ab91d273",
   "metadata": {},
   "source": [
    "Esta estructura de control nos permitirá llevar a cabo la ejecución de un bloque de código para todos los elementos contenidos en una secuencia (que pueden estar involucrados o no en el bloque de código)."
   ]
  },
  {
   "cell_type": "code",
   "execution_count": 3,
   "id": "0986cd63",
   "metadata": {},
   "outputs": [
    {
     "name": "stdout",
     "output_type": "stream",
     "text": [
      "Hola mundo: 0\n",
      "Hola mundo: 1\n",
      "Hola mundo: 2\n",
      "Hola mundo: 3\n",
      "Hola mundo: 4\n",
      "Hola mundo: 5\n",
      "Hola mundo: 6\n",
      "Hola mundo: 7\n",
      "Hola mundo: 8\n",
      "Hola mundo: 9\n"
     ]
    }
   ],
   "source": [
    "for i in range(0, 10):\n",
    "    print(\"Hola mundo: \" + str(i))"
   ]
  },
  {
   "cell_type": "code",
   "execution_count": 4,
   "id": "ceab8e8a",
   "metadata": {},
   "outputs": [
    {
     "name": "stdout",
     "output_type": "stream",
     "text": [
      "1\n",
      "2\n",
      "3\n",
      "4\n"
     ]
    }
   ],
   "source": [
    "list_1 = list(range(1,5))\n",
    "\n",
    "for l in list_1:\n",
    "    print(l)"
   ]
  },
  {
   "cell_type": "code",
   "execution_count": 5,
   "id": "274e8a65",
   "metadata": {},
   "outputs": [
    {
     "name": "stdout",
     "output_type": "stream",
     "text": [
      "uno\n",
      "dos\n",
      "tres\n",
      "cuatro\n",
      "cinco\n"
     ]
    }
   ],
   "source": [
    "list_1 = [\"uno\", \"dos\", \"tres\", \"cuatro\", \"cinco\"]\n",
    "\n",
    "for element in list_1:\n",
    "    print(element)"
   ]
  },
  {
   "cell_type": "markdown",
   "id": "51625a7f",
   "metadata": {},
   "source": [
    "A veces es muy cómo el disponer al mismo tiempo del elemento sobre el que se itera y del índice que ocupa dentro del bucle. Para ello podemos utilizar la función <i>enumerate</i>."
   ]
  },
  {
   "cell_type": "code",
   "execution_count": 6,
   "id": "335615cf",
   "metadata": {},
   "outputs": [
    {
     "name": "stdout",
     "output_type": "stream",
     "text": [
      "index 0: uno\n",
      "index 1: dos\n",
      "index 2: tres\n",
      "index 3: cuatro\n",
      "index 4: cinco\n"
     ]
    }
   ],
   "source": [
    "list_1 = [\"uno\", \"dos\", \"tres\", \"cuatro\", \"cinco\"]\n",
    "\n",
    "for index, element in enumerate(list_1):\n",
    "    print(\"index \" + str(index) + \": \" + element)"
   ]
  },
  {
   "cell_type": "code",
   "execution_count": 7,
   "id": "06abf816",
   "metadata": {},
   "outputs": [
    {
     "name": "stdout",
     "output_type": "stream",
     "text": [
      "0 uno\n",
      "1 dos\n",
      "2 tres\n",
      "3 cuatro\n",
      "4 cinco\n"
     ]
    }
   ],
   "source": [
    "list_1 = [\"uno\", \"dos\", \"tres\", \"cuatro\", \"cinco\"]\n",
    "    \n",
    "for element in range(len(list_1)):\n",
    "    print(element, list_1[element])"
   ]
  },
  {
   "cell_type": "markdown",
   "id": "d0c8d818",
   "metadata": {},
   "source": [
    "### Bucle - while"
   ]
  },
  {
   "cell_type": "markdown",
   "id": "e2815aae",
   "metadata": {},
   "source": [
    "Esta estructura de control nos permitirá llevar a cabo la ejecución de un bloque de código mientras se cumpla una condición dada."
   ]
  },
  {
   "cell_type": "code",
   "execution_count": 8,
   "id": "687f6780",
   "metadata": {},
   "outputs": [
    {
     "name": "stdout",
     "output_type": "stream",
     "text": [
      "0\n",
      "1\n",
      "2\n",
      "3\n",
      "4\n",
      "5\n",
      "6\n",
      "7\n",
      "8\n",
      "9\n"
     ]
    }
   ],
   "source": [
    "i = 0\n",
    "while i < 10:\n",
    "    print(i)\n",
    "    i+=1"
   ]
  },
  {
   "cell_type": "code",
   "execution_count": 9,
   "id": "12c4de9b",
   "metadata": {},
   "outputs": [
    {
     "name": "stdout",
     "output_type": "stream",
     "text": [
      "index 0: uno\n",
      "index 1: dos\n",
      "index 2: tres\n",
      "index 3: cuatro\n",
      "index 4: cinco\n"
     ]
    }
   ],
   "source": [
    "list_1 = [\"uno\", \"dos\", \"tres\", \"cuatro\", \"cinco\"]\n",
    "\n",
    "i=0\n",
    "while i < len(list_1):\n",
    "    print(\"index \" + str(i) + \": \" + list_1[i])\n",
    "    i+=1"
   ]
  },
  {
   "cell_type": "markdown",
   "id": "8769f9da",
   "metadata": {},
   "source": [
    "### Interrupción de bucles - break y continue"
   ]
  },
  {
   "cell_type": "markdown",
   "id": "a971bbe1",
   "metadata": {},
   "source": [
    "Las sentencias break y continue permiten alterar el flujo normal de ejecución de un bucle. Más concretamente:\n",
    "\n",
    "<ul>\n",
    "<li>break: Corta completamente el flujo de ejecución del bucle y pasa el control a la sentencia posterior al bucle.</li>\n",
    "<li>continue: Corta la ejecución de la iteración actual y pasa el control a la siguiente iteración del bucle.</li>\n",
    "</ul>"
   ]
  },
  {
   "cell_type": "code",
   "execution_count": 10,
   "id": "b56c2133",
   "metadata": {},
   "outputs": [
    {
     "name": "stdout",
     "output_type": "stream",
     "text": [
      "uno\n",
      "dos\n",
      "tres\n"
     ]
    }
   ],
   "source": [
    "list_1 = [\"uno\", \"dos\", \"tres\", \"cuatro\", \"cinco\"]\n",
    "\n",
    "for element in list_1:\n",
    "    if element == \"cuatro\":\n",
    "        break\n",
    "    print(element)"
   ]
  },
  {
   "cell_type": "code",
   "execution_count": 11,
   "id": "0d165f84",
   "metadata": {},
   "outputs": [
    {
     "name": "stdout",
     "output_type": "stream",
     "text": [
      "uno\n",
      "dos\n",
      "tres\n",
      "cinco\n"
     ]
    }
   ],
   "source": [
    "list_1 = [\"uno\", \"dos\", \"tres\", \"cuatro\", \"cinco\"]\n",
    "\n",
    "for element in list_1:\n",
    "    if element == \"cuatro\":\n",
    "        continue\n",
    "    print(element)"
   ]
  },
  {
   "cell_type": "markdown",
   "id": "c55148b9",
   "metadata": {},
   "source": [
    "### Comprensiones de lista / comprehensions"
   ]
  },
  {
   "cell_type": "markdown",
   "id": "0e1c5ebd",
   "metadata": {},
   "source": [
    "Dada la filosofía de Python de hacer el código más conciso, tenemos a nuestra disposición una estructura especial de control (semejante a los bucles) que facilita mucho la escritura de código. Imáginemos el siguiente bucle."
   ]
  },
  {
   "cell_type": "code",
   "execution_count": 12,
   "id": "5ee46ec3",
   "metadata": {},
   "outputs": [
    {
     "name": "stdout",
     "output_type": "stream",
     "text": [
      "['MIGUEL', 'MARIA', 'MANUEL']\n"
     ]
    }
   ],
   "source": [
    "list_1 = [\"Miguel\", \"Juan\", \"Maria\", \"Manuel\", \"Rodrigo\"]\n",
    "list_M = []\n",
    "\n",
    "for element in list_1:\n",
    "    if element[0] == \"M\":\n",
    "        list_M.append(element.upper())\n",
    "print(list_M)"
   ]
  },
  {
   "cell_type": "markdown",
   "id": "c804ea3a",
   "metadata": {},
   "source": [
    "Podemos conseguir el mismo resultado con un código mucho más conciso."
   ]
  },
  {
   "cell_type": "code",
   "execution_count": 13,
   "id": "dc3de98e",
   "metadata": {},
   "outputs": [
    {
     "name": "stdout",
     "output_type": "stream",
     "text": [
      "['MIGUEL', 'MARIA', 'MANUEL']\n",
      "['MIGUEL', 'JUAN', 'MARIA', 'MANUEL', 'RODRIGO']\n",
      "['JUAN', 'MARIA', 'MANUEL']\n",
      "['MIGUEL', 'MANUEL']\n"
     ]
    }
   ],
   "source": [
    "list_1 = [\"Miguel\", \"Juan\", \"Maria\", \"Manuel\", \"Rodrigo\"]\n",
    "list_M = [element.upper() for element in list_1 if element[0] == \"M\"]\n",
    "print(list_M)\n",
    "\n",
    "list_all = [element.upper() for element in list_1]\n",
    "print(list_all)\n",
    "\n",
    "list_A = [element.upper() for element in list_1 if \"a\" in element]\n",
    "print(list_A)\n",
    "\n",
    "list_last = [element.upper() for element in list_1 if element[-1] == \"l\"]\n",
    "print(list_last)"
   ]
  },
  {
   "cell_type": "markdown",
   "id": "4b238d65",
   "metadata": {},
   "source": [
    "### Otras comprensiones"
   ]
  },
  {
   "cell_type": "markdown",
   "id": "e73fd19b",
   "metadata": {},
   "source": [
    "Del mismo modo, se puede utilizar la sintáxis de las comprensiones de lista para crear otras estructuras como diccionarios y conjuntos. "
   ]
  },
  {
   "cell_type": "code",
   "execution_count": 14,
   "id": "f36ec6e0",
   "metadata": {},
   "outputs": [
    {
     "data": {
      "text/plain": [
       "{'MIGUEL': True,\n",
       " 'JUAN': False,\n",
       " 'MARIA': True,\n",
       " 'MANUEL': True,\n",
       " 'RODRIGO': False}"
      ]
     },
     "execution_count": 14,
     "metadata": {},
     "output_type": "execute_result"
    }
   ],
   "source": [
    "{element.upper(): element[0]==\"M\" for element in list_1}"
   ]
  },
  {
   "cell_type": "code",
   "execution_count": 15,
   "id": "fada28c8",
   "metadata": {},
   "outputs": [
    {
     "name": "stdout",
     "output_type": "stream",
     "text": [
      "set_1 : {'RODRIGO', 'MARIA', 'MIGUEL', 'MANUEL'}\n",
      "dict_1: {0: 'MIGUEL', 2: 'MARIA', 3: 'MANUEL'}\n"
     ]
    }
   ],
   "source": [
    "list_1 = [\"Miguel\", \"Juan\", \"Maria\", \"Manuel\", \"Rodrigo\"]\n",
    "set_1 = {element.upper() for element in list_1 if element[0] == \"M\" or element[0] == \"R\"}\n",
    "print(\"set_1 :\", set_1)\n",
    "\n",
    "dict_1 = {index: element.upper() for index, element in enumerate(list_1) if element[0] == \"M\"}\n",
    "print(\"dict_1:\", dict_1)"
   ]
  },
  {
   "cell_type": "code",
   "execution_count": 16,
   "id": "5692d94f",
   "metadata": {},
   "outputs": [
    {
     "name": "stdout",
     "output_type": "stream",
     "text": [
      "{'Miguel', 'Juan', 'Maria'} <class 'set'>\n"
     ]
    }
   ],
   "source": [
    "list_duplicates = [\"Miguel\", \"Juan\", \"Maria\", \"Miguel\", \"Juan\"]\n",
    "\n",
    "estoquees={element for element in list_duplicates}\n",
    "print(estoquees, type(estoquees))"
   ]
  },
  {
   "cell_type": "markdown",
   "id": "4eeb4d6f",
   "metadata": {},
   "source": [
    "### Control de errores/excepciones - try y except"
   ]
  },
  {
   "cell_type": "markdown",
   "id": "f1821013",
   "metadata": {},
   "source": [
    "Al igual que en otros lenguajes de programación (Java, C++...), los errores en Python se generan en forma de excepciones (objetos en los que se incluye tanto el detalle del error como la pila de llamadas que han generado dicho error). Es importante realizar una buena gestión de excepciones de forma que los errores estén siempre controlados de forma que los programas creados sean robustos (no paren su ejecución de forma prematura por errores no controlados) y claros (presenten a los potenciales usuarios información \"entendible\" y no los errores internos de Python)."
   ]
  },
  {
   "cell_type": "code",
   "execution_count": 17,
   "id": "2be79b46",
   "metadata": {},
   "outputs": [],
   "source": [
    "cadena = \"123.5hola\"\n",
    "#numero = float(cadena)     #ValueError: could not convert string to float: '123.5hola'"
   ]
  },
  {
   "cell_type": "markdown",
   "id": "79f198fa",
   "metadata": {},
   "source": [
    "Se pueden controlar todos los errores de forma genérica."
   ]
  },
  {
   "cell_type": "code",
   "execution_count": 18,
   "id": "a6044422",
   "metadata": {},
   "outputs": [
    {
     "name": "stdout",
     "output_type": "stream",
     "text": [
      "could not convert string to float: '123.5hola' Se produjo un error\n"
     ]
    }
   ],
   "source": [
    "try:\n",
    "    cadena = \"123.5hola\"\n",
    "    numero = float(cadena)\n",
    "except Exception as e:\n",
    "    print(e, \"Se produjo un error\")\n",
    "    \n",
    "try:\n",
    "    numero = 5/0\n",
    "except Exception as e:\n",
    "    None"
   ]
  },
  {
   "cell_type": "markdown",
   "id": "b9094da8",
   "metadata": {},
   "source": [
    "O realizar un control detallado por tipo de error. "
   ]
  },
  {
   "cell_type": "code",
   "execution_count": 19,
   "id": "dafdc1f3",
   "metadata": {},
   "outputs": [
    {
     "name": "stdout",
     "output_type": "stream",
     "text": [
      "Formato numérico incorrecto\n"
     ]
    }
   ],
   "source": [
    "try:\n",
    "    cadena=\"123.5hola\"\n",
    "    numero=float(cadena)\n",
    "except RuntimeError as e:\n",
    "    print(\"Se produjo un error de ejecución\")\n",
    "except ValueError as e:\n",
    "    print(\"Formato numérico incorrecto\")\n",
    "except ZeroDivisionError as e:\n",
    "    print(\"División por cero\")\n",
    "except Exception as e:\n",
    "    print(\"Se produjo un error desconocido\")"
   ]
  },
  {
   "cell_type": "code",
   "execution_count": 20,
   "id": "9bb6e697",
   "metadata": {},
   "outputs": [
    {
     "name": "stdout",
     "output_type": "stream",
     "text": [
      "División por cero\n"
     ]
    }
   ],
   "source": [
    "try:\n",
    "    numero=5/0\n",
    "except RuntimeError as e:\n",
    "    print(\"Se produjo un error de ejecución\")\n",
    "except ValueError as e:\n",
    "    print(\"Formato numérico incorrecto\")\n",
    "except ZeroDivisionError as e:\n",
    "    print(\"División por cero\")\n",
    "except Exception as e:\n",
    "    print(\"Se produjo un error desconocido\")"
   ]
  }
 ],
 "metadata": {
  "kernelspec": {
   "display_name": "Python 3",
   "language": "python",
   "name": "python3"
  },
  "language_info": {
   "codemirror_mode": {
    "name": "ipython",
    "version": 3
   },
   "file_extension": ".py",
   "mimetype": "text/x-python",
   "name": "python",
   "nbconvert_exporter": "python",
   "pygments_lexer": "ipython3",
   "version": "3.8.8"
  }
 },
 "nbformat": 4,
 "nbformat_minor": 5
}
