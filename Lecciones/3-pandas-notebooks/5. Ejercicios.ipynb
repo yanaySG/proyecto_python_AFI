{
 "cells": [
  {
   "cell_type": "markdown",
   "id": "ac04bf7c",
   "metadata": {},
   "source": [
    "# Pandas - Ejercicios"
   ]
  },
  {
   "cell_type": "code",
   "execution_count": 1,
   "id": "b6d3bb5c",
   "metadata": {},
   "outputs": [],
   "source": [
    "import numpy as np\n",
    "import pandas as pd"
   ]
  },
  {
   "cell_type": "markdown",
   "id": "404ea116",
   "metadata": {},
   "source": [
    "### 1. Crea un función que reciba un número entero n y genere una serie de tamaño n cuyos valores sean una secuencia numérica de múltiplos de cinco ascendentes y su índice sea una secuencia numérica de múltiplos de cinco en orden inverso."
   ]
  },
  {
   "cell_type": "code",
   "execution_count": 2,
   "id": "68dbb2aa",
   "metadata": {},
   "outputs": [
    {
     "data": {
      "text/plain": [
       "50     5\n",
       "45    10\n",
       "40    15\n",
       "35    20\n",
       "30    25\n",
       "25    30\n",
       "20    35\n",
       "15    40\n",
       "10    45\n",
       "5     50\n",
       "dtype: int32"
      ]
     },
     "execution_count": 2,
     "metadata": {},
     "output_type": "execute_result"
    }
   ],
   "source": [
    "def five_fold_seq(n:np.int16=5):\n",
    "    return(pd.Series(np.arange(5,(n+1)*5,5), index=np.arange(n*5,0,-5)))\n",
    "\n",
    "five_fold_seq(10)"
   ]
  },
  {
   "cell_type": "markdown",
   "id": "dd7c71ae",
   "metadata": {},
   "source": [
    "### 2. Crea una función que reciba una lista de palabras y devuelva un DataFrame en el que las columnas sean las palabras y en filas tenga la longitud de la palaba y su frecuencia en la lista."
   ]
  },
  {
   "cell_type": "code",
   "execution_count": 3,
   "id": "1a8751e8",
   "metadata": {},
   "outputs": [
    {
     "data": {
      "text/html": [
       "<div>\n",
       "<style scoped>\n",
       "    .dataframe tbody tr th:only-of-type {\n",
       "        vertical-align: middle;\n",
       "    }\n",
       "\n",
       "    .dataframe tbody tr th {\n",
       "        vertical-align: top;\n",
       "    }\n",
       "\n",
       "    .dataframe thead th {\n",
       "        text-align: right;\n",
       "    }\n",
       "</style>\n",
       "<table border=\"1\" class=\"dataframe\">\n",
       "  <thead>\n",
       "    <tr style=\"text-align: right;\">\n",
       "      <th></th>\n",
       "      <th>words</th>\n",
       "      <th>length</th>\n",
       "      <th>freq</th>\n",
       "    </tr>\n",
       "  </thead>\n",
       "  <tbody>\n",
       "    <tr>\n",
       "      <th>0</th>\n",
       "      <td>manzana</td>\n",
       "      <td>7</td>\n",
       "      <td>2</td>\n",
       "    </tr>\n",
       "    <tr>\n",
       "      <th>1</th>\n",
       "      <td>banana</td>\n",
       "      <td>6</td>\n",
       "      <td>2</td>\n",
       "    </tr>\n",
       "    <tr>\n",
       "      <th>2</th>\n",
       "      <td>banana</td>\n",
       "      <td>6</td>\n",
       "      <td>2</td>\n",
       "    </tr>\n",
       "    <tr>\n",
       "      <th>3</th>\n",
       "      <td>naranja</td>\n",
       "      <td>7</td>\n",
       "      <td>2</td>\n",
       "    </tr>\n",
       "    <tr>\n",
       "      <th>4</th>\n",
       "      <td>mango</td>\n",
       "      <td>5</td>\n",
       "      <td>1</td>\n",
       "    </tr>\n",
       "    <tr>\n",
       "      <th>5</th>\n",
       "      <td>melón</td>\n",
       "      <td>5</td>\n",
       "      <td>1</td>\n",
       "    </tr>\n",
       "    <tr>\n",
       "      <th>6</th>\n",
       "      <td>sandía</td>\n",
       "      <td>6</td>\n",
       "      <td>1</td>\n",
       "    </tr>\n",
       "    <tr>\n",
       "      <th>7</th>\n",
       "      <td>pera</td>\n",
       "      <td>4</td>\n",
       "      <td>3</td>\n",
       "    </tr>\n",
       "    <tr>\n",
       "      <th>8</th>\n",
       "      <td>pera</td>\n",
       "      <td>4</td>\n",
       "      <td>3</td>\n",
       "    </tr>\n",
       "    <tr>\n",
       "      <th>9</th>\n",
       "      <td>manzana</td>\n",
       "      <td>7</td>\n",
       "      <td>2</td>\n",
       "    </tr>\n",
       "    <tr>\n",
       "      <th>10</th>\n",
       "      <td>naranja</td>\n",
       "      <td>7</td>\n",
       "      <td>2</td>\n",
       "    </tr>\n",
       "    <tr>\n",
       "      <th>11</th>\n",
       "      <td>papaya</td>\n",
       "      <td>6</td>\n",
       "      <td>2</td>\n",
       "    </tr>\n",
       "    <tr>\n",
       "      <th>12</th>\n",
       "      <td>papaya</td>\n",
       "      <td>6</td>\n",
       "      <td>2</td>\n",
       "    </tr>\n",
       "    <tr>\n",
       "      <th>13</th>\n",
       "      <td>pera</td>\n",
       "      <td>4</td>\n",
       "      <td>3</td>\n",
       "    </tr>\n",
       "  </tbody>\n",
       "</table>\n",
       "</div>"
      ],
      "text/plain": [
       "      words  length  freq\n",
       "0   manzana       7     2\n",
       "1    banana       6     2\n",
       "2    banana       6     2\n",
       "3   naranja       7     2\n",
       "4     mango       5     1\n",
       "5     melón       5     1\n",
       "6    sandía       6     1\n",
       "7      pera       4     3\n",
       "8      pera       4     3\n",
       "9   manzana       7     2\n",
       "10  naranja       7     2\n",
       "11   papaya       6     2\n",
       "12   papaya       6     2\n",
       "13     pera       4     3"
      ]
     },
     "execution_count": 3,
     "metadata": {},
     "output_type": "execute_result"
    }
   ],
   "source": [
    "def build_df_from_word_list(word_list:list=[]):\n",
    "    words = pd.Series(word_list)\n",
    "    return(pd.DataFrame({\n",
    "        'words':words, \n",
    "        'length':words.str.len(), \n",
    "        'freq':words.map(words.value_counts().to_dict())\n",
    "    }))\n",
    "\n",
    "words = ['manzana','banana','banana','naranja','mango','melón',\n",
    "         'sandía','pera','pera', 'manzana','naranja','papaya','papaya','pera']\n",
    "\n",
    "build_df_from_word_list(words)"
   ]
  },
  {
   "cell_type": "code",
   "execution_count": null,
   "id": "708a9710",
   "metadata": {},
   "outputs": [],
   "source": []
  }
 ],
 "metadata": {
  "kernelspec": {
   "display_name": "Python 3",
   "language": "python",
   "name": "python3"
  },
  "language_info": {
   "codemirror_mode": {
    "name": "ipython",
    "version": 3
   },
   "file_extension": ".py",
   "mimetype": "text/x-python",
   "name": "python",
   "nbconvert_exporter": "python",
   "pygments_lexer": "ipython3",
   "version": "3.8.8"
  }
 },
 "nbformat": 4,
 "nbformat_minor": 5
}
