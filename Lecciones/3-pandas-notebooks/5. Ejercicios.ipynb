{
 "cells": [
  {
   "cell_type": "markdown",
   "id": "0f599f4a",
   "metadata": {},
   "source": [
    "# Pandas - Ejercicios"
   ]
  },
  {
   "cell_type": "code",
   "execution_count": 1,
   "id": "816fb25a",
   "metadata": {},
   "outputs": [],
   "source": [
    "import numpy as np\n",
    "import pandas as pd"
   ]
  },
  {
   "cell_type": "markdown",
   "id": "3d572d32",
   "metadata": {},
   "source": [
    "### 1. Crea un función que reciba un número entero n y genere una serie de tamaño n cuyos valores sean una secuencia numérica de múltiplos de cinco ascendentes y su índice sea una secuencia numérica de múltiplos de cinco en orden inverso."
   ]
  },
  {
   "cell_type": "code",
   "execution_count": 20,
   "id": "5ec9fa23",
   "metadata": {},
   "outputs": [
    {
     "data": {
      "text/plain": [
       "50     5\n",
       "45    10\n",
       "40    15\n",
       "35    20\n",
       "30    25\n",
       "25    30\n",
       "20    35\n",
       "15    40\n",
       "10    45\n",
       "5     50\n",
       "dtype: int32"
      ]
     },
     "execution_count": 20,
     "metadata": {},
     "output_type": "execute_result"
    }
   ],
   "source": [
    "def five_fold_seq(n:np.int16=5):\n",
    "    return(pd.Series(np.arange(5,(n+1)*5,5), index=np.arange(n*5,0,-5)))\n",
    "\n",
    "seq_multiple_five(10)"
   ]
  },
  {
   "cell_type": "code",
   "execution_count": null,
   "id": "70e20e53",
   "metadata": {},
   "outputs": [],
   "source": []
  },
  {
   "cell_type": "code",
   "execution_count": null,
   "id": "b3dcf632",
   "metadata": {},
   "outputs": [],
   "source": []
  }
 ],
 "metadata": {
  "kernelspec": {
   "display_name": "Python 3",
   "language": "python",
   "name": "python3"
  },
  "language_info": {
   "codemirror_mode": {
    "name": "ipython",
    "version": 3
   },
   "file_extension": ".py",
   "mimetype": "text/x-python",
   "name": "python",
   "nbconvert_exporter": "python",
   "pygments_lexer": "ipython3",
   "version": "3.8.8"
  }
 },
 "nbformat": 4,
 "nbformat_minor": 5
}
