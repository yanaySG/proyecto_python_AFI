{
 "cells": [
  {
   "cell_type": "markdown",
   "id": "15e3f043",
   "metadata": {},
   "source": [
    "# Operaciones básicas"
   ]
  },
  {
   "cell_type": "markdown",
   "id": "44aff929",
   "metadata": {},
   "source": [
    "Trataremos aquí las operaciones más básicas que se pueden realizar sobre las estructuras de datos de pandas. Se separan en un notebook aparte porque estas operaciones tienen un funcionamiento prácticamente idéntico en Series y DataFrames. En caso de que esto no sea así en algún caso concreto se indicará explícitamente."
   ]
  },
  {
   "cell_type": "code",
   "execution_count": 1,
   "id": "afc4edab",
   "metadata": {},
   "outputs": [],
   "source": [
    "import numpy as np\n",
    "import pandas as pd"
   ]
  },
  {
   "cell_type": "markdown",
   "id": "ea5d52a0",
   "metadata": {},
   "source": [
    "## Tratamiento de Series y DataFrames como diccionarios"
   ]
  },
  {
   "cell_type": "markdown",
   "id": "18e99d53",
   "metadata": {},
   "source": [
    "Dado que internamente tanto las Series como los DataFrames pueden verse como diccionarios, podemos apilcar sobre los mismos cualquier funcionalidad que aplicaríamos sobre diccionarios básicos del core de Python.<br/>\n",
    "<b>IMPORTANTE:</b> Hay que tener en cuenta que en DataFrames el diccionario es un diccionario de \"columnas\"."
   ]
  },
  {
   "cell_type": "code",
   "execution_count": 13,
   "id": "b9c0fab2",
   "metadata": {},
   "outputs": [
    {
     "name": "stdout",
     "output_type": "stream",
     "text": [
      "datos\n",
      "a    1\n",
      "b    2\n",
      "c    3\n",
      "d    4\n",
      "dtype: int64 \n",
      "\n",
      "   var1  var2\n",
      "a     1     1\n",
      "b     2     2\n",
      "c     3     3\n",
      "d     4     4\n"
     ]
    }
   ],
   "source": [
    "serie = pd.Series([1,2,3,4], index=['a','b','c','d'])\n",
    "\n",
    "dataframe = pd.DataFrame({'var1':serie,'var2':serie})\n",
    "\n",
    "print('datos')\n",
    "print(serie,'\\n')\n",
    "print(dataframe)"
   ]
  },
  {
   "cell_type": "markdown",
   "id": "18e830ab",
   "metadata": {},
   "source": [
    "#### Indexación por clave"
   ]
  },
  {
   "cell_type": "code",
   "execution_count": 16,
   "id": "7a9a200a",
   "metadata": {},
   "outputs": [
    {
     "name": "stdout",
     "output_type": "stream",
     "text": [
      "Indexación por clave\n",
      "1 \n",
      "\n",
      "a    1\n",
      "b    2\n",
      "c    3\n",
      "d    4\n",
      "Name: var2, dtype: int64\n"
     ]
    }
   ],
   "source": [
    "print(\"Indexación por clave\")\n",
    "print(serie['a'],'\\n')\n",
    "print(dataframe['var2'])"
   ]
  },
  {
   "cell_type": "markdown",
   "id": "22d6b40c",
   "metadata": {},
   "source": [
    "#### Comprobación de la existencia de una clave"
   ]
  },
  {
   "cell_type": "code",
   "execution_count": 21,
   "id": "4cbbe361",
   "metadata": {},
   "outputs": [
    {
     "name": "stdout",
     "output_type": "stream",
     "text": [
      "Comprobación de la existencia de una clave\n",
      "True \n",
      "\n",
      "False \n",
      "\n",
      "False \n",
      "\n"
     ]
    }
   ],
   "source": [
    "print(\"Comprobación de la existencia de una clave\")\n",
    "print('b' in serie, '\\n')\n",
    "print('b' in dataframe, '\\n')\n",
    "print('var1' in serie, '\\n')"
   ]
  },
  {
   "cell_type": "markdown",
   "id": "bc96c52a",
   "metadata": {},
   "source": [
    "#### Adición de elementos"
   ]
  },
  {
   "cell_type": "markdown",
   "id": "cf266b12",
   "metadata": {},
   "source": [
    "<b>IMPORTANTE:</b> Al añadir columnas a un DataFrame, el tamaño del vector añadido deberá coincidir con el del DataFrame original. En caso contrario se recibirá un error."
   ]
  },
  {
   "cell_type": "code",
   "execution_count": 28,
   "id": "df459ecd",
   "metadata": {},
   "outputs": [
    {
     "name": "stdout",
     "output_type": "stream",
     "text": [
      "Adición de elementos\n",
      "a    1\n",
      "b    2\n",
      "c    3\n",
      "d    4\n",
      "e    5\n",
      "dtype: int64 \n",
      "\n",
      "   var1  var2  var3\n",
      "a     1     1     5\n",
      "b     2     2     6\n",
      "c     3     3     7\n",
      "d     4     4     8\n"
     ]
    }
   ],
   "source": [
    "print(\"Adición de elementos\")\n",
    "serie['e']=5\n",
    "dataframe['var3']=[5,6,7,8]\n",
    "\n",
    "print(serie,'\\n')\n",
    "print(dataframe)"
   ]
  },
  {
   "cell_type": "markdown",
   "id": "40e901c7",
   "metadata": {},
   "source": [
    "#### Eliminación de elementos"
   ]
  },
  {
   "cell_type": "code",
   "execution_count": 29,
   "id": "2d5e4b42",
   "metadata": {},
   "outputs": [
    {
     "name": "stdout",
     "output_type": "stream",
     "text": [
      "Eliminación de elementos\n",
      "a    1\n",
      "b    2\n",
      "c    3\n",
      "d    4\n",
      "dtype: int64 \n",
      "\n",
      "   var1  var2\n",
      "a     1     1\n",
      "b     2     2\n",
      "c     3     3\n",
      "d     4     4\n"
     ]
    }
   ],
   "source": [
    "print(\"Eliminación de elementos\")\n",
    "del serie['e']\n",
    "del dataframe['var3']\n",
    "\n",
    "print(serie,'\\n')\n",
    "print(dataframe)"
   ]
  },
  {
   "cell_type": "markdown",
   "id": "617911e9",
   "metadata": {},
   "source": [
    "## Tratamiento de Series y DataFrames como ndarrays"
   ]
  },
  {
   "cell_type": "markdown",
   "id": "ad9eacba",
   "metadata": {},
   "source": [
    "Dado que, internamente, cualquier estructura de pandas está implementada sobre ndarrays de NumPy, es posible realizar sobre Series y DataFrames todas las operaciones que se pueden realizar sobre un ndarrays.<br/>\n",
    "<b>IMPORTANTE:</b> Dado que un ndarray no puede mezclar elementos de diferentes tipos y un DataFrame sí, algunas de las operaciones sobre DataFrames estarán supeditadas a que todas sus columnas tengan el mismo tipo."
   ]
  },
  {
   "cell_type": "code",
   "execution_count": null,
   "id": "d81fb08a",
   "metadata": {},
   "outputs": [],
   "source": []
  }
 ],
 "metadata": {
  "kernelspec": {
   "display_name": "Python 3",
   "language": "python",
   "name": "python3"
  },
  "language_info": {
   "codemirror_mode": {
    "name": "ipython",
    "version": 3
   },
   "file_extension": ".py",
   "mimetype": "text/x-python",
   "name": "python",
   "nbconvert_exporter": "python",
   "pygments_lexer": "ipython3",
   "version": "3.8.8"
  }
 },
 "nbformat": 4,
 "nbformat_minor": 5
}
