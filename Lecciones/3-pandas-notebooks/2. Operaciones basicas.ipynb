{
 "cells": [
  {
   "cell_type": "markdown",
   "id": "15e3f043",
   "metadata": {},
   "source": [
    "# Operaciones básicas"
   ]
  },
  {
   "cell_type": "markdown",
   "id": "44aff929",
   "metadata": {},
   "source": [
    "Trataremos aquí las operaciones más básicas que se pueden realizar sobre las estructuras de datos de pandas. Se separan en un notebook aparte porque estas operaciones tienen un funcionamiento prácticamente idéntico en Series y DataFrames. En caso de que esto no sea así en algún caso concreto se indicará explícitamente."
   ]
  },
  {
   "cell_type": "code",
   "execution_count": 1,
   "id": "afc4edab",
   "metadata": {},
   "outputs": [],
   "source": [
    "import numpy as np\n",
    "import pandas as pd"
   ]
  },
  {
   "cell_type": "markdown",
   "id": "ea5d52a0",
   "metadata": {},
   "source": [
    "## Tratamiento de Series y DataFrames como diccionarios"
   ]
  },
  {
   "cell_type": "markdown",
   "id": "18e99d53",
   "metadata": {},
   "source": [
    "Dado que internamente tanto las Series como los DataFrames pueden verse como diccionarios, podemos apilcar sobre los mismos cualquier funcionalidad que aplicaríamos sobre diccionarios básicos del core de Python.<br/>\n",
    "<b>IMPORTANTE:</b> Hay que tener en cuenta que en DataFrames el diccionario es un diccionario de \"columnas\"."
   ]
  },
  {
   "cell_type": "code",
   "execution_count": 2,
   "id": "b9c0fab2",
   "metadata": {},
   "outputs": [
    {
     "name": "stdout",
     "output_type": "stream",
     "text": [
      "datos\n",
      "a    1\n",
      "b    2\n",
      "c    3\n",
      "d    4\n",
      "dtype: int64 \n",
      "\n",
      "   var1  var2\n",
      "a     1     1\n",
      "b     2     2\n",
      "c     3     3\n",
      "d     4     4\n"
     ]
    }
   ],
   "source": [
    "serie = pd.Series([1,2,3,4], index=['a','b','c','d'])\n",
    "\n",
    "dataframe = pd.DataFrame({'var1':serie,'var2':serie})\n",
    "\n",
    "print('datos')\n",
    "print(serie,'\\n')\n",
    "print(dataframe)"
   ]
  },
  {
   "cell_type": "markdown",
   "id": "bededac4",
   "metadata": {},
   "source": [
    "#### Indexación por clave"
   ]
  },
  {
   "cell_type": "code",
   "execution_count": 3,
   "id": "579d4174",
   "metadata": {},
   "outputs": [
    {
     "name": "stdout",
     "output_type": "stream",
     "text": [
      "Indexación por clave\n",
      "1 \n",
      "\n",
      "a    1\n",
      "b    2\n",
      "c    3\n",
      "d    4\n",
      "Name: var2, dtype: int64\n"
     ]
    }
   ],
   "source": [
    "print(\"Indexación por clave\")\n",
    "print(serie['a'],'\\n')\n",
    "print(dataframe['var2'])"
   ]
  },
  {
   "cell_type": "markdown",
   "id": "c24eec28",
   "metadata": {},
   "source": [
    "#### Comprobación de la existencia de una clave"
   ]
  },
  {
   "cell_type": "code",
   "execution_count": 4,
   "id": "23c4e0cf",
   "metadata": {},
   "outputs": [
    {
     "name": "stdout",
     "output_type": "stream",
     "text": [
      "Comprobación de la existencia de una clave\n",
      "True \n",
      "\n",
      "False \n",
      "\n",
      "False \n",
      "\n"
     ]
    }
   ],
   "source": [
    "print(\"Comprobación de la existencia de una clave\")\n",
    "print('b' in serie, '\\n')\n",
    "print('b' in dataframe, '\\n')\n",
    "print('var1' in serie, '\\n')"
   ]
  },
  {
   "cell_type": "markdown",
   "id": "568040df",
   "metadata": {},
   "source": [
    "#### Adición de elementos"
   ]
  },
  {
   "cell_type": "markdown",
   "id": "be87dcf5",
   "metadata": {},
   "source": [
    "<b>IMPORTANTE:</b> Al añadir columnas a un DataFrame, el tamaño del vector añadido deberá coincidir con el del DataFrame original. En caso contrario se recibirá un error."
   ]
  },
  {
   "cell_type": "code",
   "execution_count": 5,
   "id": "e5556852",
   "metadata": {},
   "outputs": [
    {
     "name": "stdout",
     "output_type": "stream",
     "text": [
      "Adición de elementos\n",
      "a    1\n",
      "b    2\n",
      "c    3\n",
      "d    4\n",
      "e    5\n",
      "dtype: int64 \n",
      "\n",
      "   var1  var2  var3\n",
      "a     1     1     5\n",
      "b     2     2     6\n",
      "c     3     3     7\n",
      "d     4     4     8\n"
     ]
    }
   ],
   "source": [
    "print(\"Adición de elementos\")\n",
    "serie['e']=5\n",
    "dataframe['var3']=[5,6,7,8]\n",
    "\n",
    "print(serie,'\\n')\n",
    "print(dataframe)"
   ]
  },
  {
   "cell_type": "markdown",
   "id": "8a87b33a",
   "metadata": {},
   "source": [
    "#### Eliminación de elementos"
   ]
  },
  {
   "cell_type": "code",
   "execution_count": 6,
   "id": "a58a2791",
   "metadata": {},
   "outputs": [
    {
     "name": "stdout",
     "output_type": "stream",
     "text": [
      "Eliminación de elementos\n",
      "a    1\n",
      "b    2\n",
      "c    3\n",
      "d    4\n",
      "dtype: int64 \n",
      "\n",
      "   var1  var2\n",
      "a     1     1\n",
      "b     2     2\n",
      "c     3     3\n",
      "d     4     4\n"
     ]
    }
   ],
   "source": [
    "print(\"Eliminación de elementos\")\n",
    "del serie['e']\n",
    "del dataframe['var3']\n",
    "\n",
    "print(serie,'\\n')\n",
    "print(dataframe)"
   ]
  },
  {
   "cell_type": "markdown",
   "id": "a95f52c5",
   "metadata": {},
   "source": [
    "## Tratamiento de Series y DataFrames como ndarrays"
   ]
  },
  {
   "cell_type": "markdown",
   "id": "fd54c19e",
   "metadata": {},
   "source": [
    "Dado que, internamente, cualquier estructura de pandas está implementada sobre ndarrays de NumPy, es posible realizar sobre Series y DataFrames todas las operaciones que se pueden realizar sobre un ndarrays.<br/>\n",
    "<b>IMPORTANTE:</b> Dado que un ndarray no puede mezclar elementos de diferentes tipos y un DataFrame sí, algunas de las operaciones sobre DataFrames estarán supeditadas a que todas sus columnas tengan el mismo tipo."
   ]
  },
  {
   "cell_type": "code",
   "execution_count": 7,
   "id": "480083d8",
   "metadata": {},
   "outputs": [
    {
     "name": "stdout",
     "output_type": "stream",
     "text": [
      "a    1\n",
      "b    2\n",
      "c    3\n",
      "d    4\n",
      "dtype: int64 \n",
      "\n",
      "   var1  var2\n",
      "a     1     1\n",
      "b     2     2\n",
      "c     3     3\n",
      "d     4     4\n"
     ]
    }
   ],
   "source": [
    "serie = pd.Series([1,2,3,4], index=['a','b','c','d'])\n",
    "dataframe = pd.DataFrame({\"var1\":pd.Series(serie, dtype=np.int32), \"var2\":pd.Series(serie, dtype=np.int32)})\n",
    "\n",
    "print(serie,'\\n')\n",
    "print(dataframe)"
   ]
  },
  {
   "cell_type": "markdown",
   "id": "60d84027",
   "metadata": {},
   "source": [
    "#### Consulta de la composición"
   ]
  },
  {
   "cell_type": "markdown",
   "id": "b2444d70",
   "metadata": {},
   "source": [
    "Disponemos de los mismos atributos de consulta que en ndarrays, si bien hay que tener en cuenta que:<br/>\n",
    "<ul>\n",
    "<li>El atributo <b>dtype</b> será <b>dtypes</b> en DataFrames dada la posibilidad de múltiples tipos.</li>\n",
    "<li>El atributo <b>ndim</b> en Series siempre valdrá 1 dado que siempre son estructuras unidimensionales y 2 en DataFrames dado que siempre son estructuras bidimensionales.</li>\n",
    "</ul>"
   ]
  },
  {
   "cell_type": "code",
   "execution_count": 8,
   "id": "9fb3b4b4",
   "metadata": {},
   "outputs": [
    {
     "name": "stdout",
     "output_type": "stream",
     "text": [
      "Consulta del tipo almacenado en la estructura\n",
      "int64 \n",
      "\n",
      "var1    int32\n",
      "var2    int32\n",
      "dtype: object\n"
     ]
    }
   ],
   "source": [
    "print(\"Consulta del tipo almacenado en la estructura\")\n",
    "print(serie.dtype,'\\n')\n",
    "print(dataframe.dtypes)"
   ]
  },
  {
   "cell_type": "code",
   "execution_count": 9,
   "id": "8a0999a0",
   "metadata": {},
   "outputs": [
    {
     "name": "stdout",
     "output_type": "stream",
     "text": [
      "Consulta del número de dimensiones de la estructura\n",
      "1 \n",
      "\n",
      "2\n"
     ]
    }
   ],
   "source": [
    "print(\"Consulta del número de dimensiones de la estructura\")\n",
    "print(serie.ndim,'\\n')\n",
    "print(dataframe.ndim)"
   ]
  },
  {
   "cell_type": "code",
   "execution_count": 10,
   "id": "54a61bd7",
   "metadata": {},
   "outputs": [
    {
     "name": "stdout",
     "output_type": "stream",
     "text": [
      "\n",
      "Consulta de la forma de la estructura\n",
      "(4,) \n",
      "\n",
      "(4, 2)\n"
     ]
    }
   ],
   "source": [
    "print(\"\\nConsulta de la forma de la estructura\")\n",
    "print(serie.shape,'\\n')\n",
    "print(dataframe.shape)"
   ]
  },
  {
   "cell_type": "code",
   "execution_count": 11,
   "id": "97a020fc",
   "metadata": {},
   "outputs": [
    {
     "name": "stdout",
     "output_type": "stream",
     "text": [
      "Consulta del número de elementos de la estructura\n",
      "4 \n",
      "\n"
     ]
    },
    {
     "data": {
      "text/plain": [
       "8"
      ]
     },
     "execution_count": 11,
     "metadata": {},
     "output_type": "execute_result"
    }
   ],
   "source": [
    "print(\"Consulta del número de elementos de la estructura\")\n",
    "print(serie.size,'\\n')\n",
    "(dataframe.size)"
   ]
  },
  {
   "cell_type": "markdown",
   "id": "34b2fbe5",
   "metadata": {},
   "source": [
    "#### Operaciones con escalares"
   ]
  },
  {
   "cell_type": "markdown",
   "id": "91ee1cef",
   "metadata": {},
   "source": [
    "Al aplicar una operación sobre una estructura de pandas y un escalar se obtendrá otra estructura de pandas de idénticas características a la inicial pero con la operación aplicada elemento a elemento, <b>manteniendo el índice inalterado</b>.<br/>\n",
    "<b>IMPORTANTE</b>: Dado que un DataFrame puede mezclar tipos muy diferentes en sus columnas, la aplicación de una operación con un escalar elemento a elemento puede no ser válida (p.e. operaciones matemáticas sobre cadenas)."
   ]
  },
  {
   "cell_type": "code",
   "execution_count": 12,
   "id": "d89b8b7c",
   "metadata": {},
   "outputs": [
    {
     "name": "stdout",
     "output_type": "stream",
     "text": [
      "a    3\n",
      "b    4\n",
      "c    5\n",
      "d    6\n",
      "dtype: int64 \n",
      "\n",
      "a    1.000000\n",
      "b    0.500000\n",
      "c    0.333333\n",
      "d    0.250000\n",
      "dtype: float64\n"
     ]
    }
   ],
   "source": [
    "print(serie+2, '\\n')\n",
    "print(1/serie)"
   ]
  },
  {
   "cell_type": "code",
   "execution_count": 13,
   "id": "66e69605",
   "metadata": {},
   "outputs": [
    {
     "name": "stdout",
     "output_type": "stream",
     "text": [
      "   var1  var2\n",
      "a     2     2\n",
      "b     4     4\n",
      "c     6     6\n",
      "d     8     8 \n",
      "\n",
      "       var1      var2\n",
      "a  1.000000  1.000000\n",
      "b  0.500000  0.500000\n",
      "c  0.333333  0.333333\n",
      "d  0.250000  0.250000\n"
     ]
    }
   ],
   "source": [
    "print(dataframe * 2, '\\n')\n",
    "print(1/dataframe)"
   ]
  },
  {
   "cell_type": "markdown",
   "id": "8aaec12c",
   "metadata": {},
   "source": [
    "#### Operaciones entre estructuras de pandas"
   ]
  },
  {
   "cell_type": "markdown",
   "id": "bf4a33c3",
   "metadata": {},
   "source": [
    "Al aplicar una operación entre estructuras de pandas se aplicará la misma elemento a elemento. En el caso de pandas no es necesario, como lo era en NumPy, que los operandos tengan el mismo tamaño y forma ya que se aplicará un proceso de \"alineación\". Este proceso devolverá:<br/>\n",
    "<ul>\n",
    "<li>Como índices: la unión de las claves de ambos operandos.</li>\n",
    "<li>Como valores: el resultado de aplicar la operación entre cada pareja de elementos (si coinciden las claves entre ambos operandos) o NaN (en caso contrario).</li>\n",
    "</ul>\n",
    "\n",
    "<b>IMPORTANTE:</b> De nuevo, el hecho de que un DataFrame pueda mezclar tipos en sus contenidos hace que no todas las operaciones matemáticas se puedan aplicar a los mismos."
   ]
  },
  {
   "cell_type": "code",
   "execution_count": 14,
   "id": "c3ae3d64",
   "metadata": {},
   "outputs": [
    {
     "name": "stdout",
     "output_type": "stream",
     "text": [
      "a    2.0\n",
      "b    4.0\n",
      "c    6.0\n",
      "d    8.0\n",
      "e    NaN\n",
      "dtype: float64 \n",
      "\n",
      "   var1  var2  var3\n",
      "a     2     2   NaN\n",
      "b     4     4   NaN\n",
      "c     6     6   NaN\n",
      "d     8     8   NaN \n",
      "\n",
      "   var1  var2  var3\n",
      "a     1     1   NaN\n",
      "b     4     4   NaN\n",
      "c     9     9   NaN\n",
      "d    16    16   NaN\n"
     ]
    }
   ],
   "source": [
    "serie1 = serie.copy()\n",
    "serie1['e'] = 7\n",
    "\n",
    "dataframe1 = dataframe.copy()\n",
    "dataframe1['var3'] = [1,2,3,4]\n",
    "\n",
    "print(serie + serie1, '\\n')\n",
    "print(dataframe + dataframe1, '\\n')\n",
    "print(dataframe * dataframe1)"
   ]
  },
  {
   "cell_type": "markdown",
   "id": "2c468b61",
   "metadata": {},
   "source": [
    "#### Trasposición - Sólo DataFrames"
   ]
  },
  {
   "cell_type": "markdown",
   "id": "f9b6aa0d",
   "metadata": {},
   "source": [
    "Podemos trasponer filas por columnas, pero únicamente en DataFrame (ya que las series sólo pueden ser unidimensionales). Básicamente lo que se realizará es intercambiar el índice de columnas por el de filas."
   ]
  },
  {
   "cell_type": "code",
   "execution_count": 19,
   "id": "b9e1a29e",
   "metadata": {},
   "outputs": [
    {
     "name": "stdout",
     "output_type": "stream",
     "text": [
      "   var1  var2\n",
      "a     1     1\n",
      "b     2     2\n",
      "c     3     3\n",
      "d     4     4 \n",
      "\n",
      "      a  b  c  d\n",
      "var1  1  2  3  4\n",
      "var2  1  2  3  4\n"
     ]
    }
   ],
   "source": [
    "print(dataframe, '\\n')\n",
    "print(dataframe.T)"
   ]
  },
  {
   "cell_type": "markdown",
   "id": "85d927ac",
   "metadata": {},
   "source": [
    "#### Funciones de numpy (Universal functions, operaciones matemáticas...)"
   ]
  },
  {
   "cell_type": "markdown",
   "id": "3ae34b19",
   "metadata": {},
   "source": [
    "Podemos aplicar cualquier función de NumPy a cualquier estructura de pandas.<br/>\n",
    "<b>IMPORTANTE:</b> De nuevo, al poder tener múltiples tipos en DataFrames no siempre se podrán aplicar las operaciones (o el resultado obtenido no será el esperado). Además, en el caso de DataFrames en caso de no indicar un valor para <b>axis</b> se aplicará la operación por columnas y nunca sobre el DataFrame completo."
   ]
  },
  {
   "cell_type": "code",
   "execution_count": 26,
   "id": "c2190a0a",
   "metadata": {},
   "outputs": [
    {
     "name": "stdout",
     "output_type": "stream",
     "text": [
      "Operaciones sobre estructuras de pandas\n",
      "a    1.000000\n",
      "b    1.414214\n",
      "c    1.732051\n",
      "d    2.000000\n",
      "dtype: float64 \n",
      "\n",
      "var1    10\n",
      "var2    10\n",
      "dtype: int64\n",
      "\n",
      "Operaciones por eje sobre dataframes\n",
      "   var1  var2\n",
      "a     1     1\n",
      "b     2     2\n",
      "c     3     3\n",
      "d     4     4 \n",
      "\n",
      "a    2\n",
      "b    4\n",
      "c    6\n",
      "d    8\n",
      "dtype: int64\n"
     ]
    }
   ],
   "source": [
    "print(\"Operaciones sobre estructuras de pandas\")\n",
    "print(np.sqrt(serie),'\\n')\n",
    "print(np.sum(dataframe))\n",
    "\n",
    "print(\"\\nOperaciones por eje sobre dataframes\")\n",
    "print(dataframe,'\\n')\n",
    "print(np.sum(dataframe, axis=1))"
   ]
  },
  {
   "cell_type": "markdown",
   "id": "d3f23bee",
   "metadata": {},
   "source": [
    "## Indexación y slicing en pandas"
   ]
  },
  {
   "cell_type": "markdown",
   "id": "532f19a6",
   "metadata": {},
   "source": [
    "Además de poder reutilizar los métodos de indexación y slicing de NumPy sobre Series y DataFrames (con las limitaciones ya comentadas), pandas pone a nuestra disposición nuevos métodos de indexación que permiten tener un mayor control sobre la misma y superar las limitaciones que nos impone NumPy sobre este tipo de estructuras. Veamos todas las posibles combinaciones.<br/>"
   ]
  },
  {
   "cell_type": "markdown",
   "id": "ce9efdf0",
   "metadata": {},
   "source": [
    "#### Indexación por atributo de clave"
   ]
  },
  {
   "cell_type": "markdown",
   "id": "fc3d0741",
   "metadata": {},
   "source": [
    "Podemos indexar un elemento concreto de una Serie o una columna concreta de un DataFrame mediante el uso de su etiqueta/clave como atributo, con sintaxis obj.etiqueta."
   ]
  },
  {
   "cell_type": "code",
   "execution_count": 35,
   "id": "d3fe1f0e",
   "metadata": {},
   "outputs": [
    {
     "name": "stdout",
     "output_type": "stream",
     "text": [
      "Indexación por atributos en Series\n",
      "2\n",
      "Indexación por atributos en DataFrames\n",
      "f1     0\n",
      "f2     4\n",
      "f3     8\n",
      "f4    12\n",
      "Name: c1, dtype: int32\n"
     ]
    }
   ],
   "source": [
    "serie = pd.Series([1,2,3,4], index=['a','b','c','d'])\n",
    "dataframe = pd.DataFrame(np.arange(16).reshape(4,4),index=['f1','f2','f3','f4'], columns=['c1','c2','c3','c4'])\n",
    "\n",
    "print(\"Indexación por atributos en Series\")\n",
    "print(serie.b)\n",
    "\n",
    "print(\"Indexación por atributos en DataFrames\")\n",
    "print(dataframe.c1)"
   ]
  },
  {
   "cell_type": "markdown",
   "id": "6bbd0de6",
   "metadata": {},
   "source": [
    "#### Indexación con sintáxis [] directa"
   ]
  },
  {
   "cell_type": "markdown",
   "id": "421a66e3",
   "metadata": {},
   "source": [
    "<table>\n",
    "<tr>\n",
    "<th>Tipo</th>\n",
    "<th>En Series</th>\n",
    "<th>En DataFrames</th>\n",
    "</tr>\n",
    "<tr>\n",
    "<td>obj[num_val]</td>\n",
    "<td>Selección por posición (salvo si el índice es numérico)</td>\n",
    "<td>Selección por clave de columna</td>\n",
    "</tr>\n",
    "<tr>\n",
    "<td>obj[key]</td>\n",
    "<td>Selección por clave</td>\n",
    "<td>Selección por clave de columna</td>\n",
    "</tr>\n",
    "<tr>\n",
    "<td>obj[num_val1:num_val2]</td>\n",
    "<td>Selección por posición (salvo si el índice es numérico)</td>\n",
    "<td>Selección por posición de fila (salvo si el índice de filas es numérico)</td>\n",
    "</tr>\n",
    "<tr>\n",
    "<td>obj[key1:key2]</td>\n",
    "<td>Selección por clave</td>\n",
    "<td>Selección por clave de fila</td>\n",
    "</tr>\n",
    "<tr>\n",
    "<td>obj[[num_val1,..,num_valn]]</td>\n",
    "<td>Selección por posición (salvo si el índice es numérico)</td>\n",
    "<td>Selección por posición de columna</td>\n",
    "</tr>\n",
    "<tr>\n",
    "<td>obj[[key1,..,keyn]]</td>\n",
    "<td>Selección por clave</td>\n",
    "<td>Selección por clave de columna</td>\n",
    "</tr>\n",
    "<tr>\n",
    "<td>obj[condition]</td>\n",
    "<td>Selección por estructura booleana</td>\n",
    "<td>Selección por estructura booleana</td>\n",
    "</tr>\n",
    "</table>"
   ]
  },
  {
   "cell_type": "code",
   "execution_count": 49,
   "id": "066bb711",
   "metadata": {},
   "outputs": [
    {
     "name": "stdout",
     "output_type": "stream",
     "text": [
      "2 \n",
      "\n",
      "2 \n",
      "\n",
      "b    2\n",
      "c    3\n",
      "d    4\n",
      "dtype: int64 \n",
      "\n",
      "b    2\n",
      "c    3\n",
      "dtype: int64 \n",
      "\n",
      "b    2\n",
      "a    1\n",
      "d    4\n",
      "dtype: int64 \n",
      "\n",
      "a    1\n",
      "c    3\n",
      "dtype: int64\n"
     ]
    }
   ],
   "source": [
    "print(serie['b'],'\\n')\n",
    "print(serie[1],'\\n')\n",
    "print(serie['b':'d'],'\\n')\n",
    "print(serie[1:3],'\\n')\n",
    "print(serie[['b','a','d']],'\\n')\n",
    "print(serie[[True, False, True, False]])"
   ]
  },
  {
   "cell_type": "code",
   "execution_count": 61,
   "id": "97f60854",
   "metadata": {},
   "outputs": [
    {
     "name": "stdout",
     "output_type": "stream",
     "text": [
      "f1     1\n",
      "f2     5\n",
      "f3     9\n",
      "f4    13\n",
      "Name: c2, dtype: int32 \n",
      "\n",
      "    c1  c2  c3  c4\n",
      "f1   0   1   2   3\n",
      "f2   4   5   6   7\n",
      "f3   8   9  10  11 \n",
      "\n",
      "    c1  c2  c3  c4\n",
      "f2   4   5   6   7\n",
      "f3   8   9  10  11 \n",
      "\n",
      "    c2  c1  c4\n",
      "f1   1   0   3\n",
      "f2   5   4   7\n",
      "f3   9   8  11\n",
      "f4  13  12  15 \n",
      "\n",
      "    c1  c2  c3  c4\n",
      "f1   0   1   2   3\n",
      "f3   8   9  10  11\n"
     ]
    }
   ],
   "source": [
    "print(dataframe['c2'],'\\n')                  #por columna\n",
    "print(dataframe['f1':'f3'],'\\n')             #por fila\n",
    "print(dataframe[1:3],'\\n')                   #por fila\n",
    "print(dataframe[['c2','c1','c4']],'\\n')      #por columna\n",
    "print(dataframe[[True, False, True, False]]) #por fila"
   ]
  },
  {
   "cell_type": "markdown",
   "id": "0062dd31",
   "metadata": {},
   "source": [
    "#### Indexación con método .loc - Por claves"
   ]
  },
  {
   "cell_type": "markdown",
   "id": "47a26f44",
   "metadata": {},
   "source": [
    "<table>\n",
    "<tr>\n",
    "<th>Tipo</th>\n",
    "<th>En Series</th>\n",
    "<th>En DataFrames</th>\n",
    "</tr>\n",
    "<tr>\n",
    "<td>obj.loc[key]</td>\n",
    "<td>Selección por clave</td>\n",
    "<td>Selección por clave de filas</td>\n",
    "</tr>\n",
    "<tr>\n",
    "<td>obj.loc[key1:key2]</td>\n",
    "<td>Selección por clave</td>\n",
    "<td>Selección por clave de filas</td>\n",
    "</tr>\n",
    "<tr>\n",
    "<td>obj.loc[[key1,...,keyn]]</td>\n",
    "<td>Selección por clave</td>\n",
    "<td>Selección por clave de filas</td>\n",
    "</tr>\n",
    "<tr>\n",
    "<td>obj.loc[condition]</td>\n",
    "<td>Selección por estructura booleana</td>\n",
    "<td>Selección por estructura booleana sobre filas</td>\n",
    "</tr>\n",
    "<tr>\n",
    "<td>obj.loc[sel1, sel2]</td>\n",
    "<td>ERROR</td>\n",
    "<td>Selección por clave de fila (sel1) y columna (sel2). Selectores: clave, slice, secuencia o condición</td>\n",
    "</tr>\n",
    "</table>"
   ]
  },
  {
   "cell_type": "code",
   "execution_count": 70,
   "id": "c26a06c6",
   "metadata": {},
   "outputs": [
    {
     "name": "stdout",
     "output_type": "stream",
     "text": [
      "2 \n",
      "\n",
      "b    2\n",
      "c    3\n",
      "d    4\n",
      "dtype: int64 \n",
      "\n",
      "b    2\n",
      "a    1\n",
      "d    4\n",
      "dtype: int64 \n",
      "\n",
      "a    1\n",
      "c    3\n",
      "dtype: int64\n"
     ]
    }
   ],
   "source": [
    "print(serie.loc['b'],'\\n')   \n",
    "print(serie.loc['b':'d'],'\\n')\n",
    "print(serie.loc[['b','a','d']],'\\n')\n",
    "print(serie.loc[[True, False, True, False]])"
   ]
  },
  {
   "cell_type": "code",
   "execution_count": 83,
   "id": "9e2eb2fd",
   "metadata": {},
   "outputs": [
    {
     "name": "stdout",
     "output_type": "stream",
     "text": [
      "c1    0\n",
      "c2    1\n",
      "c3    2\n",
      "c4    3\n",
      "Name: f1, dtype: int32 \n",
      "\n",
      "    c1  c2  c3  c4\n",
      "f1   0   1   2   3\n",
      "f2   4   5   6   7\n",
      "f3   8   9  10  11 \n",
      "\n",
      "    c1  c2  c3  c4\n",
      "f3   8   9  10  11\n",
      "f1   0   1   2   3\n",
      "f2   4   5   6   7 \n",
      "\n",
      "    c1  c2  c3  c4\n",
      "f1   0   1   2   3\n",
      "f3   8   9  10  11\n",
      "    c1  c4\n",
      "f3   8  11\n",
      "f2   4   7\n"
     ]
    }
   ],
   "source": [
    "print(dataframe.loc['f1'],'\\n')                  #por filas\n",
    "print(dataframe.loc['f1':'f3'],'\\n')             #por filas\n",
    "print(dataframe.loc[['f3','f1','f2']],'\\n')      #por filas\n",
    "print(dataframe.loc[[True, False, True, False]]) #por filas\n",
    "\n",
    "print(dataframe.loc[['f3','f2'],['c1','c4']])    #por filas y columnas"
   ]
  },
  {
   "cell_type": "markdown",
   "id": "2e1d6447",
   "metadata": {},
   "source": [
    "#### Indexación con método .iloc - Por índices"
   ]
  },
  {
   "cell_type": "markdown",
   "id": "1208b2ec",
   "metadata": {},
   "source": [
    "<table>\n",
    "<tr>\n",
    "<th>Tipo</th>\n",
    "<th>En Series</th>\n",
    "<th>En DataFrames</th>\n",
    "</tr>\n",
    "<tr>\n",
    "<td>obj.iloc[num_val]</td>\n",
    "<td>Selección por posición</td>\n",
    "<td>Selección por posición de filas</td>\n",
    "</tr>\n",
    "<tr>\n",
    "<td>obj.iloc[num_val1:num_val2]</td>\n",
    "<td>Selección por posición</td>\n",
    "<td>Selección por posición de filas</td>\n",
    "</tr>\n",
    "<tr>\n",
    "<td>obj.iloc[[num_val1,...,num_valn]]</td>\n",
    "<td>Selección por posición</td>\n",
    "<td>Selección por posición de filas</td>\n",
    "</tr>\n",
    "<tr>\n",
    "<td>obj.iloc[sel1, sel2]</td>\n",
    "<td>ERROR</td>\n",
    "<td>Selección por clave de fila (sel1) y columna (sel2). Selectores: posición, slice o secuencia</td>\n",
    "</tr>\n",
    "</table>"
   ]
  },
  {
   "cell_type": "code",
   "execution_count": 89,
   "id": "1af51aea",
   "metadata": {},
   "outputs": [
    {
     "name": "stdout",
     "output_type": "stream",
     "text": [
      "4 \n",
      "\n",
      "b    2\n",
      "c    3\n",
      "dtype: int64 \n",
      "\n",
      "b    2\n",
      "a    1\n",
      "d    4\n",
      "dtype: int64 \n",
      "\n",
      "a    1\n",
      "c    3\n",
      "dtype: int64\n"
     ]
    }
   ],
   "source": [
    "    print(serie.iloc[3],'\\n')\n",
    "    print(serie.iloc[1:3],'\\n')\n",
    "    print(serie.iloc[[1,0,3]],'\\n')"
   ]
  },
  {
   "cell_type": "code",
   "execution_count": 97,
   "id": "596dd4bd",
   "metadata": {},
   "outputs": [
    {
     "name": "stdout",
     "output_type": "stream",
     "text": [
      "c1    4\n",
      "c2    5\n",
      "c3    6\n",
      "c4    7\n",
      "Name: f2, dtype: int32 \n",
      "\n",
      "    c1  c2  c3  c4\n",
      "f2   4   5   6   7\n",
      "f3   8   9  10  11 \n",
      "\n",
      "    c1  c2  c3  c4\n",
      "f4  12  13  14  15\n",
      "f2   4   5   6   7\n",
      "f3   8   9  10  11 \n",
      "\n",
      "    c2  c4\n",
      "f4  13  15\n",
      "f3   9  11\n"
     ]
    }
   ],
   "source": [
    "print(dataframe.iloc[1],'\\n')                      #por filas\n",
    "print(dataframe.iloc[1:3],'\\n')                    #por filas\n",
    "print(dataframe.iloc[[3,1,2]],'\\n')                #por filas\n",
    "\n",
    "print(dataframe.iloc[[3,2],[1,3]] )                #por filas y columnas"
   ]
  },
  {
   "cell_type": "markdown",
   "id": "4d1c7877",
   "metadata": {},
   "source": [
    "Al igual que en el core de Python y NumPy, un slice o selección se puede utilizar en el lado izquierdo de una asignación para modificar el contenido de los elementos dentro de la selección."
   ]
  },
  {
   "cell_type": "code",
   "execution_count": 128,
   "id": "9770b9fd",
   "metadata": {},
   "outputs": [
    {
     "data": {
      "text/html": [
       "<div>\n",
       "<style scoped>\n",
       "    .dataframe tbody tr th:only-of-type {\n",
       "        vertical-align: middle;\n",
       "    }\n",
       "\n",
       "    .dataframe tbody tr th {\n",
       "        vertical-align: top;\n",
       "    }\n",
       "\n",
       "    .dataframe thead th {\n",
       "        text-align: right;\n",
       "    }\n",
       "</style>\n",
       "<table border=\"1\" class=\"dataframe\">\n",
       "  <thead>\n",
       "    <tr style=\"text-align: right;\">\n",
       "      <th></th>\n",
       "      <th>c1</th>\n",
       "      <th>c2</th>\n",
       "      <th>c3</th>\n",
       "      <th>c4</th>\n",
       "    </tr>\n",
       "  </thead>\n",
       "  <tbody>\n",
       "    <tr>\n",
       "      <th>f1</th>\n",
       "      <td>100</td>\n",
       "      <td>1</td>\n",
       "      <td>2</td>\n",
       "      <td>3</td>\n",
       "    </tr>\n",
       "    <tr>\n",
       "      <th>f2</th>\n",
       "      <td>100</td>\n",
       "      <td>5</td>\n",
       "      <td>6</td>\n",
       "      <td>7</td>\n",
       "    </tr>\n",
       "    <tr>\n",
       "      <th>f3</th>\n",
       "      <td>100</td>\n",
       "      <td>9</td>\n",
       "      <td>10</td>\n",
       "      <td>11</td>\n",
       "    </tr>\n",
       "    <tr>\n",
       "      <th>f4</th>\n",
       "      <td>12</td>\n",
       "      <td>13</td>\n",
       "      <td>14</td>\n",
       "      <td>15</td>\n",
       "    </tr>\n",
       "  </tbody>\n",
       "</table>\n",
       "</div>"
      ],
      "text/plain": [
       "     c1  c2  c3  c4\n",
       "f1  100   1   2   3\n",
       "f2  100   5   6   7\n",
       "f3  100   9  10  11\n",
       "f4   12  13  14  15"
      ]
     },
     "execution_count": 128,
     "metadata": {},
     "output_type": "execute_result"
    }
   ],
   "source": [
    "serie.iloc[0] = 100\n",
    "dataframe.loc['f1':'f3','c1'] = [100, 100, 100]\n",
    "dataframe\n"
   ]
  }
 ],
 "metadata": {
  "kernelspec": {
   "display_name": "Python 3",
   "language": "python",
   "name": "python3"
  },
  "language_info": {
   "codemirror_mode": {
    "name": "ipython",
    "version": 3
   },
   "file_extension": ".py",
   "mimetype": "text/x-python",
   "name": "python",
   "nbconvert_exporter": "python",
   "pygments_lexer": "ipython3",
   "version": "3.8.8"
  }
 },
 "nbformat": 4,
 "nbformat_minor": 5
}
