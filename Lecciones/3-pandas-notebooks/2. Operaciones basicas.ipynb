{
 "cells": [
  {
   "cell_type": "markdown",
   "id": "15e3f043",
   "metadata": {},
   "source": [
    "# Operaciones básicas"
   ]
  },
  {
   "cell_type": "markdown",
   "id": "44aff929",
   "metadata": {},
   "source": [
    "Trataremos aquí las operaciones más básicas que se pueden realizar sobre las estructuras de datos de pandas. Se separan en un notebook aparte porque estas operaciones tienen un funcionamiento prácticamente idéntico en Series y DataFrames. En caso de que esto no sea así en algún caso concreto se indicará explícitamente."
   ]
  },
  {
   "cell_type": "code",
   "execution_count": 1,
   "id": "afc4edab",
   "metadata": {},
   "outputs": [],
   "source": [
    "import numpy as np\n",
    "import pandas as pd"
   ]
  },
  {
   "cell_type": "markdown",
   "id": "ea5d52a0",
   "metadata": {},
   "source": [
    "## Tratamiento de Series y DataFrames como diccionarios"
   ]
  },
  {
   "cell_type": "markdown",
   "id": "18e99d53",
   "metadata": {},
   "source": [
    "Dado que internamente tanto las Series como los DataFrames pueden verse como diccionarios, podemos apilcar sobre los mismos cualquier funcionalidad que aplicaríamos sobre diccionarios básicos del core de Python.<br/>\n",
    "<b>IMPORTANTE:</b> Hay que tener en cuenta que en DataFrames el diccionario es un diccionario de \"columnas\"."
   ]
  },
  {
   "cell_type": "code",
   "execution_count": 2,
   "id": "b9c0fab2",
   "metadata": {},
   "outputs": [
    {
     "name": "stdout",
     "output_type": "stream",
     "text": [
      "datos\n",
      "a    1\n",
      "b    2\n",
      "c    3\n",
      "d    4\n",
      "dtype: int64 \n",
      "\n",
      "   var1  var2\n",
      "a     1     1\n",
      "b     2     2\n",
      "c     3     3\n",
      "d     4     4\n"
     ]
    }
   ],
   "source": [
    "serie = pd.Series([1,2,3,4], index=['a','b','c','d'])\n",
    "\n",
    "dataframe = pd.DataFrame({'var1':serie,'var2':serie})\n",
    "\n",
    "print('datos')\n",
    "print(serie,'\\n')\n",
    "print(dataframe)"
   ]
  },
  {
   "cell_type": "markdown",
   "id": "e8e8ec8d",
   "metadata": {},
   "source": [
    "#### Indexación por clave"
   ]
  },
  {
   "cell_type": "code",
   "execution_count": 3,
   "id": "5c82d2d9",
   "metadata": {},
   "outputs": [
    {
     "name": "stdout",
     "output_type": "stream",
     "text": [
      "Indexación por clave\n",
      "1 \n",
      "\n",
      "a    1\n",
      "b    2\n",
      "c    3\n",
      "d    4\n",
      "Name: var2, dtype: int64\n"
     ]
    }
   ],
   "source": [
    "print(\"Indexación por clave\")\n",
    "print(serie['a'],'\\n')\n",
    "print(dataframe['var2'])"
   ]
  },
  {
   "cell_type": "markdown",
   "id": "1ae72812",
   "metadata": {},
   "source": [
    "#### Comprobación de la existencia de una clave"
   ]
  },
  {
   "cell_type": "code",
   "execution_count": 4,
   "id": "1cbced6b",
   "metadata": {},
   "outputs": [
    {
     "name": "stdout",
     "output_type": "stream",
     "text": [
      "Comprobación de la existencia de una clave\n",
      "True \n",
      "\n",
      "False \n",
      "\n",
      "False \n",
      "\n"
     ]
    }
   ],
   "source": [
    "print(\"Comprobación de la existencia de una clave\")\n",
    "print('b' in serie, '\\n')\n",
    "print('b' in dataframe, '\\n')\n",
    "print('var1' in serie, '\\n')"
   ]
  },
  {
   "cell_type": "markdown",
   "id": "6cf6036b",
   "metadata": {},
   "source": [
    "#### Adición de elementos"
   ]
  },
  {
   "cell_type": "markdown",
   "id": "f6300814",
   "metadata": {},
   "source": [
    "<b>IMPORTANTE:</b> Al añadir columnas a un DataFrame, el tamaño del vector añadido deberá coincidir con el del DataFrame original. En caso contrario se recibirá un error."
   ]
  },
  {
   "cell_type": "code",
   "execution_count": 5,
   "id": "cce39c6d",
   "metadata": {},
   "outputs": [
    {
     "name": "stdout",
     "output_type": "stream",
     "text": [
      "Adición de elementos\n",
      "a    1\n",
      "b    2\n",
      "c    3\n",
      "d    4\n",
      "e    5\n",
      "dtype: int64 \n",
      "\n",
      "   var1  var2  var3\n",
      "a     1     1     5\n",
      "b     2     2     6\n",
      "c     3     3     7\n",
      "d     4     4     8\n"
     ]
    }
   ],
   "source": [
    "print(\"Adición de elementos\")\n",
    "serie['e']=5\n",
    "dataframe['var3']=[5,6,7,8]\n",
    "\n",
    "print(serie,'\\n')\n",
    "print(dataframe)"
   ]
  },
  {
   "cell_type": "markdown",
   "id": "e165103a",
   "metadata": {},
   "source": [
    "#### Eliminación de elementos"
   ]
  },
  {
   "cell_type": "code",
   "execution_count": 6,
   "id": "df39ef1d",
   "metadata": {},
   "outputs": [
    {
     "name": "stdout",
     "output_type": "stream",
     "text": [
      "Eliminación de elementos\n",
      "a    1\n",
      "b    2\n",
      "c    3\n",
      "d    4\n",
      "dtype: int64 \n",
      "\n",
      "   var1  var2\n",
      "a     1     1\n",
      "b     2     2\n",
      "c     3     3\n",
      "d     4     4\n"
     ]
    }
   ],
   "source": [
    "print(\"Eliminación de elementos\")\n",
    "del serie['e']\n",
    "del dataframe['var3']\n",
    "\n",
    "print(serie,'\\n')\n",
    "print(dataframe)"
   ]
  },
  {
   "cell_type": "markdown",
   "id": "8cca24f4",
   "metadata": {},
   "source": [
    "## Tratamiento de Series y DataFrames como ndarrays"
   ]
  },
  {
   "cell_type": "markdown",
   "id": "88b6f0b9",
   "metadata": {},
   "source": [
    "Dado que, internamente, cualquier estructura de pandas está implementada sobre ndarrays de NumPy, es posible realizar sobre Series y DataFrames todas las operaciones que se pueden realizar sobre un ndarrays.<br/>\n",
    "<b>IMPORTANTE:</b> Dado que un ndarray no puede mezclar elementos de diferentes tipos y un DataFrame sí, algunas de las operaciones sobre DataFrames estarán supeditadas a que todas sus columnas tengan el mismo tipo."
   ]
  },
  {
   "cell_type": "code",
   "execution_count": 7,
   "id": "bf9dd39d",
   "metadata": {},
   "outputs": [
    {
     "name": "stdout",
     "output_type": "stream",
     "text": [
      "a    1\n",
      "b    2\n",
      "c    3\n",
      "d    4\n",
      "dtype: int64 \n",
      "\n",
      "   var1  var2\n",
      "a     1     1\n",
      "b     2     2\n",
      "c     3     3\n",
      "d     4     4\n"
     ]
    }
   ],
   "source": [
    "serie = pd.Series([1,2,3,4], index=['a','b','c','d'])\n",
    "dataframe = pd.DataFrame({\"var1\":pd.Series(serie, dtype=np.int32), \"var2\":pd.Series(serie, dtype=np.int32)})\n",
    "\n",
    "print(serie,'\\n')\n",
    "print(dataframe)"
   ]
  },
  {
   "cell_type": "markdown",
   "id": "995d93d9",
   "metadata": {},
   "source": [
    "#### Consulta de la composición"
   ]
  },
  {
   "cell_type": "markdown",
   "id": "d2559876",
   "metadata": {},
   "source": [
    "Disponemos de los mismos atributos de consulta que en ndarrays, si bien hay que tener en cuenta que:<br/>\n",
    "<ul>\n",
    "<li>El atributo <b>dtype</b> será <b>dtypes</b> en DataFrames dada la posibilidad de múltiples tipos.</li>\n",
    "<li>El atributo <b>ndim</b> en Series siempre valdrá 1 dado que siempre son estructuras unidimensionales y 2 en DataFrames dado que siempre son estructuras bidimensionales.</li>\n",
    "</ul>"
   ]
  },
  {
   "cell_type": "code",
   "execution_count": 8,
   "id": "88cd153a",
   "metadata": {},
   "outputs": [
    {
     "name": "stdout",
     "output_type": "stream",
     "text": [
      "Consulta del tipo almacenado en la estructura\n",
      "int64 \n",
      "\n",
      "var1    int32\n",
      "var2    int32\n",
      "dtype: object\n"
     ]
    }
   ],
   "source": [
    "print(\"Consulta del tipo almacenado en la estructura\")\n",
    "print(serie.dtype,'\\n')\n",
    "print(dataframe.dtypes)"
   ]
  },
  {
   "cell_type": "code",
   "execution_count": 9,
   "id": "ae408e34",
   "metadata": {},
   "outputs": [
    {
     "name": "stdout",
     "output_type": "stream",
     "text": [
      "Consulta del número de dimensiones de la estructura\n",
      "1 \n",
      "\n",
      "2\n"
     ]
    }
   ],
   "source": [
    "print(\"Consulta del número de dimensiones de la estructura\")\n",
    "print(serie.ndim,'\\n')\n",
    "print(dataframe.ndim)"
   ]
  },
  {
   "cell_type": "code",
   "execution_count": 10,
   "id": "72b9b7cb",
   "metadata": {},
   "outputs": [
    {
     "name": "stdout",
     "output_type": "stream",
     "text": [
      "\n",
      "Consulta de la forma de la estructura\n",
      "(4,) \n",
      "\n",
      "(4, 2)\n"
     ]
    }
   ],
   "source": [
    "print(\"\\nConsulta de la forma de la estructura\")\n",
    "print(serie.shape,'\\n')\n",
    "print(dataframe.shape)"
   ]
  },
  {
   "cell_type": "code",
   "execution_count": 11,
   "id": "b88b4956",
   "metadata": {},
   "outputs": [
    {
     "name": "stdout",
     "output_type": "stream",
     "text": [
      "Consulta del número de elementos de la estructura\n",
      "4 \n",
      "\n"
     ]
    },
    {
     "data": {
      "text/plain": [
       "8"
      ]
     },
     "execution_count": 11,
     "metadata": {},
     "output_type": "execute_result"
    }
   ],
   "source": [
    "print(\"Consulta del número de elementos de la estructura\")\n",
    "print(serie.size,'\\n')\n",
    "(dataframe.size)"
   ]
  },
  {
   "cell_type": "markdown",
   "id": "3a7a4b9e",
   "metadata": {},
   "source": [
    "#### Operaciones con escalares"
   ]
  },
  {
   "cell_type": "markdown",
   "id": "e251556e",
   "metadata": {},
   "source": [
    "Al aplicar una operación sobre una estructura de pandas y un escalar se obtendrá otra estructura de pandas de idénticas características a la inicial pero con la operación aplicada elemento a elemento, <b>manteniendo el índice inalterado</b>.<br/>\n",
    "<b>IMPORTANTE</b>: Dado que un DataFrame puede mezclar tipos muy diferentes en sus columnas, la aplicación de una operación con un escalar elemento a elemento puede no ser válida (p.e. operaciones matemáticas sobre cadenas)."
   ]
  },
  {
   "cell_type": "code",
   "execution_count": 12,
   "id": "1130fc65",
   "metadata": {},
   "outputs": [
    {
     "name": "stdout",
     "output_type": "stream",
     "text": [
      "a    3\n",
      "b    4\n",
      "c    5\n",
      "d    6\n",
      "dtype: int64 \n",
      "\n",
      "a    1.000000\n",
      "b    0.500000\n",
      "c    0.333333\n",
      "d    0.250000\n",
      "dtype: float64\n"
     ]
    }
   ],
   "source": [
    "print(serie+2, '\\n')\n",
    "print(1/serie)"
   ]
  },
  {
   "cell_type": "code",
   "execution_count": 13,
   "id": "1efb51e5",
   "metadata": {},
   "outputs": [
    {
     "name": "stdout",
     "output_type": "stream",
     "text": [
      "   var1  var2\n",
      "a     2     2\n",
      "b     4     4\n",
      "c     6     6\n",
      "d     8     8 \n",
      "\n",
      "       var1      var2\n",
      "a  1.000000  1.000000\n",
      "b  0.500000  0.500000\n",
      "c  0.333333  0.333333\n",
      "d  0.250000  0.250000\n"
     ]
    }
   ],
   "source": [
    "print(dataframe * 2, '\\n')\n",
    "print(1/dataframe)"
   ]
  },
  {
   "cell_type": "markdown",
   "id": "0af50329",
   "metadata": {},
   "source": [
    "#### Operaciones entre estructuras de pandas"
   ]
  },
  {
   "cell_type": "markdown",
   "id": "66f72921",
   "metadata": {},
   "source": [
    "Al aplicar una operación entre estructuras de pandas se aplicará la misma elemento a elemento. En el caso de pandas no es necesario, como lo era en NumPy, que los operandos tengan el mismo tamaño y forma ya que se aplicará un proceso de \"alineación\". Este proceso devolverá:<br/>\n",
    "<ul>\n",
    "<li>Como índices: la unión de las claves de ambos operandos.</li>\n",
    "<li>Como valores: el resultado de aplicar la operación entre cada pareja de elementos (si coinciden las claves entre ambos operandos) o NaN (en caso contrario).</li>\n",
    "</ul>\n",
    "\n",
    "<b>IMPORTANTE:</b> De nuevo, el hecho de que un DataFrame pueda mezclar tipos en sus contenidos hace que no todas las operaciones matemáticas se puedan aplicar a los mismos."
   ]
  },
  {
   "cell_type": "code",
   "execution_count": 14,
   "id": "c0df6c0f",
   "metadata": {},
   "outputs": [
    {
     "name": "stdout",
     "output_type": "stream",
     "text": [
      "a    2.0\n",
      "b    4.0\n",
      "c    6.0\n",
      "d    8.0\n",
      "e    NaN\n",
      "dtype: float64 \n",
      "\n",
      "   var1  var2  var3\n",
      "a     2     2   NaN\n",
      "b     4     4   NaN\n",
      "c     6     6   NaN\n",
      "d     8     8   NaN \n",
      "\n",
      "   var1  var2  var3\n",
      "a     1     1   NaN\n",
      "b     4     4   NaN\n",
      "c     9     9   NaN\n",
      "d    16    16   NaN\n"
     ]
    }
   ],
   "source": [
    "serie1 = serie.copy()\n",
    "serie1['e'] = 7\n",
    "\n",
    "dataframe1 = dataframe.copy()\n",
    "dataframe1['var3'] = [1,2,3,4]\n",
    "\n",
    "print(serie + serie1, '\\n')\n",
    "print(dataframe + dataframe1, '\\n')\n",
    "print(dataframe * dataframe1)"
   ]
  },
  {
   "cell_type": "markdown",
   "id": "efb6742a",
   "metadata": {},
   "source": [
    "#### Trasposición - Sólo DataFrames"
   ]
  },
  {
   "cell_type": "markdown",
   "id": "d6f5607d",
   "metadata": {},
   "source": [
    "Podemos trasponer filas por columnas, pero únicamente en DataFrame (ya que las series sólo pueden ser unidimensionales). Básicamente lo que se realizará es intercambiar el índice de columnas por el de filas."
   ]
  },
  {
   "cell_type": "code",
   "execution_count": 19,
   "id": "d5a5f1b8",
   "metadata": {},
   "outputs": [
    {
     "name": "stdout",
     "output_type": "stream",
     "text": [
      "   var1  var2\n",
      "a     1     1\n",
      "b     2     2\n",
      "c     3     3\n",
      "d     4     4 \n",
      "\n",
      "      a  b  c  d\n",
      "var1  1  2  3  4\n",
      "var2  1  2  3  4\n"
     ]
    }
   ],
   "source": [
    "print(dataframe, '\\n')\n",
    "print(dataframe.T)"
   ]
  },
  {
   "cell_type": "markdown",
   "id": "761234cc",
   "metadata": {},
   "source": [
    "#### Funciones de numpy (Universal functions, operaciones matemáticas...)"
   ]
  },
  {
   "cell_type": "markdown",
   "id": "7aab4c61",
   "metadata": {},
   "source": [
    "Podemos aplicar cualquier función de NumPy a cualquier estructura de pandas.<br/>\n",
    "<b>IMPORTANTE:</b> De nuevo, al poder tener múltiples tipos en DataFrames no siempre se podrán aplicar las operaciones (o el resultado obtenido no será el esperado). Además, en el caso de DataFrames en caso de no indicar un valor para <b>axis</b> se aplicará la operación por columnas y nunca sobre el DataFrame completo."
   ]
  },
  {
   "cell_type": "code",
   "execution_count": 26,
   "id": "e98dcda2",
   "metadata": {},
   "outputs": [
    {
     "name": "stdout",
     "output_type": "stream",
     "text": [
      "Operaciones sobre estructuras de pandas\n",
      "a    1.000000\n",
      "b    1.414214\n",
      "c    1.732051\n",
      "d    2.000000\n",
      "dtype: float64 \n",
      "\n",
      "var1    10\n",
      "var2    10\n",
      "dtype: int64\n",
      "\n",
      "Operaciones por eje sobre dataframes\n",
      "   var1  var2\n",
      "a     1     1\n",
      "b     2     2\n",
      "c     3     3\n",
      "d     4     4 \n",
      "\n",
      "a    2\n",
      "b    4\n",
      "c    6\n",
      "d    8\n",
      "dtype: int64\n"
     ]
    }
   ],
   "source": [
    "print(\"Operaciones sobre estructuras de pandas\")\n",
    "print(np.sqrt(serie),'\\n')\n",
    "print(np.sum(dataframe))\n",
    "\n",
    "print(\"\\nOperaciones por eje sobre dataframes\")\n",
    "print(dataframe,'\\n')\n",
    "print(np.sum(dataframe, axis=1))"
   ]
  },
  {
   "cell_type": "markdown",
   "id": "eb031870",
   "metadata": {},
   "source": [
    "## Indexación y slicing en pandas"
   ]
  },
  {
   "cell_type": "markdown",
   "id": "5ccee990",
   "metadata": {},
   "source": [
    "Además de poder reutilizar los métodos de indexación y slicing de NumPy sobre Series y DataFrames (con las limitaciones ya comentadas), pandas pone a nuestra disposición nuevos métodos de indexación que permiten tener un mayor control sobre la misma y superar las limitaciones que nos impone NumPy sobre este tipo de estructuras. Veamos todas las posibles combinaciones.<br/>"
   ]
  },
  {
   "cell_type": "markdown",
   "id": "f1c2352f",
   "metadata": {},
   "source": [
    "#### Indexación por atributo de clave"
   ]
  },
  {
   "cell_type": "markdown",
   "id": "7b403ed3",
   "metadata": {},
   "source": [
    "Podemos indexar un elemento concreto de una Serie o una columna concreta de un DataFrame mediante el uso de su etiqueta/clave como atributo, con sintaxis obj.etiqueta."
   ]
  },
  {
   "cell_type": "code",
   "execution_count": 35,
   "id": "7fd381d5",
   "metadata": {},
   "outputs": [
    {
     "name": "stdout",
     "output_type": "stream",
     "text": [
      "Indexación por atributos en Series\n",
      "2\n",
      "Indexación por atributos en DataFrames\n",
      "f1     0\n",
      "f2     4\n",
      "f3     8\n",
      "f4    12\n",
      "Name: c1, dtype: int32\n"
     ]
    }
   ],
   "source": [
    "serie = pd.Series([1,2,3,4], index=['a','b','c','d'])\n",
    "dataframe = pd.DataFrame(np.arange(16).reshape(4,4),index=['f1','f2','f3','f4'], columns=['c1','c2','c3','c4'])\n",
    "\n",
    "print(\"Indexación por atributos en Series\")\n",
    "print(serie.b)\n",
    "\n",
    "print(\"Indexación por atributos en DataFrames\")\n",
    "print(dataframe.c1)"
   ]
  },
  {
   "cell_type": "markdown",
   "id": "ec394ebe",
   "metadata": {},
   "source": [
    "#### Indexación con sintáxis [] directa"
   ]
  },
  {
   "cell_type": "markdown",
   "id": "6f2aa76b",
   "metadata": {},
   "source": [
    "<table>\n",
    "<tr>\n",
    "<th>Tipo</th>\n",
    "<th>En Series</th>\n",
    "<th>En DataFrames</th>\n",
    "</tr>\n",
    "<tr>\n",
    "<td>obj[num_val]</td>\n",
    "<td>Selección por posición (salvo si el índice es numérico)</td>\n",
    "<td>Selección por clave de columna</td>\n",
    "</tr>\n",
    "<tr>\n",
    "<td>obj[key]</td>\n",
    "<td>Selección por clave</td>\n",
    "<td>Selección por clave de columna</td>\n",
    "</tr>\n",
    "<tr>\n",
    "<td>obj[num_val1:num_val2]</td>\n",
    "<td>Selección por posición (salvo si el índice es numérico)</td>\n",
    "<td>Selección por posición de fila (salvo si el índice de filas es numérico)</td>\n",
    "</tr>\n",
    "<tr>\n",
    "<td>obj[key1:key2]</td>\n",
    "<td>Selección por clave</td>\n",
    "<td>Selección por clave de fila</td>\n",
    "</tr>\n",
    "<tr>\n",
    "<td>obj[[num_val1,..,num_valn]]</td>\n",
    "<td>Selección por posición (salvo si el índice es numérico)</td>\n",
    "<td>Selección por posición de columna</td>\n",
    "</tr>\n",
    "<tr>\n",
    "<td>obj[[key1,..,keyn]]</td>\n",
    "<td>Selección por clave</td>\n",
    "<td>Selección por clave de columna</td>\n",
    "</tr>\n",
    "<tr>\n",
    "<td>obj[condition]</td>\n",
    "<td>Selección por estructura booleana</td>\n",
    "<td>Selección por estructura booleana</td>\n",
    "</tr>\n",
    "</table>"
   ]
  },
  {
   "cell_type": "code",
   "execution_count": 49,
   "id": "ccd2fdd1",
   "metadata": {},
   "outputs": [
    {
     "name": "stdout",
     "output_type": "stream",
     "text": [
      "2 \n",
      "\n",
      "2 \n",
      "\n",
      "b    2\n",
      "c    3\n",
      "d    4\n",
      "dtype: int64 \n",
      "\n",
      "b    2\n",
      "c    3\n",
      "dtype: int64 \n",
      "\n",
      "b    2\n",
      "a    1\n",
      "d    4\n",
      "dtype: int64 \n",
      "\n",
      "a    1\n",
      "c    3\n",
      "dtype: int64\n"
     ]
    }
   ],
   "source": [
    "print(serie['b'],'\\n')\n",
    "print(serie[1],'\\n')\n",
    "print(serie['b':'d'],'\\n')\n",
    "print(serie[1:3],'\\n')\n",
    "print(serie[['b','a','d']],'\\n')\n",
    "print(serie[[True, False, True, False]])"
   ]
  },
  {
   "cell_type": "code",
   "execution_count": 61,
   "id": "9a028666",
   "metadata": {},
   "outputs": [
    {
     "name": "stdout",
     "output_type": "stream",
     "text": [
      "f1     1\n",
      "f2     5\n",
      "f3     9\n",
      "f4    13\n",
      "Name: c2, dtype: int32 \n",
      "\n",
      "    c1  c2  c3  c4\n",
      "f1   0   1   2   3\n",
      "f2   4   5   6   7\n",
      "f3   8   9  10  11 \n",
      "\n",
      "    c1  c2  c3  c4\n",
      "f2   4   5   6   7\n",
      "f3   8   9  10  11 \n",
      "\n",
      "    c2  c1  c4\n",
      "f1   1   0   3\n",
      "f2   5   4   7\n",
      "f3   9   8  11\n",
      "f4  13  12  15 \n",
      "\n",
      "    c1  c2  c3  c4\n",
      "f1   0   1   2   3\n",
      "f3   8   9  10  11\n"
     ]
    }
   ],
   "source": [
    "print(dataframe['c2'],'\\n')                  #por columna\n",
    "print(dataframe['f1':'f3'],'\\n')             #por fila\n",
    "print(dataframe[1:3],'\\n')                   #por fila\n",
    "print(dataframe[['c2','c1','c4']],'\\n')      #por columna\n",
    "print(dataframe[[True, False, True, False]]) #por fila"
   ]
  },
  {
   "cell_type": "markdown",
   "id": "cf1b2645",
   "metadata": {},
   "source": [
    "#### Indexación con método .loc - Por claves"
   ]
  },
  {
   "cell_type": "markdown",
   "id": "4a23ac65",
   "metadata": {},
   "source": [
    "<table>\n",
    "<tr>\n",
    "<th>Tipo</th>\n",
    "<th>En Series</th>\n",
    "<th>En DataFrames</th>\n",
    "</tr>\n",
    "<tr>\n",
    "<td>obj.loc[key]</td>\n",
    "<td>Selección por clave</td>\n",
    "<td>Selección por clave de filas</td>\n",
    "</tr>\n",
    "<tr>\n",
    "<td>obj.loc[key1:key2]</td>\n",
    "<td>Selección por clave</td>\n",
    "<td>Selección por clave de filas</td>\n",
    "</tr>\n",
    "<tr>\n",
    "<td>obj.loc[[key1,...,keyn]]</td>\n",
    "<td>Selección por clave</td>\n",
    "<td>Selección por clave de filas</td>\n",
    "</tr>\n",
    "<tr>\n",
    "<td>obj.loc[condition]</td>\n",
    "<td>Selección por estructura booleana</td>\n",
    "<td>Selección por estructura booleana sobre filas</td>\n",
    "</tr>\n",
    "<tr>\n",
    "<td>obj.loc[sel1, sel2]</td>\n",
    "<td>ERROR</td>\n",
    "<td>Selección por clave de fila (sel1) y columna (sel2). Selectores: clave, slice, secuencia o condición</td>\n",
    "</tr>\n",
    "</table>"
   ]
  },
  {
   "cell_type": "code",
   "execution_count": 70,
   "id": "4de69137",
   "metadata": {},
   "outputs": [
    {
     "name": "stdout",
     "output_type": "stream",
     "text": [
      "2 \n",
      "\n",
      "b    2\n",
      "c    3\n",
      "d    4\n",
      "dtype: int64 \n",
      "\n",
      "b    2\n",
      "a    1\n",
      "d    4\n",
      "dtype: int64 \n",
      "\n",
      "a    1\n",
      "c    3\n",
      "dtype: int64\n"
     ]
    }
   ],
   "source": [
    "print(serie.loc['b'],'\\n')   \n",
    "print(serie.loc['b':'d'],'\\n')\n",
    "print(serie.loc[['b','a','d']],'\\n')\n",
    "print(serie.loc[[True, False, True, False]])"
   ]
  },
  {
   "cell_type": "code",
   "execution_count": 83,
   "id": "f8b95670",
   "metadata": {},
   "outputs": [
    {
     "name": "stdout",
     "output_type": "stream",
     "text": [
      "c1    0\n",
      "c2    1\n",
      "c3    2\n",
      "c4    3\n",
      "Name: f1, dtype: int32 \n",
      "\n",
      "    c1  c2  c3  c4\n",
      "f1   0   1   2   3\n",
      "f2   4   5   6   7\n",
      "f3   8   9  10  11 \n",
      "\n",
      "    c1  c2  c3  c4\n",
      "f3   8   9  10  11\n",
      "f1   0   1   2   3\n",
      "f2   4   5   6   7 \n",
      "\n",
      "    c1  c2  c3  c4\n",
      "f1   0   1   2   3\n",
      "f3   8   9  10  11\n",
      "    c1  c4\n",
      "f3   8  11\n",
      "f2   4   7\n"
     ]
    }
   ],
   "source": [
    "print(dataframe.loc['f1'],'\\n')                  #por filas\n",
    "print(dataframe.loc['f1':'f3'],'\\n')             #por filas\n",
    "print(dataframe.loc[['f3','f1','f2']],'\\n')      #por filas\n",
    "print(dataframe.loc[[True, False, True, False]]) #por filas\n",
    "\n",
    "print(dataframe.loc[['f3','f2'],['c1','c4']])    #por filas y columnas"
   ]
  },
  {
   "cell_type": "markdown",
   "id": "1b87c554",
   "metadata": {},
   "source": [
    "#### Indexación con método .iloc - Por índices"
   ]
  },
  {
   "cell_type": "markdown",
   "id": "945e0262",
   "metadata": {},
   "source": [
    "<table>\n",
    "<tr>\n",
    "<th>Tipo</th>\n",
    "<th>En Series</th>\n",
    "<th>En DataFrames</th>\n",
    "</tr>\n",
    "<tr>\n",
    "<td>obj.iloc[num_val]</td>\n",
    "<td>Selección por posición</td>\n",
    "<td>Selección por posición de filas</td>\n",
    "</tr>\n",
    "<tr>\n",
    "<td>obj.iloc[num_val1:num_val2]</td>\n",
    "<td>Selección por posición</td>\n",
    "<td>Selección por posición de filas</td>\n",
    "</tr>\n",
    "<tr>\n",
    "<td>obj.iloc[[num_val1,...,num_valn]]</td>\n",
    "<td>Selección por posición</td>\n",
    "<td>Selección por posición de filas</td>\n",
    "</tr>\n",
    "<tr>\n",
    "<td>obj.iloc[sel1, sel2]</td>\n",
    "<td>ERROR</td>\n",
    "<td>Selección por clave de fila (sel1) y columna (sel2). Selectores: posición, slice o secuencia</td>\n",
    "</tr>\n",
    "</table>"
   ]
  },
  {
   "cell_type": "code",
   "execution_count": 89,
   "id": "89fa2e11",
   "metadata": {},
   "outputs": [
    {
     "name": "stdout",
     "output_type": "stream",
     "text": [
      "4 \n",
      "\n",
      "b    2\n",
      "c    3\n",
      "dtype: int64 \n",
      "\n",
      "b    2\n",
      "a    1\n",
      "d    4\n",
      "dtype: int64 \n",
      "\n",
      "a    1\n",
      "c    3\n",
      "dtype: int64\n"
     ]
    }
   ],
   "source": [
    "    print(serie.iloc[3],'\\n')\n",
    "    print(serie.iloc[1:3],'\\n')\n",
    "    print(serie.iloc[[1,0,3]],'\\n')"
   ]
  },
  {
   "cell_type": "code",
   "execution_count": 97,
   "id": "1414a2aa",
   "metadata": {},
   "outputs": [
    {
     "name": "stdout",
     "output_type": "stream",
     "text": [
      "c1    4\n",
      "c2    5\n",
      "c3    6\n",
      "c4    7\n",
      "Name: f2, dtype: int32 \n",
      "\n",
      "    c1  c2  c3  c4\n",
      "f2   4   5   6   7\n",
      "f3   8   9  10  11 \n",
      "\n",
      "    c1  c2  c3  c4\n",
      "f4  12  13  14  15\n",
      "f2   4   5   6   7\n",
      "f3   8   9  10  11 \n",
      "\n",
      "    c2  c4\n",
      "f4  13  15\n",
      "f3   9  11\n"
     ]
    }
   ],
   "source": [
    "print(dataframe.iloc[1],'\\n')                      #por filas\n",
    "print(dataframe.iloc[1:3],'\\n')                    #por filas\n",
    "print(dataframe.iloc[[3,1,2]],'\\n')                #por filas\n",
    "\n",
    "print(dataframe.iloc[[3,2],[1,3]] )                #por filas y columnas"
   ]
  },
  {
   "cell_type": "markdown",
   "id": "c8107786",
   "metadata": {},
   "source": [
    "Al igual que en el core de Python y NumPy, un slice o selección se puede utilizar en el lado izquierdo de una asignación para modificar el contenido de los elementos dentro de la selección."
   ]
  },
  {
   "cell_type": "code",
   "execution_count": 130,
   "id": "c6e22b24",
   "metadata": {},
   "outputs": [
    {
     "name": "stdout",
     "output_type": "stream",
     "text": [
      "a    100\n",
      "b      2\n",
      "c      3\n",
      "d      4\n",
      "dtype: int64 \n",
      "\n",
      "     c1  c2  c3  c4\n",
      "f1  100   1   2   3\n",
      "f2  100   5   6   7\n",
      "f3  100   9  10  11\n",
      "f4   12  13  14  15\n"
     ]
    }
   ],
   "source": [
    "serie.iloc[0] = 100\n",
    "dataframe.loc['f1':'f3','c1'] = [100, 100, 100]\n",
    "\n",
    "print(serie, '\\n')\n",
    "print(dataframe)"
   ]
  },
  {
   "cell_type": "markdown",
   "id": "88c224f3",
   "metadata": {},
   "source": [
    "## Índices jerárquicos en pandas"
   ]
  },
  {
   "cell_type": "markdown",
   "id": "36143bd8",
   "metadata": {},
   "source": [
    "Los índices jerárquicos de 'pandas' permiten tener más de un nivel en cualquiera de los índices de una estructura. Esto puede servir para agrupar más claramente los datos, o para conseguir identificar las filas por una clave única. En cierto modo, también es una forma de poder trabajar con tablas de más de dos dimensiones."
   ]
  },
  {
   "cell_type": "code",
   "execution_count": 157,
   "id": "cebe1a3d",
   "metadata": {},
   "outputs": [
    {
     "data": {
      "text/html": [
       "<div>\n",
       "<style scoped>\n",
       "    .dataframe tbody tr th:only-of-type {\n",
       "        vertical-align: middle;\n",
       "    }\n",
       "\n",
       "    .dataframe tbody tr th {\n",
       "        vertical-align: top;\n",
       "    }\n",
       "\n",
       "    .dataframe thead th {\n",
       "        text-align: right;\n",
       "    }\n",
       "</style>\n",
       "<table border=\"1\" class=\"dataframe\">\n",
       "  <thead>\n",
       "    <tr style=\"text-align: right;\">\n",
       "      <th></th>\n",
       "      <th></th>\n",
       "      <th>Valoración</th>\n",
       "      <th>Presupuesto</th>\n",
       "      <th>Director</th>\n",
       "    </tr>\n",
       "  </thead>\n",
       "  <tbody>\n",
       "    <tr>\n",
       "      <th rowspan=\"2\" valign=\"top\">2014</th>\n",
       "      <th>Godzilla</th>\n",
       "      <td>6.00</td>\n",
       "      <td>160.0</td>\n",
       "      <td>Peter Jackson</td>\n",
       "    </tr>\n",
       "    <tr>\n",
       "      <th>El Hobbit III</th>\n",
       "      <td>NaN</td>\n",
       "      <td>250.0</td>\n",
       "      <td>Gareth Edwards</td>\n",
       "    </tr>\n",
       "    <tr>\n",
       "      <th rowspan=\"2\" valign=\"top\">2013</th>\n",
       "      <th>El lobo de Wall Street</th>\n",
       "      <td>8.75</td>\n",
       "      <td>100.0</td>\n",
       "      <td>Martin Scorsese</td>\n",
       "    </tr>\n",
       "    <tr>\n",
       "      <th>Gravity</th>\n",
       "      <td>NaN</td>\n",
       "      <td>NaN</td>\n",
       "      <td>Alfonso Cuarón</td>\n",
       "    </tr>\n",
       "  </tbody>\n",
       "</table>\n",
       "</div>"
      ],
      "text/plain": [
       "                             Valoración  Presupuesto         Director\n",
       "2014 Godzilla                      6.00        160.0    Peter Jackson\n",
       "     El Hobbit III                  NaN        250.0   Gareth Edwards\n",
       "2013 El lobo de Wall Street        8.75        100.0  Martin Scorsese\n",
       "     Gravity                        NaN          NaN   Alfonso Cuarón"
      ]
     },
     "metadata": {},
     "output_type": "display_data"
    },
    {
     "name": "stdout",
     "output_type": "stream",
     "text": [
      "MultiIndex([(2014,               'Godzilla'),\n",
      "            (2014,          'El Hobbit III'),\n",
      "            (2013, 'El lobo de Wall Street'),\n",
      "            (2013,                'Gravity')],\n",
      "           )\n"
     ]
    }
   ],
   "source": [
    "peliculas = pd.DataFrame(\n",
    "            {'Valoración':[6, None, 8.75, None],\n",
    "             'Presupuesto':[160, 250, 100, None],\n",
    "             'Director':['Peter Jackson', 'Gareth Edwards', 'Martin Scorsese', 'Alfonso Cuarón']},\n",
    "            index = [[2014, 2014, 2013, 2013], ['Godzilla', 'El Hobbit III', 'El lobo de Wall Street', 'Gravity']]\n",
    ")\n",
    "display(peliculas)\n",
    "print(peliculas.index)"
   ]
  },
  {
   "cell_type": "markdown",
   "id": "57713302",
   "metadata": {},
   "source": [
    "A partir de la construcción del índice jerárquico, podemos hacer indexaciones totales (mediante tuplas) o parciales (mediante selección de uno de los elementos del índice)."
   ]
  },
  {
   "cell_type": "code",
   "execution_count": 164,
   "id": "ddd57db9",
   "metadata": {},
   "outputs": [
    {
     "name": "stdout",
     "output_type": "stream",
     "text": [
      "Indexación total\n",
      "Valoración               6.0\n",
      "Presupuesto            160.0\n",
      "Director       Peter Jackson\n",
      "Name: (2014, Godzilla), dtype: object \n",
      "\n",
      "Indexación parcial\n",
      "               Valoración  Presupuesto        Director\n",
      "Godzilla              6.0        160.0   Peter Jackson\n",
      "El Hobbit III         NaN        250.0  Gareth Edwards\n"
     ]
    }
   ],
   "source": [
    "print(\"Indexación total\")\n",
    "print(peliculas.loc[(2014, 'Godzilla')],'\\n')\n",
    "\n",
    "print(\"Indexación parcial\")\n",
    "print(peliculas.loc[2014])"
   ]
  },
  {
   "cell_type": "markdown",
   "id": "3e9c02ca",
   "metadata": {},
   "source": [
    "Podemos pasar niveles del índice jerárquico de las filas a las columnas mediante la función <b>unstack</b>, como si de una Pivot Table de Excel se tratase. Con <b>stack</b> realizarmeos la operación contraria."
   ]
  },
  {
   "cell_type": "code",
   "execution_count": 169,
   "id": "096012d5",
   "metadata": {},
   "outputs": [
    {
     "name": "stdout",
     "output_type": "stream",
     "text": [
      "Pasamos el último nivel del índice de filas al de columnas\n"
     ]
    },
    {
     "data": {
      "text/html": [
       "<div>\n",
       "<style scoped>\n",
       "    .dataframe tbody tr th:only-of-type {\n",
       "        vertical-align: middle;\n",
       "    }\n",
       "\n",
       "    .dataframe tbody tr th {\n",
       "        vertical-align: top;\n",
       "    }\n",
       "\n",
       "    .dataframe thead tr th {\n",
       "        text-align: left;\n",
       "    }\n",
       "</style>\n",
       "<table border=\"1\" class=\"dataframe\">\n",
       "  <thead>\n",
       "    <tr>\n",
       "      <th></th>\n",
       "      <th colspan=\"4\" halign=\"left\">Valoración</th>\n",
       "      <th colspan=\"4\" halign=\"left\">Presupuesto</th>\n",
       "      <th colspan=\"4\" halign=\"left\">Director</th>\n",
       "    </tr>\n",
       "    <tr>\n",
       "      <th></th>\n",
       "      <th>El Hobbit III</th>\n",
       "      <th>El lobo de Wall Street</th>\n",
       "      <th>Godzilla</th>\n",
       "      <th>Gravity</th>\n",
       "      <th>El Hobbit III</th>\n",
       "      <th>El lobo de Wall Street</th>\n",
       "      <th>Godzilla</th>\n",
       "      <th>Gravity</th>\n",
       "      <th>El Hobbit III</th>\n",
       "      <th>El lobo de Wall Street</th>\n",
       "      <th>Godzilla</th>\n",
       "      <th>Gravity</th>\n",
       "    </tr>\n",
       "  </thead>\n",
       "  <tbody>\n",
       "    <tr>\n",
       "      <th>2013</th>\n",
       "      <td>NaN</td>\n",
       "      <td>8.75</td>\n",
       "      <td>NaN</td>\n",
       "      <td>NaN</td>\n",
       "      <td>NaN</td>\n",
       "      <td>100.0</td>\n",
       "      <td>NaN</td>\n",
       "      <td>NaN</td>\n",
       "      <td>NaN</td>\n",
       "      <td>Martin Scorsese</td>\n",
       "      <td>NaN</td>\n",
       "      <td>Alfonso Cuarón</td>\n",
       "    </tr>\n",
       "    <tr>\n",
       "      <th>2014</th>\n",
       "      <td>NaN</td>\n",
       "      <td>NaN</td>\n",
       "      <td>6.0</td>\n",
       "      <td>NaN</td>\n",
       "      <td>250.0</td>\n",
       "      <td>NaN</td>\n",
       "      <td>160.0</td>\n",
       "      <td>NaN</td>\n",
       "      <td>Gareth Edwards</td>\n",
       "      <td>NaN</td>\n",
       "      <td>Peter Jackson</td>\n",
       "      <td>NaN</td>\n",
       "    </tr>\n",
       "  </tbody>\n",
       "</table>\n",
       "</div>"
      ],
      "text/plain": [
       "        Valoración                                           Presupuesto  \\\n",
       "     El Hobbit III El lobo de Wall Street Godzilla Gravity El Hobbit III   \n",
       "2013           NaN                   8.75      NaN     NaN           NaN   \n",
       "2014           NaN                    NaN      6.0     NaN         250.0   \n",
       "\n",
       "                                                    Director  \\\n",
       "     El lobo de Wall Street Godzilla Gravity   El Hobbit III   \n",
       "2013                  100.0      NaN     NaN             NaN   \n",
       "2014                    NaN    160.0     NaN  Gareth Edwards   \n",
       "\n",
       "                                                            \n",
       "     El lobo de Wall Street       Godzilla         Gravity  \n",
       "2013        Martin Scorsese            NaN  Alfonso Cuarón  \n",
       "2014                    NaN  Peter Jackson             NaN  "
      ]
     },
     "metadata": {},
     "output_type": "display_data"
    },
    {
     "name": "stdout",
     "output_type": "stream",
     "text": [
      "Pasamos el último nivel del índice de columnas al de filas\n"
     ]
    },
    {
     "data": {
      "text/plain": [
       "2014  Godzilla                Valoración                 6.0\n",
       "                              Presupuesto              160.0\n",
       "                              Director         Peter Jackson\n",
       "      El Hobbit III           Presupuesto              250.0\n",
       "                              Director        Gareth Edwards\n",
       "2013  El lobo de Wall Street  Valoración                8.75\n",
       "                              Presupuesto              100.0\n",
       "                              Director       Martin Scorsese\n",
       "      Gravity                 Director        Alfonso Cuarón\n",
       "dtype: object"
      ]
     },
     "metadata": {},
     "output_type": "display_data"
    }
   ],
   "source": [
    "print(\"Pasamos el último nivel del índice de filas al de columnas\")\n",
    "display(peliculas.unstack())\n",
    "\n",
    "print(\"Pasamos el último nivel del índice de columnas al de filas\")\n",
    "display(peliculas.stack())"
   ]
  },
  {
   "cell_type": "code",
   "execution_count": null,
   "id": "78caa8a3",
   "metadata": {},
   "outputs": [],
   "source": []
  }
 ],
 "metadata": {
  "kernelspec": {
   "display_name": "Python 3",
   "language": "python",
   "name": "python3"
  },
  "language_info": {
   "codemirror_mode": {
    "name": "ipython",
    "version": 3
   },
   "file_extension": ".py",
   "mimetype": "text/x-python",
   "name": "python",
   "nbconvert_exporter": "python",
   "pygments_lexer": "ipython3",
   "version": "3.8.8"
  }
 },
 "nbformat": 4,
 "nbformat_minor": 5
}
