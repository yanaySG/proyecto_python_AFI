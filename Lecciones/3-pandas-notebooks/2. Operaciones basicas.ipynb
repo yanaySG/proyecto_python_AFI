{
 "cells": [
  {
   "cell_type": "markdown",
   "id": "15e3f043",
   "metadata": {},
   "source": [
    "# Operaciones básicas"
   ]
  },
  {
   "cell_type": "markdown",
   "id": "44aff929",
   "metadata": {},
   "source": [
    "Trataremos aquí las operaciones más básicas que se pueden realizar sobre las estructuras de datos de pandas. Se separan en un notebook aparte porque estas operaciones tienen un funcionamiento prácticamente idéntico en Series y DataFrames. En caso de que esto no sea así en algún caso concreto se indicará explícitamente."
   ]
  },
  {
   "cell_type": "code",
   "execution_count": 1,
   "id": "afc4edab",
   "metadata": {},
   "outputs": [],
   "source": [
    "import numpy as np\n",
    "import pandas as pd"
   ]
  },
  {
   "cell_type": "markdown",
   "id": "ea5d52a0",
   "metadata": {},
   "source": [
    "## Tratamiento de Series y DataFrames como diccionarios"
   ]
  },
  {
   "cell_type": "markdown",
   "id": "18e99d53",
   "metadata": {},
   "source": [
    "Dado que internamente tanto las Series como los DataFrames pueden verse como diccionarios, podemos apilcar sobre los mismos cualquier funcionalidad que aplicaríamos sobre diccionarios básicos del core de Python.<br/>\n",
    "<b>IMPORTANTE:</b> Hay que tener en cuenta que en DataFrames el diccionario es un diccionario de \"columnas\"."
   ]
  },
  {
   "cell_type": "code",
   "execution_count": 2,
   "id": "b9c0fab2",
   "metadata": {},
   "outputs": [
    {
     "name": "stdout",
     "output_type": "stream",
     "text": [
      "datos\n",
      "a    1\n",
      "b    2\n",
      "c    3\n",
      "d    4\n",
      "dtype: int64 \n",
      "\n",
      "   var1  var2\n",
      "a     1     1\n",
      "b     2     2\n",
      "c     3     3\n",
      "d     4     4\n"
     ]
    }
   ],
   "source": [
    "serie = pd.Series([1,2,3,4], index=['a','b','c','d'])\n",
    "\n",
    "dataframe = pd.DataFrame({'var1':serie,'var2':serie})\n",
    "\n",
    "print('datos')\n",
    "print(serie,'\\n')\n",
    "print(dataframe)"
   ]
  },
  {
   "cell_type": "markdown",
   "id": "d9066ad6",
   "metadata": {},
   "source": [
    "#### Indexación por clave"
   ]
  },
  {
   "cell_type": "code",
   "execution_count": 3,
   "id": "c701d44a",
   "metadata": {},
   "outputs": [
    {
     "name": "stdout",
     "output_type": "stream",
     "text": [
      "Indexación por clave\n",
      "1 \n",
      "\n",
      "a    1\n",
      "b    2\n",
      "c    3\n",
      "d    4\n",
      "Name: var2, dtype: int64\n"
     ]
    }
   ],
   "source": [
    "print(\"Indexación por clave\")\n",
    "print(serie['a'],'\\n')\n",
    "print(dataframe['var2'])"
   ]
  },
  {
   "cell_type": "markdown",
   "id": "9c065787",
   "metadata": {},
   "source": [
    "#### Comprobación de la existencia de una clave"
   ]
  },
  {
   "cell_type": "code",
   "execution_count": 4,
   "id": "9bb330b5",
   "metadata": {},
   "outputs": [
    {
     "name": "stdout",
     "output_type": "stream",
     "text": [
      "Comprobación de la existencia de una clave\n",
      "True \n",
      "\n",
      "False \n",
      "\n",
      "False \n",
      "\n"
     ]
    }
   ],
   "source": [
    "print(\"Comprobación de la existencia de una clave\")\n",
    "print('b' in serie, '\\n')\n",
    "print('b' in dataframe, '\\n')\n",
    "print('var1' in serie, '\\n')"
   ]
  },
  {
   "cell_type": "markdown",
   "id": "eb863577",
   "metadata": {},
   "source": [
    "#### Adición de elementos"
   ]
  },
  {
   "cell_type": "markdown",
   "id": "44ba9765",
   "metadata": {},
   "source": [
    "<b>IMPORTANTE:</b> Al añadir columnas a un DataFrame, el tamaño del vector añadido deberá coincidir con el del DataFrame original. En caso contrario se recibirá un error."
   ]
  },
  {
   "cell_type": "code",
   "execution_count": 5,
   "id": "69d56a61",
   "metadata": {},
   "outputs": [
    {
     "name": "stdout",
     "output_type": "stream",
     "text": [
      "Adición de elementos\n",
      "a    1\n",
      "b    2\n",
      "c    3\n",
      "d    4\n",
      "e    5\n",
      "dtype: int64 \n",
      "\n",
      "   var1  var2  var3\n",
      "a     1     1     5\n",
      "b     2     2     6\n",
      "c     3     3     7\n",
      "d     4     4     8\n"
     ]
    }
   ],
   "source": [
    "print(\"Adición de elementos\")\n",
    "serie['e']=5\n",
    "dataframe['var3']=[5,6,7,8]\n",
    "\n",
    "print(serie,'\\n')\n",
    "print(dataframe)"
   ]
  },
  {
   "cell_type": "markdown",
   "id": "7ad711ea",
   "metadata": {},
   "source": [
    "#### Eliminación de elementos"
   ]
  },
  {
   "cell_type": "code",
   "execution_count": 6,
   "id": "1c741607",
   "metadata": {},
   "outputs": [
    {
     "name": "stdout",
     "output_type": "stream",
     "text": [
      "Eliminación de elementos\n",
      "a    1\n",
      "b    2\n",
      "c    3\n",
      "d    4\n",
      "dtype: int64 \n",
      "\n",
      "   var1  var2\n",
      "a     1     1\n",
      "b     2     2\n",
      "c     3     3\n",
      "d     4     4\n"
     ]
    }
   ],
   "source": [
    "print(\"Eliminación de elementos\")\n",
    "del serie['e']\n",
    "del dataframe['var3']\n",
    "\n",
    "print(serie,'\\n')\n",
    "print(dataframe)"
   ]
  },
  {
   "cell_type": "markdown",
   "id": "bd249a29",
   "metadata": {},
   "source": [
    "## Tratamiento de Series y DataFrames como ndarrays"
   ]
  },
  {
   "cell_type": "markdown",
   "id": "b7ec87cd",
   "metadata": {},
   "source": [
    "Dado que, internamente, cualquier estructura de pandas está implementada sobre ndarrays de NumPy, es posible realizar sobre Series y DataFrames todas las operaciones que se pueden realizar sobre un ndarrays.<br/>\n",
    "<b>IMPORTANTE:</b> Dado que un ndarray no puede mezclar elementos de diferentes tipos y un DataFrame sí, algunas de las operaciones sobre DataFrames estarán supeditadas a que todas sus columnas tengan el mismo tipo."
   ]
  },
  {
   "cell_type": "code",
   "execution_count": 7,
   "id": "acb3955f",
   "metadata": {},
   "outputs": [
    {
     "name": "stdout",
     "output_type": "stream",
     "text": [
      "a    1\n",
      "b    2\n",
      "c    3\n",
      "d    4\n",
      "dtype: int64 \n",
      "\n",
      "   var1  var2\n",
      "a     1     1\n",
      "b     2     2\n",
      "c     3     3\n",
      "d     4     4\n"
     ]
    }
   ],
   "source": [
    "serie = pd.Series([1,2,3,4], index=['a','b','c','d'])\n",
    "dataframe = pd.DataFrame({\"var1\":pd.Series(serie, dtype=np.int32), \"var2\":pd.Series(serie, dtype=np.int32)})\n",
    "\n",
    "print(serie,'\\n')\n",
    "print(dataframe)"
   ]
  },
  {
   "cell_type": "markdown",
   "id": "5709ae16",
   "metadata": {},
   "source": [
    "#### Consulta de la composición"
   ]
  },
  {
   "cell_type": "markdown",
   "id": "5c386701",
   "metadata": {},
   "source": [
    "Disponemos de los mismos atributos de consulta que en ndarrays, si bien hay que tener en cuenta que:<br/>\n",
    "<ul>\n",
    "<li>El atributo <b>dtype</b> será <b>dtypes</b> en DataFrames dada la posibilidad de múltiples tipos.</li>\n",
    "<li>El atributo <b>ndim</b> en Series siempre valdrá 1 dado que siempre son estructuras unidimensionales y 2 en DataFrames dado que siempre son estructuras bidimensionales.</li>\n",
    "</ul>"
   ]
  },
  {
   "cell_type": "code",
   "execution_count": 8,
   "id": "dcaeb514",
   "metadata": {},
   "outputs": [
    {
     "name": "stdout",
     "output_type": "stream",
     "text": [
      "Consulta del tipo almacenado en la estructura\n",
      "int64 \n",
      "\n",
      "var1    int32\n",
      "var2    int32\n",
      "dtype: object\n"
     ]
    }
   ],
   "source": [
    "print(\"Consulta del tipo almacenado en la estructura\")\n",
    "print(serie.dtype,'\\n')\n",
    "print(dataframe.dtypes)"
   ]
  },
  {
   "cell_type": "code",
   "execution_count": 9,
   "id": "f477df6f",
   "metadata": {},
   "outputs": [
    {
     "name": "stdout",
     "output_type": "stream",
     "text": [
      "Consulta del número de dimensiones de la estructura\n",
      "1 \n",
      "\n",
      "2\n"
     ]
    }
   ],
   "source": [
    "print(\"Consulta del número de dimensiones de la estructura\")\n",
    "print(serie.ndim,'\\n')\n",
    "print(dataframe.ndim)"
   ]
  },
  {
   "cell_type": "code",
   "execution_count": 10,
   "id": "f6404568",
   "metadata": {},
   "outputs": [
    {
     "name": "stdout",
     "output_type": "stream",
     "text": [
      "\n",
      "Consulta de la forma de la estructura\n",
      "(4,) \n",
      "\n",
      "(4, 2)\n"
     ]
    }
   ],
   "source": [
    "print(\"\\nConsulta de la forma de la estructura\")\n",
    "print(serie.shape,'\\n')\n",
    "print(dataframe.shape)"
   ]
  },
  {
   "cell_type": "code",
   "execution_count": 11,
   "id": "a4eb9733",
   "metadata": {},
   "outputs": [
    {
     "name": "stdout",
     "output_type": "stream",
     "text": [
      "Consulta del número de elementos de la estructura\n",
      "4 \n",
      "\n"
     ]
    },
    {
     "data": {
      "text/plain": [
       "8"
      ]
     },
     "execution_count": 11,
     "metadata": {},
     "output_type": "execute_result"
    }
   ],
   "source": [
    "print(\"Consulta del número de elementos de la estructura\")\n",
    "print(serie.size,'\\n')\n",
    "(dataframe.size)"
   ]
  },
  {
   "cell_type": "markdown",
   "id": "101338da",
   "metadata": {},
   "source": [
    "#### Operaciones con escalares"
   ]
  },
  {
   "cell_type": "markdown",
   "id": "a867d998",
   "metadata": {},
   "source": [
    "Al aplicar una operación sobre una estructura de pandas y un escalar se obtendrá otra estructura de pandas de idénticas características a la inicial pero con la operación aplicada elemento a elemento, <b>manteniendo el índice inalterado</b>.<br/>\n",
    "<b>IMPORTANTE</b>: Dado que un DataFrame puede mezclar tipos muy diferentes en sus columnas, la aplicación de una operación con un escalar elemento a elemento puede no ser válida (p.e. operaciones matemáticas sobre cadenas)."
   ]
  },
  {
   "cell_type": "code",
   "execution_count": 12,
   "id": "d02aeac3",
   "metadata": {},
   "outputs": [
    {
     "name": "stdout",
     "output_type": "stream",
     "text": [
      "a    3\n",
      "b    4\n",
      "c    5\n",
      "d    6\n",
      "dtype: int64 \n",
      "\n",
      "a    1.000000\n",
      "b    0.500000\n",
      "c    0.333333\n",
      "d    0.250000\n",
      "dtype: float64\n"
     ]
    }
   ],
   "source": [
    "print(serie+2, '\\n')\n",
    "print(1/serie)"
   ]
  },
  {
   "cell_type": "code",
   "execution_count": 13,
   "id": "799c6630",
   "metadata": {},
   "outputs": [
    {
     "name": "stdout",
     "output_type": "stream",
     "text": [
      "   var1  var2\n",
      "a     2     2\n",
      "b     4     4\n",
      "c     6     6\n",
      "d     8     8 \n",
      "\n",
      "       var1      var2\n",
      "a  1.000000  1.000000\n",
      "b  0.500000  0.500000\n",
      "c  0.333333  0.333333\n",
      "d  0.250000  0.250000\n"
     ]
    }
   ],
   "source": [
    "print(dataframe * 2, '\\n')\n",
    "print(1/dataframe)"
   ]
  },
  {
   "cell_type": "markdown",
   "id": "044f2d9a",
   "metadata": {},
   "source": [
    "#### Operaciones entre estructuras de pandas"
   ]
  },
  {
   "cell_type": "markdown",
   "id": "d280f9e1",
   "metadata": {},
   "source": [
    "Al aplicar una operación entre estructuras de pandas se aplicará la misma elemento a elemento. En el caso de pandas no es necesario, como lo era en NumPy, que los operandos tengan el mismo tamaño y forma ya que se aplicará un proceso de \"alineación\". Este proceso devolverá:<br/>\n",
    "<ul>\n",
    "<li>Como índices: la unión de las claves de ambos operandos.</li>\n",
    "<li>Como valores: el resultado de aplicar la operación entre cada pareja de elementos (si coinciden las claves entre ambos operandos) o NaN (en caso contrario).</li>\n",
    "</ul>\n",
    "\n",
    "<b>IMPORTANTE:</b> De nuevo, el hecho de que un DataFrame pueda mezclar tipos en sus contenidos hace que no todas las operaciones matemáticas se puedan aplicar a los mismos."
   ]
  },
  {
   "cell_type": "code",
   "execution_count": 14,
   "id": "4e7dc129",
   "metadata": {},
   "outputs": [
    {
     "name": "stdout",
     "output_type": "stream",
     "text": [
      "a    2.0\n",
      "b    4.0\n",
      "c    6.0\n",
      "d    8.0\n",
      "e    NaN\n",
      "dtype: float64 \n",
      "\n",
      "   var1  var2  var3\n",
      "a     2     2   NaN\n",
      "b     4     4   NaN\n",
      "c     6     6   NaN\n",
      "d     8     8   NaN \n",
      "\n",
      "   var1  var2  var3\n",
      "a     1     1   NaN\n",
      "b     4     4   NaN\n",
      "c     9     9   NaN\n",
      "d    16    16   NaN\n"
     ]
    }
   ],
   "source": [
    "serie1 = serie.copy()\n",
    "serie1['e'] = 7\n",
    "\n",
    "dataframe1 = dataframe.copy()\n",
    "dataframe1['var3'] = [1,2,3,4]\n",
    "\n",
    "print(serie + serie1, '\\n')\n",
    "print(dataframe + dataframe1, '\\n')\n",
    "print(dataframe * dataframe1)"
   ]
  },
  {
   "cell_type": "code",
   "execution_count": 15,
   "id": "f378562b",
   "metadata": {},
   "outputs": [],
   "source": []
  }
 ],
 "metadata": {
  "kernelspec": {
   "display_name": "Python 3",
   "language": "python",
   "name": "python3"
  },
  "language_info": {
   "codemirror_mode": {
    "name": "ipython",
    "version": 3
   },
   "file_extension": ".py",
   "mimetype": "text/x-python",
   "name": "python",
   "nbconvert_exporter": "python",
   "pygments_lexer": "ipython3",
   "version": "3.8.8"
  }
 },
 "nbformat": 4,
 "nbformat_minor": 5
}
