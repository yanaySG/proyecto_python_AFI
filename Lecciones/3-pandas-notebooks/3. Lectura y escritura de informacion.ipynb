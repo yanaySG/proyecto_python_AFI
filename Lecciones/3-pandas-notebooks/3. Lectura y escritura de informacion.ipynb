{
 "cells": [
  {
   "cell_type": "markdown",
   "id": "180f0794",
   "metadata": {},
   "source": [
    "# Lectura y escritura de información"
   ]
  },
  {
   "cell_type": "markdown",
   "id": "8a0d9fc7",
   "metadata": {},
   "source": [
    "Más que creando Series o DataFrames de cero, o incluso a partir de secuencias del core de Python o ndarrays, el uso más típico de pandas se basa en la carga de información desde ficheros/fuentes de información para su posterior exploración, transformación y análisis."
   ]
  },
  {
   "cell_type": "code",
   "execution_count": 1,
   "id": "0384abd3",
   "metadata": {},
   "outputs": [],
   "source": [
    "import numpy as np\n",
    "import pandas as pd"
   ]
  },
  {
   "cell_type": "markdown",
   "id": "5f3c2589",
   "metadata": {},
   "source": [
    "## Lectura de ficheros en formato texto"
   ]
  },
  {
   "cell_type": "markdown",
   "id": "da53e8a5",
   "metadata": {},
   "source": [
    "Probablemente, una de las formas más recurrentes de trabajo para el análisis de datos: fuentes de datos públicas, logs, tablas históricas de información, exportaciones desde base de datos... La librería pandas, nos ofrece funciones para trabajar con ficheros en múltiples formatos, todos ellos creando un DataFrame con la información leída:<br/>\n",
    "<ul>\n",
    "<li>Ficheros separados por coma (.csv): mediante la función <b>read_csv</b>.</li>\n",
    "<li>Ficheros separados por tabulador (.tsv): mediante la función <b>read_table</b></li>\n",
    "<li>Ficheros de ancho fijo: mediante la función <b>read_fwf</b>.</li>\n",
    "</ul>\n",
    "\n",
    "De estos tres métodos de lectura de información, el más común es el segundo, ya que, por un lado, engloba al primero permitiendo el establecimiento del carácter separador por parte del desarrollado y, por otro, porque los ficheros de ancho fijo son cada vez menos frecuentes (aunque se siguen usando) y su lectura es más simple siendo procesados manualmente (lectura de ficheros tradicional + slicing) que mediante la definición previa del formato requerida para una lectura directa.<br/>\n",
    "\n",
    "Tanto <b>read_csv</b> como <b>read_table</b> tienen un conjunto muy amplio de parámetros que permiten configurar de un modo preciso la lectura de información que se va a hacer. Los parámetros más importantes/comunes son los siguientes:<br/>\n",
    "<ul>\n",
    "<li><b>path:</b> Ruta del fichero del que se va a realizar la lectura.</li>\n",
    "<li><b>sep:</b> Carácter(es) que se utilizan como separador de campos en el fichero.</li>\n",
    "<li><b>header:</b> Índice de la fila que contiene los nombres de las columnas (None en caso de no haber).</li>\n",
    "<li><b>index_col:</b> Índice de la columna o secuencia de índices que se deben usar como índice de filas de los datos.</li>\n",
    "<li><b>names:</b> Secuencia que contiene los nombres de las columnas (usado junto con header=None).</li>\n",
    "<li><b>skiprows:</b> Número de filas o secuencia de índices de fila que se deben ignorar en la carga.</li>\n",
    "<li><b>na_values:</b> Secuencia de valores que, de encontrarse en el fichero, deben ser tratados como NaN.</li>\n",
    "<li><b>dtype:</b> Diccionario en el que las claves serán nombres de columnas y los valores serán tipos de NumPy a los que se debe convertir su contenido.</li>\n",
    "<li><b>parse_dates:</b> Flag que indica si Python debe intentar parsear datos con formato semejante a las fechas como fechas. Puede contenter un listado de nombres de columnas que deberán unirse para el parseo como fecha.</li>\n",
    "<li><b>keep_date_col:</b> Si se unen columnas para parsear como fecha, indica si se deben eliminar del DataFrame resultante las columnas originales.</li>\n",
    "<li><b>converters:</b> Diccionario en el que las claves serán nombres de columnas y los valores funciones que se deberán aplicar al contenido de dichas columnas durante la carga.</li>\n",
    "<li><b>dayfirst:</b> Indica si al parsear fechas se debe esperar el día primero o el mes. </li>\n",
    "<li><b>date_parser:</b> Función a utilizar para tratar de parsear fechas.</li>\n",
    "<li><b>nrows:</b> Número de filas a leer desde el principio del fichero.</li>\n",
    "<li><b>chunksize:</b> Tamaño a utilizar para la lectura incremental del fichero.</li>\n",
    "<li><b>skip_footer:</b> Número de filas a ignorar del final del fichero.</li>\n",
    "<li><b>enconding:</b> Codificación a esperar del fichero leído.</li>\n",
    "<li><b>squeeze:</b> Flag que indica que si los datos leídos sólo contienen una columna el resultado sea una Serie en lugar de un DataFrame.</li>\n",
    "<li><b>thousands:</b> Carácter a utilizar para detectar el separador de miles.</li>\n",
    "<li><b>decimal:</b> Carácter a utilizar para detectar el separador de decimales.</li>\n",
    "<li><b>skip_blank_lines:</b> Flag que indica si se deben ignorar las líneas en blanco.</li>\n",
    "</ul>"
   ]
  },
  {
   "cell_type": "code",
   "execution_count": null,
   "id": "1d16bc48",
   "metadata": {},
   "outputs": [],
   "source": []
  }
 ],
 "metadata": {
  "kernelspec": {
   "display_name": "Python 3",
   "language": "python",
   "name": "python3"
  },
  "language_info": {
   "codemirror_mode": {
    "name": "ipython",
    "version": 3
   },
   "file_extension": ".py",
   "mimetype": "text/x-python",
   "name": "python",
   "nbconvert_exporter": "python",
   "pygments_lexer": "ipython3",
   "version": "3.8.8"
  }
 },
 "nbformat": 4,
 "nbformat_minor": 5
}
