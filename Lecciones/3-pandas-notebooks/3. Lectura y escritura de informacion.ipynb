{
 "cells": [
  {
   "cell_type": "markdown",
   "id": "f996172b",
   "metadata": {},
   "source": [
    "# Lectura y escritura de información"
   ]
  },
  {
   "cell_type": "markdown",
   "id": "f0c96894",
   "metadata": {},
   "source": [
    "Más que creando Series o DataFrames de cero, o incluso a partir de secuencias del core de Python o ndarrays, el uso más típico de pandas se basa en la carga de información desde ficheros/fuentes de información para su posterior exploración, transformación y análisis."
   ]
  },
  {
   "cell_type": "code",
   "execution_count": null,
   "id": "364e3e06",
   "metadata": {},
   "outputs": [],
   "source": []
  }
 ],
 "metadata": {
  "kernelspec": {
   "display_name": "Python 3",
   "language": "python",
   "name": "python3"
  },
  "language_info": {
   "codemirror_mode": {
    "name": "ipython",
    "version": 3
   },
   "file_extension": ".py",
   "mimetype": "text/x-python",
   "name": "python",
   "nbconvert_exporter": "python",
   "pygments_lexer": "ipython3",
   "version": "3.8.8"
  }
 },
 "nbformat": 4,
 "nbformat_minor": 5
}
