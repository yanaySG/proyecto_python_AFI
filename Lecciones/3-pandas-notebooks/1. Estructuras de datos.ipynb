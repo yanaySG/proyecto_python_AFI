{
 "cells": [
  {
   "cell_type": "markdown",
   "id": "183a2fce",
   "metadata": {},
   "source": [
    "# Estructuras de datos"
   ]
  },
  {
   "cell_type": "markdown",
   "id": "2546da1f",
   "metadata": {},
   "source": [
    "El pilar básico de la librería <b>pandas</b>, al igual que como ocurría con <b>numpy</b>, son las estructuras de datos que pone a nuestra disposición.<br/>\n",
    "En este caso, dispondremos de dos estructuras de datos relacionadas, pero con su funcionamiento específico:<br/>\n",
    "<ul>\n",
    "<li><b>Series:</b> Para información unidimensional.</li>\n",
    "<li><b>DataFrame:</b> Para información tabular.</li>\n",
    "</ul>\n",
    "\n",
    "Son estructuras muy similares a las ofrecidas por R: vectores (con nombre) y data.frame."
   ]
  },
  {
   "cell_type": "markdown",
   "id": "5cb009b2",
   "metadata": {},
   "source": [
    "## Utilización básica de elementos de pandas"
   ]
  },
  {
   "cell_type": "markdown",
   "id": "ef22be28",
   "metadata": {},
   "source": [
    "Al igual que en NumPy, pandas no pertenece al core de Python, por lo que SIEMPRE habrá que importarlo en un programa antes de poder usarlo."
   ]
  },
  {
   "cell_type": "code",
   "execution_count": 1,
   "id": "d8eebb72",
   "metadata": {},
   "outputs": [],
   "source": [
    "import numpy as np\n",
    "import pandas as pd"
   ]
  },
  {
   "cell_type": "markdown",
   "id": "34285f3e",
   "metadata": {},
   "source": [
    "## Series"
   ]
  },
  {
   "cell_type": "markdown",
   "id": "b7fb7763",
   "metadata": {},
   "source": [
    "Una serie es una estructura de datos unidimensional que contiene:<br/>\n",
    "<ul>\n",
    "<li>Un array de datos: que pueden tener cualquier tipo de dato de los ofrecidos por NumPy.</li>\n",
    "<li>Un array de etiquetas/<i>labels</i>: asociando una etiqueta a cada dato del array anterior y que se denomina <b>índice</b>, aunque no es obligatorio que el desarrollador especifique el mismo.</li>\n",
    "</ul>"
   ]
  },
  {
   "cell_type": "markdown",
   "id": "82abcf47",
   "metadata": {},
   "source": [
    "### Creación de Series"
   ]
  },
  {
   "cell_type": "markdown",
   "id": "98c053fa",
   "metadata": {},
   "source": [
    "Para la creación de Series contamos con una función \"constructor\" (Series) que puede recibir, principalmente, los siguientes parámetros:<br/>\n",
    "<ul>\n",
    "<li><b>data:</b> Es obligatorio, contiene los datos que queremos cargar en la Serie y podrá ser un valor escalar, una secuencia de Python o un ndarray unidimensional de NumPy.</li>\n",
    "<li><b>index:</b> Es opcional, contiene las etiquetas que queremos asignar a los valores de la Serie y podrá ser una secuencia de Python o un ndarray unidimensional de NumPy. En caso de no suministrarse el valor por defecto es np.arange(0, tam_datos).</li>\n",
    "<li><b>dtype:</b> Que podrá ser cualquier tipo de dato de NumPy.</li>\n",
    "</ul>"
   ]
  },
  {
   "cell_type": "code",
   "execution_count": 2,
   "id": "743294e7",
   "metadata": {},
   "outputs": [
    {
     "name": "stdout",
     "output_type": "stream",
     "text": [
      "Serie desde escalar\n",
      "0    5\n",
      "dtype: int64\n"
     ]
    }
   ],
   "source": [
    "print(\"Serie desde escalar\")\n",
    "serie = pd.Series(5)\n",
    "print(serie)"
   ]
  },
  {
   "cell_type": "code",
   "execution_count": 3,
   "id": "b2cf75b8",
   "metadata": {},
   "outputs": [
    {
     "name": "stdout",
     "output_type": "stream",
     "text": [
      "Serie desde secuencia\n",
      "0    b'1'\n",
      "1    b'2'\n",
      "2    b'3'\n",
      "3    b'4'\n",
      "4    b'5'\n",
      "dtype: bytes8\n"
     ]
    }
   ],
   "source": [
    "print(\"Serie desde secuencia\")\n",
    "serie = pd.Series([1,2,3,4,5], dtype=np.string_)\n",
    "print(serie)"
   ]
  },
  {
   "cell_type": "code",
   "execution_count": 4,
   "id": "9b2e1596",
   "metadata": {},
   "outputs": [
    {
     "name": "stdout",
     "output_type": "stream",
     "text": [
      "Serie desde ndarray\n",
      "0    1\n",
      "1    2\n",
      "2    3\n",
      "3    4\n",
      "4    5\n",
      "dtype: int32\n"
     ]
    }
   ],
   "source": [
    "print(\"Serie desde ndarray\")\n",
    "array = np.array([1,2,3,4,5])\n",
    "serie = pd.Series(array)\n",
    "print(serie)"
   ]
  },
  {
   "cell_type": "code",
   "execution_count": 5,
   "id": "33217306",
   "metadata": {},
   "outputs": [
    {
     "name": "stdout",
     "output_type": "stream",
     "text": [
      "Serie con índice establecido\n",
      "a    1\n",
      "b    2\n",
      "c    3\n",
      "d    4\n",
      "e    5\n",
      "dtype: int64\n"
     ]
    }
   ],
   "source": [
    "print(\"Serie con índice establecido\")\n",
    "serie = pd.Series([1,2,3,4,5], index=['a','b','c','d','e'])\n",
    "print(serie)"
   ]
  },
  {
   "cell_type": "code",
   "execution_count": 6,
   "id": "6c82c79f",
   "metadata": {},
   "outputs": [
    {
     "name": "stdout",
     "output_type": "stream",
     "text": [
      "Serie desde diccionario (establece el índice desde las claves)\n",
      "a    1.0\n",
      "b    2.0\n",
      "c    3.0\n",
      "d    4.0\n",
      "e    5.0\n",
      "dtype: float64\n"
     ]
    }
   ],
   "source": [
    "print(\"Serie desde diccionario (establece el índice desde las claves)\")\n",
    "serie = pd.Series({'a':1,'b':2,'c':3,'d':4,'e':5}, dtype=np.float64)\n",
    "print(serie)"
   ]
  },
  {
   "cell_type": "markdown",
   "id": "66a86586",
   "metadata": {},
   "source": [
    "### Elementos de una Serie"
   ]
  },
  {
   "cell_type": "markdown",
   "id": "2f225271",
   "metadata": {},
   "source": [
    "Disponemos de dos atributos para recuperar los datos y el índice de una Serie de forma independiente."
   ]
  },
  {
   "cell_type": "code",
   "execution_count": 7,
   "id": "d34f5d84",
   "metadata": {},
   "outputs": [
    {
     "name": "stdout",
     "output_type": "stream",
     "text": [
      "Valores de una serie\n",
      "[1. 2. 3. 4. 5.]\n",
      "\n",
      "Índice de una serie\n",
      "Index(['a', 'b', 'c', 'd', 'e'], dtype='object')\n"
     ]
    }
   ],
   "source": [
    "serie = pd.Series([1, 2, 3, 4, 5], index=['a', 'b', 'c', 'd', 'e'], dtype=np.float64)\n",
    "\n",
    "print(\"Valores de una serie\")\n",
    "print(serie.values)\n",
    "\n",
    "print(\"\\nÍndice de una serie\")\n",
    "print(serie.index)"
   ]
  },
  {
   "cell_type": "markdown",
   "id": "167c8e51",
   "metadata": {},
   "source": [
    "Los índices son inmutables, lo que impide que cambiemos un valor de índice de forma independiente. Sin embargo, podemos modificar un índice completo por otro."
   ]
  },
  {
   "cell_type": "code",
   "execution_count": 8,
   "id": "f09a6fde",
   "metadata": {},
   "outputs": [
    {
     "name": "stdout",
     "output_type": "stream",
     "text": [
      "Modificar el índice de una serie\n",
      "f    1.0\n",
      "g    2.0\n",
      "h    3.0\n",
      "i    4.0\n",
      "j    5.0\n",
      "dtype: float64\n"
     ]
    }
   ],
   "source": [
    "serie = pd.Series([1, 2, 3, 4, 5], index=['a', 'b', 'c', 'd', 'e'], dtype=np.float64)\n",
    "\n",
    "# serie.index[0]=4  #Index does not support mutable operations\n",
    "\n",
    "print(\"Modificar el índice de una serie\")\n",
    "serie.index = ['f', 'g', 'h', 'i', 'j']\n",
    "print(serie)"
   ]
  },
  {
   "cell_type": "markdown",
   "id": "6893540a",
   "metadata": {},
   "source": [
    "## DataFrame"
   ]
  },
  {
   "cell_type": "markdown",
   "id": "fc2ced2f",
   "metadata": {},
   "source": [
    "Un DataFrame es una estructura tabular (bidimensional) de información con las siguientes propiedades:<br/>\n",
    "<ul>\n",
    "<li>Está compuesta por una serie ordenada de filas y una serie ordenada de columnas.</li>\n",
    "<li>Tiene, por tanto, un índice para las filas y otro para las columnas.</li>\n",
    "<li>Cada columna puede tener un tipo de NumPy diferente.</li>\n",
    "<li>Puede ser visto, por tanto, como un diccionario de Series, todas ellas compartiendo el mismo índice.</li>\n",
    "</ul>"
   ]
  },
  {
   "cell_type": "markdown",
   "id": "4fb4beb5",
   "metadata": {},
   "source": [
    "### Creación de DataFrames"
   ]
  },
  {
   "cell_type": "markdown",
   "id": "b89f1d05",
   "metadata": {},
   "source": [
    "Para la creación de DataFrames contamos con una función \"constructor\" (DataFrame) que puede recibir, principalmente, los siguientes parámetros:<br/>\n",
    "<ul>\n",
    "<li><b>data:</b> Es obligatorio, contiene los datos que queremos cargar en el DataFrmae y podrá ser un diccionario de Series, un diccionario de secuencias, un ndarray bidimensional, una Serie y otro DataFrame.</li>\n",
    "<li><b>index:</b> Es opcional, contiene las etiquetas que queremos asignar a las filas del DataFrame y podrá ser una secuencia de Python o un ndarray unidimensional de NumPy. En caso de no suministrarse el valor por defecto es np.arange(0, num_filas).</li>\n",
    "<li><b>columns:</b> Es opcional, contiene las etiquetas que queremos asignar a las columnas del DataFrame y podrá ser una secuencia de Python o un ndarray unidimensional de NumPy. En caso de no suministrarse el valor por defecto es np.arange(0, num_columnas).</li>\n",
    "<li><b>dtype:</b> Es opcional, fijará el tipo de todas las columnas y podrá ser cualquier tipo de dato de NumPy.</li>\n",
    "</ul>\n",
    "\n",
    "<b>IMPORTANTE:</b> Si el tamaño de cada columna no coincide, se creara un DataFrame lo suficientemente grande como para contener al mayor y se asignará NaN en los huecos."
   ]
  },
  {
   "cell_type": "code",
   "execution_count": 9,
   "id": "fa23f380",
   "metadata": {},
   "outputs": [
    {
     "name": "stdout",
     "output_type": "stream",
     "text": [
      "DataFrame desde diccionario de secuencias\n",
      "   var1  var2  var3\n",
      "0     1   uno   1.0\n",
      "1     2   dos   2.0\n",
      "2     3  tres   3.0\n"
     ]
    },
    {
     "data": {
      "text/html": [
       "<div>\n",
       "<style scoped>\n",
       "    .dataframe tbody tr th:only-of-type {\n",
       "        vertical-align: middle;\n",
       "    }\n",
       "\n",
       "    .dataframe tbody tr th {\n",
       "        vertical-align: top;\n",
       "    }\n",
       "\n",
       "    .dataframe thead th {\n",
       "        text-align: right;\n",
       "    }\n",
       "</style>\n",
       "<table border=\"1\" class=\"dataframe\">\n",
       "  <thead>\n",
       "    <tr style=\"text-align: right;\">\n",
       "      <th></th>\n",
       "      <th>var1</th>\n",
       "      <th>var2</th>\n",
       "      <th>var3</th>\n",
       "    </tr>\n",
       "  </thead>\n",
       "  <tbody>\n",
       "    <tr>\n",
       "      <th>0</th>\n",
       "      <td>1</td>\n",
       "      <td>uno</td>\n",
       "      <td>1.0</td>\n",
       "    </tr>\n",
       "    <tr>\n",
       "      <th>1</th>\n",
       "      <td>2</td>\n",
       "      <td>dos</td>\n",
       "      <td>2.0</td>\n",
       "    </tr>\n",
       "    <tr>\n",
       "      <th>2</th>\n",
       "      <td>3</td>\n",
       "      <td>tres</td>\n",
       "      <td>3.0</td>\n",
       "    </tr>\n",
       "  </tbody>\n",
       "</table>\n",
       "</div>"
      ],
      "text/plain": [
       "   var1  var2  var3\n",
       "0     1   uno   1.0\n",
       "1     2   dos   2.0\n",
       "2     3  tres   3.0"
      ]
     },
     "metadata": {},
     "output_type": "display_data"
    }
   ],
   "source": [
    "print(\"DataFrame desde diccionario de secuencias\")\n",
    "dataframe = pd.DataFrame({'var1':[1,2,3], 'var2':['uno','dos','tres'], 'var3':[1.0,2.0,3.0]})\n",
    "print(dataframe)\n",
    "display(dataframe)"
   ]
  },
  {
   "cell_type": "code",
   "execution_count": 10,
   "id": "3bbbe631",
   "metadata": {},
   "outputs": [
    {
     "name": "stdout",
     "output_type": "stream",
     "text": [
      "DataFrame desde diccionario de series\n",
      "   var1 var2\n",
      "0   1.0    a\n",
      "1   2.0    b\n",
      "2   3.0  NaN\n"
     ]
    }
   ],
   "source": [
    "print(\"DataFrame desde diccionario de series\")\n",
    "dataframe = pd.DataFrame({'var1':pd.Series([1,2,3],dtype=np.float64),'var2':pd.Series(['a','b'])})\n",
    "print(dataframe)"
   ]
  },
  {
   "cell_type": "code",
   "execution_count": 11,
   "id": "a39aacfc",
   "metadata": {},
   "outputs": [
    {
     "name": "stdout",
     "output_type": "stream",
     "text": [
      "DataFrame desde ndarray con índices para filas y columnas\n",
      "    c1  c2  c3  c4\n",
      "f1   0   1   2   3\n",
      "f2   4   5   6   7\n",
      "f3   8   9  10  11\n",
      "f4  12  13  14  15\n"
     ]
    }
   ],
   "source": [
    "print(\"DataFrame desde ndarray con índices para filas y columnas\")\n",
    "dataframe = pd.DataFrame(np.arange(16).reshape(4,4), index=['f1','f2','f3','f4'], columns=['c1','c2','c3','c4'])\n",
    "print(dataframe)"
   ]
  },
  {
   "cell_type": "code",
   "execution_count": 12,
   "id": "e97afac9",
   "metadata": {},
   "outputs": [
    {
     "name": "stdout",
     "output_type": "stream",
     "text": [
      "DataFrame desde ndarray con índices para filas y columnas con tipo fijo para todas\n",
      "    0   1   2   3\n",
      "0   0   1   2   3\n",
      "1   4   5   6   7\n",
      "2   8   9  10  11\n",
      "3  12  13  14  15\n"
     ]
    }
   ],
   "source": [
    "print(\"DataFrame desde ndarray con índices para filas y columnas con tipo fijo para todas\")\n",
    "dataframe = pd.DataFrame(np.arange(16).reshape(4,4), dtype=np.int32)\n",
    "print(dataframe)"
   ]
  },
  {
   "cell_type": "markdown",
   "id": "620fc2af",
   "metadata": {},
   "source": [
    "### Elementos de un DataFrame"
   ]
  },
  {
   "cell_type": "markdown",
   "id": "fd81e878",
   "metadata": {},
   "source": [
    "Disponemos de tres atributos para recuperar los datos, el índice y las columnas de un DataFrmae de forma independiente."
   ]
  },
  {
   "cell_type": "code",
   "execution_count": 13,
   "id": "d7e34325",
   "metadata": {},
   "outputs": [
    {
     "name": "stdout",
     "output_type": "stream",
     "text": [
      "Valores de un DataFrame\n",
      "[[1 'uno' 1.0]\n",
      " [2 'dos' 2.0]\n",
      " [3 'tres' 3.0]]\n",
      "\n",
      "Índice de un DataFrame\n",
      "RangeIndex(start=0, stop=3, step=1)\n",
      "\n",
      "Columnas de un DataFrame\n",
      "Index(['var1', 'var2', 'var3'], dtype='object')\n"
     ]
    }
   ],
   "source": [
    "dataframe = pd.DataFrame({'var1': [1, 2, 3], 'var2': ['uno', 'dos', 'tres'], 'var3': [1.0, 2.0, 3.0]})\n",
    "\n",
    "print(\"Valores de un DataFrame\")\n",
    "print(dataframe.values)\n",
    "\n",
    "print(\"\\nÍndice de un DataFrame\")\n",
    "print(dataframe.index)\n",
    "\n",
    "print(\"\\nColumnas de un DataFrame\")\n",
    "print(dataframe.columns)"
   ]
  },
  {
   "cell_type": "markdown",
   "id": "3fa7b9b6",
   "metadata": {},
   "source": [
    "De nuevo, los índices (tanto el de filas como el de columnas) son inmutables, pero de nuevo, se pueden modificar de forma completa."
   ]
  },
  {
   "cell_type": "code",
   "execution_count": 14,
   "id": "b5835664",
   "metadata": {},
   "outputs": [
    {
     "name": "stdout",
     "output_type": "stream",
     "text": [
      "Modificar el índice de filas de un dataframe\n",
      "    var1  var2  var3\n",
      "f1     1   uno   1.0\n",
      "f2     2   dos   2.0\n",
      "f3     3  tres   3.0\n",
      "\n",
      "Modificar el índice de filas de un dataframe\n",
      "    c1    c2   c3\n",
      "f1   1   uno  1.0\n",
      "f2   2   dos  2.0\n",
      "f3   3  tres  3.0\n"
     ]
    }
   ],
   "source": [
    "dataframe = pd.DataFrame({'var1': [1, 2, 3], 'var2': ['uno', 'dos', 'tres'], 'var3': [1.0, 2.0, 3.0]})\n",
    "\n",
    "#print \"Modificar un elemento del índice de filas de un dataframe\"\n",
    "#dataframe.index[0] = 4 # error: Index does not support mutable operations\n",
    "\n",
    "#print \"\\nModificar un elemento del índice de columnas de un dataframe\"\n",
    "#dataframe.columns[0] = 4 # error: Index does not support mutable operations\n",
    "\n",
    "print(\"Modificar el índice de filas de un dataframe\")\n",
    "dataframe.index = ['f1','f2','f3']\n",
    "print(dataframe)\n",
    "\n",
    "print(\"\\nModificar el índice de filas de un dataframe\")\n",
    "dataframe.columns = ['c1','c2','c3']\n",
    "print(dataframe)"
   ]
  }
 ],
 "metadata": {
  "kernelspec": {
   "display_name": "Python 3",
   "language": "python",
   "name": "python3"
  },
  "language_info": {
   "codemirror_mode": {
    "name": "ipython",
    "version": 3
   },
   "file_extension": ".py",
   "mimetype": "text/x-python",
   "name": "python",
   "nbconvert_exporter": "python",
   "pygments_lexer": "ipython3",
   "version": "3.8.8"
  }
 },
 "nbformat": 4,
 "nbformat_minor": 5
}
