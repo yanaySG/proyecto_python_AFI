{
 "cells": [
  {
   "cell_type": "markdown",
   "id": "106fe149",
   "metadata": {},
   "source": [
    "# Estructuras de datos"
   ]
  },
  {
   "cell_type": "markdown",
   "id": "530872a1",
   "metadata": {},
   "source": [
    "El pilar básico de la librería <b>pandas</b>, al igual que como ocurría con <b>numpy</b>, son las estructuras de datos que pone a nuestra disposición.<br/>\n",
    "En este caso, dispondremos de dos estructuras de datos relacionadas, pero con su funcionamiento específico:<br/>\n",
    "<ul>\n",
    "<li><b>Series:</b> Para información unidimensional.</li>\n",
    "<li><b>DataFrame:</b> Para información tabular.</li>\n",
    "</ul>\n",
    "\n",
    "Son estructuras muy similares a las ofrecidas por R: vectores (con nombre) y data.frame."
   ]
  },
  {
   "cell_type": "markdown",
   "id": "f9b41d03",
   "metadata": {},
   "source": [
    "## Utilización básica de elementos de pandas"
   ]
  },
  {
   "cell_type": "markdown",
   "id": "6e62d1cc",
   "metadata": {},
   "source": [
    "Al igual que en NumPy, pandas no pertenece al core de Python, por lo que SIEMPRE habrá que importarlo en un programa antes de poder usarlo."
   ]
  },
  {
   "cell_type": "code",
   "execution_count": 3,
   "id": "b92fcfda",
   "metadata": {},
   "outputs": [],
   "source": [
    "import numpy as np\n",
    "import pandas as pd"
   ]
  },
  {
   "cell_type": "markdown",
   "id": "0d12a812",
   "metadata": {},
   "source": [
    "## Series"
   ]
  },
  {
   "cell_type": "markdown",
   "id": "fa487011",
   "metadata": {},
   "source": [
    "Una serie es una estructura de datos unidimensional que contiene:<br/>\n",
    "<ul>\n",
    "<li>Un array de datos: que pueden tener cualquier tipo de dato de los ofrecidos por NumPy.</li>\n",
    "<li>Un array de etiquetas/<i>labels</i>: asociando una etiqueta a cada dato del array anterior y que se denomina <b>índice</b>, aunque no es obligatorio que el desarrollador especifique el mismo.</li>\n",
    "</ul>"
   ]
  },
  {
   "cell_type": "markdown",
   "id": "2b063a7a",
   "metadata": {},
   "source": [
    "### Creación de Series"
   ]
  },
  {
   "cell_type": "markdown",
   "id": "fdb8c4bc",
   "metadata": {},
   "source": [
    "Para la creación de Series contamos con una función \"constructor\" (Series) que puede recibir, principalmente, los siguientes parámetros:<br/>\n",
    "<ul>\n",
    "<li><b>data:</b> Es obligatorio, contiene los datos que queremos cargar en la Serie y podrá ser un valor escalar, una secuencia de Python o un ndarray unidimensional de NumPy.</li>\n",
    "<li><b>index:</b> Es opcional, contiene las etiquetas que queremos asignar a los valores de la Serie y podrá ser una secuencia de Python o un ndarray unidimensional de NumPy. En caso de no suministrarse el valor por defecto es np.arange(0, tam_datos).</li>\n",
    "<li><b>dtype:</b> Que podrá ser cualquier tipo de dato de NumPy.</li>\n",
    "</ul>"
   ]
  },
  {
   "cell_type": "code",
   "execution_count": 6,
   "id": "ab0e227f",
   "metadata": {},
   "outputs": [
    {
     "name": "stdout",
     "output_type": "stream",
     "text": [
      "Serie desde escalar\n",
      "0    5\n",
      "dtype: int64\n"
     ]
    }
   ],
   "source": [
    "print(\"Serie desde escalar\")\n",
    "serie = pd.Series(5)\n",
    "print(serie)"
   ]
  },
  {
   "cell_type": "code",
   "execution_count": 11,
   "id": "afd4b862",
   "metadata": {},
   "outputs": [
    {
     "name": "stdout",
     "output_type": "stream",
     "text": [
      "Serie desde secuencia\n",
      "0    b'1'\n",
      "1    b'2'\n",
      "2    b'3'\n",
      "3    b'4'\n",
      "4    b'5'\n",
      "dtype: bytes8\n"
     ]
    }
   ],
   "source": [
    "print(\"Serie desde secuencia\")\n",
    "serie = pd.Series([1,2,3,4,5], dtype=np.string_)\n",
    "print(serie)"
   ]
  },
  {
   "cell_type": "code",
   "execution_count": 14,
   "id": "ef44af95",
   "metadata": {},
   "outputs": [
    {
     "name": "stdout",
     "output_type": "stream",
     "text": [
      "Serie desde ndarray\n",
      "0    1\n",
      "1    2\n",
      "2    3\n",
      "3    4\n",
      "4    5\n",
      "dtype: int32\n"
     ]
    }
   ],
   "source": [
    "print(\"Serie desde ndarray\")\n",
    "array = np.array([1,2,3,4,5])\n",
    "serie = pd.Series(array)\n",
    "print(serie)"
   ]
  },
  {
   "cell_type": "code",
   "execution_count": 19,
   "id": "a53405f4",
   "metadata": {},
   "outputs": [
    {
     "name": "stdout",
     "output_type": "stream",
     "text": [
      "Serie con índice establecido\n",
      "a    1\n",
      "b    2\n",
      "c    3\n",
      "d    4\n",
      "e    5\n",
      "dtype: int64\n"
     ]
    }
   ],
   "source": [
    "print(\"Serie con índice establecido\")\n",
    "serie = pd.Series([1,2,3,4,5], index=['a','b','c','d','e'])\n",
    "print(serie)"
   ]
  },
  {
   "cell_type": "code",
   "execution_count": 22,
   "id": "647c8190",
   "metadata": {},
   "outputs": [
    {
     "name": "stdout",
     "output_type": "stream",
     "text": [
      "Serie desde diccionario (establece el índice desde las claves)\n",
      "a    1.0\n",
      "b    2.0\n",
      "c    3.0\n",
      "d    4.0\n",
      "e    5.0\n",
      "dtype: float64\n"
     ]
    }
   ],
   "source": [
    "print(\"Serie desde diccionario (establece el índice desde las claves)\")\n",
    "serie = pd.Series({'a':1,'b':2,'c':3,'d':4,'e':5}, dtype=np.float64)\n",
    "print(serie)"
   ]
  },
  {
   "cell_type": "markdown",
   "id": "de462c4c",
   "metadata": {},
   "source": [
    "### Elementos de una Serie"
   ]
  },
  {
   "cell_type": "markdown",
   "id": "0b210aa2",
   "metadata": {},
   "source": [
    "Disponemos de dos atributos para recuperar los datos y el índice de una Serie de forma independiente."
   ]
  },
  {
   "cell_type": "code",
   "execution_count": 28,
   "id": "ca2a0fe1",
   "metadata": {},
   "outputs": [
    {
     "name": "stdout",
     "output_type": "stream",
     "text": [
      "Valores de una serie\n",
      "[1. 2. 3. 4. 5.]\n",
      "\n",
      "Índice de una serie\n",
      "Index(['a', 'b', 'c', 'd', 'e'], dtype='object')\n"
     ]
    }
   ],
   "source": [
    "serie = pd.Series([1, 2, 3, 4, 5], index=['a', 'b', 'c', 'd', 'e'], dtype=np.float64)\n",
    "\n",
    "print(\"Valores de una serie\")\n",
    "print(serie.values)\n",
    "\n",
    "print(\"\\nÍndice de una serie\")\n",
    "print(serie.index)"
   ]
  },
  {
   "cell_type": "markdown",
   "id": "7da6afbc",
   "metadata": {},
   "source": [
    "Los índices son inmutables, lo que impide que cambiemos un valor de índice de forma independiente. Sin embargo, podemos modificar un índice completo por otro."
   ]
  },
  {
   "cell_type": "code",
   "execution_count": 34,
   "id": "a052684a",
   "metadata": {},
   "outputs": [
    {
     "name": "stdout",
     "output_type": "stream",
     "text": [
      "Modificar el índice de una serie\n",
      "f    1.0\n",
      "g    2.0\n",
      "h    3.0\n",
      "i    4.0\n",
      "j    5.0\n",
      "dtype: float64\n"
     ]
    }
   ],
   "source": [
    "serie = pd.Series([1, 2, 3, 4, 5], index=['a', 'b', 'c', 'd', 'e'], dtype=np.float64)\n",
    "\n",
    "# serie.index[0]=4  #Index does not support mutable operations\n",
    "\n",
    "print(\"Modificar el índice de una serie\")\n",
    "serie.index = ['f', 'g', 'h', 'i', 'j']\n",
    "print(serie)"
   ]
  },
  {
   "cell_type": "markdown",
   "id": "a12c8ea5",
   "metadata": {},
   "source": [
    "## DataFrame"
   ]
  },
  {
   "cell_type": "markdown",
   "id": "ccc7f190",
   "metadata": {},
   "source": [
    "Un DataFrame es una estructura tabular (bidimensional) de información con las siguientes propiedades:<br/>\n",
    "<ul>\n",
    "<li>Está compuesta por una serie ordenada de filas y una serie ordenada de columnas.</li>\n",
    "<li>Tiene, por tanto, un índice para las filas y otro para las columnas.</li>\n",
    "<li>Cada columna puede tener un tipo de NumPy diferente.</li>\n",
    "<li>Puede ser visto, por tanto, como un diccionario de Series, todas ellas compartiendo el mismo índice.</li>\n",
    "</ul>"
   ]
  },
  {
   "cell_type": "markdown",
   "id": "886eeb30",
   "metadata": {},
   "source": [
    "### Creación de DataFrames"
   ]
  },
  {
   "cell_type": "markdown",
   "id": "194d24c7",
   "metadata": {},
   "source": [
    "Para la creación de DataFrames contamos con una función \"constructor\" (DataFrame) que puede recibir, principalmente, los siguientes parámetros:<br/>\n",
    "<ul>\n",
    "<li><b>data:</b> Es obligatorio, contiene los datos que queremos cargar en el DataFrmae y podrá ser un diccionario de Series, un diccionario de secuencias, un ndarray bidimensional, una Serie y otro DataFrame.</li>\n",
    "<li><b>index:</b> Es opcional, contiene las etiquetas que queremos asignar a las filas del DataFrame y podrá ser una secuencia de Python o un ndarray unidimensional de NumPy. En caso de no suministrarse el valor por defecto es np.arange(0, num_filas).</li>\n",
    "<li><b>columns:</b> Es opcional, contiene las etiquetas que queremos asignar a las columnas del DataFrame y podrá ser una secuencia de Python o un ndarray unidimensional de NumPy. En caso de no suministrarse el valor por defecto es np.arange(0, num_columnas).</li>\n",
    "<li><b>dtype:</b> Es opcional, fijará el tipo de todas las columnas y podrá ser cualquier tipo de dato de NumPy.</li>\n",
    "</ul>\n",
    "\n",
    "<b>IMPORTANTE:</b> Si el tamaño de cada columna no coincide, se creara un DataFrame lo suficientemente grande como para contener al mayor y se asignará NaN en los huecos."
   ]
  }
 ],
 "metadata": {
  "kernelspec": {
   "display_name": "Python 3",
   "language": "python",
   "name": "python3"
  },
  "language_info": {
   "codemirror_mode": {
    "name": "ipython",
    "version": 3
   },
   "file_extension": ".py",
   "mimetype": "text/x-python",
   "name": "python",
   "nbconvert_exporter": "python",
   "pygments_lexer": "ipython3",
   "version": "3.8.8"
  }
 },
 "nbformat": 4,
 "nbformat_minor": 5
}
