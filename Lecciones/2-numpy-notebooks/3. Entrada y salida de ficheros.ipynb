{
 "cells": [
  {
   "cell_type": "markdown",
   "id": "23aec1c9",
   "metadata": {},
   "source": [
    "# Entrada y salida de ficheros"
   ]
  },
  {
   "cell_type": "markdown",
   "id": "c7950547",
   "metadata": {},
   "source": [
    "NumPy nos permite leer y escribir ficheros a disco tanto en formato binario (óptimo en términos de almacenamiento pero de dificil consumo fuera de NumPy) o formato texto (menos óptimo en términos de almacenamiento pero tratables desde cualquier otro módulo o tecnología)."
   ]
  },
  {
   "cell_type": "code",
   "execution_count": 1,
   "id": "febfa472",
   "metadata": {},
   "outputs": [],
   "source": [
    "import numpy as np"
   ]
  },
  {
   "cell_type": "markdown",
   "id": "bbb3f42a",
   "metadata": {},
   "source": [
    "### Formato binario"
   ]
  },
  {
   "cell_type": "markdown",
   "id": "34ddc3a4",
   "metadata": {},
   "source": [
    "Las dos funciones que permiten que NumPy trabaje con ficheros en formato binario son:\n",
    "<ul>\n",
    "<li><b>save:</b> Almacena un ndarray en un fichero en formato binario. Los ficheros tienen extensión .npy, si no se indica, se le asignará automáticamente.</li>\n",
    "<li><b>load:</b> Carga un ndarray con los contenidos de un fichero en formato binario.</li>\n",
    "</ul>\n",
    "\n",
    "Obviamente, la carga de ficheros podrá hacerse únicamente desde ficheros binarios generados por NumPy."
   ]
  },
  {
   "cell_type": "code",
   "execution_count": 2,
   "id": "02c61429",
   "metadata": {},
   "outputs": [
    {
     "name": "stdout",
     "output_type": "stream",
     "text": [
      "datos: [0 1 2 3 4 5 6 7 8 9] int32\n",
      "datos cargados: [0 1 2 3 4 5 6 7 8 9] int32\n"
     ]
    }
   ],
   "source": [
    "array = np.arange(10)\n",
    "print(\"datos:\", array, array.dtype)\n",
    "\n",
    "np.save(\"array1\",array)\n",
    "array2 = np.load(\"array1.npy\")\n",
    "print(\"datos cargados:\", array2, array2.dtype)"
   ]
  },
  {
   "cell_type": "markdown",
   "id": "103ea479",
   "metadata": {},
   "source": [
    "### Formato texto"
   ]
  },
  {
   "cell_type": "markdown",
   "id": "70815f24",
   "metadata": {},
   "source": [
    "Las dos funciones que permiten que NumPy trabaje con ficheros en formato texto son:\n",
    "<ul>\n",
    "<li><b>savetxt:</b> Salva el contenido del ndarray en un fichero de texto con separador (por defecto la \",\").</li>\n",
    "<li><b>loadtxt:</b> Carga el contenido de un fichero de texto con separador (por defecto la \",\") en un ndarray.</li>\n",
    "</ul>\n",
    "\n",
    "Aunque viable, es raro que un fichero de datos \"común\" contenga únicamente valores numéricos, lo que hace poco probable la utilización de esta función para la carga de ficheros de terceros."
   ]
  },
  {
   "cell_type": "code",
   "execution_count": 3,
   "id": "c996d9f7",
   "metadata": {},
   "outputs": [
    {
     "name": "stdout",
     "output_type": "stream",
     "text": [
      "datos: [0 1 2 3 4 5 6 7 8 9] int32\n",
      "datos cargados: [0. 1. 2. 3. 4. 5. 6. 7. 8. 9.] float64\n"
     ]
    }
   ],
   "source": [
    "array = np.arange(10)\n",
    "print(\"datos:\", array, array.dtype)\n",
    "\n",
    "np.savetxt(\"array1.txt\", array, delimiter=',')\n",
    "array2 = np.loadtxt(\"array1.txt\", delimiter=\",\")\n",
    "print(\"datos cargados:\", array2, array2.dtype)"
   ]
  }
 ],
 "metadata": {
  "kernelspec": {
   "display_name": "Python 3",
   "language": "python",
   "name": "python3"
  },
  "language_info": {
   "codemirror_mode": {
    "name": "ipython",
    "version": 3
   },
   "file_extension": ".py",
   "mimetype": "text/x-python",
   "name": "python",
   "nbconvert_exporter": "python",
   "pygments_lexer": "ipython3",
   "version": "3.8.8"
  }
 },
 "nbformat": 4,
 "nbformat_minor": 5
}
