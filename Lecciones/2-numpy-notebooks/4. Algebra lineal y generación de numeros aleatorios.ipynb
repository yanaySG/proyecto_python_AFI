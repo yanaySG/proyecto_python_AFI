{
 "cells": [
  {
   "cell_type": "markdown",
   "id": "e699d238",
   "metadata": {},
   "source": [
    "# Álgebra lineal"
   ]
  },
  {
   "cell_type": "markdown",
   "id": "52791ae5",
   "metadata": {},
   "source": [
    "Hasta el momento hemos visto cómo aplicar funciones \"elemento a elemento\" a matrices multidimensionales pero, en ningún caso, hemos aplicado funciones de cálculo matricial sobre las mismas. NumPy ofrece un amplio conjunto de funciones que permiten realizar multitud de tratamientos/operaciones matriciales. \n",
    "\n",
    "Algunas de las más comunes son:<br/>\n",
    "<ul>\n",
    "<li><b>diag:</b> Recupera la diagonal principal del ndarray pasado como parámetro.</li>\n",
    "<li><b>dot:</b> Realiza el producto escalar de dos ndarray.</li>\n",
    "<li><b>trace:</b> Calcula la suma de los elementos de la diagonal principal.</li>\n",
    "<li><b>det:</b> Calcula el determinante de un ndarray.</li>\n",
    "<li><b>eig:</b> Calcula los autovalores y autovectores de un ndarray.</li>\n",
    "<li><b>inv:</b> Calcula la inversa de una matriz.</li>\n",
    "<li><b>qr:</b> Calcula la descomposición QR de una matriz.</li>\n",
    "<li><b>svd:</b> Calcula la descomposición de valores singulares (Singular Value Decomposition) de una matriz.</li>\n",
    "<li><b>solve:</b> Calcula el resultado del sistema lineal Ax = B donde A y B son las matrices de entrada y x la salida.</li>\n",
    "<li><b>lstsq:</b> Calcula la solución de mínimos cuadrados a y = Xb, donde y y b son los parámetros de entrada y X la salida.</li>\n",
    "</ul>"
   ]
  },
  {
   "cell_type": "code",
   "execution_count": 57,
   "id": "85f87d4a",
   "metadata": {},
   "outputs": [],
   "source": [
    "import numpy as np\n",
    "import numpy.linalg as linalg"
   ]
  },
  {
   "cell_type": "code",
   "execution_count": 40,
   "id": "d4799808",
   "metadata": {},
   "outputs": [
    {
     "name": "stdout",
     "output_type": "stream",
     "text": [
      "datos:\n",
      " [[3 4 9]\n",
      " [6 3 4]\n",
      " [6 8 1]]\n",
      "\n",
      "diagonal principal: [3 3 1]\n",
      "\n",
      "diagonal por encima de la principal: [4 4]\n",
      "\n",
      "diagonal por debajo de la principal: [6 8]\n"
     ]
    }
   ],
   "source": [
    "array = np.random.randint(10, size=(3,3))\n",
    "print(\"datos:\\n\", array)\n",
    "print(\"\\ndiagonal principal:\",np.diag(array))\n",
    "print(\"\\ndiagonal por encima de la principal:\",np.diag(array, k=1))\n",
    "print(\"\\ndiagonal por debajo de la principal:\",np.diag(array, k=-1))"
   ]
  },
  {
   "cell_type": "code",
   "execution_count": 54,
   "id": "b97d291d",
   "metadata": {},
   "outputs": [
    {
     "name": "stdout",
     "output_type": "stream",
     "text": [
      "datos1:\n",
      " [[-1  2  9  1]\n",
      " [-4  4 -2  6]]\n",
      "\n",
      "datos2:\n",
      " [[-1 -1 -3 -2]\n",
      " [-3 -2 -1  0]\n",
      " [-3 -1 -3 -2]\n",
      " [-3 -3  0  0]]\n",
      "\n",
      "producto escalar:\n",
      " [[-35 -15 -26 -16]\n",
      " [-20 -20  14  12]]\n"
     ]
    }
   ],
   "source": [
    "array1 = np.random.randint(low=-4, high=10, size=(2,4))\n",
    "array2 = np.random.randint(low=-3, high=1, size=(4,4))\n",
    "print(\"datos1:\\n\", array1)\n",
    "print(\"\\ndatos2:\\n\", array2)\n",
    "\n",
    "print(\"\\nproducto escalar:\\n\", np.dot(array1,array2))"
   ]
  },
  {
   "cell_type": "code",
   "execution_count": 65,
   "id": "9ae4f6c0",
   "metadata": {},
   "outputs": [
    {
     "name": "stdout",
     "output_type": "stream",
     "text": [
      "datos:\n",
      " [[ 9  1  4  8]\n",
      " [ 7  1  5  4]\n",
      " [ 2  8  2  0]\n",
      " [ 2 -1 -2  0]]\n",
      "\n",
      "suma de la diagonal principal: 12\n",
      "\n",
      "determinante: 680.0000000000003\n"
     ]
    }
   ],
   "source": [
    "array = np.random.randint(low=-2, high=10, size=(4,4))\n",
    "print(\"datos:\\n\", array)\n",
    "print(\"\\nsuma de la diagonal principal:\", np.trace(array))\n",
    "\n",
    "print(\"\\ndeterminante:\", linalg.det(array))\n"
   ]
  },
  {
   "cell_type": "code",
   "execution_count": null,
   "id": "158ea349",
   "metadata": {},
   "outputs": [],
   "source": []
  },
  {
   "cell_type": "markdown",
   "id": "39ec237c",
   "metadata": {},
   "source": [
    "det: Calcula el determinante de un ndarray.\n",
    "eig: Calcula los autovalores y autovectores de un ndarray.\n",
    "inv: Calcula la inversa de una matriz.\n",
    "qr: Calcula la descomposición QR de una matriz.\n",
    "svd: Calcula la descomposición de valores singulares (Singular Value Decomposition) de una matriz.\n",
    "solve: Calcula el resultado del sistema lineal Ax = B donde A y B son las matrices de entrada y x la salida.\n",
    "lstsq:"
   ]
  }
 ],
 "metadata": {
  "kernelspec": {
   "display_name": "Python 3",
   "language": "python",
   "name": "python3"
  },
  "language_info": {
   "codemirror_mode": {
    "name": "ipython",
    "version": 3
   },
   "file_extension": ".py",
   "mimetype": "text/x-python",
   "name": "python",
   "nbconvert_exporter": "python",
   "pygments_lexer": "ipython3",
   "version": "3.8.8"
  }
 },
 "nbformat": 4,
 "nbformat_minor": 5
}
