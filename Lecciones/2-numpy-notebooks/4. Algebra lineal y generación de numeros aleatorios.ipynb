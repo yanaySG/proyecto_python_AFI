{
 "cells": [
  {
   "cell_type": "markdown",
   "id": "e699d238",
   "metadata": {},
   "source": [
    "# Álgebra lineal"
   ]
  },
  {
   "cell_type": "markdown",
   "id": "52791ae5",
   "metadata": {},
   "source": [
    "Hasta el momento hemos visto cómo aplicar funciones \"elemento a elemento\" a matrices multidimensionales pero, en ningún caso, hemos aplicado funciones de cálculo matricial sobre las mismas. NumPy ofrece un amplio conjunto de funciones que permiten realizar multitud de tratamientos/operaciones matriciales. \n",
    "\n",
    "Algunas de las más comunes son:<br/>\n",
    "<ul>\n",
    "<li><b>diag:</b> Recupera la diagonal principal del ndarray pasado como parámetro.</li>\n",
    "<li><b>dot:</b> Realiza el producto escalar de dos ndarray.</li>\n",
    "<li><b>trace:</b> Calcula la suma de los elementos de la diagonal principal.</li>\n",
    "<li><b>det:</b> Calcula el determinante de un ndarray.</li>\n",
    "<li><b>eig:</b> Calcula los autovalores y autovectores de un ndarray.</li>\n",
    "<li><b>inv:</b> Calcula la inversa de una matriz.</li>\n",
    "<li><b>qr:</b> Calcula la descomposición QR de una matriz.</li>\n",
    "<li><b>svd:</b> Calcula la descomposición de valores singulares (Singular Value Decomposition) de una matriz.</li>\n",
    "<li><b>solve:</b> Calcula el resultado del sistema lineal Ax = B donde A y B son las matrices de entrada y x la salida.</li>\n",
    "<li><b>lstsq:</b> Calcula la solución de mínimos cuadrados a y = Xb, donde y y b son los parámetros de entrada y X la salida.</li>\n",
    "</ul>"
   ]
  },
  {
   "cell_type": "code",
   "execution_count": 1,
   "id": "85f87d4a",
   "metadata": {},
   "outputs": [],
   "source": [
    "import numpy as np\n",
    "import numpy.linalg as linalg"
   ]
  },
  {
   "cell_type": "code",
   "execution_count": 2,
   "id": "d4799808",
   "metadata": {},
   "outputs": [
    {
     "name": "stdout",
     "output_type": "stream",
     "text": [
      "datos:\n",
      " [[4 8 3]\n",
      " [6 3 8]\n",
      " [5 1 3]]\n",
      "\n",
      "diagonal principal: [4 3 3]\n",
      "\n",
      "diagonal por encima de la principal: [8 8]\n",
      "\n",
      "diagonal por debajo de la principal: [6 1]\n"
     ]
    }
   ],
   "source": [
    "array = np.random.randint(10, size=(3,3))\n",
    "print(\"datos:\\n\", array)\n",
    "print(\"\\ndiagonal principal:\",np.diag(array))\n",
    "print(\"\\ndiagonal por encima de la principal:\",np.diag(array, k=1))\n",
    "print(\"\\ndiagonal por debajo de la principal:\",np.diag(array, k=-1))"
   ]
  },
  {
   "cell_type": "code",
   "execution_count": 54,
   "id": "b97d291d",
   "metadata": {},
   "outputs": [
    {
     "name": "stdout",
     "output_type": "stream",
     "text": [
      "datos1:\n",
      " [[-1  2  9  1]\n",
      " [-4  4 -2  6]]\n",
      "\n",
      "datos2:\n",
      " [[-1 -1 -3 -2]\n",
      " [-3 -2 -1  0]\n",
      " [-3 -1 -3 -2]\n",
      " [-3 -3  0  0]]\n",
      "\n",
      "producto escalar:\n",
      " [[-35 -15 -26 -16]\n",
      " [-20 -20  14  12]]\n"
     ]
    }
   ],
   "source": [
    "array1 = np.random.randint(low=-4, high=10, size=(2,4))\n",
    "array2 = np.random.randint(low=-3, high=1, size=(4,4))\n",
    "print(\"datos1:\\n\", array1)\n",
    "print(\"\\ndatos2:\\n\", array2)\n",
    "\n",
    "print(\"\\nproducto escalar:\\n\", np.dot(array1,array2))"
   ]
  },
  {
   "cell_type": "code",
   "execution_count": 65,
   "id": "9ae4f6c0",
   "metadata": {},
   "outputs": [
    {
     "name": "stdout",
     "output_type": "stream",
     "text": [
      "datos:\n",
      " [[ 9  1  4  8]\n",
      " [ 7  1  5  4]\n",
      " [ 2  8  2  0]\n",
      " [ 2 -1 -2  0]]\n",
      "\n",
      "suma de la diagonal principal: 12\n",
      "\n",
      "determinante: 680.0000000000003\n"
     ]
    }
   ],
   "source": [
    "array = np.random.randint(low=-2, high=10, size=(4,4))\n",
    "print(\"datos:\\n\", array)\n",
    "\n",
    "print(\"\\nsuma de la diagonal principal:\", np.trace(array))\n",
    "print(\"\\ndeterminante:\", linalg.det(array))"
   ]
  },
  {
   "cell_type": "code",
   "execution_count": 47,
   "id": "eee7b0fe",
   "metadata": {},
   "outputs": [
    {
     "name": "stdout",
     "output_type": "stream",
     "text": [
      "datos:\n",
      " [[5 2 2 4]\n",
      " [1 5 2 0]\n",
      " [5 3 3 3]\n",
      " [3 0 1 0]]\n",
      "\n",
      "autovalores y autovectores:\n",
      "\n",
      "[10.16126088  4.25672744  0.43636679 -1.85435511]\n",
      "\n",
      " [[-0.5921429  -0.37619903 -0.29178393 -0.50733663]\n",
      " [-0.37489938  0.8674274  -0.32906445  0.09226813]\n",
      " [-0.67140531 -0.13426798  0.8967567  -0.06255095]\n",
      " [-0.24089865 -0.2966751   0.04905258  0.85450776]]\n",
      "\n",
      "matriz inversa:\n",
      "[[ 0.42857143  0.17142857 -0.57142857  0.51428571]\n",
      " [ 0.42857143  0.37142857 -0.57142857  0.11428571]\n",
      " [-1.28571429 -0.51428571  1.71428571 -0.54285714]\n",
      " [ 0.14285714 -0.14285714  0.14285714 -0.42857143]]\n"
     ]
    }
   ],
   "source": [
    "array = np.random.randint(low=0, high=6, size=(4,4))\n",
    "print(\"datos:\\n\", array)\n",
    "\n",
    "print(\"\\nautovalores y autovectores:\\n\")\n",
    "a = linalg.eig(array)\n",
    "print(a[0])\n",
    "print(\"\\n\",a[1])\n",
    "\n",
    "print(\"\\nmatriz inversa:\")\n",
    "print(linalg.inv(array))"
   ]
  },
  {
   "cell_type": "code",
   "execution_count": 49,
   "id": "a54fefca",
   "metadata": {},
   "outputs": [
    {
     "name": "stdout",
     "output_type": "stream",
     "text": [
      "datos:\n",
      " [[3 0 1 5]\n",
      " [0 0 1 4]\n",
      " [3 1 2 1]\n",
      " [0 2 1 4]]\n",
      "\n",
      "descomposición QR:\n",
      "[[-0.70710678  0.23570226 -0.21081851  0.63245553]\n",
      " [-0.          0.          0.9486833   0.31622777]\n",
      " [-0.70710678 -0.23570226  0.21081851 -0.63245553]\n",
      " [-0.         -0.94280904 -0.10540926  0.31622777]]\n",
      "\n",
      " [[-4.24264069 -0.70710678 -2.12132034 -4.24264069]\n",
      " [ 0.         -2.12132034 -1.1785113  -2.82842712]\n",
      " [ 0.          0.          1.05409255  2.52982213]\n",
      " [ 0.          0.          0.          5.05964426]]\n"
     ]
    }
   ],
   "source": [
    "array = np.random.randint(low=0, high=6, size=(4,4))\n",
    "print(\"datos:\\n\", array)\n",
    "\n",
    "print(\"\\ndescomposición QR:\")\n",
    "a = linalg.qr(array)\n",
    "print(a[0])\n",
    "print(\"\\n\",a[1])"
   ]
  },
  {
   "cell_type": "code",
   "execution_count": 59,
   "id": "39b28af5",
   "metadata": {},
   "outputs": [
    {
     "name": "stdout",
     "output_type": "stream",
     "text": [
      "datos:\n",
      " [[2 5 2 5]\n",
      " [2 2 2 5]\n",
      " [3 5 4 3]\n",
      " [3 3 3 1]]\n",
      "\n",
      "descomposición de valores singulares:\n",
      "[[-0.57562213  0.3736996  -0.63524422  0.35422106]\n",
      " [-0.43490977  0.57155555  0.69251792 -0.06779882]\n",
      " [-0.58453577 -0.40866348 -0.09776582 -0.69408497]\n",
      " [-0.37125543 -0.60553036  0.32760581  0.62303838]] \n",
      "\n",
      "[12.88268526  3.5864159   1.71199874  0.49305358] \n",
      "\n",
      "[[-0.37945795 -0.60425099 -0.42483171 -0.55714489]\n",
      " [-0.32123191 -0.23653124 -0.43517951  0.80714424]\n",
      " [ 0.46966586 -0.75770903  0.41255962  0.18731138]\n",
      " [ 0.72954486  0.06935947 -0.67818241 -0.05497446]] \n",
      "\n"
     ]
    }
   ],
   "source": [
    "array = np.random.randint(low=0, high=6, size=(4,4))\n",
    "print(\"datos:\\n\", array)\n",
    "\n",
    "print(\"\\ndescomposición de valores singulares:\")\n",
    "a = linalg.svd(array)\n",
    "for i in range(len(a)):\n",
    "    print(a[i],\"\\n\")"
   ]
  },
  {
   "cell_type": "code",
   "execution_count": 78,
   "id": "4930294c",
   "metadata": {},
   "outputs": [
    {
     "name": "stdout",
     "output_type": "stream",
     "text": [
      "datos:\n",
      " [[3 1 2 0]\n",
      " [5 4 1 2]\n",
      " [2 3 3 2]\n",
      " [4 4 5 5]]\n",
      "\n",
      "descomposición QR:\n",
      "[[-0.40824829  0.70710678 -0.42613249 -0.38954387]\n",
      " [-0.68041382  0.07856742  0.72600351  0.06150693]\n",
      " [-0.27216553 -0.62853936 -0.12626148 -0.71758082]\n",
      " [-0.54433105 -0.31426968 -0.52477428  0.57406466]] \n",
      "\n",
      "[[-7.34846923 -6.12372436 -5.03506225 -4.62681396]\n",
      " [ 0.         -2.12132034 -1.9641855  -2.67129228]\n",
      " [ 0.          0.         -3.1289173  -1.42438732]\n",
      " [ 0.          0.          0.          1.5581755 ]] \n",
      "\n"
     ]
    },
    {
     "data": {
      "text/plain": [
       "2"
      ]
     },
     "execution_count": 78,
     "metadata": {},
     "output_type": "execute_result"
    }
   ],
   "source": [
    "array = np.random.randint(low=0, high=6, size=(4,4))\n",
    "print(\"datos:\\n\", array)\n",
    "\n",
    "print(\"\\ndescomposición QR:\")\n",
    "a = linalg.qr(array)\n",
    "for i in range(len(a)):\n",
    "    print(a[i],\"\\n\")"
   ]
  },
  {
   "cell_type": "code",
   "execution_count": 85,
   "id": "fee6aa6b",
   "metadata": {},
   "outputs": [
    {
     "name": "stdout",
     "output_type": "stream",
     "text": [
      "datos:\n",
      " [[4 1 3]\n",
      " [0 4 3]\n",
      " [5 3 1]]\n",
      "\n",
      "resultado del sistema lineal Ax = B. A y B => entrada, x => salida:\n",
      "[[ 1.00000000e+00  0.00000000e+00  0.00000000e+00]\n",
      " [ 5.12410627e-17  1.00000000e+00  0.00000000e+00]\n",
      " [-6.83214169e-17  0.00000000e+00  1.00000000e+00]] \n",
      "\n",
      "mínimos cuadrados y = Xb, y y b => entrada, X => salida\n",
      "[[ 1.00000000e+00 -1.49031395e-15  1.48020929e-15]\n",
      " [-9.19321733e-17  1.00000000e+00 -1.09763291e-15]\n",
      " [ 1.04094426e-17  1.08292322e-15  1.00000000e+00]] \n",
      "\n",
      "[] \n",
      "\n",
      "3 \n",
      "\n",
      "[8.14870883 3.93588139 2.02666774] \n",
      "\n"
     ]
    }
   ],
   "source": [
    "array = np.random.randint(low=0, high=6, size=(3,3))\n",
    "print(\"datos:\\n\", array)\n",
    "\n",
    "print(\"\\nresultado del sistema lineal Ax = B. A y B => entrada, x => salida:\")\n",
    "print(linalg.solve(array,array),\"\\n\")\n",
    "\n",
    "print(\"mínimos cuadrados y = Xb, y y b => entrada, X => salida\")\n",
    "a = linalg.lstsq(array,array,rcond=None)\n",
    "for i in range(len(a)):\n",
    "    print(a[i],\"\\n\")"
   ]
  },
  {
   "cell_type": "markdown",
   "id": "5cbc7660",
   "metadata": {},
   "source": [
    "# Generación de números aleatorios"
   ]
  },
  {
   "cell_type": "code",
   "execution_count": null,
   "id": "955ade42",
   "metadata": {},
   "outputs": [],
   "source": []
  }
 ],
 "metadata": {
  "kernelspec": {
   "display_name": "Python 3",
   "language": "python",
   "name": "python3"
  },
  "language_info": {
   "codemirror_mode": {
    "name": "ipython",
    "version": 3
   },
   "file_extension": ".py",
   "mimetype": "text/x-python",
   "name": "python",
   "nbconvert_exporter": "python",
   "pygments_lexer": "ipython3",
   "version": "3.8.8"
  }
 },
 "nbformat": 4,
 "nbformat_minor": 5
}
