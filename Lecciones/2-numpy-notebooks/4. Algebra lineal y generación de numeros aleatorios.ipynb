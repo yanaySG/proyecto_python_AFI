{
 "cells": [
  {
   "cell_type": "markdown",
   "id": "e699d238",
   "metadata": {},
   "source": [
    "# Álgebra lineal"
   ]
  },
  {
   "cell_type": "markdown",
   "id": "52791ae5",
   "metadata": {},
   "source": [
    "Hasta el momento hemos visto cómo aplicar funciones \"elemento a elemento\" a matrices multidimensionales pero, en ningún caso, hemos aplicado funciones de cálculo matricial sobre las mismas. NumPy ofrece un amplio conjunto de funciones que permiten realizar multitud de tratamientos/operaciones matriciales. \n",
    "\n",
    "Algunas de las más comunes son:<br/>\n",
    "<ul>\n",
    "<li><b>diag:</b> Recupera la diagonal principal del ndarray pasado como parámetro.</li>\n",
    "<li><b>dot:</b> Realiza el producto escalar de dos ndarray.</li>\n",
    "<li><b>trace:</b> Calcula la suma de los elementos de la diagonal principal.</li>\n",
    "<li><b>det:</b> Calcula el determinante de un ndarray.</li>\n",
    "<li><b>eig:</b> Calcula los autovalores y autovectores de un ndarray.</li>\n",
    "<li><b>inv:</b> Calcula la inversa de una matriz.</li>\n",
    "<li><b>qr:</b> Calcula la descomposición QR de una matriz.</li>\n",
    "<li><b>svd:</b> Calcula la descomposición de valores singulares (Singular Value Decomposition) de una matriz.</li>\n",
    "<li><b>solve:</b> Calcula el resultado del sistema lineal Ax = B donde A y B son las matrices de entrada y x la salida.</li>\n",
    "<li><b>lstsq:</b> Calcula la solución de mínimos cuadrados a y = Xb, donde y y b son los parámetros de entrada y X la salida.</li>\n",
    "</ul>"
   ]
  },
  {
   "cell_type": "code",
   "execution_count": 1,
   "id": "85f87d4a",
   "metadata": {},
   "outputs": [],
   "source": [
    "import numpy as np\n",
    "import numpy.linalg as linalg"
   ]
  },
  {
   "cell_type": "code",
   "execution_count": 2,
   "id": "d4799808",
   "metadata": {},
   "outputs": [
    {
     "name": "stdout",
     "output_type": "stream",
     "text": [
      "datos:\n",
      " [[8 5 7]\n",
      " [0 3 8]\n",
      " [4 8 3]]\n",
      "\n",
      "diagonal principal: [8 3 3]\n",
      "\n",
      "diagonal por encima de la principal: [5 8]\n",
      "\n",
      "diagonal por debajo de la principal: [0 8]\n"
     ]
    }
   ],
   "source": [
    "array = np.random.randint(10, size=(3,3))\n",
    "print(\"datos:\\n\", array)\n",
    "print(\"\\ndiagonal principal:\",np.diag(array))\n",
    "print(\"\\ndiagonal por encima de la principal:\",np.diag(array, k=1))\n",
    "print(\"\\ndiagonal por debajo de la principal:\",np.diag(array, k=-1))"
   ]
  },
  {
   "cell_type": "code",
   "execution_count": 3,
   "id": "b97d291d",
   "metadata": {},
   "outputs": [
    {
     "name": "stdout",
     "output_type": "stream",
     "text": [
      "datos1:\n",
      " [[ 5 -1  7  0]\n",
      " [-4  4  3 -3]]\n",
      "\n",
      "datos2:\n",
      " [[-1 -1  0  0]\n",
      " [-2 -1  0 -3]\n",
      " [-1  0 -2 -1]\n",
      " [ 0 -1 -2 -1]]\n",
      "\n",
      "producto escalar:\n",
      " [[-10  -4 -14  -4]\n",
      " [ -7   3   0 -12]]\n"
     ]
    }
   ],
   "source": [
    "array1 = np.random.randint(low=-4, high=10, size=(2,4))\n",
    "array2 = np.random.randint(low=-3, high=1, size=(4,4))\n",
    "print(\"datos1:\\n\", array1)\n",
    "print(\"\\ndatos2:\\n\", array2)\n",
    "\n",
    "print(\"\\nproducto escalar:\\n\", np.dot(array1,array2))"
   ]
  },
  {
   "cell_type": "code",
   "execution_count": 4,
   "id": "9ae4f6c0",
   "metadata": {},
   "outputs": [
    {
     "name": "stdout",
     "output_type": "stream",
     "text": [
      "datos:\n",
      " [[-1  6  3  5]\n",
      " [ 3  8  2 -1]\n",
      " [ 7  9  1  6]\n",
      " [-1  0  9  9]]\n",
      "\n",
      "suma de la diagonal principal: 17\n",
      "\n",
      "determinante: 2925.9999999999977\n"
     ]
    }
   ],
   "source": [
    "array = np.random.randint(low=-2, high=10, size=(4,4))\n",
    "print(\"datos:\\n\", array)\n",
    "\n",
    "print(\"\\nsuma de la diagonal principal:\", np.trace(array))\n",
    "print(\"\\ndeterminante:\", linalg.det(array))"
   ]
  },
  {
   "cell_type": "code",
   "execution_count": 5,
   "id": "12ea4968",
   "metadata": {},
   "outputs": [
    {
     "name": "stdout",
     "output_type": "stream",
     "text": [
      "datos:\n",
      " [[3 5 3 5]\n",
      " [0 5 0 3]\n",
      " [5 5 2 0]\n",
      " [3 5 0 4]]\n",
      "\n",
      "autovalores y autovectores:\n",
      "\n",
      "[-2.78232998  4.         10.78232998  2.        ]\n",
      "\n",
      " [[ 0.56663988 -0.64549722  0.66504357  0.56694671]\n",
      " [ 0.13497735  0.38729833  0.24714979 -0.56694671]\n",
      " [-0.73355168 -0.64549722  0.51933448 -0.18898224]\n",
      " [-0.3501461  -0.12909944  0.47636722  0.56694671]]\n",
      "\n",
      "matriz inversa:\n",
      "[[-0.04166667 -0.29166667  0.0625      0.27083333]\n",
      " [-0.075       0.275       0.1125     -0.1125    ]\n",
      " [ 0.29166667  0.04166667  0.0625     -0.39583333]\n",
      " [ 0.125      -0.125      -0.1875      0.1875    ]]\n"
     ]
    }
   ],
   "source": [
    "array = np.random.randint(low=0, high=6, size=(4,4))\n",
    "print(\"datos:\\n\", array)\n",
    "\n",
    "print(\"\\nautovalores y autovectores:\\n\")\n",
    "a = linalg.eig(array)\n",
    "print(a[0])\n",
    "print(\"\\n\",a[1])\n",
    "\n",
    "print(\"\\nmatriz inversa:\")\n",
    "print(linalg.inv(array))"
   ]
  },
  {
   "cell_type": "code",
   "execution_count": 6,
   "id": "9ee8263b",
   "metadata": {},
   "outputs": [
    {
     "name": "stdout",
     "output_type": "stream",
     "text": [
      "datos:\n",
      " [[4 5 4 4]\n",
      " [0 0 5 3]\n",
      " [5 3 3 0]\n",
      " [0 3 3 3]]\n",
      "\n",
      "descomposición QR:\n",
      "[[-0.62469505 -0.43765338  0.08295216 -0.64135369]\n",
      " [-0.          0.         -0.99173919 -0.12827074]\n",
      " [-0.78086881  0.35012271 -0.06636173  0.51308295]\n",
      " [-0.         -0.82817486 -0.07189187  0.55583986]]\n",
      "\n",
      " [[-6.40312424 -5.46608167 -4.84138662 -2.49878019]\n",
      " [ 0.         -3.62242339 -3.18477001 -4.23513813]\n",
      " [ 0.          0.         -5.0416481  -2.85908454]\n",
      " [ 0.          0.          0.         -1.28270737]]\n"
     ]
    }
   ],
   "source": [
    "array = np.random.randint(low=0, high=6, size=(4,4))\n",
    "print(\"datos:\\n\", array)\n",
    "\n",
    "print(\"\\ndescomposición QR:\")\n",
    "a = linalg.qr(array)\n",
    "print(a[0])\n",
    "print(\"\\n\",a[1])"
   ]
  },
  {
   "cell_type": "code",
   "execution_count": 7,
   "id": "417de228",
   "metadata": {},
   "outputs": [
    {
     "name": "stdout",
     "output_type": "stream",
     "text": [
      "datos:\n",
      " [[2 0 1 5]\n",
      " [4 1 4 1]\n",
      " [2 1 0 4]\n",
      " [0 2 1 1]]\n",
      "\n",
      "descomposición de valores singulares:\n",
      "[[-0.62371966  0.42403871  0.26018817  0.60288231]\n",
      " [-0.56446892 -0.81137637  0.13408595 -0.07116307]\n",
      " [-0.5108626   0.39834767 -0.13777843 -0.74923671]\n",
      " [-0.17711023 -0.05637991 -0.94622417  0.26478877]] \n",
      "\n",
      "[8.16983556 4.38400924 2.05714766 0.89576418] \n",
      "\n",
      "[[-0.55411644 -0.17497928 -0.3743901  -0.72261281]\n",
      " [-0.36512987 -0.11993326 -0.65644175  0.64913822]\n",
      " [ 0.37973127 -0.92173297 -0.07276687 -0.03029004]\n",
      " [-0.64454582 -0.32466383  0.65086194  0.23565402]] \n",
      "\n"
     ]
    }
   ],
   "source": [
    "array = np.random.randint(low=0, high=6, size=(4,4))\n",
    "print(\"datos:\\n\", array)\n",
    "\n",
    "print(\"\\ndescomposición de valores singulares:\")\n",
    "a = linalg.svd(array)\n",
    "for i in range(len(a)):\n",
    "    print(a[i],\"\\n\")"
   ]
  },
  {
   "cell_type": "code",
   "execution_count": 8,
   "id": "6048e0ae",
   "metadata": {},
   "outputs": [
    {
     "name": "stdout",
     "output_type": "stream",
     "text": [
      "datos:\n",
      " [[5 4 4 3]\n",
      " [3 0 3 5]\n",
      " [1 3 1 3]\n",
      " [1 3 4 0]]\n",
      "\n",
      "descomposición QR:\n",
      "[[-0.83333333  0.09967506 -0.33142212 -0.43102183]\n",
      " [-0.5        -0.55533248  0.40507148  0.52680446]\n",
      " [-0.16666667  0.58381107 -0.33960538  0.71836971]\n",
      " [-0.16666667  0.58381107  0.78150154 -0.14367394]] \n",
      "\n",
      "[[-6.         -4.33333333 -5.66666667 -5.5       ]\n",
      " [ 0.          3.90156664  1.65175814 -0.72620401]\n",
      " [ 0.          0.          2.67592674  0.01227489]\n",
      " [ 0.          0.          0.          3.49606594]] \n",
      "\n"
     ]
    }
   ],
   "source": [
    "array = np.random.randint(low=0, high=6, size=(4,4))\n",
    "print(\"datos:\\n\", array)\n",
    "\n",
    "print(\"\\ndescomposición QR:\")\n",
    "a = linalg.qr(array)\n",
    "for i in range(len(a)):\n",
    "    print(a[i],\"\\n\")"
   ]
  },
  {
   "cell_type": "code",
   "execution_count": 9,
   "id": "02aa4dd6",
   "metadata": {},
   "outputs": [
    {
     "name": "stdout",
     "output_type": "stream",
     "text": [
      "datos:\n",
      " [[4 4 3]\n",
      " [4 1 5]\n",
      " [1 5 1]]\n",
      "\n",
      "resultado del sistema lineal Ax = B. A y B => entrada, x => salida:\n",
      "[[1. 0. 0.]\n",
      " [0. 1. 0.]\n",
      " [0. 0. 1.]] \n",
      "\n",
      "mínimos cuadrados y = Xb, y y b => entrada, X => salida\n",
      "[[ 1.00000000e+00  4.21113068e-16  3.06259242e-16]\n",
      " [-4.09521230e-17  1.00000000e+00 -1.15358981e-16]\n",
      " [-1.46285196e-16 -1.11878310e-16  1.00000000e+00]] \n",
      "\n",
      "[] \n",
      "\n",
      "3 \n",
      "\n",
      "[9.48729204 4.39153643 0.84005802] \n",
      "\n"
     ]
    }
   ],
   "source": [
    "array = np.random.randint(low=0, high=6, size=(3,3))\n",
    "print(\"datos:\\n\", array)\n",
    "\n",
    "print(\"\\nresultado del sistema lineal Ax = B. A y B => entrada, x => salida:\")\n",
    "print(linalg.solve(array,array),\"\\n\")\n",
    "\n",
    "print(\"mínimos cuadrados y = Xb, y y b => entrada, X => salida\")\n",
    "a = linalg.lstsq(array,array,rcond=None)\n",
    "for i in range(len(a)):\n",
    "    print(a[i],\"\\n\")"
   ]
  },
  {
   "cell_type": "markdown",
   "id": "2969d1c7",
   "metadata": {},
   "source": [
    "# Generación de números aleatorios"
   ]
  },
  {
   "cell_type": "markdown",
   "id": "1ccad118",
   "metadata": {},
   "source": [
    "Aunque el core de Pyhton incluye un modulo <b>random</b> para llevar a cabo la generación de números aleatorios, NumPy ofrece una mejora sobre el mismo permitiendo generar directamente ndarrays de valores aleatorios en base a diversas distribuciones. Todas estas funciones están disponibles a través del submódulo <b>random</b>.<br/>\n",
    "Algunas de las más comunes son:\n",
    "<ul>\n",
    "<li><b>seed:</b> Establecimiento de semilla del generador de números aleatorios.</li>\n",
    "<li><b>permutation:</b> Devuelve una permutación aleatoria de una secuencia de entrada (por copia).</li>\n",
    "<li><b>shuffle:</b> Aplica una permutación aleatoria sobre los elementos de la secuencia de entrada (sin copia).</li>\n",
    "<li><b>rand:</b> Genera una muestra de números aleatorios utilizando una distribución uniforme.</li>\n",
    "<li><b>randint:</b> Genera una muestra de números aleatorios enteros dentro de un rango definido.</li>\n",
    "<li><b>randn:</b> Genera una muestra de números aleatorios utilizando una distribución normal de media 0 y desviación 1.</li>\n",
    "<li><b>binomial:</b> Genera una muestra de números aleatorios utilizando una distribución binomial.</li>\n",
    "<li><b>normal:</b> Genera una muestra de números aleatorios utilizando una distribución normal.</li>\n",
    "<li><b>beta:</b> Genera una muestra de números aleatorios utilizando una distribución beta.</li>\n",
    "<li><b>chisquare:</b> Genera una muestra de números aleatorios utilizando una distribución chi cuadrado.</li>\n",
    "<li><b>gamma:</b> Genera una muestra de números aleatorios utilizando una distribución gamma.</li>\n",
    "<li><b>uniform:</b> Genera una muestra de números aleatorios utilizando una distribución uniforme [0, 1).</li>\n",
    "</ul>"
   ]
  },
  {
   "cell_type": "code",
   "execution_count": 10,
   "id": "f334e660",
   "metadata": {},
   "outputs": [],
   "source": [
    "import numpy as np\n",
    "import numpy.random as random"
   ]
  },
  {
   "cell_type": "code",
   "execution_count": 11,
   "id": "8134a5c7",
   "metadata": {},
   "outputs": [
    {
     "data": {
      "text/plain": [
       "array([ 9, 15, 12,  4,  1])"
      ]
     },
     "execution_count": 11,
     "metadata": {},
     "output_type": "execute_result"
    }
   ],
   "source": [
    "random.permutation([1, 4, 9, 12, 15])"
   ]
  },
  {
   "cell_type": "code",
   "execution_count": 12,
   "id": "54f14ad7",
   "metadata": {},
   "outputs": [
    {
     "data": {
      "text/plain": [
       "array([7, 2, 0, 1, 4, 6, 8, 9, 3, 5])"
      ]
     },
     "execution_count": 12,
     "metadata": {},
     "output_type": "execute_result"
    }
   ],
   "source": [
    "arr = np.arange(10)\n",
    "random.shuffle(arr)\n",
    "arr"
   ]
  },
  {
   "cell_type": "code",
   "execution_count": 13,
   "id": "f389a731",
   "metadata": {},
   "outputs": [
    {
     "data": {
      "text/plain": [
       "array([[0.14524235, 0.07643673, 0.26732502],\n",
       "       [0.35560247, 0.49914754, 0.37223435]])"
      ]
     },
     "execution_count": 13,
     "metadata": {},
     "output_type": "execute_result"
    }
   ],
   "source": [
    "random.rand(2,3)"
   ]
  },
  {
   "cell_type": "code",
   "execution_count": 14,
   "id": "c7a74290",
   "metadata": {},
   "outputs": [
    {
     "data": {
      "text/plain": [
       "array([[9, 9, 4, 1, 6, 2, 6, 2, 7, 3],\n",
       "       [1, 9, 3, 6, 9, 2, 8, 8, 7, 8],\n",
       "       [6, 8, 9, 3, 0, 7, 9, 7, 0, 1],\n",
       "       [2, 6, 1, 2, 9, 2, 9, 4, 6, 4]])"
      ]
     },
     "execution_count": 14,
     "metadata": {},
     "output_type": "execute_result"
    }
   ],
   "source": [
    "random.randint(10, size=(4,10))"
   ]
  },
  {
   "cell_type": "code",
   "execution_count": 15,
   "id": "230c4a06",
   "metadata": {},
   "outputs": [
    {
     "data": {
      "text/plain": [
       "array([[ 2.29315258, -1.96482454, -0.72895082,  0.76443278, -0.72229056],\n",
       "       [-0.98412802,  0.79512909, -2.29918671,  1.03520871,  0.72520604],\n",
       "       [ 0.29459676, -0.30643727,  0.76715847, -0.8746326 , -0.77073714],\n",
       "       [-0.47472161, -1.67483844,  0.12118074, -0.60605593,  1.8539907 ]])"
      ]
     },
     "execution_count": 15,
     "metadata": {},
     "output_type": "execute_result"
    }
   ],
   "source": [
    "random.randn(4,5)"
   ]
  },
  {
   "cell_type": "code",
   "execution_count": 16,
   "id": "6f8c5862",
   "metadata": {
    "scrolled": true
   },
   "outputs": [
    {
     "data": {
      "text/plain": [
       "array([[3, 5, 4, 8, 4, 6, 7, 6],\n",
       "       [3, 4, 6, 5, 6, 9, 4, 4],\n",
       "       [2, 4, 5, 5, 8, 5, 3, 7],\n",
       "       [4, 8, 8, 6, 5, 4, 4, 6]])"
      ]
     },
     "execution_count": 16,
     "metadata": {},
     "output_type": "execute_result"
    }
   ],
   "source": [
    "random.binomial(10, .5, size=(4,8))"
   ]
  },
  {
   "cell_type": "code",
   "execution_count": 17,
   "id": "4b0f8f32",
   "metadata": {
    "scrolled": true
   },
   "outputs": [
    {
     "data": {
      "text/plain": [
       "array([[ 0.01110502, -0.00762819, -0.02158158, -0.00994343],\n",
       "       [-0.05680686,  0.10082303, -0.09377847,  0.08313848],\n",
       "       [ 0.09412104, -0.10433691,  0.01470601,  0.06516737],\n",
       "       [ 0.12888857, -0.02641013,  0.10563617, -0.01349667]])"
      ]
     },
     "execution_count": 17,
     "metadata": {},
     "output_type": "execute_result"
    }
   ],
   "source": [
    "mu, sigma = 0, 0.1 # mean and standard deviation\n",
    "random.normal(mu, sigma, size=(4,4))"
   ]
  },
  {
   "cell_type": "code",
   "execution_count": 18,
   "id": "7f584412",
   "metadata": {},
   "outputs": [
    {
     "data": {
      "text/plain": [
       "array([0.56034414, 0.66872697, 0.67077301, 0.62428994, 0.87478701,\n",
       "       0.81539373, 0.05378763, 0.14381509, 0.97106886, 0.3039049 ])"
      ]
     },
     "execution_count": 18,
     "metadata": {},
     "output_type": "execute_result"
    }
   ],
   "source": [
    "random.beta(1,1,size=10)"
   ]
  },
  {
   "cell_type": "code",
   "execution_count": 19,
   "id": "017b32af",
   "metadata": {},
   "outputs": [
    {
     "data": {
      "text/plain": [
       "array([[ 8.25484307, 24.17278294, 10.75796   ,  8.2103026 ],\n",
       "       [15.47236257, 19.48047833,  8.22404784, 17.70547528],\n",
       "       [14.5484663 , 14.01443661,  9.37117701,  7.08889243],\n",
       "       [ 3.05954948, 13.40713426,  5.33598985, 13.23528843]])"
      ]
     },
     "execution_count": 19,
     "metadata": {},
     "output_type": "execute_result"
    }
   ],
   "source": [
    "random.chisquare(10,(4,4))"
   ]
  },
  {
   "cell_type": "code",
   "execution_count": 20,
   "id": "7c2a80d6",
   "metadata": {},
   "outputs": [
    {
     "data": {
      "text/plain": [
       "array([[ 2.33427536,  5.288199  ,  4.07917032,  4.72786635],\n",
       "       [ 0.94745844,  7.86833711,  5.06959527,  3.97469042],\n",
       "       [ 7.3945813 ,  3.26961445,  0.77447016, 10.27279364],\n",
       "       [ 4.0594985 ,  4.4830924 ,  2.19899457,  3.30902289]])"
      ]
     },
     "execution_count": 20,
     "metadata": {},
     "output_type": "execute_result"
    }
   ],
   "source": [
    "shape, scale = 2., 2.  # mean=4, std=2*sqrt(2)\n",
    "random.gamma(shape, scale, (4,4))"
   ]
  },
  {
   "cell_type": "code",
   "execution_count": 21,
   "id": "000053b7",
   "metadata": {},
   "outputs": [
    {
     "data": {
      "text/plain": [
       "array([19.64335938, 11.51178183, 17.06339133, 11.4123281 ])"
      ]
     },
     "execution_count": 21,
     "metadata": {},
     "output_type": "execute_result"
    }
   ],
   "source": [
    "random.uniform(low=10, high=20, size=4)"
   ]
  }
 ],
 "metadata": {
  "kernelspec": {
   "display_name": "Python 3",
   "language": "python",
   "name": "python3"
  },
  "language_info": {
   "codemirror_mode": {
    "name": "ipython",
    "version": 3
   },
   "file_extension": ".py",
   "mimetype": "text/x-python",
   "name": "python",
   "nbconvert_exporter": "python",
   "pygments_lexer": "ipython3",
   "version": "3.8.8"
  }
 },
 "nbformat": 4,
 "nbformat_minor": 5
}
