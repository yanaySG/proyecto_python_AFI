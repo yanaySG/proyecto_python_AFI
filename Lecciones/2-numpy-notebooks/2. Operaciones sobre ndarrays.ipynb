{
 "cells": [
  {
   "cell_type": "markdown",
   "id": "d004f454",
   "metadata": {},
   "source": [
    "# Operaciones sobre ndarrays"
   ]
  },
  {
   "cell_type": "markdown",
   "id": "92333ef1",
   "metadata": {},
   "source": [
    "NumPy pone a nuestra disposición un amplio conjunto de funciones optimizadas para aplicar sobre ndarrays de forma global evitando así la necesidad de utilizar bucles (mucho más costosos)."
   ]
  },
  {
   "cell_type": "code",
   "execution_count": 1,
   "id": "3490c72f",
   "metadata": {},
   "outputs": [],
   "source": [
    "import numpy as np\n",
    "\n",
    "import warnings; warnings.simplefilter('ignore')"
   ]
  },
  {
   "cell_type": "markdown",
   "id": "804c0018",
   "metadata": {},
   "source": [
    "### Operaciones elemento a elemento - Universal functions"
   ]
  },
  {
   "cell_type": "markdown",
   "id": "bd60959e",
   "metadata": {},
   "source": [
    "El primero de los conjuntos de funciones ofrecido por NumPy son las llamadas \"funciones universales\" (o ufuncs) que permiten la realización de operaciones elemento a elemento de un array. En función del número de parámetros encontramos dos tipos de funciones universales."
   ]
  },
  {
   "cell_type": "markdown",
   "id": "61336888",
   "metadata": {},
   "source": [
    "#### Funciones unarias"
   ]
  },
  {
   "cell_type": "markdown",
   "id": "5047ce9d",
   "metadata": {},
   "source": [
    "Son aquellas funciones que reciben como parámetro un único ndarray.<br/>\n",
    "<ul>\n",
    "<li><b>abs, fabs:</b> Valor absoluto.</li>\n",
    "<li><b>sqrt:</b> Raíz cuadrada (equivalente a array \\*\\* 0.5).</li>\n",
    "<li><b>square:</b> Potencia al cuadrado (equivalente a array ** 2).</li>\n",
    "<li><b>exp:</b> Potencia de e.</li>\n",
    "<li><b>log, log10, log2, log1p:</b> Logaritmos en distintas bases.</li>\n",
    "<li><b>sign:</b> Signo (+ = 1 / - = -1 / 0 = 0).</li>\n",
    "<li><b>ceil:</b> Techo.</li>\n",
    "<li><b>floor:</b> Suelo.</li>\n",
    "<li><b>rint:</b> Redondeo al entero más cercano.</li>\n",
    "<li><b>modf:</b> Devuelve dos arrays uno con la parte fraccionaria y otro con la parte entera.</li>\n",
    "<li><b>isnan:</b> Devuelve un array booleano indicando si el valor es NaN o no.</li>\n",
    "<li><b>isfinite, isinf:</b> Devuelve un array booleano indicando si el valor es finito o no.</li>\n",
    "<li><b>cos, cosh, sin, sinh, tan, tanh:</b> Funciones trigonométricas.</li>\n",
    "<li><b>arccos, arccosh, arcsin, arcsinh, arctan, arctanh:</b> Funciones trigonométricas inversas.</li>\n",
    "<li><b>logical_not:</b> Inverso booleano de todos los valores del array (equivalente a -(array)).</li>\n",
    "</ul>"
   ]
  },
  {
   "cell_type": "markdown",
   "id": "02ef1f02",
   "metadata": {},
   "source": [
    "Algunos ejemplos:"
   ]
  },
  {
   "cell_type": "code",
   "execution_count": 2,
   "id": "f8d63f4d",
   "metadata": {},
   "outputs": [
    {
     "name": "stdout",
     "output_type": "stream",
     "text": [
      "array:\n",
      " [[ 0.47473009  0.43434901 -0.47008638  1.64983988 -0.05821821]\n",
      " [-0.85331865 -0.82291134  0.08619     1.80870411  0.82138202]] \n",
      "\n",
      "valor absoluto:\n",
      " [[0.47473009 0.43434901 0.47008638 1.64983988 0.05821821]\n",
      " [0.85331865 0.82291134 0.08619    1.80870411 0.82138202]] \n",
      "\n",
      "raiz cuadrada:\n",
      " [[0.6890066  0.6590516         nan 1.28446093        nan]\n",
      " [       nan        nan 0.29358133 1.3448807  0.90630129]] \n",
      "\n",
      "exponencial:\n",
      " [[1.60758024 1.54395763 0.62494828 5.20614613 0.94344405]\n",
      " [0.42599884 0.43915127 1.09001341 6.10253407 2.27363989]] \n",
      "\n",
      "logaritmo natural:\n",
      " [[-0.74500886 -0.83390689         nan  0.50067824         nan]\n",
      " [        nan         nan -2.45120116  0.59261063 -0.19676697]] \n",
      "\n",
      "floor:\n",
      " [[ 0.  0. -1.  1. -1.]\n",
      " [-1. -1.  0.  1.  0.]] \n",
      "\n",
      "ceil:\n",
      " [[ 1.  1. -0.  2. -0.]\n",
      " [-0. -0.  1.  2.  1.]] \n",
      "\n",
      "valores nan:\n",
      " [[False False  True False  True]\n",
      " [ True  True False False False]] \n",
      "\n"
     ]
    }
   ],
   "source": [
    "array = np.random.randn(2, 5)\n",
    "\n",
    "print(\"array:\\n\",array, \"\\n\")\n",
    "\n",
    "print(\"valor absoluto:\\n\", np.abs(array), \"\\n\")\n",
    "print(\"raiz cuadrada:\\n\", np.sqrt(array), \"\\n\")\n",
    "print(\"exponencial:\\n\", np.exp(array), \"\\n\")\n",
    "print(\"logaritmo natural:\\n\", np.log(array), \"\\n\")\n",
    "print(\"floor:\\n\", np.floor(array), \"\\n\")\n",
    "print(\"ceil:\\n\", np.ceil(array), \"\\n\")\n",
    "print(\"valores nan:\\n\", np.isnan(np.sqrt(array)), \"\\n\")"
   ]
  },
  {
   "cell_type": "markdown",
   "id": "2a68a132",
   "metadata": {},
   "source": [
    "#### Funciones binarias"
   ]
  },
  {
   "cell_type": "markdown",
   "id": "e6b8594e",
   "metadata": {},
   "source": [
    "Son aquellas funciones que reciben como parámetro dos arrays.\n",
    "<ul>\n",
    "<li><b>add:</b> Adición de los elementos de los dos arrays (equivalente a array1 + array2).</li>\n",
    "<li><b>subtract:</b> Resta de los elementos de los dos arrays (equivalente a array1 - array2).</li>\n",
    "<li><b>multiply:</b> Multiplica los elementos de los dos arrays (equivalente a array1 \\* array2).</li>\n",
    "<li><b>divide, floor_divide:</b> Divide los elementos de los dos arrays (equivalente a array1 / (o //) array2).</li>\n",
    "<li><b>power:</b> Eleva los elementos del primer array a las potencias del segundo (equivalente a array1 ** array2).</li>\n",
    "<li><b>maximum, fmax:</b> Calcula el máximo de los dos arrays (elemento a elemento). fmax ignora NaN.</li>\n",
    "<li><b>minimum, fmin:</b> Calcula el mínimo de los dos arrays (elemento a elemento). fmax ignora NaN.</li>\n",
    "<li><b>mod:</b> Calcula el resto de la división de los dos arrays (equivalente a array1 % array2).</li>\n",
    "<li><b>greater, greater_equal, less, less_equal, equal, not_equal:</b> Comparativas sobre los elementos de ambos ndarrays (elemento a elemento).</li>\n",
    "<li><b>logical_and, logical_or, logical_xor:</b> Operaciones booleanas sobre los elementos de ambos ndarrays (elemento a elemento).</li>\n",
    "</ul>"
   ]
  },
  {
   "cell_type": "markdown",
   "id": "28c0e25d",
   "metadata": {},
   "source": [
    "Algunos ejemplos:"
   ]
  },
  {
   "cell_type": "code",
   "execution_count": 3,
   "id": "3550bd97",
   "metadata": {},
   "outputs": [
    {
     "name": "stdout",
     "output_type": "stream",
     "text": [
      "array1:\n",
      " [[10  5 10  1  5]\n",
      " [ 9  8  7  6  7]] \n",
      "\n",
      "array2:\n",
      " [[ 8  2  1  3  9]\n",
      " [10 10  9  8  8]] \n",
      "\n",
      "suma:\n",
      " [[18  7 11  4 14]\n",
      " [19 18 16 14 15]] \n",
      "\n",
      "resta:\n",
      " [[ 2  3  9 -2 -4]\n",
      " [-1 -2 -2 -2 -1]] \n",
      "\n",
      "multiplicación:\n",
      " [[80 10 10  3 45]\n",
      " [90 80 63 48 56]] \n",
      "\n",
      "división:\n",
      " [[ 1.25        2.5        10.          0.33333333  0.55555556]\n",
      " [ 0.9         0.8         0.77777778  0.75        0.875     ]] \n",
      "\n",
      "potencia:\n",
      " [[ 100000000         25         10          1    1953125]\n",
      " [-808182895 1073741824   40353607    1679616    5764801]] \n",
      "\n",
      "máximo:\n",
      " [[10  5 10  3  9]\n",
      " [10 10  9  8  8]] \n",
      "\n",
      "mayor que:\n",
      " [[ True  True  True False False]\n",
      " [False False False False False]] \n",
      "\n"
     ]
    }
   ],
   "source": [
    "array1 = np.random.random_integers(10, size=(2,5))\n",
    "array2 = np.random.random_integers(10, size=(2,5))\n",
    "\n",
    "print(\"array1:\\n\",array1, \"\\n\")\n",
    "print(\"array2:\\n\",array2, \"\\n\")\n",
    "\n",
    "print(\"suma:\\n\", np.add(array1,array2), \"\\n\")\n",
    "print(\"resta:\\n\", np.subtract(array1,array2), \"\\n\")\n",
    "print(\"multiplicación:\\n\", np.multiply(array1,array2), \"\\n\")\n",
    "print(\"división:\\n\", np.divide(array1,array2), \"\\n\")\n",
    "print(\"potencia:\\n\", np.power(array1,array2), \"\\n\")\n",
    "print(\"máximo:\\n\", np.maximum(array1,array2), \"\\n\")\n",
    "print(\"mayor que:\\n\", np.greater(array1,array2), \"\\n\")"
   ]
  },
  {
   "cell_type": "markdown",
   "id": "584ee0db",
   "metadata": {},
   "source": [
    "### Selección de elementos de ndarrays en función de una condición"
   ]
  },
  {
   "cell_type": "markdown",
   "id": "5ee47b9d",
   "metadata": {},
   "source": [
    "NumPy pone a nuestra disposición, a través de la función <b>np.where</b> la posibilidad de generar un array de salida a partir de dos de entrada, estableciendo una máscara booleana que indique si (elemento a elemento) debemos enviar a la salida el elemento del primer ndarray (valor True) o del segundo (valor False)."
   ]
  },
  {
   "cell_type": "code",
   "execution_count": 4,
   "id": "170b368a",
   "metadata": {},
   "outputs": [
    {
     "name": "stdout",
     "output_type": "stream",
     "text": [
      "array1:\n",
      " [[ 0.39150748  1.19082025  0.76003585  0.99326895 -0.31093908]\n",
      " [-0.56410891  0.53625579  0.99610461 -1.37209786  1.51852779]\n",
      " [ 0.51493705 -2.13972558 -0.11255468 -1.0288628   0.19744574]\n",
      " [ 0.48587151  1.82301345 -0.81473429 -1.69619484  0.42173404]\n",
      " [-0.54514625 -0.7794695   0.73314936 -0.81449584  0.13287491]] \n",
      "\n",
      "array2:\n",
      " [[-0.76830128  0.24593779 -0.06489364 -0.96385221 -1.17342045]\n",
      " [-0.28124252  0.13669577  0.40818803  1.58064807 -1.06977363]\n",
      " [-0.88147426  1.1937555  -0.57533986 -0.1091667  -0.05841226]\n",
      " [-0.6142396   0.3057124  -0.30461161  0.24864876 -0.05146942]\n",
      " [-2.01418544  0.39585475  0.07258669 -1.1785516  -1.29077304]]\n",
      "\n",
      "Fusión condicional:\n",
      "[[-0.76830128  0.24593779 -0.06489364 -0.96385221 -1.17342045]\n",
      " [-0.56410891  0.13669577  0.40818803 -1.37209786 -1.06977363]\n",
      " [-0.88147426 -2.13972558 -0.57533986 -1.0288628  -0.05841226]\n",
      " [-0.6142396   0.3057124  -0.81473429 -1.69619484 -0.05146942]\n",
      " [-2.01418544 -0.7794695   0.07258669 -1.1785516  -1.29077304]]\n",
      "\n",
      "Anidación de condiciones:\n",
      "[[-0.76830128  0.24593779 -0.06489364 -0.96385221 -1.17342045]\n",
      " [ 0.          0.13669577  0.40818803  0.         -1.06977363]\n",
      " [-0.88147426  0.         -0.57533986  0.         -0.05841226]\n",
      " [-0.6142396   0.3057124   0.          0.         -0.05146942]\n",
      " [-2.01418544  0.          0.07258669 -1.1785516  -1.29077304]]\n"
     ]
    }
   ],
   "source": [
    "array1 = np.random.randn(5,5)\n",
    "array2 = np.random.randn(5, 5)\n",
    "\n",
    "print(\"array1:\\n\",array1,\"\\n\")\n",
    "print(\"array2:\\n\",array2)\n",
    "\n",
    "print(\"\\nFusión condicional:\")\n",
    "print(np.where(array1 < array2, array1, array2))\n",
    "\n",
    "print(\"\\nAnidación de condiciones:\")\n",
    "print(np.where(array1 < array2, np.where(array1 < 0, 0, array1), array2))"
   ]
  },
  {
   "cell_type": "markdown",
   "id": "fb3cf4e6",
   "metadata": {},
   "source": [
    "### Funciones matemáticas y estadísticas"
   ]
  },
  {
   "cell_type": "markdown",
   "id": "28989f9c",
   "metadata": {},
   "source": [
    "NumPy ofrece un amplio conjunto de funciones matemáticas y estadísticas que se pueden aplicar sobre ndarrays. A continuación se pueden encontrar los ejemplos más típicos (hay algunas más que pueden consultarse en la documentación oficial de NumPy).<br/>\n",
    "<ul>\n",
    "<li><b>sum:</b> Suma de elementos.</li>\n",
    "<li><b>mean:</b> Media aritmética de los elementos.</li>\n",
    "<li><b>median:</b> Mediana de los elementos.</li>\n",
    "<li><b>std:</b> Desviación estándar de los elementos.</li>\n",
    "<li><b>var:</b> Varianza de los elementos.</li>\n",
    "<li><b>min:</b> Valor mínimo de los elementos.</li>\n",
    "<li><b>max:</b> Valor máximo de los elementos.</li>\n",
    "<li><b>argmin:</b> Índice del valor mínimo.</li>\n",
    "<li><b>argmax:</b> Índice del valor máximo.</li>\n",
    "<li><b>cumsum:</b> Suma acumulada de los elementos.</li>\n",
    "<li><b>cumprod:</b> Producto acumulado de los elementos.</li>\n",
    "</ul>\n",
    "\n",
    "Todas estas funciones pueden recibir, además del ndarray sobre el que se aplicarán, un segundo parámetro llamado <b>axis</b>. Si no se recibe este parámetro las funciones se aplicarán sobre el conjunto global de los elementos del ndarray, pero si se incluye, podrá tomar dos valores:\n",
    "<ul>\n",
    "<li>Valor 0: Aplicará la función por columnas</li>\n",
    "<li>Valor 1: Aplicará la función por filas</li>"
   ]
  },
  {
   "cell_type": "code",
   "execution_count": 5,
   "id": "7371df8a",
   "metadata": {},
   "outputs": [
    {
     "name": "stdout",
     "output_type": "stream",
     "text": [
      "array:\n",
      " [[ 0.50755632 -1.91018437 -0.02955838  0.68621255]\n",
      " [-0.80116621 -0.03369039  0.04391612  1.57825501]\n",
      " [ 1.29650882  0.65253235  1.18728301  0.75872761]\n",
      " [ 0.34912863  1.96896773  1.75912913  0.35549432]\n",
      " [-0.80921978  0.87408354 -0.0053615  -1.51895441]] \n",
      "\n",
      "\n",
      "Operación global:\n",
      "6.909660102830624\n",
      "\n",
      "Operación por columnas:\n",
      "[0.54280779 1.55170886 2.95540838 1.85973508]\n",
      "\n",
      "Operación por filas:\n",
      "[-0.74597389  0.78731453  3.8950518   4.43271981 -1.45945215]\n"
     ]
    }
   ],
   "source": [
    "array = np.random.randn(5,4)\n",
    "\n",
    "print(\"array:\\n\",array,\"\\n\")\n",
    "\n",
    "print(\"\\nOperación global:\")\n",
    "print(np.sum(array))\n",
    "\n",
    "print(\"\\nOperación por columnas:\")\n",
    "print(np.sum(array, 0))\n",
    "\n",
    "print(\"\\nOperación por filas:\")\n",
    "print(np.sum(array, 1))"
   ]
  },
  {
   "cell_type": "markdown",
   "id": "af1609d3",
   "metadata": {},
   "source": [
    "Adicionalmente algunas de estas funciones pueden ser utilizadas como \"métodos\" de los ndarray y no sólo como funciones sobre los mismos. En este caso la sintáxis cambiará y se utilizará la notación \"ndarray.funcion()\" "
   ]
  },
  {
   "cell_type": "code",
   "execution_count": 6,
   "id": "0fba7a83",
   "metadata": {},
   "outputs": [
    {
     "name": "stdout",
     "output_type": "stream",
     "text": [
      "6.909660102830624\n",
      "[0.54280779 1.55170886 2.95540838 1.85973508]\n",
      "[-0.74597389  0.78731453  3.8950518   4.43271981 -1.45945215]\n"
     ]
    }
   ],
   "source": [
    "print(array.sum())\n",
    "print(array.sum(0))\n",
    "print(array.sum(1))"
   ]
  },
  {
   "cell_type": "markdown",
   "id": "ade81c25",
   "metadata": {},
   "source": [
    "### Operaciones sobre ndarrays booleanos"
   ]
  },
  {
   "cell_type": "markdown",
   "id": "e1edfd9f",
   "metadata": {},
   "source": [
    "Dado que, internamente, Python trata los valores booleanos True como 1 y los False como 0, es muy sencillo realizar operaciones matemáticas sobre estos valores booleanos de forma que se puedan hacer diferentes chequeos. Por ejemplo..."
   ]
  },
  {
   "cell_type": "code",
   "execution_count": 7,
   "id": "d3d36b56",
   "metadata": {},
   "outputs": [
    {
     "name": "stdout",
     "output_type": "stream",
     "text": [
      "array:\n",
      " [[ 0.65254479  0.80715418  0.73314873 -0.25536637 -1.59689709]\n",
      " [ 1.21287635  1.33941193  0.06110765  0.35856212 -1.20289598]\n",
      " [-2.41533642 -0.52319384  1.05351272  1.3134208  -0.6650845 ]\n",
      " [ 0.3462053   0.16537632  0.1324861   0.59529329 -0.51133136]\n",
      " [ 0.17204377 -0.54745118  0.67123536 -1.30636505 -1.05297246]] \n",
      "\n",
      "\n",
      "Elementos mayores que 0\n",
      "15\n",
      "\n",
      "Elementos menores que la media\n",
      "10\n"
     ]
    }
   ],
   "source": [
    "array = np.random.randn(5,5)\n",
    "\n",
    "print(\"array:\\n\",array,\"\\n\")\n",
    "\n",
    "print(\"\\nElementos mayores que 0\")\n",
    "print((array>0).sum())\n",
    "\n",
    "print(\"\\nElementos menores que la media\")\n",
    "print((array < array.mean()).sum())\n"
   ]
  },
  {
   "cell_type": "markdown",
   "id": "3a58e675",
   "metadata": {},
   "source": [
    "NumPy también pone a nuestra disposición dos funciones de chequeo predefinidas sobre ndarrays booleanos:<br/>\n",
    "<ul>\n",
    "<li><b>any:</b> Para comprobar si alguno de los elementos es True.</li>\n",
    "<li><b>all:</b> Para comprobar si todos los elementos son True.</li>\n",
    "</ul>"
   ]
  },
  {
   "cell_type": "code",
   "execution_count": 8,
   "id": "ee87063e",
   "metadata": {},
   "outputs": [
    {
     "name": "stdout",
     "output_type": "stream",
     "text": [
      "Alguno de los elementos es igual a 0\n",
      "False\n",
      "\n",
      "Todos los elementos son menores que 0\n",
      "False\n",
      "\n",
      "Todos los elementos entan en un rango\n",
      "False\n"
     ]
    }
   ],
   "source": [
    "print(\"Alguno de los elementos es igual a 0\")\n",
    "print((array==0).any())\n",
    "\n",
    "print(\"\\nTodos los elementos son menores que 0\")\n",
    "print((array<0).all())\n",
    "\n",
    "print(\"\\nTodos los elementos entan en un rango\")\n",
    "print( ((array >= -2) & (array <=2)).all() )"
   ]
  },
  {
   "cell_type": "markdown",
   "id": "6d419abf",
   "metadata": {},
   "source": [
    "### Ordenación de ndarrays"
   ]
  },
  {
   "cell_type": "code",
   "execution_count": 9,
   "id": "71921451",
   "metadata": {},
   "outputs": [
    {
     "name": "stdout",
     "output_type": "stream",
     "text": [
      "array:\n",
      " [[0 8 3 5 5]\n",
      " [4 3 9 9 2]]\n",
      "\n",
      "Datos ordenados\n",
      "[[0 3 5 5 8]\n",
      " [2 3 4 9 9]]\n",
      "\n",
      "Datos ordenados según el primer eje\n",
      "[[0 3 3 5 2]\n",
      " [4 8 9 9 5]]\n",
      "\n",
      "Datos ordenados de forma unidimensional\n",
      "[0 2 3 3 4 5 5 8 9 9]\n"
     ]
    }
   ],
   "source": [
    "array = np.random.randint(10,size=(2,5))\n",
    "print(\"array:\\n\",array)\n",
    "\n",
    "print(\"\\nDatos ordenados\")\n",
    "print(np.sort(array)) # sort along the last axis\n",
    "\n",
    "print(\"\\nDatos ordenados según el primer eje\")\n",
    "print(np.sort(array, axis=0)) # sort along the first axis\n",
    "\n",
    "print(\"\\nDatos ordenados de forma unidimensional\")\n",
    "print(np.sort(array, axis=None)) # sort the flattened array\n"
   ]
  },
  {
   "cell_type": "markdown",
   "id": "1e4fe027",
   "metadata": {},
   "source": [
    "### Funciones de conjunto"
   ]
  },
  {
   "cell_type": "markdown",
   "id": "030e9228",
   "metadata": {},
   "source": [
    "NumPy permite realizar tratamientos sobre un ndarray asumiendo que el total de los elementos del mismo forman un conjunto.<br/>\n",
    "<ul>\n",
    "<li><b>unique:</b> Calcula el conjunto único de elementos sin duplicados.</li>\n",
    "<li><b>intersect1d:</b> Calcula la intersección de los elementos de dos arrays.</li>\n",
    "<li><b>union1d:</b> Calcula la unión de los elementos de dos arays.</li>\n",
    "<li><b>in1d:</b> Calcula un array booleano que indica si cada elemento del primer array está contenido en el segundo.</li>\n",
    "<li><b>setdiff1d:</b> Calcula la diferencia entre ambos conjuntos.</li>\n",
    "<li><b>setxor1d:</b> Calcula la diferencia simétrica entre ambos conjuntos.</li>\n",
    "</ul>"
   ]
  },
  {
   "cell_type": "code",
   "execution_count": 10,
   "id": "13f5fcb5",
   "metadata": {},
   "outputs": [
    {
     "name": "stdout",
     "output_type": "stream",
     "text": [
      "conjunto único array1: [0 2 3 5 6]\n",
      "intersección: [2 3 5 6]\n",
      "unión: [0 1 2 3 4 5 6 7]\n",
      "está contenido en: [ True False False False  True  True  True  True]\n",
      "elementos del primer array no contenidos en el segundo [0]\n",
      "diferencia simétrica: [0 1 4 7]\n"
     ]
    }
   ],
   "source": [
    "array1 = np.array([6, 0, 0, 0, 3, 2, 5, 6])\n",
    "array2 = np.array([7, 4, 3, 1, 2, 6, 5])\n",
    "\n",
    "print(\"conjunto único array1:\", np.unique(array1))\n",
    "print(\"intersección:\", np.intersect1d(array1,array2))\n",
    "print(\"unión:\", np.union1d(array1,array2))\n",
    "print(\"está contenido en:\", np.in1d(array1,array2))\n",
    "print(\"elementos del primer array no contenidos en el segundo\", np.setdiff1d(array1,array2))\n",
    "print(\"diferencia simétrica:\", np.setxor1d(array1,array2))"
   ]
  }
 ],
 "metadata": {
  "interpreter": {
   "hash": "cf1294956fef1240422931e30f0bd2b8a010980abc7ffd44823932dbab40fd93"
  },
  "kernelspec": {
   "display_name": "Python 3",
   "language": "python",
   "name": "python3"
  },
  "language_info": {
   "codemirror_mode": {
    "name": "ipython",
    "version": 3
   },
   "file_extension": ".py",
   "mimetype": "text/x-python",
   "name": "python",
   "nbconvert_exporter": "python",
   "pygments_lexer": "ipython3",
   "version": "3.8.8"
  }
 },
 "nbformat": 4,
 "nbformat_minor": 5
}
