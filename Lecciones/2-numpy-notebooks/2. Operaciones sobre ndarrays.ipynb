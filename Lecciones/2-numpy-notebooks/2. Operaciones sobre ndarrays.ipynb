{
 "cells": [
  {
   "cell_type": "markdown",
   "id": "d004f454",
   "metadata": {},
   "source": [
    "# Operaciones sobre ndarrays"
   ]
  },
  {
   "cell_type": "markdown",
   "id": "92333ef1",
   "metadata": {},
   "source": [
    "NumPy pone a nuestra disposición un amplio conjunto de funciones optimizadas para aplicar sobre ndarrays de forma global evitando así la necesidad de utilizar bucles (mucho más costosos)."
   ]
  },
  {
   "cell_type": "code",
   "execution_count": 28,
   "id": "3490c72f",
   "metadata": {},
   "outputs": [],
   "source": [
    "import numpy as np\n",
    "\n",
    "import warnings; warnings.simplefilter('ignore')"
   ]
  },
  {
   "cell_type": "markdown",
   "id": "804c0018",
   "metadata": {},
   "source": [
    "### Operaciones elemento a elemento - Universal functions"
   ]
  },
  {
   "cell_type": "markdown",
   "id": "bd60959e",
   "metadata": {},
   "source": [
    "El primero de los conjuntos de funciones ofrecido por NumPy son las llamadas \"funciones universales\" (o ufuncs) que permiten la realización de operaciones elemento a elemento de un array. En función del número de parámetros encontramos dos tipos de funciones universales."
   ]
  },
  {
   "cell_type": "markdown",
   "id": "61336888",
   "metadata": {},
   "source": [
    "#### Funciones unarias"
   ]
  },
  {
   "cell_type": "markdown",
   "id": "5047ce9d",
   "metadata": {},
   "source": [
    "Son aquellas funciones que reciben como parámetro un único ndarray.<br/>\n",
    "<ul>\n",
    "<li><b>abs, fabs:</b> Valor absoluto.</li>\n",
    "<li><b>sqrt:</b> Raíz cuadrada (equivalente a array \\*\\* 0.5).</li>\n",
    "<li><b>square:</b> Potencia al cuadrado (equivalente a array ** 2).</li>\n",
    "<li><b>exp:</b> Potencia de e.</li>\n",
    "<li><b>log, log10, log2, log1p:</b> Logaritmos en distintas bases.</li>\n",
    "<li><b>sign:</b> Signo (+ = 1 / - = -1 / 0 = 0).</li>\n",
    "<li><b>ceil:</b> Techo.</li>\n",
    "<li><b>floor:</b> Suelo.</li>\n",
    "<li><b>rint:</b> Redondeo al entero más cercano.</li>\n",
    "<li><b>modf:</b> Devuelve dos arrays uno con la parte fraccionaria y otro con la parte entera.</li>\n",
    "<li><b>isnan:</b> Devuelve un array booleano indicando si el valor es NaN o no.</li>\n",
    "<li><b>isfinite, isinf:</b> Devuelve un array booleano indicando si el valor es finito o no.</li>\n",
    "<li><b>cos, cosh, sin, sinh, tan, tanh:</b> Funciones trigonométricas.</li>\n",
    "<li><b>arccos, arccosh, arcsin, arcsinh, arctan, arctanh:</b> Funciones trigonométricas inversas.</li>\n",
    "<li><b>logical_not:</b> Inverso booleano de todos los valores del array (equivalente a -(array)).</li>\n",
    "</ul>"
   ]
  },
  {
   "cell_type": "markdown",
   "id": "02ef1f02",
   "metadata": {},
   "source": [
    "Algunos ejemplos:"
   ]
  },
  {
   "cell_type": "code",
   "execution_count": 17,
   "id": "f8d63f4d",
   "metadata": {},
   "outputs": [
    {
     "name": "stdout",
     "output_type": "stream",
     "text": [
      "array:\n",
      " [[-0.83010854 -1.71173545  0.26769221 -0.07556916  0.37250466]\n",
      " [-0.06096563 -0.86027395  0.00928673 -0.60242059  0.86162577]] \n",
      "\n",
      "valor absoluto:\n",
      " [[0.83010854 1.71173545 0.26769221 0.07556916 0.37250466]\n",
      " [0.06096563 0.86027395 0.00928673 0.60242059 0.86162577]] \n",
      "\n",
      "raiz cuadrada:\n",
      " [[       nan        nan 0.5173898         nan 0.6103316 ]\n",
      " [       nan        nan 0.09636767        nan 0.92823799]] \n",
      "\n",
      "exponencial:\n",
      " [[0.43600196 0.18055218 1.30694481 0.9272156  1.45136525]\n",
      " [0.94085558 0.42304617 1.00932998 0.54748479 2.36700576]] \n",
      "\n",
      "logaritmo natural:\n",
      " [[        nan         nan -1.31791743         nan -0.98750572]\n",
      " [        nan         nan -4.67916905         nan -0.14893425]] \n",
      "\n",
      "floor:\n",
      " [[-1. -2.  0. -1.  0.]\n",
      " [-1. -1.  0. -1.  0.]] \n",
      "\n",
      "ceil:\n",
      " [[-0. -1.  1. -0.  1.]\n",
      " [-0. -0.  1. -0.  1.]] \n",
      "\n",
      "valores nan:\n",
      " [[ True  True False  True False]\n",
      " [ True  True False  True False]] \n",
      "\n"
     ]
    }
   ],
   "source": [
    "array = np.random.randn(2, 5)\n",
    "\n",
    "print(\"array:\\n\",array, \"\\n\")\n",
    "\n",
    "print(\"valor absoluto:\\n\", np.abs(array), \"\\n\")\n",
    "print(\"raiz cuadrada:\\n\", np.sqrt(array), \"\\n\")\n",
    "print(\"exponencial:\\n\", np.exp(array), \"\\n\")\n",
    "print(\"logaritmo natural:\\n\", np.log(array), \"\\n\")\n",
    "print(\"floor:\\n\", np.floor(array), \"\\n\")\n",
    "print(\"ceil:\\n\", np.ceil(array), \"\\n\")\n",
    "print(\"valores nan:\\n\", np.isnan(np.sqrt(array)), \"\\n\")"
   ]
  },
  {
   "cell_type": "markdown",
   "id": "2a68a132",
   "metadata": {},
   "source": [
    "#### Funciones binarias"
   ]
  },
  {
   "cell_type": "markdown",
   "id": "e6b8594e",
   "metadata": {},
   "source": [
    "Son aquellas funciones que reciben como parámetro dos arrays.\n",
    "<ul>\n",
    "<li><b>add:</b> Adición de los elementos de los dos arrays (equivalente a array1 + array2).</li>\n",
    "<li><b>subtract:</b> Resta de los elementos de los dos arrays (equivalente a array1 - array2).</li>\n",
    "<li><b>multiply:</b> Multiplica los elementos de los dos arrays (equivalente a array1 \\* array2).</li>\n",
    "<li><b>divide, floor_divide:</b> Divide los elementos de los dos arrays (equivalente a array1 / (o //) array2).</li>\n",
    "<li><b>power:</b> Eleva los elementos del primer array a las potencias del segundo (equivalente a array1 ** array2).</li>\n",
    "<li><b>maximum, fmax:</b> Calcula el máximo de los dos arrays (elemento a elemento). fmax ignora NaN.</li>\n",
    "<li><b>minimum, fmin:</b> Calcula el mínimo de los dos arrays (elemento a elemento). fmax ignora NaN.</li>\n",
    "<li><b>mod:</b> Calcula el resto de la división de los dos arrays (equivalente a array1 % array2).</li>\n",
    "<li><b>greater, greater_equal, less, less_equal, equal, not_equal:</b> Comparativas sobre los elementos de ambos ndarrays (elemento a elemento).</li>\n",
    "<li><b>logical_and, logical_or, logical_xor:</b> Operaciones booleanas sobre los elementos de ambos ndarrays (elemento a elemento).</li>\n",
    "</ul>"
   ]
  },
  {
   "cell_type": "markdown",
   "id": "28c0e25d",
   "metadata": {},
   "source": [
    "Algunos ejemplos:"
   ]
  },
  {
   "cell_type": "code",
   "execution_count": 30,
   "id": "3550bd97",
   "metadata": {},
   "outputs": [
    {
     "name": "stdout",
     "output_type": "stream",
     "text": [
      "array1:\n",
      " [[10  7  4  5  7]\n",
      " [ 6 10  4  8  6]] \n",
      "\n",
      "array2:\n",
      " [[3 2 6 4 2]\n",
      " [2 7 4 2 3]] \n",
      "\n",
      "suma:\n",
      " [[13  9 10  9  9]\n",
      " [ 8 17  8 10  9]] \n",
      "\n",
      "resta:\n",
      " [[ 7  5 -2  1  5]\n",
      " [ 4  3  0  6  3]] \n",
      "\n",
      "multiplicación:\n",
      " [[30 14 24 20 14]\n",
      " [12 70 16 16 18]] \n",
      "\n",
      "división:\n",
      " [[3.33333333 3.5        0.66666667 1.25       3.5       ]\n",
      " [3.         1.42857143 1.         4.         2.        ]] \n",
      "\n",
      "potencia:\n",
      " [[    1000       49     4096      625       49]\n",
      " [      36 10000000      256       64      216]] \n",
      "\n",
      "máximo:\n",
      " [[10  7  6  5  7]\n",
      " [ 6 10  4  8  6]] \n",
      "\n",
      "mayor que:\n",
      " [[ True  True False  True  True]\n",
      " [ True  True False  True  True]] \n",
      "\n"
     ]
    }
   ],
   "source": [
    "array1 = np.random.random_integers(10, size=(2,5))\n",
    "array2 = np.random.random_integers(10, size=(2,5))\n",
    "\n",
    "print(\"array1:\\n\",array1, \"\\n\")\n",
    "print(\"array2:\\n\",array2, \"\\n\")\n",
    "\n",
    "print(\"suma:\\n\", np.add(array1,array2), \"\\n\")\n",
    "print(\"resta:\\n\", np.subtract(array1,array2), \"\\n\")\n",
    "print(\"multiplicación:\\n\", np.multiply(array1,array2), \"\\n\")\n",
    "print(\"división:\\n\", np.divide(array1,array2), \"\\n\")\n",
    "print(\"potencia:\\n\", np.power(array1,array2), \"\\n\")\n",
    "print(\"máximo:\\n\", np.maximum(array1,array2), \"\\n\")\n",
    "print(\"mayor que:\\n\", np.greater(array1,array2), \"\\n\")"
   ]
  },
  {
   "cell_type": "markdown",
   "id": "584ee0db",
   "metadata": {},
   "source": [
    "### Selección de elementos de ndarrays en función de una condición"
   ]
  },
  {
   "cell_type": "code",
   "execution_count": null,
   "id": "c1b0462f",
   "metadata": {},
   "outputs": [],
   "source": []
  }
 ],
 "metadata": {
  "interpreter": {
   "hash": "cf1294956fef1240422931e30f0bd2b8a010980abc7ffd44823932dbab40fd93"
  },
  "kernelspec": {
   "display_name": "Python 3",
   "language": "python",
   "name": "python3"
  },
  "language_info": {
   "codemirror_mode": {
    "name": "ipython",
    "version": 3
   },
   "file_extension": ".py",
   "mimetype": "text/x-python",
   "name": "python",
   "nbconvert_exporter": "python",
   "pygments_lexer": "ipython3",
   "version": "3.8.8"
  }
 },
 "nbformat": 4,
 "nbformat_minor": 5
}
