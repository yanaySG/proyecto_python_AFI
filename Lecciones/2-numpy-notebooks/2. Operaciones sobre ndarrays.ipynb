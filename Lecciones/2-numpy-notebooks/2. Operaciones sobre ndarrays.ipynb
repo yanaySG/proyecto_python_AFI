{
 "cells": [
  {
   "cell_type": "markdown",
   "source": [
    "# Operaciones sobre ndarrays"
   ],
   "metadata": {}
  },
  {
   "cell_type": "markdown",
   "source": [
    "NumPy pone a nuestra disposición un amplio conjunto de funciones optimizadas para aplicar sobre ndarrays de forma global evitando así la necesidad de utilizar bucles (mucho más costosos)."
   ],
   "metadata": {}
  },
  {
   "cell_type": "code",
   "execution_count": 23,
   "source": [
    "import numpy as np"
   ],
   "outputs": [],
   "metadata": {}
  },
  {
   "cell_type": "markdown",
   "source": [
    "### Operaciones elemento a elemento - Universal functions"
   ],
   "metadata": {}
  },
  {
   "cell_type": "markdown",
   "source": [
    "El primero de los conjuntos de funciones ofrecido por NumPy son las llamadas \"funciones universales\" (o ufuncs) que permiten la realización de operaciones elemento a elemento de un array. En función del número de parámetros encontramos dos tipos de funciones universales."
   ],
   "metadata": {}
  },
  {
   "cell_type": "markdown",
   "source": [
    "#### Funciones unarias"
   ],
   "metadata": {}
  },
  {
   "cell_type": "markdown",
   "source": [
    "Son aquellas funciones que reciben como parámetro un único ndarray.<br/>\n",
    "<ul>\n",
    "<li><b>abs, fabs:</b> Valor absoluto.</li>\n",
    "<li><b>sqrt:</b> Raíz cuadrada (equivalente a array \\*\\* 0.5).</li>\n",
    "<li><b>square:</b> Potencia al cuadrado (equivalente a array ** 2).</li>\n",
    "<li><b>exp:</b> Potencia de e.</li>\n",
    "<li><b>log, log10, log2, log1p:</b> Logaritmos en distintas bases.</li>\n",
    "<li><b>sign:</b> Signo (+ = 1 / - = -1 / 0 = 0).</li>\n",
    "<li><b>ceil:</b> Techo.</li>\n",
    "<li><b>floor:</b> Suelo.</li>\n",
    "<li><b>rint:</b> Redondeo al entero más cercano.</li>\n",
    "<li><b>modf:</b> Devuelve dos arrays uno con la parte fraccionaria y otro con la parte entera.</li>\n",
    "<li><b>isnan:</b> Devuelve un array booleano indicando si el valor es NaN o no.</li>\n",
    "<li><b>isfinite, isinf:</b> Devuelve un array booleano indicando si el valor es finito o no.</li>\n",
    "<li><b>cos, cosh, sin, sinh, tan, tanh:</b> Funciones trigonométricas.</li>\n",
    "<li><b>arccos, arccosh, arcsin, arcsinh, arctan, arctanh:</b> Funciones trigonométricas inversas.</li>\n",
    "<li><b>logical_not:</b> Inverso booleano de todos los valores del array (equivalente a -(array)).</li>\n",
    "</ul>"
   ],
   "metadata": {}
  },
  {
   "cell_type": "markdown",
   "source": [
    "Algunos ejemplos:"
   ],
   "metadata": {}
  },
  {
   "cell_type": "code",
   "execution_count": 25,
   "source": [
    "array = np.random.randn(5, 5)\r\n",
    "\r\n",
    "print(\"array\\n:\",array, \"\\n\")\r\n",
    "\r\n",
    "print(\"valor absoluto:\\n\", np.abs(array))\r\n",
    "print(\"raiz cuadrada:\\n\", np.sqrt(array))\r\n",
    "print(\"exponencial:\\n\", np.exp(array))\r\n",
    "print(\"logaritmo natural:\\n\", np.log(array))\r\n",
    "print(\"floor:\\n\", np.floor(array))\r\n",
    "print(\"ceil:\\n\", np.ceil(array))\r\n",
    "\r\n"
   ],
   "outputs": [
    {
     "output_type": "stream",
     "name": "stdout",
     "text": [
      "array\n",
      ": [[ 0.02833597  0.90444496 -0.19207427 -1.83674983 -0.0399558 ]\n",
      " [-0.3612924   1.62929074 -0.74209782  2.29010934 -0.52012446]\n",
      " [ 0.3219781   1.2163776   0.61021882 -1.02944346  1.32957398]\n",
      " [-0.46632415 -0.05633291  0.45710338  0.09792089  2.07244967]\n",
      " [ 0.19864355  0.39999263  0.71737042 -0.65119638  0.59364401]] \n",
      "\n",
      "valor absoluto:\n",
      " [[0.02833597 0.90444496 0.19207427 1.83674983 0.0399558 ]\n",
      " [0.3612924  1.62929074 0.74209782 2.29010934 0.52012446]\n",
      " [0.3219781  1.2163776  0.61021882 1.02944346 1.32957398]\n",
      " [0.46632415 0.05633291 0.45710338 0.09792089 2.07244967]\n",
      " [0.19864355 0.39999263 0.71737042 0.65119638 0.59364401]]\n",
      "raiz cuadrada:\n",
      " [[0.16833293 0.95102311        nan        nan        nan]\n",
      " [       nan 1.27643674        nan 1.51331072        nan]\n",
      " [0.56743114 1.1028951  0.78116504        nan 1.15307154]\n",
      " [       nan        nan 0.67609421 0.31292313 1.43960053]\n",
      " [0.44569445 0.6324497  0.84697722        nan 0.77048297]]\n",
      "exponencial:\n",
      " [[1.02874126 2.47056028 0.82524558 0.15933445 0.96083191]\n",
      " [0.69677523 5.10025603 0.47611407 9.87601747 0.59444656]\n",
      " [1.37985456 3.37494018 1.84083417 0.3572057  3.77943292]\n",
      " [0.62730391 0.94522441 1.57949216 1.10287553 7.94426013]\n",
      " [1.2197471  1.4918137  2.049038   0.52142159 1.81057415]]\n",
      "logaritmo natural:\n",
      " [[-3.56362311 -0.10043383         nan         nan         nan]\n",
      " [        nan  0.48814479         nan  0.82859956         nan]\n",
      " [-1.13327174  0.19587726 -0.49393766         nan  0.28485857]\n",
      " [        nan         nan -0.78284571 -2.32359539  0.72873132]\n",
      " [-1.61624329 -0.91630916 -0.33216295         nan -0.52147546]]\n",
      "floor:\n",
      " [[ 0.  0. -1. -2. -1.]\n",
      " [-1.  1. -1.  2. -1.]\n",
      " [ 0.  1.  0. -2.  1.]\n",
      " [-1. -1.  0.  0.  2.]\n",
      " [ 0.  0.  0. -1.  0.]]\n",
      "ceil:\n",
      " [[ 1.  1. -0. -1. -0.]\n",
      " [-0.  2. -0.  3. -0.]\n",
      " [ 1.  2.  1. -1.  2.]\n",
      " [-0. -0.  1.  1.  3.]\n",
      " [ 1.  1.  1. -0.  1.]]\n"
     ]
    },
    {
     "output_type": "stream",
     "name": "stderr",
     "text": [
      "<ipython-input-25-26ffd28f1de1>:6: RuntimeWarning: invalid value encountered in sqrt\n",
      "  print(\"raiz cuadrada:\\n\", np.sqrt(array))\n",
      "<ipython-input-25-26ffd28f1de1>:8: RuntimeWarning: invalid value encountered in log\n",
      "  print(\"logaritmo natural:\\n\", np.log(array))\n"
     ]
    }
   ],
   "metadata": {}
  },
  {
   "cell_type": "markdown",
   "source": [
    "#### Funciones binarias"
   ],
   "metadata": {}
  },
  {
   "cell_type": "markdown",
   "source": [
    "Son aquellas funciones que reciben como parámetro dos arrays.\n",
    "<ul>\n",
    "<li><b>add:</b> Adición de los elementos de los dos arrays (equivalente a array1 + array2).</li>\n",
    "<li><b>subtract:</b> Resta de los elementos de los dos arrays (equivalente a array1 - array2).</li>\n",
    "<li><b>multiply:</b> Multiplica los elementos de los dos arrays (equivalente a array1 \\* array2).</li>\n",
    "<li><b>divide, floor_divide:</b> Divide los elementos de los dos arrays (equivalente a array1 / (o //) array2).</li>\n",
    "<li><b>power:</b> Eleva los elementos del primer array a las potencias del segundo (equivalente a array1 ** array2).</li>\n",
    "<li><b>maximum, fmax:</b> Calcula el máximo de los dos arrays (elemento a elemento). fmax ignora NaN.</li>\n",
    "<li><b>minimum, fmin:</b> Calcula el mínimo de los dos arrays (elemento a elemento). fmax ignora NaN.</li>\n",
    "<li><b>mod:</b> Calcula el resto de la división de los dos arrays (equivalente a array1 % array2).</li>\n",
    "<li><b>greater, greater_equal, less, less_equal, equal, not_equal:</b> Comparativas sobre los elementos de ambos ndarrays (elemento a elemento).</li>\n",
    "<li><b>logical_and, logical_or, logical_xor:</b> Operaciones booleanas sobre los elementos de ambos ndarrays (elemento a elemento).</li>\n",
    "</ul>"
   ],
   "metadata": {}
  },
  {
   "cell_type": "code",
   "execution_count": null,
   "source": [],
   "outputs": [],
   "metadata": {}
  },
  {
   "cell_type": "code",
   "execution_count": null,
   "source": [],
   "outputs": [],
   "metadata": {}
  }
 ],
 "metadata": {
  "interpreter": {
   "hash": "cf1294956fef1240422931e30f0bd2b8a010980abc7ffd44823932dbab40fd93"
  },
  "kernelspec": {
   "display_name": "Python 3",
   "language": "python",
   "name": "python3"
  },
  "language_info": {
   "codemirror_mode": {
    "name": "ipython",
    "version": 3
   },
   "file_extension": ".py",
   "mimetype": "text/x-python",
   "name": "python",
   "nbconvert_exporter": "python",
   "pygments_lexer": "ipython3",
   "version": "3.8.8"
  }
 },
 "nbformat": 4,
 "nbformat_minor": 5
}