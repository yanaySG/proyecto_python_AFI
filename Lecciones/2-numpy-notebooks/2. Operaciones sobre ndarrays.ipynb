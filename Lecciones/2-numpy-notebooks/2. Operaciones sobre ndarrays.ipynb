{
 "cells": [
  {
   "cell_type": "markdown",
   "source": [
    "# Operaciones sobre ndarrays"
   ],
   "metadata": {}
  },
  {
   "cell_type": "markdown",
   "source": [
    "NumPy pone a nuestra disposición un amplio conjunto de funciones optimizadas para aplicar sobre ndarrays de forma global evitando así la necesidad de utilizar bucles (mucho más costosos)."
   ],
   "metadata": {}
  },
  {
   "cell_type": "code",
   "execution_count": 1,
   "source": [
    "import numpy as np"
   ],
   "outputs": [],
   "metadata": {}
  },
  {
   "cell_type": "markdown",
   "source": [
    "### Operaciones elemento a elemento - Universal functions"
   ],
   "metadata": {}
  },
  {
   "cell_type": "markdown",
   "source": [
    "El primero de los conjuntos de funciones ofrecido por NumPy son las llamadas \"funciones universales\" (o ufuncs) que permiten la realización de operaciones elemento a elemento de un array. En función del número de parámetros encontramos dos tipos de funciones universales."
   ],
   "metadata": {}
  },
  {
   "cell_type": "markdown",
   "source": [
    "#### Funciones unarias"
   ],
   "metadata": {}
  },
  {
   "cell_type": "markdown",
   "source": [
    "Son aquellas funciones que reciben como parámetro un único ndarray.<br/>\r\n",
    "<ul>\r\n",
    "<li><b>abs, fabs:</b> Valor absoluto.</li>\r\n",
    "<li><b>sqrt:</b> Raíz cuadrada (equivalente a array \\*\\* 0.5).</li>\r\n",
    "<li><b>square:</b> Potencia al cuadrado (equivalente a array ** 2).</li>\r\n",
    "<li><b>exp:</b> Potencia de e.</li>\r\n",
    "<li><b>log, log10, log2, log1p:</b> Logaritmos en distintas bases.</li>\r\n",
    "<li><b>sign:</b> Signo (+ = 1 / - = -1 / 0 = 0).</li>\r\n",
    "<li><b>ceil:</b> Techo.</li>\r\n",
    "<li><b>floor:</b> Suelo.</li>\r\n",
    "<li><b>rint:</b> Redondeo al entero más cercano.</li>\r\n",
    "<li><b>modf:</b> Devuelve dos arrays uno con la parte fraccionaria y otro con la parte entera.</li>\r\n",
    "<li><b>isnan:</b> Devuelve un array booleano indicando si el valor es NaN o no.</li>\r\n",
    "<li><b>isfinite, isinf:</b> Devuelve un array booleano indicando si el valor es finito o no.</li>\r\n",
    "<li><b>cos, cosh, sin, sinh, tan, tanh:</b> Funciones trigonométricas.</li>\r\n",
    "<li><b>arccos, arccosh, arcsin, arcsinh, arctan, arctanh:</b> Funciones trigonométricas inversas.</li>\r\n",
    "<li><b>logical_not:</b> Inverso booleano de todos los valores del array (equivalente a -(array)).</li>\r\n",
    "</ul>"
   ],
   "metadata": {}
  },
  {
   "cell_type": "code",
   "execution_count": 6,
   "source": [
    "array = np.arange(16).reshape(4,4)\r\n",
    "array"
   ],
   "outputs": [
    {
     "output_type": "execute_result",
     "data": {
      "text/plain": [
       "array([[ 0,  1,  2,  3],\n",
       "       [ 4,  5,  6,  7],\n",
       "       [ 8,  9, 10, 11],\n",
       "       [12, 13, 14, 15]])"
      ]
     },
     "metadata": {},
     "execution_count": 6
    }
   ],
   "metadata": {}
  },
  {
   "cell_type": "markdown",
   "source": [
    "#### Funciones binarias"
   ],
   "metadata": {}
  },
  {
   "cell_type": "markdown",
   "source": [
    "Son aquellas funciones que reciben como parámetro dos arrays.\r\n",
    "<ul>\r\n",
    "<li><b>add:</b> Adición de los elementos de los dos arrays (equivalente a array1 + array2).</li>\r\n",
    "<li><b>subtract:</b> Resta de los elementos de los dos arrays (equivalente a array1 - array2).</li>\r\n",
    "<li><b>multiply:</b> Multiplica los elementos de los dos arrays (equivalente a array1 \\* array2).</li>\r\n",
    "<li><b>divide, floor_divide:</b> Divide los elementos de los dos arrays (equivalente a array1 / (o //) array2).</li>\r\n",
    "<li><b>power:</b> Eleva los elementos del primer array a las potencias del segundo (equivalente a array1 ** array2).</li>\r\n",
    "<li><b>maximum, fmax:</b> Calcula el máximo de los dos arrays (elemento a elemento). fmax ignora NaN.</li>\r\n",
    "<li><b>minimum, fmin:</b> Calcula el mínimo de los dos arrays (elemento a elemento). fmax ignora NaN.</li>\r\n",
    "<li><b>mod:</b> Calcula el resto de la división de los dos arrays (equivalente a array1 % array2).</li>\r\n",
    "<li><b>greater, greater_equal, less, less_equal, equal, not_equal:</b> Comparativas sobre los elementos de ambos ndarrays (elemento a elemento).</li>\r\n",
    "<li><b>logical_and, logical_or, logical_xor:</b> Operaciones booleanas sobre los elementos de ambos ndarrays (elemento a elemento).</li>\r\n",
    "</ul>"
   ],
   "metadata": {}
  },
  {
   "cell_type": "code",
   "execution_count": null,
   "source": [],
   "outputs": [],
   "metadata": {}
  },
  {
   "cell_type": "code",
   "execution_count": null,
   "source": [],
   "outputs": [],
   "metadata": {}
  }
 ],
 "metadata": {
  "kernelspec": {
   "name": "python3",
   "display_name": "Python 3.8.8 64-bit ('base': conda)"
  },
  "language_info": {
   "codemirror_mode": {
    "name": "ipython",
    "version": 3
   },
   "file_extension": ".py",
   "mimetype": "text/x-python",
   "name": "python",
   "nbconvert_exporter": "python",
   "pygments_lexer": "ipython3",
   "version": "3.8.8"
  },
  "interpreter": {
   "hash": "cf1294956fef1240422931e30f0bd2b8a010980abc7ffd44823932dbab40fd93"
  }
 },
 "nbformat": 4,
 "nbformat_minor": 5
}