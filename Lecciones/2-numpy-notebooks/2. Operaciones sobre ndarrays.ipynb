{
 "cells": [
  {
   "cell_type": "markdown",
   "id": "d004f454",
   "metadata": {},
   "source": [
    "# Operaciones sobre ndarrays"
   ]
  },
  {
   "cell_type": "markdown",
   "id": "92333ef1",
   "metadata": {},
   "source": [
    "NumPy pone a nuestra disposición un amplio conjunto de funciones optimizadas para aplicar sobre ndarrays de forma global evitando así la necesidad de utilizar bucles (mucho más costosos)."
   ]
  },
  {
   "cell_type": "code",
   "execution_count": 2,
   "id": "3490c72f",
   "metadata": {},
   "outputs": [],
   "source": [
    "import numpy as np\n",
    "\n",
    "import warnings; warnings.simplefilter('ignore')"
   ]
  },
  {
   "cell_type": "markdown",
   "id": "804c0018",
   "metadata": {},
   "source": [
    "### Operaciones elemento a elemento - Universal functions"
   ]
  },
  {
   "cell_type": "markdown",
   "id": "bd60959e",
   "metadata": {},
   "source": [
    "El primero de los conjuntos de funciones ofrecido por NumPy son las llamadas \"funciones universales\" (o ufuncs) que permiten la realización de operaciones elemento a elemento de un array. En función del número de parámetros encontramos dos tipos de funciones universales."
   ]
  },
  {
   "cell_type": "markdown",
   "id": "61336888",
   "metadata": {},
   "source": [
    "#### Funciones unarias"
   ]
  },
  {
   "cell_type": "markdown",
   "id": "5047ce9d",
   "metadata": {},
   "source": [
    "Son aquellas funciones que reciben como parámetro un único ndarray.<br/>\n",
    "<ul>\n",
    "<li><b>abs, fabs:</b> Valor absoluto.</li>\n",
    "<li><b>sqrt:</b> Raíz cuadrada (equivalente a array \\*\\* 0.5).</li>\n",
    "<li><b>square:</b> Potencia al cuadrado (equivalente a array ** 2).</li>\n",
    "<li><b>exp:</b> Potencia de e.</li>\n",
    "<li><b>log, log10, log2, log1p:</b> Logaritmos en distintas bases.</li>\n",
    "<li><b>sign:</b> Signo (+ = 1 / - = -1 / 0 = 0).</li>\n",
    "<li><b>ceil:</b> Techo.</li>\n",
    "<li><b>floor:</b> Suelo.</li>\n",
    "<li><b>rint:</b> Redondeo al entero más cercano.</li>\n",
    "<li><b>modf:</b> Devuelve dos arrays uno con la parte fraccionaria y otro con la parte entera.</li>\n",
    "<li><b>isnan:</b> Devuelve un array booleano indicando si el valor es NaN o no.</li>\n",
    "<li><b>isfinite, isinf:</b> Devuelve un array booleano indicando si el valor es finito o no.</li>\n",
    "<li><b>cos, cosh, sin, sinh, tan, tanh:</b> Funciones trigonométricas.</li>\n",
    "<li><b>arccos, arccosh, arcsin, arcsinh, arctan, arctanh:</b> Funciones trigonométricas inversas.</li>\n",
    "<li><b>logical_not:</b> Inverso booleano de todos los valores del array (equivalente a -(array)).</li>\n",
    "</ul>"
   ]
  },
  {
   "cell_type": "markdown",
   "id": "02ef1f02",
   "metadata": {},
   "source": [
    "Algunos ejemplos:"
   ]
  },
  {
   "cell_type": "code",
   "execution_count": 17,
   "id": "f8d63f4d",
   "metadata": {},
   "outputs": [
    {
     "name": "stdout",
     "output_type": "stream",
     "text": [
      "array:\n",
      " [[-0.83010854 -1.71173545  0.26769221 -0.07556916  0.37250466]\n",
      " [-0.06096563 -0.86027395  0.00928673 -0.60242059  0.86162577]] \n",
      "\n",
      "valor absoluto:\n",
      " [[0.83010854 1.71173545 0.26769221 0.07556916 0.37250466]\n",
      " [0.06096563 0.86027395 0.00928673 0.60242059 0.86162577]] \n",
      "\n",
      "raiz cuadrada:\n",
      " [[       nan        nan 0.5173898         nan 0.6103316 ]\n",
      " [       nan        nan 0.09636767        nan 0.92823799]] \n",
      "\n",
      "exponencial:\n",
      " [[0.43600196 0.18055218 1.30694481 0.9272156  1.45136525]\n",
      " [0.94085558 0.42304617 1.00932998 0.54748479 2.36700576]] \n",
      "\n",
      "logaritmo natural:\n",
      " [[        nan         nan -1.31791743         nan -0.98750572]\n",
      " [        nan         nan -4.67916905         nan -0.14893425]] \n",
      "\n",
      "floor:\n",
      " [[-1. -2.  0. -1.  0.]\n",
      " [-1. -1.  0. -1.  0.]] \n",
      "\n",
      "ceil:\n",
      " [[-0. -1.  1. -0.  1.]\n",
      " [-0. -0.  1. -0.  1.]] \n",
      "\n",
      "valores nan:\n",
      " [[ True  True False  True False]\n",
      " [ True  True False  True False]] \n",
      "\n"
     ]
    }
   ],
   "source": [
    "array = np.random.randn(2, 5)\n",
    "\n",
    "print(\"array:\\n\",array, \"\\n\")\n",
    "\n",
    "print(\"valor absoluto:\\n\", np.abs(array), \"\\n\")\n",
    "print(\"raiz cuadrada:\\n\", np.sqrt(array), \"\\n\")\n",
    "print(\"exponencial:\\n\", np.exp(array), \"\\n\")\n",
    "print(\"logaritmo natural:\\n\", np.log(array), \"\\n\")\n",
    "print(\"floor:\\n\", np.floor(array), \"\\n\")\n",
    "print(\"ceil:\\n\", np.ceil(array), \"\\n\")\n",
    "print(\"valores nan:\\n\", np.isnan(np.sqrt(array)), \"\\n\")"
   ]
  },
  {
   "cell_type": "markdown",
   "id": "2a68a132",
   "metadata": {},
   "source": [
    "#### Funciones binarias"
   ]
  },
  {
   "cell_type": "markdown",
   "id": "e6b8594e",
   "metadata": {},
   "source": [
    "Son aquellas funciones que reciben como parámetro dos arrays.\n",
    "<ul>\n",
    "<li><b>add:</b> Adición de los elementos de los dos arrays (equivalente a array1 + array2).</li>\n",
    "<li><b>subtract:</b> Resta de los elementos de los dos arrays (equivalente a array1 - array2).</li>\n",
    "<li><b>multiply:</b> Multiplica los elementos de los dos arrays (equivalente a array1 \\* array2).</li>\n",
    "<li><b>divide, floor_divide:</b> Divide los elementos de los dos arrays (equivalente a array1 / (o //) array2).</li>\n",
    "<li><b>power:</b> Eleva los elementos del primer array a las potencias del segundo (equivalente a array1 ** array2).</li>\n",
    "<li><b>maximum, fmax:</b> Calcula el máximo de los dos arrays (elemento a elemento). fmax ignora NaN.</li>\n",
    "<li><b>minimum, fmin:</b> Calcula el mínimo de los dos arrays (elemento a elemento). fmax ignora NaN.</li>\n",
    "<li><b>mod:</b> Calcula el resto de la división de los dos arrays (equivalente a array1 % array2).</li>\n",
    "<li><b>greater, greater_equal, less, less_equal, equal, not_equal:</b> Comparativas sobre los elementos de ambos ndarrays (elemento a elemento).</li>\n",
    "<li><b>logical_and, logical_or, logical_xor:</b> Operaciones booleanas sobre los elementos de ambos ndarrays (elemento a elemento).</li>\n",
    "</ul>"
   ]
  },
  {
   "cell_type": "markdown",
   "id": "28c0e25d",
   "metadata": {},
   "source": [
    "Algunos ejemplos:"
   ]
  },
  {
   "cell_type": "code",
   "execution_count": 30,
   "id": "3550bd97",
   "metadata": {},
   "outputs": [
    {
     "name": "stdout",
     "output_type": "stream",
     "text": [
      "array1:\n",
      " [[10  7  4  5  7]\n",
      " [ 6 10  4  8  6]] \n",
      "\n",
      "array2:\n",
      " [[3 2 6 4 2]\n",
      " [2 7 4 2 3]] \n",
      "\n",
      "suma:\n",
      " [[13  9 10  9  9]\n",
      " [ 8 17  8 10  9]] \n",
      "\n",
      "resta:\n",
      " [[ 7  5 -2  1  5]\n",
      " [ 4  3  0  6  3]] \n",
      "\n",
      "multiplicación:\n",
      " [[30 14 24 20 14]\n",
      " [12 70 16 16 18]] \n",
      "\n",
      "división:\n",
      " [[3.33333333 3.5        0.66666667 1.25       3.5       ]\n",
      " [3.         1.42857143 1.         4.         2.        ]] \n",
      "\n",
      "potencia:\n",
      " [[    1000       49     4096      625       49]\n",
      " [      36 10000000      256       64      216]] \n",
      "\n",
      "máximo:\n",
      " [[10  7  6  5  7]\n",
      " [ 6 10  4  8  6]] \n",
      "\n",
      "mayor que:\n",
      " [[ True  True False  True  True]\n",
      " [ True  True False  True  True]] \n",
      "\n"
     ]
    }
   ],
   "source": [
    "array1 = np.random.random_integers(10, size=(2,5))\n",
    "array2 = np.random.random_integers(10, size=(2,5))\n",
    "\n",
    "print(\"array1:\\n\",array1, \"\\n\")\n",
    "print(\"array2:\\n\",array2, \"\\n\")\n",
    "\n",
    "print(\"suma:\\n\", np.add(array1,array2), \"\\n\")\n",
    "print(\"resta:\\n\", np.subtract(array1,array2), \"\\n\")\n",
    "print(\"multiplicación:\\n\", np.multiply(array1,array2), \"\\n\")\n",
    "print(\"división:\\n\", np.divide(array1,array2), \"\\n\")\n",
    "print(\"potencia:\\n\", np.power(array1,array2), \"\\n\")\n",
    "print(\"máximo:\\n\", np.maximum(array1,array2), \"\\n\")\n",
    "print(\"mayor que:\\n\", np.greater(array1,array2), \"\\n\")"
   ]
  },
  {
   "cell_type": "markdown",
   "id": "584ee0db",
   "metadata": {},
   "source": [
    "### Selección de elementos de ndarrays en función de una condición"
   ]
  },
  {
   "cell_type": "markdown",
   "id": "9df5d05c",
   "metadata": {},
   "source": [
    "NumPy pone a nuestra disposición, a través de la función <b>np.where</b> la posibilidad de generar un array de salida a partir de dos de entrada, estableciendo una máscara booleana que indique si (elemento a elemento) debemos enviar a la salida el elemento del primer ndarray (valor True) o del segundo (valor False)."
   ]
  },
  {
   "cell_type": "code",
   "execution_count": 21,
   "id": "feca3662",
   "metadata": {},
   "outputs": [
    {
     "name": "stdout",
     "output_type": "stream",
     "text": [
      "array1:\n",
      " [[-2.44300905  0.77921415 -2.11836417 -0.11472166 -1.39955176]\n",
      " [ 0.61779811  1.18228571 -1.48151924  0.15422247 -0.70997297]\n",
      " [-1.0070794  -0.08036695 -1.43970586  1.4640655  -0.45552624]\n",
      " [-1.06350232  0.49541124 -2.03316739  1.10058493  1.37322856]\n",
      " [-0.24661262 -0.21065946 -0.57705948 -1.48159245 -1.68244194]] \n",
      "\n",
      "array2:\n",
      " [[-0.66408712  0.14226306 -0.28062698 -2.98624159 -0.51936066]\n",
      " [ 2.53668692  0.99235238 -0.16422853  0.54860607 -0.57097116]\n",
      " [ 0.8918802  -1.44576066  1.60439321  0.38364186  0.75680777]\n",
      " [ 0.68879798  1.51898573  2.01468837 -0.34538455  0.43954907]\n",
      " [ 1.143037   -0.57647781 -0.23215485  0.42383913 -0.29335377]]\n",
      "\n",
      "Fusión condicional:\n",
      "[[-2.44300905  0.14226306 -2.11836417 -2.98624159 -1.39955176]\n",
      " [ 0.61779811  0.99235238 -1.48151924  0.15422247 -0.70997297]\n",
      " [-1.0070794  -1.44576066 -1.43970586  0.38364186 -0.45552624]\n",
      " [-1.06350232  0.49541124 -2.03316739 -0.34538455  0.43954907]\n",
      " [-0.24661262 -0.57647781 -0.57705948 -1.48159245 -1.68244194]]\n",
      "\n",
      "Anidación de condiciones:\n",
      "[[ 0.          0.14226306  0.         -2.98624159  0.        ]\n",
      " [ 0.61779811  0.99235238  0.          0.15422247  0.        ]\n",
      " [ 0.         -1.44576066  0.          0.38364186  0.        ]\n",
      " [ 0.          0.49541124  0.         -0.34538455  0.43954907]\n",
      " [ 0.         -0.57647781  0.          0.          0.        ]]\n"
     ]
    }
   ],
   "source": [
    "array1 = np.random.randn(5,5)\n",
    "array2 = np.random.randn(5, 5)\n",
    "\n",
    "print(\"array1:\\n\",array1,\"\\n\")\n",
    "print(\"array2:\\n\",array2)\n",
    "\n",
    "print(\"\\nFusión condicional:\")\n",
    "print(np.where(array1 < array2, array1, array2))\n",
    "\n",
    "print(\"\\nAnidación de condiciones:\")\n",
    "print(np.where(array1 < array2, np.where(array1 < 0, 0, array1), array2))"
   ]
  },
  {
   "cell_type": "markdown",
   "id": "54048431",
   "metadata": {},
   "source": [
    "### Funciones matemáticas y estadísticas"
   ]
  },
  {
   "cell_type": "markdown",
   "id": "945d2588",
   "metadata": {},
   "source": [
    "NumPy ofrece un amplio conjunto de funciones matemáticas y estadísticas que se pueden aplicar sobre ndarrays. A continuación se pueden encontrar los ejemplos más típicos (hay algunas más que pueden consultarse en la documentación oficial de NumPy).<br/>\n",
    "<ul>\n",
    "<li><b>sum:</b> Suma de elementos.</li>\n",
    "<li><b>mean:</b> Media aritmética de los elementos.</li>\n",
    "<li><b>median:</b> Mediana de los elementos.</li>\n",
    "<li><b>std:</b> Desviación estándar de los elementos.</li>\n",
    "<li><b>var:</b> Varianza de los elementos.</li>\n",
    "<li><b>min:</b> Valor mínimo de los elementos.</li>\n",
    "<li><b>max:</b> Valor máximo de los elementos.</li>\n",
    "<li><b>argmin:</b> Índice del valor mínimo.</li>\n",
    "<li><b>argmax:</b> Índice del valor máximo.</li>\n",
    "<li><b>cumsum:</b> Suma acumulada de los elementos.</li>\n",
    "<li><b>cumprod:</b> Producto acumulado de los elementos.</li>\n",
    "</ul>\n",
    "\n",
    "Todas estas funciones pueden recibir, además del ndarray sobre el que se aplicarán, un segundo parámetro llamado <b>axis</b>. Si no se recibe este parámetro las funciones se aplicarán sobre el conjunto global de los elementos del ndarray, pero si se incluye, podrá tomar dos valores:\n",
    "<ul>\n",
    "<li>Valor 0: Aplicará la función por columnas</li>\n",
    "<li>Valor 1: Aplicará la función por filas</li>"
   ]
  },
  {
   "cell_type": "code",
   "execution_count": 29,
   "id": "71ca9430",
   "metadata": {},
   "outputs": [
    {
     "name": "stdout",
     "output_type": "stream",
     "text": [
      "array:\n",
      " [[-0.03274941  0.51626784 -2.81096539  0.07424415]\n",
      " [ 0.68255449  0.17562898  0.79973098  0.85128752]\n",
      " [-1.48787746 -0.86540333  0.68436982  0.28771631]\n",
      " [ 1.00617917 -0.3595035   0.1167053   1.32272646]\n",
      " [ 0.02230578 -0.67355735  2.73776853 -1.06007977]] \n",
      "\n",
      "\n",
      "Operación global:\n",
      "1.987349117812156\n",
      "\n",
      "Operación por columnas:\n",
      "[ 0.19041256 -1.20656736  1.52760924  1.47589468]\n",
      "\n",
      "Operación por filas:\n",
      "[-2.25320282  2.50920197 -1.38119466  2.08610744  1.02643719]\n"
     ]
    }
   ],
   "source": [
    "array = np.random.randn(5,4)\n",
    "\n",
    "print(\"array:\\n\",array,\"\\n\")\n",
    "\n",
    "print(\"\\nOperación global:\")\n",
    "print(np.sum(array))\n",
    "\n",
    "print(\"\\nOperación por columnas:\")\n",
    "print(np.sum(array, 0))\n",
    "\n",
    "print(\"\\nOperación por filas:\")\n",
    "print(np.sum(array, 1))"
   ]
  },
  {
   "cell_type": "markdown",
   "id": "841b7d16",
   "metadata": {},
   "source": [
    "Adicionalmente algunas de estas funciones pueden ser utilizadas como \"métodos\" de los ndarray y no sólo como funciones sobre los mismos. En este caso la sintáxis cambiará y se utilizará la notación \"ndarray.funcion()\" "
   ]
  },
  {
   "cell_type": "code",
   "execution_count": 34,
   "id": "6b66dacf",
   "metadata": {},
   "outputs": [
    {
     "name": "stdout",
     "output_type": "stream",
     "text": [
      "1.987349117812156\n",
      "[ 0.19041256 -1.20656736  1.52760924  1.47589468]\n",
      "[-2.25320282  2.50920197 -1.38119466  2.08610744  1.02643719]\n"
     ]
    }
   ],
   "source": [
    "print(array.sum())\n",
    "print(array.sum(0))\n",
    "print(array.sum(1))"
   ]
  },
  {
   "cell_type": "markdown",
   "id": "5295cf10",
   "metadata": {},
   "source": [
    "### Operaciones sobre ndarrays booleanos"
   ]
  },
  {
   "cell_type": "markdown",
   "id": "0db9c199",
   "metadata": {},
   "source": [
    "Dado que, internamente, Python trata los valores booleanos True como 1 y los False como 0, es muy sencillo realizar operaciones matemáticas sobre estos valores booleanos de forma que se puedan hacer diferentes chequeos. Por ejemplo..."
   ]
  },
  {
   "cell_type": "code",
   "execution_count": 55,
   "id": "cee37ab3",
   "metadata": {},
   "outputs": [
    {
     "name": "stdout",
     "output_type": "stream",
     "text": [
      "array:\n",
      " [[-0.09028405  1.20404426  0.17019342  0.15661857  0.43965323]\n",
      " [-1.09253296  0.26262647  0.06034484  0.36498415  1.25776417]\n",
      " [ 1.31684065  1.39522041 -0.36350749  0.10933203  0.22879655]\n",
      " [ 0.84657443 -0.55255485 -0.44360896 -0.84085451  1.16261577]\n",
      " [ 0.04463715  0.94913871  0.93484431  0.40765312  0.23061015]] \n",
      "\n",
      "\n",
      "Elementos mayores que 0\n",
      "19\n",
      "\n",
      "Elementos menores que la media\n",
      "14\n"
     ]
    }
   ],
   "source": [
    "array = np.random.randn(5,5)\n",
    "\n",
    "print(\"array:\\n\",array,\"\\n\")\n",
    "\n",
    "print(\"\\nElementos mayores que 0\")\n",
    "print((array>0).sum())\n",
    "\n",
    "print(\"\\nElementos menores que la media\")\n",
    "print((array < array.mean()).sum())\n"
   ]
  },
  {
   "cell_type": "markdown",
   "id": "cdcd22e7",
   "metadata": {},
   "source": [
    "NumPy también pone a nuestra disposición dos funciones de chequeo predefinidas sobre ndarrays booleanos:<br/>\n",
    "<ul>\n",
    "<li><b>any:</b> Para comprobar si alguno de los elementos es True.</li>\n",
    "<li><b>all:</b> Para comprobar si todos los elementos son True.</li>\n",
    "</ul>"
   ]
  },
  {
   "cell_type": "code",
   "execution_count": 57,
   "id": "b4870a92",
   "metadata": {},
   "outputs": [
    {
     "name": "stdout",
     "output_type": "stream",
     "text": [
      "Alguno de los elementos es igual a 0\n",
      "False\n",
      "\n",
      "Todos los elementos son menores que 0\n",
      "False\n",
      "\n",
      "Todos los elementos entan en un rango\n",
      "True\n"
     ]
    }
   ],
   "source": [
    "print(\"Alguno de los elementos es igual a 0\")\n",
    "print((array==0).any())\n",
    "\n",
    "print(\"\\nTodos los elementos son menores que 0\")\n",
    "print((array<0).all())\n",
    "\n",
    "print(\"\\nTodos los elementos entan en un rango\")\n",
    "print( ((array >= -2) & (array <=2)).all() )"
   ]
  },
  {
   "cell_type": "markdown",
   "id": "c0a64578",
   "metadata": {},
   "source": [
    "### Ordenación de ndarrays"
   ]
  },
  {
   "cell_type": "code",
   "execution_count": 76,
   "id": "3cec4b1c",
   "metadata": {},
   "outputs": [
    {
     "name": "stdout",
     "output_type": "stream",
     "text": [
      "array:\n",
      " [[5 8 8 5 7]\n",
      " [7 1 0 0 9]]\n",
      "\n",
      "Datos ordenados\n",
      "[[5 5 7 8 8]\n",
      " [0 0 1 7 9]]\n",
      "\n",
      "Datos ordenados según el primer eje\n",
      "[[5 1 0 0 7]\n",
      " [7 8 8 5 9]]\n",
      "\n",
      "Datos ordenados de forma unidimensional\n",
      "[0 0 1 5 5 7 7 8 8 9]\n"
     ]
    }
   ],
   "source": [
    "array = np.random.randint(10,size=(2,5))\n",
    "print(\"array:\\n\",array)\n",
    "\n",
    "print(\"\\nDatos ordenados\")\n",
    "print(np.sort(array)) # sort along the last axis\n",
    "\n",
    "print(\"\\nDatos ordenados según el primer eje\")\n",
    "print(np.sort(array, axis=0)) # sort along the first axis\n",
    "\n",
    "print(\"\\nDatos ordenados de forma unidimensional\")\n",
    "print(np.sort(array, axis=None)) # sort the flattened array\n"
   ]
  },
  {
   "cell_type": "markdown",
   "id": "d11d77bf",
   "metadata": {},
   "source": [
    "### Funciones de conjunto"
   ]
  },
  {
   "cell_type": "markdown",
   "id": "983d1028",
   "metadata": {},
   "source": [
    "NumPy permite realizar tratamientos sobre un ndarray asumiendo que el total de los elementos del mismo forman un conjunto.<br/>\n",
    "<ul>\n",
    "<li><b>unique:</b> Calcula el conjunto único de elementos sin duplicados.</li>\n",
    "<li><b>intersect1d:</b> Calcula la intersección de los elementos de dos arrays.</li>\n",
    "<li><b>union1d:</b> Calcula la unión de los elementos de dos arays.</li>\n",
    "<li><b>in1d:</b> Calcula un array booleano que indica si cada elemento del primer array está contenido en el segundo.</li>\n",
    "<li><b>setdiff1d:</b> Calcula la diferencia entre ambos conjuntos.</li>\n",
    "<li><b>setxor1d:</b> Calcula la diferencia simétrica entre ambos conjuntos.</li>\n",
    "</ul>"
   ]
  },
  {
   "cell_type": "code",
   "execution_count": 92,
   "id": "5ae182ba",
   "metadata": {},
   "outputs": [
    {
     "name": "stdout",
     "output_type": "stream",
     "text": [
      "conjunto único array1: [0 2 3 5 6]\n",
      "intersección: [2 3 5 6]\n",
      "unión: [0 1 2 3 4 5 6 7]\n",
      "está contenido en: [ True False False False  True  True  True  True]\n",
      "elementos del primer array no contenidos en el segundo [0]\n",
      "[0 1 4 7]\n"
     ]
    }
   ],
   "source": [
    "array1 = np.array([6, 0, 0, 0, 3, 2, 5, 6])\n",
    "array2 = np.array([7, 4, 3, 1, 2, 6, 5])\n",
    "\n",
    "print(\"conjunto único array1:\", np.unique(array1))\n",
    "print(\"intersección:\", np.intersect1d(array1,array2))\n",
    "print(\"unión:\", np.union1d(array1,array2))\n",
    "print(\"está contenido en:\", np.in1d(array1,array2))\n",
    "print(\"elementos del primer array no contenidos en el segundo\", np.setdiff1d(array1,array2))\n",
    "print(\"diferencia simétrica\":, np.setxor1d(array1,array2))"
   ]
  },
  {
   "cell_type": "code",
   "execution_count": null,
   "id": "198969c3",
   "metadata": {},
   "outputs": [],
   "source": []
  }
 ],
 "metadata": {
  "interpreter": {
   "hash": "cf1294956fef1240422931e30f0bd2b8a010980abc7ffd44823932dbab40fd93"
  },
  "kernelspec": {
   "display_name": "Python 3",
   "language": "python",
   "name": "python3"
  },
  "language_info": {
   "codemirror_mode": {
    "name": "ipython",
    "version": 3
   },
   "file_extension": ".py",
   "mimetype": "text/x-python",
   "name": "python",
   "nbconvert_exporter": "python",
   "pygments_lexer": "ipython3",
   "version": "3.8.8"
  }
 },
 "nbformat": 4,
 "nbformat_minor": 5
}
