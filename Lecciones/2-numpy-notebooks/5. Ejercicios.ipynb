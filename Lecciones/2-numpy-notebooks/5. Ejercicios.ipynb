{
 "cells": [
  {
   "cell_type": "markdown",
   "id": "a4fea8dd",
   "metadata": {},
   "source": [
    "# NumPy - Ejercicios"
   ]
  },
  {
   "cell_type": "markdown",
   "id": "dd200fa3",
   "metadata": {},
   "source": [
    "### 1. Crea una función que reciba como parámetro un número n y devuelva una matriz cuadrada (dos dimensiones) de nxn donde los elementos de la matriz principal valgan 1 y el resto valgan n."
   ]
  },
  {
   "cell_type": "code",
   "execution_count": 1,
   "id": "dbd0322e",
   "metadata": {},
   "outputs": [],
   "source": [
    "import numpy as np"
   ]
  },
  {
   "cell_type": "code",
   "execution_count": 2,
   "id": "b2e2d7ec",
   "metadata": {},
   "outputs": [
    {
     "data": {
      "text/plain": [
       "array([[1, 5, 5, 5, 5],\n",
       "       [5, 1, 5, 5, 5],\n",
       "       [5, 5, 1, 5, 5],\n",
       "       [5, 5, 5, 1, 5],\n",
       "       [5, 5, 5, 5, 1]])"
      ]
     },
     "execution_count": 2,
     "metadata": {},
     "output_type": "execute_result"
    }
   ],
   "source": [
    "def square_matrix(n):\n",
    "    a = np.full((n,n),n)\n",
    "    np.fill_diagonal(a, 1)\n",
    "    return a\n",
    "\n",
    "square_matrix(5)   "
   ]
  },
  {
   "cell_type": "markdown",
   "id": "001e7692",
   "metadata": {},
   "source": [
    "### 2. Crea una función que reciba dos números n y m que definirán ancho y alto de una matriz de nxm elementos numéricos secuenciales y un booleano que definirá si se debe devolver la matriz generada (False) o su traspuesta (True)."
   ]
  },
  {
   "cell_type": "code",
   "execution_count": 3,
   "id": "0e8cc381",
   "metadata": {},
   "outputs": [
    {
     "name": "stdout",
     "output_type": "stream",
     "text": [
      "[[ 0  1  2  3  4  5  6  7  8  9]\n",
      " [10 11 12 13 14 15 16 17 18 19]\n",
      " [20 21 22 23 24 25 26 27 28 29]\n",
      " [30 31 32 33 34 35 36 37 38 39]\n",
      " [40 41 42 43 44 45 46 47 48 49]]\n",
      "\n",
      " [[ 0 10 20 30 40]\n",
      " [ 1 11 21 31 41]\n",
      " [ 2 12 22 32 42]\n",
      " [ 3 13 23 33 43]\n",
      " [ 4 14 24 34 44]\n",
      " [ 5 15 25 35 45]\n",
      " [ 6 16 26 36 46]\n",
      " [ 7 17 27 37 47]\n",
      " [ 8 18 28 38 48]\n",
      " [ 9 19 29 39 49]]\n"
     ]
    }
   ],
   "source": [
    "def matrix(n, m, transpose=False):\n",
    "    matrix = np.array(range(n*m))\n",
    "    if transpose == True:\n",
    "        return np.matrix.transpose(matrix.reshape(n,m))    \n",
    "    return matrix.reshape(n,m)\n",
    " \n",
    "print(matrix(5,10))\n",
    "print(\"\\n\", matrix(5,10,True))"
   ]
  },
  {
   "cell_type": "markdown",
   "id": "eaefa984",
   "metadata": {},
   "source": [
    "### 3. Crea una función que genere un esquema de tablero de ajedrez (con valores 1 y 0, enteros) en base a dos parámetros: la dimensión (cuadrada) del tablero n y un flag que indique si el primer elemento de la primera fila debe ser un 1 (True) o un 0 (False)."
   ]
  },
  {
   "cell_type": "code",
   "execution_count": 4,
   "id": "c8871cd4",
   "metadata": {},
   "outputs": [
    {
     "name": "stdout",
     "output_type": "stream",
     "text": [
      "[[1 0 1 0 1]\n",
      " [0 1 0 1 0]\n",
      " [1 0 1 0 1]\n",
      " [0 1 0 1 0]\n",
      " [1 0 1 0 1]]\n",
      "\n",
      " [[0 1 0 1 0]\n",
      " [1 0 1 0 1]\n",
      " [0 1 0 1 0]\n",
      " [1 0 1 0 1]\n",
      " [0 1 0 1 0]]\n"
     ]
    }
   ],
   "source": [
    "def chessboard(n, flag = True):\n",
    "    chboard = np.zeros(n*n, dtype=np.int16)\n",
    "    if flag == True:\n",
    "        chboard[::2] = 1\n",
    "    else:\n",
    "        chboard[1::2] = 1\n",
    "    return chboard.reshape(n,n)\n",
    "\n",
    "n=5\n",
    "print(chessboard(n))\n",
    "print(\"\\n\",chessboard(n,False))"
   ]
  },
  {
   "cell_type": "markdown",
   "id": "9cf56c89",
   "metadata": {},
   "source": [
    "### 4. Crea una función que reciba dos arrays y genere un array que tenga 0 en todos los elementos y 1 en aquellos elementos del primer array que sean mayores que su equivalente del segundo array."
   ]
  },
  {
   "cell_type": "code",
   "execution_count": 5,
   "id": "b65321d0",
   "metadata": {},
   "outputs": [
    {
     "data": {
      "text/plain": [
       "array([[0, 0, 0, 0],\n",
       "       [0, 1, 0, 0],\n",
       "       [1, 0, 1, 1],\n",
       "       [0, 0, 0, 0]])"
      ]
     },
     "execution_count": 5,
     "metadata": {},
     "output_type": "execute_result"
    }
   ],
   "source": [
    "def matrix(arr1, arr2):\n",
    "    arr_result = arr1 - arr2\n",
    "    arr_result[arr_result < 0] = 0\n",
    "    arr_result[arr_result > 0] = 1\n",
    "    return arr_result\n",
    "\n",
    "array1 = np.random.randint(10, size=(4,4))\n",
    "array2 = np.random.randint(10, size=(4,4))\n",
    "\n",
    "matrix(array1, array2)"
   ]
  },
  {
   "cell_type": "markdown",
   "id": "5f592868",
   "metadata": {},
   "source": [
    "### 5. Crea una función que reciba un array y una tupla de enteros y devuelva la matriz resultante de seleccionar los índices de la tupla aplicados desde el final."
   ]
  },
  {
   "cell_type": "code",
   "execution_count": 6,
   "id": "d256e29f",
   "metadata": {},
   "outputs": [
    {
     "data": {
      "text/plain": [
       "array([[0, 5, 9, 7, 1, 5, 5, 5, 6, 2],\n",
       "       [3, 2, 3, 6, 8, 2, 7, 8, 1, 8]])"
      ]
     },
     "execution_count": 6,
     "metadata": {},
     "output_type": "execute_result"
    }
   ],
   "source": [
    "array = np.random.randint(10, size=10)\n",
    "tupla = tuple(np.random.randint(10, size=10))\n",
    "\n",
    "def build_array(p_array, p_tuple):\n",
    "    return np.array([p_array,p_tuple[::-1]])\n",
    "\n",
    "build_array(array, tupla)"
   ]
  },
  {
   "cell_type": "markdown",
   "id": "f23eeafa",
   "metadata": {},
   "source": [
    "### 6. Replica la función del ejercicio 4 utilizando la función np.where"
   ]
  },
  {
   "cell_type": "code",
   "execution_count": 7,
   "id": "50ebb02b",
   "metadata": {},
   "outputs": [
    {
     "data": {
      "text/plain": [
       "array([[1, 0, 1, 0],\n",
       "       [1, 0, 0, 1],\n",
       "       [1, 1, 1, 1],\n",
       "       [1, 0, 0, 0]])"
      ]
     },
     "execution_count": 7,
     "metadata": {},
     "output_type": "execute_result"
    }
   ],
   "source": [
    "def matrix(arr1, arr2):\n",
    "    arr_result = np.where(arr1 - arr2 < 0, 0, 1)\n",
    "    return arr_result\n",
    "\n",
    "array1 = np.random.randint(10, size=(4,4))\n",
    "array2 = np.random.randint(10, size=(4,4))\n",
    "\n",
    "matrix(array1, array2)"
   ]
  },
  {
   "cell_type": "markdown",
   "id": "b44bf216",
   "metadata": {},
   "source": [
    "### 7. Crea una función que reciba una matriz y chequee si hay o no algún valor negativo en la misma."
   ]
  },
  {
   "cell_type": "code",
   "execution_count": 8,
   "id": "ab014583",
   "metadata": {
    "scrolled": true
   },
   "outputs": [
    {
     "name": "stdout",
     "output_type": "stream",
     "text": [
      "Example 1\n",
      "True\n",
      "[[ 0.47204943 -0.28607174 -0.30427569  0.26975788]\n",
      " [ 0.35591192  2.59865639 -1.0293267  -0.97090403]\n",
      " [-0.69004393  0.63868822  0.08927933  0.79754106]\n",
      " [-0.68055282  0.55242357 -1.64284546  0.61269172]]\n",
      "Example 2\n",
      "False\n",
      "[[4 5 4 1]\n",
      " [0 0 6 8]\n",
      " [7 8 4 8]\n",
      " [6 3 9 8]]\n"
     ]
    }
   ],
   "source": [
    "def any_negative(matrix):\n",
    "    return np.any(a=matrix<0)\n",
    "\n",
    "print(\"Example 1\")\n",
    "matrix = np.random.randn(4,4)\n",
    "print(any_negative(matrix))\n",
    "print(matrix)\n",
    "\n",
    "print(\"Example 2\")\n",
    "matrix = np.random.randint(10, size=(4,4))\n",
    "print(any_negative(matrix))\n",
    "print(matrix)"
   ]
  },
  {
   "cell_type": "markdown",
   "id": "1d95c3a2",
   "metadata": {},
   "source": [
    "### 8. Crea una función que utilizando la del ejercicio anterior, sume el valor absoluto de todos los elementos negativos de una matriz recibida como parámetro o devuelve \"No hay negativos\" en caso de que no los haya."
   ]
  },
  {
   "cell_type": "code",
   "execution_count": 9,
   "id": "7aa8b8a1",
   "metadata": {},
   "outputs": [
    {
     "name": "stdout",
     "output_type": "stream",
     "text": [
      "Example 1\n",
      "26\n",
      "[[-5  3  2 -5]\n",
      " [-1 -1 -5 -3]\n",
      " [ 3 -3  4  2]\n",
      " [ 3  4 -1 -2]]\n",
      "Example 2\n",
      "No hay negativos\n",
      "[[2 3 1 1]\n",
      " [3 3 3 1]\n",
      " [3 3 3 1]\n",
      " [0 0 2 3]]\n"
     ]
    }
   ],
   "source": [
    "def sum_abs_negative_values(matrix):\n",
    "    if any_negative(matrix):\n",
    "        return np.sum(np.abs(matrix[matrix<0]))\n",
    "    return \"No hay negativos\"\n",
    "\n",
    "print(\"Example 1\")\n",
    "matrix = np.random.randint(low=-5, high=5, size=(4,4))\n",
    "print(sum_abs_negative_values(matrix))\n",
    "print(matrix)\n",
    "\n",
    "print(\"Example 2\")\n",
    "matrix = np.random.randint(5, size=(4,4))\n",
    "print(sum_abs_negative_values(matrix))\n",
    "print(matrix)"
   ]
  },
  {
   "cell_type": "markdown",
   "id": "99d04b1d",
   "metadata": {},
   "source": [
    "### 9. Crea una función que reciba una matriz unidimensional con nombres, una matriz con el mismo ancho que la matriz de nombres que contenga valores numéricos y un nombre de los de la primera lista. Deberá devolver, en una tupla, los descriptivos (mínimo, máximo, media, mediana y desviación típica) del vector de valores \"asociado\" al nombre seleccionado por posición. Ten en cuenta que el nombre introducido puede no estar en el listado y contrólalo."
   ]
  },
  {
   "cell_type": "code",
   "execution_count": 10,
   "id": "34264009",
   "metadata": {},
   "outputs": [
    {
     "name": "stdout",
     "output_type": "stream",
     "text": [
      "Scenario 1\n",
      "\n",
      "data:\n",
      " [[2 2 3 3]\n",
      " [1 3 2 3]\n",
      " [0 6 8 2]\n",
      " [2 2 9 5]]\n",
      "\n",
      "selected row [[1 3 2 3]]\n",
      "\n",
      "statistics (1, 3, 2.25, 0.82915619758885, 2.5)\n",
      "\n",
      "Scenario 2\n",
      "\n",
      "phisics is not in ['ciencias' 'mates' 'lengua' 'reli']\n"
     ]
    }
   ],
   "source": [
    "def selected_row_stats(names, matrix, name):\n",
    "    if(name in names):\n",
    "        row_selected = matrix[names == name]\n",
    "        return tuple((row_selected.min(),\n",
    "                      row_selected.max(), \n",
    "                      row_selected.mean(),\n",
    "                      row_selected.std(),\n",
    "                      np.median(row_selected)))    \n",
    "    return str(name + \" is not in \" + np.array2string(names))\n",
    "\n",
    "print(\"Scenario 1\\n\")\n",
    "names = np.array([\"ciencias\", \"mates\", \"lengua\", \"reli\"])\n",
    "matrix = np.random.randint(10,size=(len(names),len(names)))\n",
    "name = \"mates\"\n",
    "print(\"data:\\n\", matrix)\n",
    "print(\"\\nselected row\", matrix[names == name])\n",
    "print(\"\\nstatistics\", selected_row_stats(names, matrix, name))\n",
    "\n",
    "print(\"\\nScenario 2\\n\")\n",
    "name = \"phisics\"\n",
    "print(selected_row_stats(names, matrix, name))"
   ]
  },
  {
   "cell_type": "markdown",
   "id": "095bbe55",
   "metadata": {},
   "source": [
    "### 10. Crea una función que reciba dos matrices y devuelva la secuencia ordenada de la union de los elementos únicos de ambas."
   ]
  },
  {
   "cell_type": "code",
   "execution_count": 11,
   "id": "e8e3a3d5",
   "metadata": {},
   "outputs": [
    {
     "name": "stdout",
     "output_type": "stream",
     "text": [
      "[18  1 13 10 14 19  9 11  0 10]\n",
      "[18  8  8  2  5 15 15 16 12 15]\n"
     ]
    },
    {
     "data": {
      "text/plain": [
       "array([ 0,  1,  9, 10, 11, 13, 14, 18, 19])"
      ]
     },
     "execution_count": 11,
     "metadata": {},
     "output_type": "execute_result"
    }
   ],
   "source": [
    "def merged_matrix(matrix1:np.ndarray, matrix2:np.ndarray):\n",
    "    return np.union1d(np.unique(matrix1), np.unique(matrix1))\n",
    "\n",
    "matrix_1 = np.random.randint(20, size=(10))\n",
    "matrix_2 = np.random.randint(20, size=(10))\n",
    "\n",
    "print(matrix_1)\n",
    "print(matrix_2)\n",
    "\n",
    "merged_matrix(matrix_1,matrix_1)"
   ]
  },
  {
   "cell_type": "markdown",
   "id": "0f20eb4d",
   "metadata": {},
   "source": [
    "### 11. Crea una función que reciba un número n, genere una matriz nxn a partir de una secuencia numérica y escriba la misma en un fichero cuyo nombre se recibirá también como parámetro. Hazlo con ficheros binarios."
   ]
  },
  {
   "cell_type": "code",
   "execution_count": 12,
   "id": "c4d8ce57",
   "metadata": {
    "scrolled": true
   },
   "outputs": [
    {
     "name": "stdout",
     "output_type": "stream",
     "text": [
      "[[-0.77256834 -1.75534712  0.12977545  1.64488133  0.26309473]\n",
      " [ 1.16109618  0.03206325  0.92638715  1.29646535  0.86284473]\n",
      " [ 0.37796527 -0.72079245  2.39073419 -0.12934691 -0.16737433]\n",
      " [ 2.07525094  0.10628334 -0.13288249 -0.49913436 -0.48615774]\n",
      " [ 0.78554134  0.0807458  -1.92963293  0.08423463 -1.73855812]]\n"
     ]
    }
   ],
   "source": [
    "def write_binary_file(n,binary_file_name):\n",
    "    sequence = np.random.randn(n,n)\n",
    "    np.save(binary_file_name, sequence)\n",
    "    \n",
    "write_binary_file(5, \"numpy_file\")\n",
    "print(np.load(\"numpy_file.npy\"))"
   ]
  },
  {
   "cell_type": "markdown",
   "id": "5e9a6b1d",
   "metadata": {},
   "source": [
    "### 12. Crea una función que reciba el nombre de un fichero binario de NumPy, lo lea como binario, sume el contenido del mismo por filas y guarde el resultado en un fichero de texto con el mismo nombre (pero extensión txt)."
   ]
  },
  {
   "cell_type": "code",
   "execution_count": 13,
   "id": "8f49f7a2",
   "metadata": {},
   "outputs": [
    {
     "data": {
      "text/plain": [
       "array([-0.49016395,  4.27885667,  1.75118576,  1.06335969, -2.71766928])"
      ]
     },
     "execution_count": 13,
     "metadata": {},
     "output_type": "execute_result"
    }
   ],
   "source": [
    "def rows_sum_binary_file(file_name):\n",
    "    array = np.load(file_name+\".npy\", allow_pickle=True)\n",
    "    sum_rows_array = np.sum(array, axis=1)\n",
    "    np.savetxt(file_name+\".txt\", sum_rows_array, delimiter=',')\n",
    "\n",
    "file_name = \"numpy_file\"\n",
    "rows_sum_binary_file(file_name)\n",
    "\n",
    "np.loadtxt(file_name+\".txt\",delimiter=',')"
   ]
  },
  {
   "cell_type": "markdown",
   "id": "db8f1417",
   "metadata": {},
   "source": [
    "### 13. Crea una función que reciba dos enteros n y m, genere dos matrices aleatorias (normales 0,1) de dimensiones nxm y mxn y haga el producto escalar de ambas para obtener una matriz nxn. Deberá devolver una tupla con las tres matrices."
   ]
  },
  {
   "cell_type": "code",
   "execution_count": 14,
   "id": "58316438",
   "metadata": {},
   "outputs": [
    {
     "data": {
      "text/plain": [
       "(array([[-1.30149044, -1.60583865,  0.13104203, -0.09221298],\n",
       "        [ 0.43678012, -0.81915234, -0.81257917, -1.36852284],\n",
       "        [-1.40758136, -1.38211378,  0.46885381,  0.57817811]]),\n",
       " array([[ 0.37876291,  0.01537523,  0.74617337],\n",
       "        [ 1.68444361, -1.2532648 , -0.60491878],\n",
       "        [-1.36030833,  0.41408683, -0.80516614],\n",
       "        [ 0.14879335, -0.07936389, -1.08755679]]),\n",
       " array([[-3.38987921,  2.05411151, -0.0049593 ],\n",
       "        [-0.3126487 ,  0.80546336,  2.96404188],\n",
       "        [-3.41298903,  1.8587724 , -1.22053988]]))"
      ]
     },
     "execution_count": 14,
     "metadata": {},
     "output_type": "execute_result"
    }
   ],
   "source": [
    "def dot_matrix(n,m):\n",
    "    matrix_a = np.random.randn(n,m)\n",
    "    matrix_b = np.random.randn(m,n)\n",
    "    dot_matix = np.dot(matrix_a, matrix_b)\n",
    "    return tuple((matrix_a, matrix_b, dot_matix))\n",
    "\n",
    "dot_matrix(3,4)"
   ]
  },
  {
   "cell_type": "markdown",
   "id": "2f21bb48",
   "metadata": {},
   "source": [
    "### 14. Crea una función que reciba una matriz de datos y un entero n y devuelva una muestra (muestreo aleatorio simple) de n elementos."
   ]
  },
  {
   "cell_type": "code",
   "execution_count": 16,
   "id": "2dffc4f5",
   "metadata": {},
   "outputs": [
    {
     "name": "stdout",
     "output_type": "stream",
     "text": [
      "[31 41 30 48 10 20 38 48  4 49]\n"
     ]
    },
    {
     "data": {
      "text/plain": [
       "array([48, 31, 10])"
      ]
     },
     "execution_count": 16,
     "metadata": {},
     "output_type": "execute_result"
    }
   ],
   "source": [
    "def random_sampling(matrix, n):\n",
    "    return np.random.choice(matrix, n)\n",
    "\n",
    "matrix = np.random.randint(50, size=10)\n",
    "print(matrix)\n",
    "\n",
    "random_sampling(matrix,3)"
   ]
  }
 ],
 "metadata": {
  "kernelspec": {
   "display_name": "Python 3",
   "language": "python",
   "name": "python3"
  },
  "language_info": {
   "codemirror_mode": {
    "name": "ipython",
    "version": 3
   },
   "file_extension": ".py",
   "mimetype": "text/x-python",
   "name": "python",
   "nbconvert_exporter": "python",
   "pygments_lexer": "ipython3",
   "version": "3.8.8"
  }
 },
 "nbformat": 4,
 "nbformat_minor": 5
}
