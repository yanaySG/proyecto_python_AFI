{
 "cells": [
  {
   "cell_type": "markdown",
   "id": "a911254e",
   "metadata": {},
   "source": [
    "# NumPy - Ejercicios"
   ]
  },
  {
   "cell_type": "markdown",
   "id": "aa32e332",
   "metadata": {},
   "source": [
    "### 1. Crea una función que reciba como parámetro un número n y devuelva una matriz cuadrada (dos dimensiones) de nxn donde los elementos de la matriz principal valgan 1 y el resto valgan n."
   ]
  },
  {
   "cell_type": "code",
   "execution_count": 2,
   "id": "eb33eb3d",
   "metadata": {},
   "outputs": [],
   "source": [
    "import numpy as np"
   ]
  },
  {
   "cell_type": "code",
   "execution_count": 26,
   "id": "b887a900",
   "metadata": {},
   "outputs": [
    {
     "data": {
      "text/plain": [
       "array([[1, 5, 5, 5, 5],\n",
       "       [5, 1, 5, 5, 5],\n",
       "       [5, 5, 1, 5, 5],\n",
       "       [5, 5, 5, 1, 5],\n",
       "       [5, 5, 5, 5, 1]])"
      ]
     },
     "execution_count": 26,
     "metadata": {},
     "output_type": "execute_result"
    }
   ],
   "source": [
    "def square_matrix(n):\n",
    "    a = np.full((n,n),n)\n",
    "    np.fill_diagonal(a, 1)\n",
    "    return a\n",
    "\n",
    "square_matrix(5)   "
   ]
  },
  {
   "cell_type": "markdown",
   "id": "83d3a358",
   "metadata": {},
   "source": [
    "### 2. Crea una función que reciba dos números n y m que definirán ancho y alto de una matriz de nxm elementos numéricos secuenciales y un booleano que definirá si se debe devolver la matriz generada (False) o su traspuesta (True)."
   ]
  },
  {
   "cell_type": "code",
   "execution_count": 50,
   "id": "3923fbef",
   "metadata": {},
   "outputs": [
    {
     "name": "stdout",
     "output_type": "stream",
     "text": [
      "[[ 0  1  2  3  4  5  6  7  8  9]\n",
      " [10 11 12 13 14 15 16 17 18 19]\n",
      " [20 21 22 23 24 25 26 27 28 29]\n",
      " [30 31 32 33 34 35 36 37 38 39]\n",
      " [40 41 42 43 44 45 46 47 48 49]]\n",
      "\n",
      " [[ 0 10 20 30 40]\n",
      " [ 1 11 21 31 41]\n",
      " [ 2 12 22 32 42]\n",
      " [ 3 13 23 33 43]\n",
      " [ 4 14 24 34 44]\n",
      " [ 5 15 25 35 45]\n",
      " [ 6 16 26 36 46]\n",
      " [ 7 17 27 37 47]\n",
      " [ 8 18 28 38 48]\n",
      " [ 9 19 29 39 49]]\n"
     ]
    }
   ],
   "source": [
    "def matrix(n, m, transpose=False):\n",
    "    matrix = np.array(range(n*m))\n",
    "    if transpose == True:\n",
    "        return np.matrix.transpose(matrix.reshape(n,m))    \n",
    "    return matrix.reshape(n,m)\n",
    " \n",
    "print(matrix(5,10))\n",
    "print(\"\\n\", matrix(5,10,True))"
   ]
  },
  {
   "cell_type": "markdown",
   "id": "559b4bcc",
   "metadata": {},
   "source": [
    "### 3. Crea una función que genere un esquema de tablero de ajedrez (con valores 1 y 0, enteros) en base a dos parámetros: la dimensión (cuadrada) del tablero n y un flag que indique si el primer elemento de la primera fila debe ser un 1 (True) o un 0 (False)."
   ]
  },
  {
   "cell_type": "code",
   "execution_count": 65,
   "id": "a3605539",
   "metadata": {},
   "outputs": [
    {
     "name": "stdout",
     "output_type": "stream",
     "text": [
      "[[1 0 1 0 1]\n",
      " [0 1 0 1 0]\n",
      " [1 0 1 0 1]\n",
      " [0 1 0 1 0]\n",
      " [1 0 1 0 1]]\n",
      "\n",
      " [[0 1 0 1 0]\n",
      " [1 0 1 0 1]\n",
      " [0 1 0 1 0]\n",
      " [1 0 1 0 1]\n",
      " [0 1 0 1 0]]\n"
     ]
    }
   ],
   "source": [
    "def chessboard(n, flag = True):\n",
    "    chboard = np.zeros(n*n, dtype=np.int16)\n",
    "    if flag == True:\n",
    "        chboard[::2] = 1\n",
    "    else:\n",
    "        chboard[1::2] = 1\n",
    "    return chboard.reshape(n,n)\n",
    "\n",
    "print(chessboard(n))\n",
    "print(\"\\n\",chessboard(n,False))"
   ]
  },
  {
   "cell_type": "markdown",
   "id": "1388a466",
   "metadata": {},
   "source": [
    "### 4. Crea una función que reciba dos arrays y genere un array que tenga 0 en todos los elementos y 1 en aquellos elementos del primer array que sean mayores que su equivalente del segundo array."
   ]
  },
  {
   "cell_type": "code",
   "execution_count": 86,
   "id": "d867c9d0",
   "metadata": {},
   "outputs": [
    {
     "data": {
      "text/plain": [
       "array([[0, 0, 1, 0],\n",
       "       [0, 0, 1, 1],\n",
       "       [0, 1, 0, 0],\n",
       "       [1, 1, 1, 0]])"
      ]
     },
     "execution_count": 86,
     "metadata": {},
     "output_type": "execute_result"
    }
   ],
   "source": [
    "def matrix(arr1, arr2):\n",
    "    arr_result = arr1 - arr2\n",
    "    arr_result[arr_result < 0] = 0\n",
    "    arr_result[arr_result > 0] = 1\n",
    "    return arr_result\n",
    "\n",
    "array1 = np.random.randint(10, size=(4,4))\n",
    "array2 = np.random.randint(10, size=(4,4))\n",
    "\n",
    "matrix(array1, array2)"
   ]
  },
  {
   "cell_type": "markdown",
   "id": "a22aa750",
   "metadata": {},
   "source": [
    "### 5. Crea una función que reciba un array y una tupla de enteros y devuelva la matriz resultante de seleccionar los índices de la tupla aplicados desde el final."
   ]
  },
  {
   "cell_type": "code",
   "execution_count": 147,
   "id": "fe09c291",
   "metadata": {},
   "outputs": [
    {
     "data": {
      "text/plain": [
       "array([[8, 1, 4, 3, 6, 5, 3, 0, 2, 2],\n",
       "       [9, 0, 6, 1, 8, 0, 6, 9, 6, 2]])"
      ]
     },
     "execution_count": 147,
     "metadata": {},
     "output_type": "execute_result"
    }
   ],
   "source": [
    "array = np.random.randint(10, size=10)\n",
    "tupla = tuple(np.random.randint(10, size=10))\n",
    "\n",
    "def build_array(p_array, p_tuple):\n",
    "    return np.array([p_array,p_tuple[::-1]])\n",
    "\n",
    "build_array(array, tupla)"
   ]
  },
  {
   "cell_type": "markdown",
   "id": "c8a851c5",
   "metadata": {},
   "source": [
    "### 6. Replica la función del ejercicio 4 utilizando la función np.where"
   ]
  },
  {
   "cell_type": "code",
   "execution_count": 177,
   "id": "9776d51d",
   "metadata": {},
   "outputs": [
    {
     "data": {
      "text/plain": [
       "array([[1, 0, 0, 1],\n",
       "       [0, 0, 1, 1],\n",
       "       [1, 1, 0, 1],\n",
       "       [1, 1, 0, 0]])"
      ]
     },
     "execution_count": 177,
     "metadata": {},
     "output_type": "execute_result"
    }
   ],
   "source": [
    "def matrix(arr1, arr2):\n",
    "    arr_result = np.where(arr1 - arr2 < 0, 0, 1)\n",
    "    return arr_result\n",
    "\n",
    "array1 = np.random.randint(10, size=(4,4))\n",
    "array2 = np.random.randint(10, size=(4,4))\n",
    "\n",
    "matrix(array1, array2)"
   ]
  },
  {
   "cell_type": "markdown",
   "id": "1332de18",
   "metadata": {},
   "source": [
    "### 7. Crea una función que reciba una matriz y chequee si hay o no algún valor negativo en la misma."
   ]
  },
  {
   "cell_type": "code",
   "execution_count": 301,
   "id": "b18cb778",
   "metadata": {
    "scrolled": true
   },
   "outputs": [
    {
     "name": "stdout",
     "output_type": "stream",
     "text": [
      "Example 1\n",
      "True\n",
      "[[ 1.99534831  1.30598692 -0.54531563  0.27826308]\n",
      " [ 0.88622849 -1.16613945  1.57590832 -0.25414113]\n",
      " [-0.25485196 -0.02511179 -0.88850089 -0.2128875 ]\n",
      " [-0.22831505 -0.60099871  1.21543215  0.19240759]]\n",
      "Example 2\n",
      "False\n",
      "[[1 6 2 0]\n",
      " [5 2 2 4]\n",
      " [5 6 8 8]\n",
      " [8 7 4 5]]\n"
     ]
    }
   ],
   "source": [
    "def any_negative(matrix):\n",
    "    return np.any(a=matrix<0)\n",
    "\n",
    "print(\"Example 1\")\n",
    "matrix = np.random.randn(4,4)\n",
    "print(any_negative(matrix))\n",
    "print(matrix)\n",
    "\n",
    "print(\"Example 2\")\n",
    "matrix = np.random.randint(10, size=(4,4))\n",
    "print(any_negative(matrix))\n",
    "print(matrix)"
   ]
  },
  {
   "cell_type": "markdown",
   "id": "9f968fd1",
   "metadata": {},
   "source": [
    "### 8. Crea una función que utilizando la del ejercicio anterior, sume el valor absoluto de todos los elementos negativos de una matriz recibida como parámetro o devuelve \"No hay negativos\" en caso de que no los haya."
   ]
  },
  {
   "cell_type": "code",
   "execution_count": 386,
   "id": "d33cbb20",
   "metadata": {},
   "outputs": [
    {
     "name": "stdout",
     "output_type": "stream",
     "text": [
      "Example 1\n",
      "18\n",
      "[[ 0  3  0 -2]\n",
      " [-2 -4  1 -2]\n",
      " [ 4 -1 -3 -4]\n",
      " [ 4  3  4  0]]\n",
      "Example 2\n",
      "No hay negativos\n",
      "[[4 0 2 3]\n",
      " [2 3 4 2]\n",
      " [2 1 1 1]\n",
      " [2 2 0 2]]\n"
     ]
    }
   ],
   "source": [
    "def sum_abs_negative_values(matrix):\n",
    "    if any_negative(matrix):\n",
    "        return np.sum(np.abs(matrix[matrix<0]))\n",
    "    return \"No hay negativos\"\n",
    "\n",
    "print(\"Example 1\")\n",
    "matrix = np.random.randint(low=-5, high=5, size=(4,4))\n",
    "print(sum_abs_negative_values(matrix))\n",
    "print(matrix)\n",
    "\n",
    "print(\"Example 2\")\n",
    "matrix = np.random.randint(5, size=(4,4))\n",
    "print(sum_abs_negative_values(matrix))\n",
    "print(matrix)"
   ]
  },
  {
   "cell_type": "markdown",
   "id": "69a3bc6e",
   "metadata": {},
   "source": [
    "### 9. Crea una función que reciba una matriz unidimensional con nombres, una matriz con el mismo ancho que la matriz de nombres que contenga valores numéricos y un nombre de los de la primera lista. Deberá devolver, en una tupla, los descriptivos (mínimo, máximo, media, mediana y desviación típica) del vector de valores \"asociado\" al nombre seleccionado por posición. Ten en cuenta que el nombre introducido puede no estar en el listado y contrólalo."
   ]
  },
  {
   "cell_type": "code",
   "execution_count": 490,
   "id": "2a66b8f3",
   "metadata": {},
   "outputs": [
    {
     "name": "stdout",
     "output_type": "stream",
     "text": [
      "Scenario 1\n",
      "\n",
      "data:\n",
      " [[7 4 1 7]\n",
      " [5 8 0 9]\n",
      " [6 4 1 3]\n",
      " [9 3 5 7]]\n",
      "\n",
      "selected row [[5 8 0 9]]\n",
      "\n",
      "statistics (0, 9, 5.5, 3.5, 6.5)\n",
      "\n",
      "Scenario 2\n",
      "\n",
      "phisics is not in ['ciencias' 'mates' 'lengua' 'reli']\n"
     ]
    }
   ],
   "source": [
    "def selected_row_stats(names, matrix, name):\n",
    "    if(name in names):\n",
    "        row_selected = matrix[names == name]\n",
    "        return tuple((row_selected.min(),\n",
    "                      row_selected.max(), \n",
    "                      row_selected.mean(),\n",
    "                      row_selected.std(),\n",
    "                      np.median(row_selected)))    \n",
    "    return str(name + \" is not in \" + np.array2string(names))\n",
    "\n",
    "print(\"Scenario 1\\n\")\n",
    "names = np.array([\"ciencias\", \"mates\", \"lengua\", \"reli\"])\n",
    "matrix = np.random.randint(10,size=(len(names),len(names)))\n",
    "name = \"mates\"\n",
    "print(\"data:\\n\", matrix)\n",
    "print(\"\\nselected row\", matrix[names == name])\n",
    "print(\"\\nstatistics\", selected_row_stats(names, matrix, name))\n",
    "\n",
    "print(\"\\nScenario 2\\n\")\n",
    "name = \"phisics\"\n",
    "print(selected_row_stats(names, matrix, name))"
   ]
  },
  {
   "cell_type": "markdown",
   "id": "17fbcdcf",
   "metadata": {},
   "source": [
    "### 10. Crea una función que reciba dos matrices y devuelva la secuencia ordenada de la union de los elementos únicos de ambas."
   ]
  },
  {
   "cell_type": "code",
   "execution_count": 510,
   "id": "e3ad40dd",
   "metadata": {},
   "outputs": [
    {
     "name": "stdout",
     "output_type": "stream",
     "text": [
      "[ 2 10 17 13  5 11  4  5 16  3]\n",
      "[13  1 19  5 18  2  9 10  9  3]\n"
     ]
    },
    {
     "data": {
      "text/plain": [
       "array([ 2,  3,  4,  5, 10, 11, 13, 16, 17])"
      ]
     },
     "execution_count": 510,
     "metadata": {},
     "output_type": "execute_result"
    }
   ],
   "source": [
    "def merged_matrix(matrix1:np.ndarray, matrix2:np.ndarray):\n",
    "    return np.union1d(np.unique(matrix1), np.unique(matrix1))\n",
    "\n",
    "matrix_1 = np.random.randint(20, size=(10))\n",
    "matrix_2 = np.random.randint(20, size=(10))\n",
    "\n",
    "print(matrix_1)\n",
    "print(matrix_2)\n",
    "\n",
    "merged_matrix(matrix_1,matrix_1)"
   ]
  },
  {
   "cell_type": "code",
   "execution_count": null,
   "id": "ec9dbbb1",
   "metadata": {},
   "outputs": [],
   "source": []
  }
 ],
 "metadata": {
  "kernelspec": {
   "display_name": "Python 3",
   "language": "python",
   "name": "python3"
  },
  "language_info": {
   "codemirror_mode": {
    "name": "ipython",
    "version": 3
   },
   "file_extension": ".py",
   "mimetype": "text/x-python",
   "name": "python",
   "nbconvert_exporter": "python",
   "pygments_lexer": "ipython3",
   "version": "3.8.8"
  }
 },
 "nbformat": 4,
 "nbformat_minor": 5
}
