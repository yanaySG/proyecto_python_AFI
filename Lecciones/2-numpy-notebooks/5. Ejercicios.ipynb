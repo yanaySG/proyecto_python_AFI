{
 "cells": [
  {
   "cell_type": "markdown",
   "id": "a4fea8dd",
   "metadata": {},
   "source": [
    "# NumPy - Ejercicios"
   ]
  },
  {
   "cell_type": "markdown",
   "id": "dd200fa3",
   "metadata": {},
   "source": [
    "### 1. Crea una función que reciba como parámetro un número n y devuelva una matriz cuadrada (dos dimensiones) de nxn donde los elementos de la matriz principal valgan 1 y el resto valgan n."
   ]
  },
  {
   "cell_type": "code",
   "execution_count": 1,
   "id": "dbd0322e",
   "metadata": {},
   "outputs": [],
   "source": [
    "import numpy as np"
   ]
  },
  {
   "cell_type": "code",
   "execution_count": 2,
   "id": "b2e2d7ec",
   "metadata": {},
   "outputs": [
    {
     "data": {
      "text/plain": [
       "array([[1, 5, 5, 5, 5],\n",
       "       [5, 1, 5, 5, 5],\n",
       "       [5, 5, 1, 5, 5],\n",
       "       [5, 5, 5, 1, 5],\n",
       "       [5, 5, 5, 5, 1]])"
      ]
     },
     "execution_count": 2,
     "metadata": {},
     "output_type": "execute_result"
    }
   ],
   "source": [
    "def square_matrix(n):\n",
    "    a = np.full((n,n),n)\n",
    "    np.fill_diagonal(a, 1)\n",
    "    return a\n",
    "\n",
    "square_matrix(5)   "
   ]
  },
  {
   "cell_type": "markdown",
   "id": "001e7692",
   "metadata": {},
   "source": [
    "### 2. Crea una función que reciba dos números n y m que definirán ancho y alto de una matriz de nxm elementos numéricos secuenciales y un booleano que definirá si se debe devolver la matriz generada (False) o su traspuesta (True)."
   ]
  },
  {
   "cell_type": "code",
   "execution_count": 3,
   "id": "0e8cc381",
   "metadata": {},
   "outputs": [
    {
     "name": "stdout",
     "output_type": "stream",
     "text": [
      "[[ 0  1  2  3  4  5  6  7  8  9]\n",
      " [10 11 12 13 14 15 16 17 18 19]\n",
      " [20 21 22 23 24 25 26 27 28 29]\n",
      " [30 31 32 33 34 35 36 37 38 39]\n",
      " [40 41 42 43 44 45 46 47 48 49]]\n",
      "\n",
      " [[ 0 10 20 30 40]\n",
      " [ 1 11 21 31 41]\n",
      " [ 2 12 22 32 42]\n",
      " [ 3 13 23 33 43]\n",
      " [ 4 14 24 34 44]\n",
      " [ 5 15 25 35 45]\n",
      " [ 6 16 26 36 46]\n",
      " [ 7 17 27 37 47]\n",
      " [ 8 18 28 38 48]\n",
      " [ 9 19 29 39 49]]\n"
     ]
    }
   ],
   "source": [
    "def matrix(n, m, transpose=False):\n",
    "    matrix = np.array(range(n*m))\n",
    "    if transpose == True:\n",
    "        return np.matrix.transpose(matrix.reshape(n,m))    \n",
    "    return matrix.reshape(n,m)\n",
    " \n",
    "print(matrix(5,10))\n",
    "print(\"\\n\", matrix(5,10,True))"
   ]
  },
  {
   "cell_type": "markdown",
   "id": "eaefa984",
   "metadata": {},
   "source": [
    "### 3. Crea una función que genere un esquema de tablero de ajedrez (con valores 1 y 0, enteros) en base a dos parámetros: la dimensión (cuadrada) del tablero n y un flag que indique si el primer elemento de la primera fila debe ser un 1 (True) o un 0 (False)."
   ]
  },
  {
   "cell_type": "code",
   "execution_count": 4,
   "id": "c8871cd4",
   "metadata": {},
   "outputs": [
    {
     "name": "stdout",
     "output_type": "stream",
     "text": [
      "[[1 0 1 0 1]\n",
      " [0 1 0 1 0]\n",
      " [1 0 1 0 1]\n",
      " [0 1 0 1 0]\n",
      " [1 0 1 0 1]]\n",
      "\n",
      " [[0 1 0 1 0]\n",
      " [1 0 1 0 1]\n",
      " [0 1 0 1 0]\n",
      " [1 0 1 0 1]\n",
      " [0 1 0 1 0]]\n"
     ]
    }
   ],
   "source": [
    "def chessboard(n, flag = True):\n",
    "    chboard = np.zeros(n*n, dtype=np.int16)\n",
    "    if flag == True:\n",
    "        chboard[::2] = 1\n",
    "    else:\n",
    "        chboard[1::2] = 1\n",
    "    return chboard.reshape(n,n)\n",
    "\n",
    "n=5\n",
    "print(chessboard(n))\n",
    "print(\"\\n\",chessboard(n,False))"
   ]
  },
  {
   "cell_type": "markdown",
   "id": "9cf56c89",
   "metadata": {},
   "source": [
    "### 4. Crea una función que reciba dos arrays y genere un array que tenga 0 en todos los elementos y 1 en aquellos elementos del primer array que sean mayores que su equivalente del segundo array."
   ]
  },
  {
   "cell_type": "code",
   "execution_count": 5,
   "id": "b65321d0",
   "metadata": {},
   "outputs": [
    {
     "data": {
      "text/plain": [
       "array([[0, 0, 1, 0],\n",
       "       [1, 1, 0, 1],\n",
       "       [0, 0, 1, 1],\n",
       "       [0, 1, 1, 0]])"
      ]
     },
     "execution_count": 5,
     "metadata": {},
     "output_type": "execute_result"
    }
   ],
   "source": [
    "def matrix(arr1, arr2):\n",
    "    arr_result = arr1 - arr2\n",
    "    arr_result[arr_result < 0] = 0\n",
    "    arr_result[arr_result > 0] = 1\n",
    "    return arr_result\n",
    "\n",
    "array1 = np.random.randint(10, size=(4,4))\n",
    "array2 = np.random.randint(10, size=(4,4))\n",
    "\n",
    "matrix(array1, array2)"
   ]
  },
  {
   "cell_type": "markdown",
   "id": "5f592868",
   "metadata": {},
   "source": [
    "### 5. Crea una función que reciba un array y una tupla de enteros y devuelva la matriz resultante de seleccionar los índices de la tupla aplicados desde el final."
   ]
  },
  {
   "cell_type": "code",
   "execution_count": 6,
   "id": "d256e29f",
   "metadata": {},
   "outputs": [
    {
     "data": {
      "text/plain": [
       "array([[4, 5, 3, 2, 6, 5, 9, 7, 0, 5],\n",
       "       [7, 1, 3, 3, 3, 4, 6, 4, 0, 7]])"
      ]
     },
     "execution_count": 6,
     "metadata": {},
     "output_type": "execute_result"
    }
   ],
   "source": [
    "array = np.random.randint(10, size=10)\n",
    "tupla = tuple(np.random.randint(10, size=10))\n",
    "\n",
    "def build_array(p_array, p_tuple):\n",
    "    return np.array([p_array,p_tuple[::-1]])\n",
    "\n",
    "build_array(array, tupla)"
   ]
  },
  {
   "cell_type": "markdown",
   "id": "f23eeafa",
   "metadata": {},
   "source": [
    "### 6. Replica la función del ejercicio 4 utilizando la función np.where"
   ]
  },
  {
   "cell_type": "code",
   "execution_count": 7,
   "id": "50ebb02b",
   "metadata": {},
   "outputs": [
    {
     "data": {
      "text/plain": [
       "array([[1, 0, 1, 1],\n",
       "       [1, 1, 0, 1],\n",
       "       [1, 0, 0, 1],\n",
       "       [0, 1, 0, 0]])"
      ]
     },
     "execution_count": 7,
     "metadata": {},
     "output_type": "execute_result"
    }
   ],
   "source": [
    "def matrix(arr1, arr2):\n",
    "    arr_result = np.where(arr1 - arr2 < 0, 0, 1)\n",
    "    return arr_result\n",
    "\n",
    "array1 = np.random.randint(10, size=(4,4))\n",
    "array2 = np.random.randint(10, size=(4,4))\n",
    "\n",
    "matrix(array1, array2)"
   ]
  },
  {
   "cell_type": "markdown",
   "id": "b44bf216",
   "metadata": {},
   "source": [
    "### 7. Crea una función que reciba una matriz y chequee si hay o no algún valor negativo en la misma."
   ]
  },
  {
   "cell_type": "code",
   "execution_count": 8,
   "id": "ab014583",
   "metadata": {
    "scrolled": true
   },
   "outputs": [
    {
     "name": "stdout",
     "output_type": "stream",
     "text": [
      "Example 1\n",
      "True\n",
      "[[ 1.39135519 -1.69931353  1.03364744  0.01729535]\n",
      " [-0.7421118  -0.16787966  0.32423291 -2.39769238]\n",
      " [-2.34320491 -0.47400063  0.87014055  0.15319095]\n",
      " [-0.22329871  2.49396713  0.20064431 -0.45861954]]\n",
      "Example 2\n",
      "False\n",
      "[[5 2 7 1]\n",
      " [4 3 8 2]\n",
      " [1 5 2 1]\n",
      " [5 3 3 6]]\n"
     ]
    }
   ],
   "source": [
    "def any_negative(matrix):\n",
    "    return np.any(a=matrix<0)\n",
    "\n",
    "print(\"Example 1\")\n",
    "matrix = np.random.randn(4,4)\n",
    "print(any_negative(matrix))\n",
    "print(matrix)\n",
    "\n",
    "print(\"Example 2\")\n",
    "matrix = np.random.randint(10, size=(4,4))\n",
    "print(any_negative(matrix))\n",
    "print(matrix)"
   ]
  },
  {
   "cell_type": "markdown",
   "id": "1d95c3a2",
   "metadata": {},
   "source": [
    "### 8. Crea una función que utilizando la del ejercicio anterior, sume el valor absoluto de todos los elementos negativos de una matriz recibida como parámetro o devuelve \"No hay negativos\" en caso de que no los haya."
   ]
  },
  {
   "cell_type": "code",
   "execution_count": 9,
   "id": "7aa8b8a1",
   "metadata": {},
   "outputs": [
    {
     "name": "stdout",
     "output_type": "stream",
     "text": [
      "Example 1\n",
      "25\n",
      "[[ 1 -4  2 -3]\n",
      " [-5  0  1  2]\n",
      " [-4  2 -2  1]\n",
      " [-4  4 -3  3]]\n",
      "Example 2\n",
      "No hay negativos\n",
      "[[4 2 3 4]\n",
      " [3 4 0 3]\n",
      " [3 0 2 2]\n",
      " [4 1 3 4]]\n"
     ]
    }
   ],
   "source": [
    "def sum_abs_negative_values(matrix):\n",
    "    if any_negative(matrix):\n",
    "        return np.sum(np.abs(matrix[matrix<0]))\n",
    "    return \"No hay negativos\"\n",
    "\n",
    "print(\"Example 1\")\n",
    "matrix = np.random.randint(low=-5, high=5, size=(4,4))\n",
    "print(sum_abs_negative_values(matrix))\n",
    "print(matrix)\n",
    "\n",
    "print(\"Example 2\")\n",
    "matrix = np.random.randint(5, size=(4,4))\n",
    "print(sum_abs_negative_values(matrix))\n",
    "print(matrix)"
   ]
  },
  {
   "cell_type": "markdown",
   "id": "99d04b1d",
   "metadata": {},
   "source": [
    "### 9. Crea una función que reciba una matriz unidimensional con nombres, una matriz con el mismo ancho que la matriz de nombres que contenga valores numéricos y un nombre de los de la primera lista. Deberá devolver, en una tupla, los descriptivos (mínimo, máximo, media, mediana y desviación típica) del vector de valores \"asociado\" al nombre seleccionado por posición. Ten en cuenta que el nombre introducido puede no estar en el listado y contrólalo."
   ]
  },
  {
   "cell_type": "code",
   "execution_count": 10,
   "id": "34264009",
   "metadata": {},
   "outputs": [
    {
     "name": "stdout",
     "output_type": "stream",
     "text": [
      "Scenario 1\n",
      "\n",
      "data:\n",
      " [[7 0 8 2]\n",
      " [2 1 5 9]\n",
      " [3 1 2 5]\n",
      " [8 7 9 2]]\n",
      "\n",
      "selected row [[2 1 5 9]]\n",
      "\n",
      "statistics (1, 9, 4.25, 3.112474899497183, 3.5)\n",
      "\n",
      "Scenario 2\n",
      "\n",
      "phisics is not in ['ciencias' 'mates' 'lengua' 'reli']\n"
     ]
    }
   ],
   "source": [
    "def selected_row_stats(names, matrix, name):\n",
    "    if(name in names):\n",
    "        row_selected = matrix[names == name]\n",
    "        return tuple((row_selected.min(),\n",
    "                      row_selected.max(), \n",
    "                      row_selected.mean(),\n",
    "                      row_selected.std(),\n",
    "                      np.median(row_selected)))    \n",
    "    return str(name + \" is not in \" + np.array2string(names))\n",
    "\n",
    "print(\"Scenario 1\\n\")\n",
    "names = np.array([\"ciencias\", \"mates\", \"lengua\", \"reli\"])\n",
    "matrix = np.random.randint(10,size=(len(names),len(names)))\n",
    "name = \"mates\"\n",
    "print(\"data:\\n\", matrix)\n",
    "print(\"\\nselected row\", matrix[names == name])\n",
    "print(\"\\nstatistics\", selected_row_stats(names, matrix, name))\n",
    "\n",
    "print(\"\\nScenario 2\\n\")\n",
    "name = \"phisics\"\n",
    "print(selected_row_stats(names, matrix, name))"
   ]
  },
  {
   "cell_type": "markdown",
   "id": "095bbe55",
   "metadata": {},
   "source": [
    "### 10. Crea una función que reciba dos matrices y devuelva la secuencia ordenada de la union de los elementos únicos de ambas."
   ]
  },
  {
   "cell_type": "code",
   "execution_count": 11,
   "id": "e8e3a3d5",
   "metadata": {},
   "outputs": [
    {
     "name": "stdout",
     "output_type": "stream",
     "text": [
      "[17  9 13 19 19 12  8 15 19 18]\n",
      "[ 7 16 16  3 18 13 12  6 16  9]\n"
     ]
    },
    {
     "data": {
      "text/plain": [
       "array([ 8,  9, 12, 13, 15, 17, 18, 19])"
      ]
     },
     "execution_count": 11,
     "metadata": {},
     "output_type": "execute_result"
    }
   ],
   "source": [
    "def merged_matrix(matrix1:np.ndarray, matrix2:np.ndarray):\n",
    "    return np.union1d(np.unique(matrix1), np.unique(matrix1))\n",
    "\n",
    "matrix_1 = np.random.randint(20, size=(10))\n",
    "matrix_2 = np.random.randint(20, size=(10))\n",
    "\n",
    "print(matrix_1)\n",
    "print(matrix_2)\n",
    "\n",
    "merged_matrix(matrix_1,matrix_1)"
   ]
  },
  {
   "cell_type": "markdown",
   "id": "0f20eb4d",
   "metadata": {},
   "source": [
    "### 11. Crea una función que reciba un número n, genere una matriz nxn a partir de una secuencia numérica y escriba la misma en un fichero cuyo nombre se recibirá también como parámetro. Hazlo con ficheros binarios."
   ]
  },
  {
   "cell_type": "code",
   "execution_count": 12,
   "id": "c4d8ce57",
   "metadata": {},
   "outputs": [
    {
     "name": "stdout",
     "output_type": "stream",
     "text": [
      "[[ 0.44827608 -0.5623959   0.21652708 -0.71453188 -1.82783768]\n",
      " [ 0.02008981  0.57935073  2.55009375 -0.01445639 -0.06778718]\n",
      " [ 1.23607712  0.86688373  1.01797318  0.83128495  0.43104729]\n",
      " [ 1.06085398  0.19992063 -0.10020278  0.04634662 -1.8309683 ]\n",
      " [ 1.59721656  0.15656922  0.38311706  0.14931952 -0.85520633]]\n"
     ]
    }
   ],
   "source": [
    "def write_binary_file(n,binary_file_name):\n",
    "    sequence = np.random.randn(n,n)\n",
    "    np.save(binary_file_name, sequence)\n",
    "    \n",
    "write_binary_file(5, \"binary_file_name\")\n",
    "print(np.load(\"binary_file_name.npy\"))"
   ]
  }
 ],
 "metadata": {
  "kernelspec": {
   "display_name": "Python 3",
   "language": "python",
   "name": "python3"
  },
  "language_info": {
   "codemirror_mode": {
    "name": "ipython",
    "version": 3
   },
   "file_extension": ".py",
   "mimetype": "text/x-python",
   "name": "python",
   "nbconvert_exporter": "python",
   "pygments_lexer": "ipython3",
   "version": "3.8.8"
  }
 },
 "nbformat": 4,
 "nbformat_minor": 5
}
