{
 "cells": [
  {
   "cell_type": "markdown",
   "id": "6a5e7bd8",
   "metadata": {},
   "source": [
    "# NumPy - Ejercicios"
   ]
  },
  {
   "cell_type": "markdown",
   "id": "28062ae3",
   "metadata": {},
   "source": [
    "### 1. Crea una función que reciba como parámetro un número n y devuelva una matriz cuadrada (dos dimensiones) de nxn donde los elementos de la matriz principal valgan 1 y el resto valgan n."
   ]
  },
  {
   "cell_type": "code",
   "execution_count": 2,
   "id": "5fb7a42a",
   "metadata": {},
   "outputs": [],
   "source": [
    "import numpy as np"
   ]
  },
  {
   "cell_type": "code",
   "execution_count": 26,
   "id": "2a3a00ef",
   "metadata": {},
   "outputs": [
    {
     "data": {
      "text/plain": [
       "array([[1, 5, 5, 5, 5],\n",
       "       [5, 1, 5, 5, 5],\n",
       "       [5, 5, 1, 5, 5],\n",
       "       [5, 5, 5, 1, 5],\n",
       "       [5, 5, 5, 5, 1]])"
      ]
     },
     "execution_count": 26,
     "metadata": {},
     "output_type": "execute_result"
    }
   ],
   "source": [
    "def square_matrix(n):\n",
    "    a = np.full((n,n),n)\n",
    "    np.fill_diagonal(a, 1)\n",
    "    return a\n",
    "\n",
    "square_matrix(5)   "
   ]
  },
  {
   "cell_type": "markdown",
   "id": "05524bf0",
   "metadata": {},
   "source": [
    "### 2. Crea una función que reciba dos números n y m que definirán ancho y alto de una matriz de nxm elementos numéricos secuenciales y un booleano que definirá si se debe devolver la matriz generada (False) o su traspuesta (True)."
   ]
  },
  {
   "cell_type": "code",
   "execution_count": 50,
   "id": "854c7e19",
   "metadata": {},
   "outputs": [
    {
     "name": "stdout",
     "output_type": "stream",
     "text": [
      "[[ 0  1  2  3  4  5  6  7  8  9]\n",
      " [10 11 12 13 14 15 16 17 18 19]\n",
      " [20 21 22 23 24 25 26 27 28 29]\n",
      " [30 31 32 33 34 35 36 37 38 39]\n",
      " [40 41 42 43 44 45 46 47 48 49]]\n",
      "\n",
      " [[ 0 10 20 30 40]\n",
      " [ 1 11 21 31 41]\n",
      " [ 2 12 22 32 42]\n",
      " [ 3 13 23 33 43]\n",
      " [ 4 14 24 34 44]\n",
      " [ 5 15 25 35 45]\n",
      " [ 6 16 26 36 46]\n",
      " [ 7 17 27 37 47]\n",
      " [ 8 18 28 38 48]\n",
      " [ 9 19 29 39 49]]\n"
     ]
    }
   ],
   "source": [
    "def matrix(n, m, transpose=False):\n",
    "    matrix = np.array(range(n*m))\n",
    "    if transpose == True:\n",
    "        return np.matrix.transpose(matrix.reshape(n,m))    \n",
    "    return matrix.reshape(n,m)\n",
    " \n",
    "print(matrix(5,10))\n",
    "print(\"\\n\", matrix(5,10,True))"
   ]
  },
  {
   "cell_type": "markdown",
   "id": "8d439d66",
   "metadata": {},
   "source": [
    "### 3. Crea una función que genere un esquema de tablero de ajedrez (con valores 1 y 0, enteros) en base a dos parámetros: la dimensión (cuadrada) del tablero n y un flag que indique si el primer elemento de la primera fila debe ser un 1 (True) o un 0 (False)."
   ]
  },
  {
   "cell_type": "code",
   "execution_count": 65,
   "id": "7861f5ef",
   "metadata": {},
   "outputs": [
    {
     "name": "stdout",
     "output_type": "stream",
     "text": [
      "[[1 0 1 0 1]\n",
      " [0 1 0 1 0]\n",
      " [1 0 1 0 1]\n",
      " [0 1 0 1 0]\n",
      " [1 0 1 0 1]]\n",
      "\n",
      " [[0 1 0 1 0]\n",
      " [1 0 1 0 1]\n",
      " [0 1 0 1 0]\n",
      " [1 0 1 0 1]\n",
      " [0 1 0 1 0]]\n"
     ]
    }
   ],
   "source": [
    "def chessboard(n, flag = True):\n",
    "    chboard = np.zeros(n*n, dtype=np.int16)\n",
    "    if flag == True:\n",
    "        chboard[::2] = 1\n",
    "    else:\n",
    "        chboard[1::2] = 1\n",
    "    return chboard.reshape(n,n)\n",
    "\n",
    "print(chessboard(n))\n",
    "print(\"\\n\",chessboard(n,False))"
   ]
  },
  {
   "cell_type": "markdown",
   "id": "e87868c2",
   "metadata": {},
   "source": [
    "### 4. Crea una función que reciba dos arrays y genere un array que tenga 0 en todos los elementos y 1 en aquellos elementos del primer array que sean mayores que su equivalente del segundo array."
   ]
  },
  {
   "cell_type": "code",
   "execution_count": 86,
   "id": "79869609",
   "metadata": {},
   "outputs": [
    {
     "data": {
      "text/plain": [
       "array([[0, 0, 1, 0],\n",
       "       [0, 0, 1, 1],\n",
       "       [0, 1, 0, 0],\n",
       "       [1, 1, 1, 0]])"
      ]
     },
     "execution_count": 86,
     "metadata": {},
     "output_type": "execute_result"
    }
   ],
   "source": [
    "def matrix(arr1, arr2):\n",
    "    arr_result = arr1 - arr2\n",
    "    arr_result[arr_result < 0] = 0\n",
    "    arr_result[arr_result > 0] = 1\n",
    "    return arr_result\n",
    "\n",
    "array1 = np.random.randint(10, size=(4,4))\n",
    "array2 = np.random.randint(10, size=(4,4))\n",
    "\n",
    "matrix(array1, array2)"
   ]
  },
  {
   "cell_type": "markdown",
   "id": "f0bed9e9",
   "metadata": {},
   "source": [
    "### 5. Crea una función que reciba un array y una tupla de enteros y devuelva la matriz resultante de seleccionar los índices de la tupla aplicados desde el final."
   ]
  },
  {
   "cell_type": "code",
   "execution_count": 147,
   "id": "18f43e88",
   "metadata": {},
   "outputs": [
    {
     "data": {
      "text/plain": [
       "array([[8, 1, 4, 3, 6, 5, 3, 0, 2, 2],\n",
       "       [9, 0, 6, 1, 8, 0, 6, 9, 6, 2]])"
      ]
     },
     "execution_count": 147,
     "metadata": {},
     "output_type": "execute_result"
    }
   ],
   "source": [
    "array = np.random.randint(10, size=10)\n",
    "tupla = tuple(np.random.randint(10, size=10))\n",
    "\n",
    "def build_array(p_array, p_tuple):\n",
    "    return np.array([p_array,p_tuple[::-1]])\n",
    "\n",
    "build_array(array, tupla)"
   ]
  },
  {
   "cell_type": "markdown",
   "id": "6fb81154",
   "metadata": {},
   "source": [
    "### 6. Replica la función del ejercicio 4 utilizando la función np.where"
   ]
  },
  {
   "cell_type": "code",
   "execution_count": 177,
   "id": "f1521ef1",
   "metadata": {},
   "outputs": [
    {
     "data": {
      "text/plain": [
       "array([[1, 0, 0, 1],\n",
       "       [0, 0, 1, 1],\n",
       "       [1, 1, 0, 1],\n",
       "       [1, 1, 0, 0]])"
      ]
     },
     "execution_count": 177,
     "metadata": {},
     "output_type": "execute_result"
    }
   ],
   "source": [
    "def matrix(arr1, arr2):\n",
    "    arr_result = np.where(arr1 - arr2 < 0, 0, 1)\n",
    "    return arr_result\n",
    "\n",
    "array1 = np.random.randint(10, size=(4,4))\n",
    "array2 = np.random.randint(10, size=(4,4))\n",
    "\n",
    "matrix(array1, array2)"
   ]
  },
  {
   "cell_type": "markdown",
   "id": "97b80a9f",
   "metadata": {},
   "source": [
    "### 7. Crea una función que reciba una matriz y chequee si hay o no algún valor negativo en la misma."
   ]
  },
  {
   "cell_type": "code",
   "execution_count": 301,
   "id": "e11809b2",
   "metadata": {
    "scrolled": true
   },
   "outputs": [
    {
     "name": "stdout",
     "output_type": "stream",
     "text": [
      "Example 1\n",
      "True\n",
      "[[ 1.99534831  1.30598692 -0.54531563  0.27826308]\n",
      " [ 0.88622849 -1.16613945  1.57590832 -0.25414113]\n",
      " [-0.25485196 -0.02511179 -0.88850089 -0.2128875 ]\n",
      " [-0.22831505 -0.60099871  1.21543215  0.19240759]]\n",
      "Example 2\n",
      "False\n",
      "[[1 6 2 0]\n",
      " [5 2 2 4]\n",
      " [5 6 8 8]\n",
      " [8 7 4 5]]\n"
     ]
    }
   ],
   "source": [
    "def any_negative(matrix):\n",
    "    return np.any(a=matrix<0)\n",
    "\n",
    "print(\"Example 1\")\n",
    "matrix = np.random.randn(4,4)\n",
    "print(any_negative(matrix))\n",
    "print(matrix)\n",
    "\n",
    "print(\"Example 2\")\n",
    "matrix = np.random.randint(10, size=(4,4))\n",
    "print(any_negative(matrix))\n",
    "print(matrix)"
   ]
  },
  {
   "cell_type": "markdown",
   "id": "b8fc55a2",
   "metadata": {},
   "source": [
    "### 8. Crea una función que utilizando la del ejercicio anterior, sume el valor absoluto de todos los elementos negativos de una matriz recibida como parámetro o devuelve \"No hay negativos\" en caso de que no los haya."
   ]
  },
  {
   "cell_type": "code",
   "execution_count": 386,
   "id": "c4c1d1d5",
   "metadata": {},
   "outputs": [
    {
     "name": "stdout",
     "output_type": "stream",
     "text": [
      "Example 1\n",
      "18\n",
      "[[ 0  3  0 -2]\n",
      " [-2 -4  1 -2]\n",
      " [ 4 -1 -3 -4]\n",
      " [ 4  3  4  0]]\n",
      "Example 2\n",
      "No hay negativos\n",
      "[[4 0 2 3]\n",
      " [2 3 4 2]\n",
      " [2 1 1 1]\n",
      " [2 2 0 2]]\n"
     ]
    }
   ],
   "source": [
    "def sum_abs_negative_values(matrix):\n",
    "    if any_negative(matrix):\n",
    "        return np.sum(np.abs(matrix[matrix<0]))\n",
    "    return \"No hay negativos\"\n",
    "\n",
    "print(\"Example 1\")\n",
    "matrix = np.random.randint(low=-5, high=5, size=(4,4))\n",
    "print(sum_abs_negative_values(matrix))\n",
    "print(matrix)\n",
    "\n",
    "print(\"Example 2\")\n",
    "matrix = np.random.randint(5, size=(4,4))\n",
    "print(sum_abs_negative_values(matrix))\n",
    "print(matrix)"
   ]
  },
  {
   "cell_type": "markdown",
   "id": "4c216914",
   "metadata": {},
   "source": [
    "### 9. Crea una función que reciba una matriz unidimensional con nombres, una matriz con el mismo ancho que la matriz de nombres que contenga valores numéricos y un nombre de los de la primera lista. Deberá devolver, en una tupla, los descriptivos (mínimo, máximo, media, mediana y desviación típica) del vector de valores \"asociado\" al nombre seleccionado por posición. Ten en cuenta que el nombre introducido puede no estar en el listado y contrólalo."
   ]
  },
  {
   "cell_type": "code",
   "execution_count": 489,
   "id": "4c611174",
   "metadata": {},
   "outputs": [
    {
     "name": "stdout",
     "output_type": "stream",
     "text": [
      "Scenario 1\n",
      "\n",
      "data:\n",
      " [[8 8 6 1]\n",
      " [5 0 1 1]\n",
      " [2 8 3 9]\n",
      " [5 4 5 3]]\n",
      "\n",
      "selected row [[5 0 1 1]]\n",
      "\n",
      "statistics (0, 9, 3.5, 3.3541019662496847, 2.5)\n",
      "\n",
      "Scenario 2\n",
      "\n",
      "phisics is not in ['ciencias' 'mates' 'lengua' 'reli']\n"
     ]
    }
   ],
   "source": [
    "def selected_row_stats(names, matrix, name):\n",
    "    if(name in names):\n",
    "        row_selected = matrix[names == name]\n",
    "        return tuple((selected.min(),\n",
    "                      selected.max(), \n",
    "                      selected.mean(),\n",
    "                      selected.std(),\n",
    "                      np.median(selected)))    \n",
    "    return str(name + \" is not in \" + np.array2string(names))\n",
    "\n",
    "print(\"Scenario 1\\n\")\n",
    "names = np.array([\"ciencias\", \"mates\", \"lengua\", \"reli\"])\n",
    "matrix = np.random.randint(10,size=(len(names),len(names)))\n",
    "name = \"mates\"\n",
    "print(\"data:\\n\", matrix)\n",
    "print(\"\\nselected row\", matrix[names == name])\n",
    "print(\"\\nstatistics\", selected_row_stats(names, matrix, name))\n",
    "\n",
    "print(\"\\nScenario 2\\n\")\n",
    "name = \"phisics\"\n",
    "print(selected_row_stats(names, matrix, name))"
   ]
  },
  {
   "cell_type": "markdown",
   "id": "ffbdf17e",
   "metadata": {},
   "source": [
    "### 10. Crea una función que reciba dos matrices y devuelva la secuencia ordenada de la union de los elementos únicos de ambas."
   ]
  },
  {
   "cell_type": "code",
   "execution_count": null,
   "id": "32dbcacc",
   "metadata": {},
   "outputs": [],
   "source": []
  }
 ],
 "metadata": {
  "kernelspec": {
   "display_name": "Python 3",
   "language": "python",
   "name": "python3"
  },
  "language_info": {
   "codemirror_mode": {
    "name": "ipython",
    "version": 3
   },
   "file_extension": ".py",
   "mimetype": "text/x-python",
   "name": "python",
   "nbconvert_exporter": "python",
   "pygments_lexer": "ipython3",
   "version": "3.8.8"
  }
 },
 "nbformat": 4,
 "nbformat_minor": 5
}
