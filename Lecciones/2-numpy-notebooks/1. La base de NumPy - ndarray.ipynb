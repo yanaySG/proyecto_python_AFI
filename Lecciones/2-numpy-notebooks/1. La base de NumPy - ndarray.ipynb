{
 "cells": [
  {
   "cell_type": "markdown",
   "id": "e34fedc3",
   "metadata": {},
   "source": [
    "# La base de NumPy - ndarray"
   ]
  },
  {
   "cell_type": "markdown",
   "id": "3286c6ee",
   "metadata": {},
   "source": [
    "Toda la librería de NumPy se articula alrededor de una única estructura de datos: la matriz multidimensional o ndarray (N-dimensional array)"
   ]
  },
  {
   "cell_type": "markdown",
   "id": "749ad3aa",
   "metadata": {},
   "source": [
    "### Características básicas de ndarray"
   ]
  },
  {
   "cell_type": "markdown",
   "id": "4207b441",
   "metadata": {},
   "source": [
    "- Un ndarray puede contener elementos de <b>CUALQUIER TIPO</b>.\n",
    "- Todos los elementos de un ndarray debn tener el <b>EL MISMO TIPO</b>.\n",
    "- El tamaño de un ndarray (número de elementos) se define en el momento de la creación y no puede modificarse.\n",
    "- Pero la organización de estos elementos entre diferentes dimensiones sí pueden modificarse."
   ]
  },
  {
   "cell_type": "markdown",
   "id": "f781495e",
   "metadata": {},
   "source": [
    "### Uso básico de cualquier elemento de NumPy"
   ]
  },
  {
   "cell_type": "markdown",
   "id": "661d2e73",
   "metadata": {},
   "source": [
    "NumPy no es un módulo de Python por lo que SIEMPRE habrá que importarlo de forma completa o componente a componente"
   ]
  },
  {
   "cell_type": "code",
   "execution_count": 5,
   "id": "10305ab1",
   "metadata": {},
   "outputs": [],
   "source": [
    "import numpy as np"
   ]
  },
  {
   "cell_type": "markdown",
   "id": "12ab94bf",
   "metadata": {},
   "source": [
    "### Creación básica de ndarrays"
   ]
  },
  {
   "cell_type": "markdown",
   "id": "4dfa23dc",
   "metadata": {},
   "source": [
    "Existen varias formas de crear un ndarray en NumPy. Vamos a ver las más relevantes."
   ]
  },
  {
   "cell_type": "markdown",
   "id": "10f2b212",
   "metadata": {},
   "source": [
    "#### Creación de un ndarray vacío"
   ]
  },
  {
   "cell_type": "code",
   "execution_count": 51,
   "id": "008e3d72",
   "metadata": {},
   "outputs": [
    {
     "name": "stdout",
     "output_type": "stream",
     "text": [
      "float:\n",
      " [[2.12199579e-314 9.34609110e-307]\n",
      " [5.65211099e-321 1.18407365e-311]] \n",
      "\n",
      "int:\n",
      " [[1 2 3]\n",
      " [4 5 6]] \n",
      "\n",
      "copia:\n",
      " [1 2 3 4 5] \n",
      "\n",
      "copia2:\n",
      " [[1 2 3]\n",
      " [4 5 6]]\n"
     ]
    }
   ],
   "source": [
    "array_vacio_float = np.empty((2,2))            # dtype=float by default\n",
    "print(\"float:\\n\", array_vacio_float, \"\\n\")\n",
    "\n",
    "array_vacio_int = np.empty(shape=(2,3), dtype=np.int32)\n",
    "print(\"int:\\n\", array_vacio_int, \"\\n\")\n",
    "\n",
    "array_vacio_copia = np.empty_like([1,2,3,4,5]) # Return a new array with the same shape and type as a given array.\n",
    "print(\"copia:\\n\", array_vacio_copia, \"\\n\" )\n",
    "\n",
    "array_vacio_copia2 = np.empty_like(([1,2,3], [4,5,6]))\n",
    "print(\"copia2:\\n\", array_vacio_copia2)"
   ]
  },
  {
   "cell_type": "markdown",
   "id": "cdb9a56f",
   "metadata": {},
   "source": [
    "#### Creación de un ndarray de unos"
   ]
  },
  {
   "cell_type": "code",
   "execution_count": 57,
   "id": "dd04ae5a",
   "metadata": {},
   "outputs": [
    {
     "name": "stdout",
     "output_type": "stream",
     "text": [
      "float:\n",
      " [[1. 1.]\n",
      " [1. 1.]] \n",
      "\n",
      "int:\n",
      " [[1 1]\n",
      " [1 1]] \n",
      "\n",
      "copia:\n",
      " [1 1 1 1 1] \n",
      "\n"
     ]
    }
   ],
   "source": [
    "array_unos_float = np.ones((2,2))\n",
    "print(\"float:\\n\", array_unos_float, \"\\n\")\n",
    "\n",
    "array_unos_int = np.ones((2,2), dtype=np.int32)\n",
    "print(\"int:\\n\", array_unos_int, \"\\n\")\n",
    "\n",
    "array_unos_copia = np.ones_like([1,2,3,4,5])\n",
    "print(\"copia:\\n\", array_unos_copia, \"\\n\")"
   ]
  },
  {
   "cell_type": "markdown",
   "id": "cb41ca09",
   "metadata": {},
   "source": [
    "#### Creación de un ndarray de ceros"
   ]
  },
  {
   "cell_type": "code",
   "execution_count": 59,
   "id": "2f8b24d6",
   "metadata": {},
   "outputs": [
    {
     "name": "stdout",
     "output_type": "stream",
     "text": [
      "float:\n",
      " [[0. 0.]\n",
      " [0. 0.]] \n",
      "\n",
      "float:\n",
      " [[0 0]\n",
      " [0 0]] \n",
      "\n",
      "float:\n",
      " [0 0 0 0] \n",
      "\n"
     ]
    }
   ],
   "source": [
    "array_ceros_float = np.zeros((2,2))\n",
    "print(\"float:\\n\", array_ceros_float, \"\\n\")\n",
    "\n",
    "\n",
    "array_ceros_int = np.zeros((2,2), dtype=int)\n",
    "print(\"int:\\n\", array_ceros_int, \"\\n\")\n",
    "\n",
    "\n",
    "array_ceros_copia = np.zeros_like([1,2,3,4])\n",
    "print(\"copia:\\n\", array_ceros_copia, \"\\n\")"
   ]
  },
  {
   "cell_type": "markdown",
   "id": "88b1d584",
   "metadata": {},
   "source": [
    "#### Creación de un ndarray con la matriz identidad"
   ]
  },
  {
   "cell_type": "code",
   "execution_count": 64,
   "id": "654c958f",
   "metadata": {},
   "outputs": [
    {
     "name": "stdout",
     "output_type": "stream",
     "text": [
      "float:\n",
      " [[1. 0. 0. 0. 0.]\n",
      " [0. 1. 0. 0. 0.]\n",
      " [0. 0. 1. 0. 0.]\n",
      " [0. 0. 0. 1. 0.]\n",
      " [0. 0. 0. 0. 1.]] \n",
      "\n",
      "int:\n",
      " [[1 0 0 0 0]\n",
      " [0 1 0 0 0]\n",
      " [0 0 1 0 0]\n",
      " [0 0 0 1 0]\n",
      " [0 0 0 0 1]] \n",
      "\n"
     ]
    }
   ],
   "source": [
    "array_identidad_float = np.identity(5)\n",
    "print(\"float:\\n\", array_identidad_float, \"\\n\")\n",
    "\n",
    "array_identidad_int = np.identity(5, dtype=int)\n",
    "print(\"int:\\n\", array_identidad_int, \"\\n\") "
   ]
  },
  {
   "cell_type": "markdown",
   "id": "4260991f",
   "metadata": {},
   "source": [
    "#### Creación de un ndarray con unos en una de las diagonales"
   ]
  },
  {
   "cell_type": "code",
   "execution_count": 82,
   "id": "8c19146a",
   "metadata": {},
   "outputs": [
    {
     "name": "stdout",
     "output_type": "stream",
     "text": [
      "float:\n",
      " [[1 0 0 0]\n",
      " [0 1 0 0]\n",
      " [0 0 1 0]\n",
      " [0 0 0 1]] \n",
      "\n",
      "int:\n",
      " [[1 0 0 0]\n",
      " [0 1 0 0]\n",
      " [0 0 1 0]\n",
      " [0 0 0 1]] \n",
      "\n",
      "segunda diagonal:\n",
      " [[0. 1. 0. 0.]\n",
      " [0. 0. 1. 0.]\n",
      " [0. 0. 0. 1.]\n",
      " [0. 0. 0. 0.]] \n",
      "\n",
      "no cuadrado:\n",
      " [[0 0 0]\n",
      " [1 0 0]\n",
      " [0 1 0]\n",
      " [0 0 1]] \n",
      "\n"
     ]
    }
   ],
   "source": [
    "array_identidad_float = np.eye(4)\n",
    "print(\"float:\\n\", array_identidad, \"\\n\")\n",
    "\n",
    "array_identidad_int = np.eye(4, dtype=int)\n",
    "print(\"int:\\n\", array_identidad, \"\\n\")\n",
    "\n",
    "array_segunda_diagonal = np.eye(4, k=1)\n",
    "print(\"segunda diagonal:\\n\", array_segunda_diagonal, \"\\n\")\n",
    "\n",
    "array_no_cuadrado = np.eye(4,3,k=-1,dtype=int)\n",
    "print(\"no cuadrado:\\n\", array_no_cuadrado, \"\\n\")"
   ]
  },
  {
   "cell_type": "markdown",
   "id": "d55cc820",
   "metadata": {},
   "source": [
    "#### Creación de un ndarray a partir de una secuencia básica de Python"
   ]
  },
  {
   "cell_type": "code",
   "execution_count": 32,
   "id": "d3da092c",
   "metadata": {},
   "outputs": [
    {
     "name": "stdout",
     "output_type": "stream",
     "text": [
      "array_basico:\n",
      " [1 2 3 4 5 6]\n",
      "array_basico_tipo:\n",
      " [1 2 3 4 5 6]\n",
      "array_basico_multidimencional:\n",
      " [[1 2 3 4]\n",
      " [5 6 7 8]]\n"
     ]
    }
   ],
   "source": [
    "array_basico = np.array([1,2,3,4,5,6])\n",
    "print(\"array_basico:\\n\",array_basico)\n",
    "\n",
    "array_basico_tipo = np.array([1,2,3,4,5,6], dtype=np.int64)\n",
    "print(\"array_basico_tipo:\\n\", array_basico_tipo)\n",
    "\n",
    "array_basico_multidimencional = np.array([[1,2,3,4],[5,6,7,8]])\n",
    "print(\"array_basico_multidimencional:\\n\", array_basico_multidimencional)"
   ]
  },
  {
   "cell_type": "markdown",
   "id": "31be40f3",
   "metadata": {},
   "source": [
    "### Tipos de dato en ndarrays de NumPy"
   ]
  },
  {
   "cell_type": "markdown",
   "id": "7f283744",
   "metadata": {},
   "source": [
    "<ul>\n",
    "<li><b>Enteros con signo:</b> np.int8, np.int16, np.int32 y np.int64</li>\n",
    "<li><b>Enteros sin signo:</b> np.uint8, np.uint16, np.uint32 y np.uint64</li>\n",
    "<li><b>Números en coma flotante:</b> np.float16, np.float32, np.float64, np.float128</li>\n",
    "<li><b>Números complejos:</b> np.complex64, np.complex128, np.complex256</li>\n",
    "<li><b>Booleanos:</b> np.bool</li>\n",
    "<li><b>Objetos:</b> np.object</li>\n",
    "<li><b>Cadenas de caracteres:</b> np.string\\_</li>\n",
    "<li><b>Cadenas de caracteres unicode:</b> np.unicode\\_</li>\n",
    "</ul>"
   ]
  },
  {
   "cell_type": "markdown",
   "id": "ec84ab53",
   "metadata": {},
   "source": [
    "### Casting/Conversión entre ndarrays"
   ]
  },
  {
   "cell_type": "code",
   "execution_count": 34,
   "id": "0d052f82",
   "metadata": {},
   "outputs": [
    {
     "name": "stdout",
     "output_type": "stream",
     "text": [
      "array inicial  [1 2 3 4 5]\n",
      "casting a float  [1. 2. 3. 4. 5.]\n",
      "casting a string  ['1.0' '2.0' '3.0' '4.0' '5.0']\n"
     ]
    }
   ],
   "source": [
    "array_inicial = np.array([1,2,3,4,5], dtype=np.int32)\n",
    "print(\"array inicial \",array_inicial)\n",
    "\n",
    "array_float = np.asarray(array_inicial, dtype=np.float64)\n",
    "print(\"casting a float \",array_float)\n",
    "\n",
    "array_string = np.asarray(array_float, dtype=np.str_)\n",
    "print(\"casting a string \",array_string)"
   ]
  },
  {
   "cell_type": "markdown",
   "id": "c1a21404",
   "metadata": {},
   "source": [
    "### Consulta de la composición de un ndarray"
   ]
  },
  {
   "cell_type": "code",
   "execution_count": null,
   "id": "98dcdeff",
   "metadata": {},
   "outputs": [],
   "source": []
  }
 ],
 "metadata": {
  "kernelspec": {
   "display_name": "Python 3",
   "language": "python",
   "name": "python3"
  },
  "language_info": {
   "codemirror_mode": {
    "name": "ipython",
    "version": 3
   },
   "file_extension": ".py",
   "mimetype": "text/x-python",
   "name": "python",
   "nbconvert_exporter": "python",
   "pygments_lexer": "ipython3",
   "version": "3.8.8"
  }
 },
 "nbformat": 4,
 "nbformat_minor": 5
}
