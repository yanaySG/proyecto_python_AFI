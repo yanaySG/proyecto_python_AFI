{
 "cells": [
  {
   "cell_type": "markdown",
   "id": "e34fedc3",
   "metadata": {},
   "source": [
    "# La base de NumPy - ndarray"
   ]
  },
  {
   "cell_type": "markdown",
   "id": "3286c6ee",
   "metadata": {},
   "source": [
    "Toda la librería de NumPy se articula alrededor de una única estructura de datos: la matriz multidimensional o ndarray (N-dimensional array)"
   ]
  },
  {
   "cell_type": "markdown",
   "id": "749ad3aa",
   "metadata": {},
   "source": [
    "### Características básicas de ndarray"
   ]
  },
  {
   "cell_type": "markdown",
   "id": "4207b441",
   "metadata": {},
   "source": [
    "- Un ndarray puede contener elementos de <b>CUALQUIER TIPO</b>.\n",
    "- Todos los elementos de un ndarray debn tener el <b>EL MISMO TIPO</b>.\n",
    "- El tamaño de un ndarray (número de elementos) se define en el momento de la creación y no puede modificarse.\n",
    "- Pero la organización de estos elementos entre diferentes dimensiones sí pueden modificarse."
   ]
  },
  {
   "cell_type": "markdown",
   "id": "f781495e",
   "metadata": {},
   "source": [
    "### Uso básico de cualquier elemento de NumPy"
   ]
  },
  {
   "cell_type": "markdown",
   "id": "661d2e73",
   "metadata": {},
   "source": [
    "NumPy no es un módulo de Python por lo que SIEMPRE habrá que importarlo de forma completa o componente a componente"
   ]
  },
  {
   "cell_type": "code",
   "execution_count": 5,
   "id": "10305ab1",
   "metadata": {},
   "outputs": [],
   "source": [
    "import numpy as np"
   ]
  },
  {
   "cell_type": "markdown",
   "id": "12ab94bf",
   "metadata": {},
   "source": [
    "### Creación básica de ndarrays"
   ]
  },
  {
   "cell_type": "markdown",
   "id": "4dfa23dc",
   "metadata": {},
   "source": [
    "Existen varias formas de crear un ndarray en NumPy. Vamos a ver las más relevantes."
   ]
  },
  {
   "cell_type": "markdown",
   "id": "10f2b212",
   "metadata": {},
   "source": [
    "#### Creación de un ndarray vacío"
   ]
  },
  {
   "cell_type": "code",
   "execution_count": 51,
   "id": "008e3d72",
   "metadata": {},
   "outputs": [
    {
     "name": "stdout",
     "output_type": "stream",
     "text": [
      "float:\n",
      " [[2.12199579e-314 9.34609110e-307]\n",
      " [5.65211099e-321 1.18407365e-311]] \n",
      "\n",
      "int:\n",
      " [[1 2 3]\n",
      " [4 5 6]] \n",
      "\n",
      "copia:\n",
      " [1 2 3 4 5] \n",
      "\n",
      "copia2:\n",
      " [[1 2 3]\n",
      " [4 5 6]]\n"
     ]
    }
   ],
   "source": [
    "array_vacio_float = np.empty((2,2))            # dtype=float by default\n",
    "print(\"float:\\n\", array_vacio_float, \"\\n\")\n",
    "\n",
    "array_vacio_int = np.empty(shape=(2,3), dtype=np.int32)\n",
    "print(\"int:\\n\", array_vacio_int, \"\\n\")\n",
    "\n",
    "array_vacio_copia = np.empty_like([1,2,3,4,5]) # Return a new array with the same shape and type as a given array.\n",
    "print(\"copia:\\n\", array_vacio_copia, \"\\n\" )\n",
    "\n",
    "array_vacio_copia2 = np.empty_like(([1,2,3], [4,5,6]))\n",
    "print(\"copia2:\\n\", array_vacio_copia2)"
   ]
  },
  {
   "cell_type": "markdown",
   "id": "cdb9a56f",
   "metadata": {},
   "source": [
    "#### Creación de un ndarray de unos"
   ]
  },
  {
   "cell_type": "code",
   "execution_count": 57,
   "id": "dd04ae5a",
   "metadata": {},
   "outputs": [
    {
     "name": "stdout",
     "output_type": "stream",
     "text": [
      "float:\n",
      " [[1. 1.]\n",
      " [1. 1.]] \n",
      "\n",
      "int:\n",
      " [[1 1]\n",
      " [1 1]] \n",
      "\n",
      "copia:\n",
      " [1 1 1 1 1] \n",
      "\n"
     ]
    }
   ],
   "source": [
    "array_unos_float = np.ones((2,2))\n",
    "print(\"float:\\n\", array_unos_float, \"\\n\")\n",
    "\n",
    "array_unos_int = np.ones((2,2), dtype=np.int32)\n",
    "print(\"int:\\n\", array_unos_int, \"\\n\")\n",
    "\n",
    "array_unos_copia = np.ones_like([1,2,3,4,5])\n",
    "print(\"copia:\\n\", array_unos_copia, \"\\n\")"
   ]
  },
  {
   "cell_type": "markdown",
   "id": "cb41ca09",
   "metadata": {},
   "source": [
    "#### Creación de un ndarray de ceros"
   ]
  },
  {
   "cell_type": "code",
   "execution_count": 59,
   "id": "2f8b24d6",
   "metadata": {},
   "outputs": [
    {
     "name": "stdout",
     "output_type": "stream",
     "text": [
      "float:\n",
      " [[0. 0.]\n",
      " [0. 0.]] \n",
      "\n",
      "float:\n",
      " [[0 0]\n",
      " [0 0]] \n",
      "\n",
      "float:\n",
      " [0 0 0 0] \n",
      "\n"
     ]
    }
   ],
   "source": [
    "array_ceros_float = np.zeros((2,2))\n",
    "print(\"float:\\n\", array_ceros_float, \"\\n\")\n",
    "\n",
    "\n",
    "array_ceros_int = np.zeros((2,2), dtype=int)\n",
    "print(\"int:\\n\", array_ceros_int, \"\\n\")\n",
    "\n",
    "\n",
    "array_ceros_copia = np.zeros_like([1,2,3,4])\n",
    "print(\"copia:\\n\", array_ceros_copia, \"\\n\")"
   ]
  },
  {
   "cell_type": "markdown",
   "id": "88b1d584",
   "metadata": {},
   "source": [
    "#### Creación de un ndarray con la matriz identidad"
   ]
  },
  {
   "cell_type": "code",
   "execution_count": 64,
   "id": "654c958f",
   "metadata": {},
   "outputs": [
    {
     "name": "stdout",
     "output_type": "stream",
     "text": [
      "float:\n",
      " [[1. 0. 0. 0. 0.]\n",
      " [0. 1. 0. 0. 0.]\n",
      " [0. 0. 1. 0. 0.]\n",
      " [0. 0. 0. 1. 0.]\n",
      " [0. 0. 0. 0. 1.]] \n",
      "\n",
      "int:\n",
      " [[1 0 0 0 0]\n",
      " [0 1 0 0 0]\n",
      " [0 0 1 0 0]\n",
      " [0 0 0 1 0]\n",
      " [0 0 0 0 1]] \n",
      "\n"
     ]
    }
   ],
   "source": [
    "array_identidad_float = np.identity(5)\n",
    "print(\"float:\\n\", array_identidad_float, \"\\n\")\n",
    "\n",
    "array_identidad_int = np.identity(5, dtype=int)\n",
    "print(\"int:\\n\", array_identidad_int, \"\\n\") "
   ]
  },
  {
   "cell_type": "markdown",
   "id": "4260991f",
   "metadata": {},
   "source": [
    "#### Creación de un ndarray con unos en una de las diagonales"
   ]
  },
  {
   "cell_type": "code",
   "execution_count": 82,
   "id": "8c19146a",
   "metadata": {},
   "outputs": [
    {
     "name": "stdout",
     "output_type": "stream",
     "text": [
      "float:\n",
      " [[1 0 0 0]\n",
      " [0 1 0 0]\n",
      " [0 0 1 0]\n",
      " [0 0 0 1]] \n",
      "\n",
      "int:\n",
      " [[1 0 0 0]\n",
      " [0 1 0 0]\n",
      " [0 0 1 0]\n",
      " [0 0 0 1]] \n",
      "\n",
      "segunda diagonal:\n",
      " [[0. 1. 0. 0.]\n",
      " [0. 0. 1. 0.]\n",
      " [0. 0. 0. 1.]\n",
      " [0. 0. 0. 0.]] \n",
      "\n",
      "no cuadrado:\n",
      " [[0 0 0]\n",
      " [1 0 0]\n",
      " [0 1 0]\n",
      " [0 0 1]] \n",
      "\n"
     ]
    }
   ],
   "source": [
    "array_identidad_float = np.eye(4)\n",
    "print(\"float:\\n\", array_identidad, \"\\n\")\n",
    "\n",
    "array_identidad_int = np.eye(4, dtype=int)\n",
    "print(\"int:\\n\", array_identidad, \"\\n\")\n",
    "\n",
    "array_segunda_diagonal = np.eye(4, k=1)\n",
    "print(\"segunda diagonal:\\n\", array_segunda_diagonal, \"\\n\")\n",
    "\n",
    "array_no_cuadrado = np.eye(4,3,k=-1,dtype=int)\n",
    "print(\"no cuadrado:\\n\", array_no_cuadrado, \"\\n\")"
   ]
  },
  {
   "cell_type": "markdown",
   "id": "d55cc820",
   "metadata": {},
   "source": [
    "#### Creación de un ndarray a partir de una secuencia básica de Python"
   ]
  },
  {
   "cell_type": "code",
   "execution_count": 32,
   "id": "79be309b",
   "metadata": {},
   "outputs": [
    {
     "name": "stdout",
     "output_type": "stream",
     "text": [
      "array_basico:\n",
      " [1 2 3 4 5 6]\n",
      "array_basico_tipo:\n",
      " [1 2 3 4 5 6]\n",
      "array_basico_multidimencional:\n",
      " [[1 2 3 4]\n",
      " [5 6 7 8]]\n"
     ]
    }
   ],
   "source": [
    "array_basico = np.array([1,2,3,4,5,6])\n",
    "print(\"array_basico:\\n\",array_basico)\n",
    "\n",
    "array_basico_tipo = np.array([1,2,3,4,5,6], dtype=np.int64)\n",
    "print(\"array_basico_tipo:\\n\", array_basico_tipo)\n",
    "\n",
    "array_basico_multidimencional = np.array([[1,2,3,4],[5,6,7,8]])\n",
    "print(\"array_basico_multidimencional:\\n\", array_basico_multidimencional)"
   ]
  },
  {
   "cell_type": "markdown",
   "id": "f121b0a0",
   "metadata": {},
   "source": [
    "### Tipos de dato en ndarrays de NumPy"
   ]
  },
  {
   "cell_type": "markdown",
   "id": "ca483f9a",
   "metadata": {},
   "source": [
    "<ul>\n",
    "<li><b>Enteros con signo:</b> np.int8, np.int16, np.int32 y np.int64</li>\n",
    "<li><b>Enteros sin signo:</b> np.uint8, np.uint16, np.uint32 y np.uint64</li>\n",
    "<li><b>Números en coma flotante:</b> np.float16, np.float32, np.float64, np.float128</li>\n",
    "<li><b>Números complejos:</b> np.complex64, np.complex128, np.complex256</li>\n",
    "<li><b>Booleanos:</b> np.bool</li>\n",
    "<li><b>Objetos:</b> np.object</li>\n",
    "<li><b>Cadenas de caracteres:</b> np.string\\_</li>\n",
    "<li><b>Cadenas de caracteres unicode:</b> np.unicode\\_</li>\n",
    "</ul>"
   ]
  },
  {
   "cell_type": "markdown",
   "id": "352cebe4",
   "metadata": {},
   "source": [
    "### Casting/Conversión entre ndarrays"
   ]
  },
  {
   "cell_type": "code",
   "execution_count": 34,
   "id": "1488a6e7",
   "metadata": {},
   "outputs": [
    {
     "name": "stdout",
     "output_type": "stream",
     "text": [
      "array inicial  [1 2 3 4 5]\n",
      "casting a float  [1. 2. 3. 4. 5.]\n",
      "casting a string  ['1.0' '2.0' '3.0' '4.0' '5.0']\n"
     ]
    }
   ],
   "source": [
    "array_inicial = np.array([1,2,3,4,5], dtype=np.int32)\n",
    "print(\"array inicial \",array_inicial)\n",
    "\n",
    "array_float = np.asarray(array_inicial, dtype=np.float64)\n",
    "print(\"casting a float \",array_float)\n",
    "\n",
    "array_string = np.asarray(array_float, dtype=np.str_)\n",
    "print(\"casting a string \",array_string)"
   ]
  },
  {
   "cell_type": "markdown",
   "id": "5d6a5e15",
   "metadata": {},
   "source": [
    "### Consulta de la composición de un ndarray"
   ]
  },
  {
   "cell_type": "markdown",
   "id": "213f8f6c",
   "metadata": {},
   "source": [
    "<ul>\n",
    "<li><b>dtype</b>: Tipo del contenido del ndarray.</li>\n",
    "<li><b>ndim</b>: Número de dimensiones/ejes del ndarray.</li>\n",
    "<li><b>shape</b>: Estructura/forma del ndarray, es decir, número de elementos en cada uno de los ejes/dimensiones.</li>\n",
    "<li><b>size</b>: Número total de elementos en el ndarray.</li>\n",
    "</ul>"
   ]
  },
  {
   "cell_type": "code",
   "execution_count": 43,
   "id": "69439e3b",
   "metadata": {},
   "outputs": [
    {
     "name": "stdout",
     "output_type": "stream",
     "text": [
      "array:\n",
      " [[ 1  2  3  4]\n",
      " [ 5  6  7  8]\n",
      " [ 9 10 11 12]]\n",
      "tipo:\n",
      " int32\n",
      "número de dimensiones:\n",
      " 2\n",
      "forma:\n",
      " (3, 4)\n",
      "número de elementos\n",
      " 12\n"
     ]
    }
   ],
   "source": [
    "array = np.array([[1,2,3,4],[5,6,7,8],[9,10,11,12]])\n",
    "\n",
    "print(\"array:\\n\",array)\n",
    "print(\"tipo:\\n\", array.dtype)\n",
    "print(\"número de dimensiones:\\n\", array.ndim)\n",
    "print(\"forma:\\n\", array.shape)\n",
    "print(\"número de elementos\\n\", array.size)"
   ]
  },
  {
   "cell_type": "code",
   "execution_count": 41,
   "id": "35ee993a",
   "metadata": {},
   "outputs": [
    {
     "name": "stdout",
     "output_type": "stream",
     "text": [
      "array:\n",
      " [[[ 1  2  3  4]\n",
      "  [ 5  6  7  8]]\n",
      "\n",
      " [[ 9 10 11 12]\n",
      "  [13 14 15 16]]]\n",
      "tipo:\n",
      " int32\n",
      "número de dimensiones:\n",
      " 3\n",
      "forma:\n",
      " (2, 2, 4)\n",
      "número de elementos\n",
      " 16\n"
     ]
    }
   ],
   "source": [
    "array = np.array([[[1,2,3,4],[5,6,7,8]],[[9,10,11,12],[13,14,15,16]]])\n",
    "\n",
    "print(\"array:\\n\",array)\n",
    "print(\"tipo:\\n\", array.dtype)\n",
    "print(\"número de dimensiones:\\n\", array.ndim)\n",
    "print(\"forma:\\n\", array.shape)\n",
    "print(\"número de elementos\\n\", array.size)"
   ]
  },
  {
   "cell_type": "markdown",
   "id": "5a099e11",
   "metadata": {},
   "source": [
    "### Operaciones aritméticas entre ndarrays y escalares"
   ]
  },
  {
   "cell_type": "code",
   "execution_count": 53,
   "id": "719c2552",
   "metadata": {},
   "outputs": [
    {
     "name": "stdout",
     "output_type": "stream",
     "text": [
      "suma:             [ 6.  7.  8.  9. 10. 11.]\n",
      "resta:            [-1.  0.  1.  2.  3.  4.]\n",
      "multiplicación:   [ 3.  6.  9. 12. 15. 18.]\n",
      "división:         [0.5 1.  1.5 2.  2.5 3. ]\n",
      "división entera:  [0. 1. 1. 2. 2. 3.]\n",
      "potencia:         [ 1.  4.  9. 16. 25. 36.]\n"
     ]
    }
   ],
   "source": [
    "array = np.array([1,2,3,4,5,6], dtype=np.float64)\n",
    "\n",
    "print(\"suma:            \", array + 5)\n",
    "print(\"resta:           \", array - 2)\n",
    "print(\"multiplicación:  \", array * 3)\n",
    "print(\"división:        \", array / 2)\n",
    "print(\"división entera: \", array // 2)\n",
    "print(\"potencia:        \", array ** 2)"
   ]
  },
  {
   "cell_type": "code",
   "execution_count": 99,
   "id": "bdbd7357",
   "metadata": {},
   "outputs": [
    {
     "name": "stdout",
     "output_type": "stream",
     "text": [
      "asignación con operador:\n",
      "suma:             [ 6.  7.  8.  9. 10. 11.]\n",
      "resta:            [4. 5. 6. 7. 8. 9.]\n",
      "multiplicación:   [12. 15. 18. 21. 24. 27.]\n",
      "división:         [ 6.   7.5  9.  10.5 12.  13.5]\n",
      "división entera:  [3. 3. 4. 5. 6. 6.]\n",
      "potencia:         [ 9.  9. 16. 25. 36. 36.]\n"
     ]
    }
   ],
   "source": [
    "array = np.array([1,2,3,4,5,6], dtype=np.float64)\n",
    "\n",
    "print(\"asignación con operador:\") # se modifica el array\n",
    "\n",
    "array += 5\n",
    "print(\"suma:            \", array)\n",
    "\n",
    "array -= 2\n",
    "print(\"resta:           \", array)\n",
    "\n",
    "array *= 3\n",
    "print(\"multiplicación:  \", array)\n",
    "\n",
    "array /= 2\n",
    "print(\"división:        \", array)\n",
    "\n",
    "array //= 2\n",
    "print(\"división entera: \", array)\n",
    "\n",
    "array **= 2\n",
    "print(\"potencia:        \", array)"
   ]
  },
  {
   "cell_type": "markdown",
   "id": "90ff25a8",
   "metadata": {},
   "source": [
    "### Operaciones aritméticas entre ndarrays"
   ]
  },
  {
   "cell_type": "markdown",
   "id": "be51937b",
   "metadata": {},
   "source": [
    "<b>IMPORTANTE:</b> Los dos términos de la operación tienen que ser ndarrays de las mismas dimensiones y forma. Se aplica la operación elemento a elemento."
   ]
  },
  {
   "cell_type": "code",
   "execution_count": 97,
   "id": "07e43541",
   "metadata": {},
   "outputs": [
    {
     "name": "stdout",
     "output_type": "stream",
     "text": [
      "float64\n",
      "suma            (elemento a elemento):  [ 2.  4.  6.  8. 10.]\n",
      "resta           (elemento a elemento):  [0. 0. 0. 0. 0.]\n",
      "multiplicación  (elemento a elemento):  [ 1.  4.  9. 16. 25.]\n",
      "división        (elemento a elemento):  [1. 1. 1. 1. 1.]\n",
      "división entera (elemento a elemento):  [1. 1. 1. 1. 1.]\n",
      "potencia        (elemento a elemento):  [1.000e+00 4.000e+00 2.700e+01 2.560e+02 3.125e+03]\n"
     ]
    }
   ],
   "source": [
    "array = np.array([1.0,2,3,4,5])\n",
    "\n",
    "print(\"suma            (elemento a elemento): \", array +  array)\n",
    "print(\"resta           (elemento a elemento): \", array -  array)\n",
    "print(\"multiplicación  (elemento a elemento): \", array *  array)\n",
    "print(\"división        (elemento a elemento): \", array /  array)\n",
    "print(\"división entera (elemento a elemento): \", array // array)\n",
    "print(\"potencia        (elemento a elemento): \", array ** array)\n"
   ]
  },
  {
   "cell_type": "code",
   "execution_count": 106,
   "id": "425a8935",
   "metadata": {},
   "outputs": [
    {
     "name": "stdout",
     "output_type": "stream",
     "text": [
      "asignación con operador:\n",
      "suma:             [ 2.  8. 10.]\n",
      "resta:            [-7.  2.  8.]\n",
      "multiplicación:   [-7. 12. 56.]\n",
      "división:         [-0.77777778  2.         28.        ]\n",
      "división entera:  [-1.  0.  4.]\n",
      "potencia:         [ -1.   1. 256.]\n"
     ]
    }
   ],
   "source": [
    "array_1 = np.array([1,2,3], dtype=np.float64)\n",
    "array_2 = np.array([1,6,7],  dtype=np.float64)\n",
    "array_3 = np.array([9,6,2],  dtype=np.float64)\n",
    "\n",
    "\n",
    "print(\"asignación con operador:\") # se modifica el array\n",
    "\n",
    "array_1 += array_2\n",
    "print(\"suma:            \", array_1)\n",
    "array_1 -= array_3\n",
    "print(\"resta:           \", array_1)\n",
    "array_1 *= array_2\n",
    "print(\"multiplicación:  \", array_1)\n",
    "array_1 /= array_3\n",
    "print(\"división:        \", array_1)\n",
    "array_1 //= array_2\n",
    "print(\"división entera: \", array_1)\n",
    "array_1 **= array_1\n",
    "print(\"potencia:        \", array_1)"
   ]
  },
  {
   "cell_type": "markdown",
   "id": "ac6991bf",
   "metadata": {},
   "source": [
    "### Indexación y slicing básico"
   ]
  },
  {
   "cell_type": "markdown",
   "id": "624ff817",
   "metadata": {},
   "source": [
    "En ndarrays unidimensionales el funcionamiento es idéntico al que se tiene en secuencias básicas de Python. Es decir, se utiliza la indexación [a:b:c]."
   ]
  },
  {
   "cell_type": "code",
   "execution_count": 126,
   "id": "12721bba",
   "metadata": {},
   "outputs": [
    {
     "name": "stdout",
     "output_type": "stream",
     "text": [
      "array:  [ 1  2  3  4  5  6  7  8  9 10]\n",
      "indexación con primer parámetro:           3\n",
      "indexación con primer y segunda parámetro: [3 4 5]\n",
      "indexación con tercer parámetro            [1 3 5 7 9]\n",
      "indexación con negativos:                  [10  8  6  4  2]\n"
     ]
    }
   ],
   "source": [
    "array = np.arange(1,11)\n",
    "\n",
    "print(\"array: \", array)\n",
    "print(\"indexación con primer parámetro:          \", array[2])\n",
    "print(\"indexación con primer y segunda parámetro:\", array[2:5])\n",
    "print(\"indexación con tercer parámetro           \", array[::2])\n",
    "print(\"indexación con negativos:                 \", array[::-2])"
   ]
  },
  {
   "cell_type": "markdown",
   "id": "37f0ce38",
   "metadata": {},
   "source": [
    "En ndarrays multidimensionales, existen dos posibles formas de realizar el acceso:<br/>\n",
    "<ul>\n",
    "<li><b>Mediante indexación recursiva:</b> array[a:b:c en dim_1][a:b:c en dim_2]...[a:b:c en dim_n]</li>\n",
    "<li><b>Mediante indexación con comas:</b> array[a:b:c en dim_1, a:b:c en dim_2, ...a:b:c en dim_n]</li>\n",
    "</ul>"
   ]
  },
  {
   "cell_type": "code",
   "execution_count": 149,
   "id": "97fd024c",
   "metadata": {},
   "outputs": [
    {
     "name": "stdout",
     "output_type": "stream",
     "text": [
      "[[[ 1  2  3  4]\n",
      "  [ 5  6  7  8]]\n",
      "\n",
      " [[ 9 10 11 12]\n",
      "  [13 14 15 16]]] \n",
      "\n",
      "número de dimensiones: 3\n",
      "forma de la matriz:    (2, 2, 4) \n",
      "\n"
     ]
    }
   ],
   "source": [
    "array = np.array([[[1,2,3,4],[5,6,7,8]],[[9,10,11,12],[13,14,15,16]]])\n",
    "\n",
    "print(array, \"\\n\")\n",
    "print(\"número de dimensiones:\", array.ndim)\n",
    "print(\"forma de la matriz:   \", array.shape, \"\\n\")"
   ]
  },
  {
   "cell_type": "code",
   "execution_count": 152,
   "id": "623e0794",
   "metadata": {},
   "outputs": [
    {
     "name": "stdout",
     "output_type": "stream",
     "text": [
      "indexación recursiva primer nivel:\n",
      " [[ 9 10 11 12]\n",
      " [13 14 15 16]] \n",
      "\n",
      "indexación recursiva de segundo nivel:\n",
      " [ 9 10 11 12] \n",
      "\n",
      "indexación recursiva de tercer nivel:\n",
      " 12 \n",
      "\n",
      "indexación recursiva tercer nivel con slice:\n",
      " [ 9 11] \n",
      "\n",
      "Indexación recursiva tercer nivel con slice de índice negativo:\n",
      " [4 3 2 1]\n"
     ]
    }
   ],
   "source": [
    "print(\"indexación recursiva primer nivel:\\n\", array[1], \"\\n\")\n",
    "print(\"indexación recursiva de segundo nivel:\\n\", array[1][0], \"\\n\")\n",
    "print(\"indexación recursiva de tercer nivel:\\n\", array[1][0][3], \"\\n\")\n",
    "\n",
    "print(\"indexación recursiva tercer nivel con slice:\\n\", array[1][0][::2], \"\\n\")\n",
    "print(\"Indexación recursiva tercer nivel con slice de índice negativo:\\n\", array[0][0][::-1])"
   ]
  },
  {
   "cell_type": "code",
   "execution_count": 155,
   "id": "91745e95",
   "metadata": {},
   "outputs": [
    {
     "name": "stdout",
     "output_type": "stream",
     "text": [
      "indexación con comas primer nivel:\n",
      " [[ 9 10 11 12]\n",
      " [13 14 15 16]] \n",
      "\n",
      "indexación con comas de segundo nivel:\n",
      " [ 9 10 11 12] \n",
      "\n",
      "indexación con comas de tercer nivel:\n",
      " 12 \n",
      "\n",
      "indexación con comas de tercer nivel con slice:\n",
      " [ 9 11] \n",
      "\n",
      "indexación con comas de tercer nivel con slice negativo:\n",
      " [12 11 10  9] \n",
      "\n"
     ]
    }
   ],
   "source": [
    "print(\"indexación con comas primer nivel:\\n\", array[1], \"\\n\")\n",
    "print(\"indexación con comas de segundo nivel:\\n\", array[1,0], \"\\n\")\n",
    "print(\"indexación con comas de tercer nivel:\\n\", array[1,0,3], \"\\n\")\n",
    "\n",
    "print(\"indexación con comas de tercer nivel con slice:\\n\", array[1,0,::2], \"\\n\")\n",
    "print(\"indexación con comas de tercer nivel con slice negativo:\\n\", array[1,0,::-1], \"\\n\")"
   ]
  },
  {
   "cell_type": "markdown",
   "id": "30c34ea1",
   "metadata": {},
   "source": [
    "### Indexación y slicing booleano"
   ]
  },
  {
   "cell_type": "code",
   "execution_count": 200,
   "id": "1651bb28",
   "metadata": {
    "scrolled": true
   },
   "outputs": [
    {
     "name": "stdout",
     "output_type": "stream",
     "text": [
      "['Miguel' 'Pedro' 'juan' 'Miguel'] \n",
      "\n",
      "[[-1.10102381 -0.128144   -1.48387336  0.75055811]\n",
      " [-0.32733091 -1.97246102  0.68257511  0.2328397 ]\n",
      " [-0.90632418  1.40474461  1.10767042 -0.30103612]\n",
      " [-0.09920485 -1.01148618  1.25054646  0.40718396]] \n",
      "\n",
      "indexación/slicing booleano sobre valores:\n",
      " [-1.10102381 -0.128144   -1.48387336 -0.32733091 -1.97246102 -0.90632418\n",
      " -0.30103612 -0.09920485 -1.01148618] \n",
      "\n",
      "máscara booleana: [ True False False  True] \n",
      "\n",
      "indexación/slicing mediante máscara:\n",
      " [[-1.10102381 -0.128144   -1.48387336  0.75055811]\n",
      " [-0.09920485 -1.01148618  1.25054646  0.40718396]] \n",
      "\n",
      "indexación/slicing mediante máscara y básico combinado:\n",
      " [[-1.10102381 -1.48387336]\n",
      " [-0.09920485  1.25054646]] \n",
      "\n",
      "indexación/slicing mediante máscara negativa por operador:\n",
      " [[-0.32733091 -1.97246102  0.68257511  0.2328397 ]\n",
      " [-0.90632418  1.40474461  1.10767042 -0.30103612]]\n"
     ]
    }
   ],
   "source": [
    "personas = np.array(['Miguel', 'Pedro', 'juan', 'Miguel'])\n",
    "datos = np.random.randn(4,4)\n",
    "\n",
    "print(personas, \"\\n\")\n",
    "print(datos, \"\\n\")\n",
    "\n",
    "print(\"indexación/slicing booleano sobre valores:\\n\", datos[datos < 0], \"\\n\")\n",
    "\n",
    "print(\"máscara booleana:\", personas == 'Miguel', \"\\n\")\n",
    "\n",
    "print(\"indexación/slicing mediante máscara:\\n\", datos[personas == 'Miguel'], \"\\n\") \n",
    "\n",
    "print(\"indexación/slicing mediante máscara y básico combinado:\\n\", datos[personas=='Miguel',::2], \"\\n\")\n",
    "print(\"indexación/slicing mediante máscara negativa por operador:\\n\", datos[personas!= 'Miguel'])"
   ]
  },
  {
   "cell_type": "markdown",
   "id": "f9dee30f",
   "metadata": {},
   "source": [
    "De nuevo, podemos utilizar indexación/slicing booleano para realizar modificaciones sobre el contenido de un ndarray."
   ]
  },
  {
   "cell_type": "code",
   "execution_count": 205,
   "id": "15ab406b",
   "metadata": {},
   "outputs": [
    {
     "name": "stdout",
     "output_type": "stream",
     "text": [
      "datos:\n",
      " [[ 1.21319171 -2.24195485 -0.02565997 -0.40423867]\n",
      " [-0.23842445 -0.43563733  0.35602197 -0.67418834]\n",
      " [ 0.1616351   0.59651988  2.43190974 -0.14391582]\n",
      " [-0.50968267  1.25346944  0.47050878  0.92953824]\n",
      " [-1.20414971  0.64391734 -1.25039012 -0.23335764]\n",
      " [ 0.67175087 -2.06751841 -0.0960654  -0.80702672]\n",
      " [-0.83348587  0.72749191 -1.0294424  -0.30183772]] \n",
      "\n",
      "eliminación de valores negativos mediante slicing booleano:\n",
      "\n",
      "datos modificados:\n",
      " [[1.21319171 0.         0.         0.        ]\n",
      " [0.         0.         0.35602197 0.        ]\n",
      " [0.1616351  0.59651988 2.43190974 0.        ]\n",
      " [0.         1.25346944 0.47050878 0.92953824]\n",
      " [0.         0.64391734 0.         0.        ]\n",
      " [0.67175087 0.         0.         0.        ]\n",
      " [0.         0.72749191 0.         0.        ]] \n",
      "\n"
     ]
    }
   ],
   "source": [
    "array = np.random.randn(7,4)\n",
    "\n",
    "print(\"datos:\\n\", array, \"\\n\")\n",
    "\n",
    "print(\"eliminación de valores negativos mediante slicing booleano:\\n\")\n",
    "array[array<0] = 0\n",
    "print(\"datos modificados:\\n\", array, \"\\n\")"
   ]
  },
  {
   "cell_type": "markdown",
   "id": "1f6ead0b",
   "metadata": {},
   "source": [
    "### Indexación y slicing basado en secuencias de enteros - Fancy indexing"
   ]
  },
  {
   "cell_type": "markdown",
   "id": "af4879e1",
   "metadata": {},
   "source": [
    "También podemos indexar de manera arbitraria en múltiples dimensiones, utilizando para ello, una secuencia de enteros por cada dimensión. El resultado será la combinación de secuencias."
   ]
  },
  {
   "cell_type": "code",
   "execution_count": 217,
   "id": "115184bd",
   "metadata": {},
   "outputs": [
    {
     "name": "stdout",
     "output_type": "stream",
     "text": [
      "datos:\n",
      " [[0. 0. 0. 0.]\n",
      " [1. 1. 1. 1.]\n",
      " [2. 2. 2. 2.]\n",
      " [3. 3. 3. 3.]\n",
      " [4. 4. 4. 4.]\n",
      " [5. 5. 5. 5.]\n",
      " [6. 6. 6. 6.]\n",
      " [7. 7. 7. 7.]]\n",
      "Indexación/slicing de un elemento:\n",
      "\n",
      "[2. 2. 2. 2.]\n",
      "Indexación/slicing de un conjunto (continuo) de elementos:\n",
      "\n",
      "[[2. 2. 2. 2.]\n",
      " [3. 3. 3. 3.]\n",
      " [4. 4. 4. 4.]]\n",
      "Indexación/slicing de un conjunto (arbitrario) de elementos:\n",
      "\n",
      "[[2. 2. 2. 2.]\n",
      " [5. 5. 5. 5.]]\n",
      "Indexación/slicing de un conjunto (arbitrario) de elementos (índices negativos):\n",
      "\n",
      "[[6. 6. 6. 6.]\n",
      " [3. 3. 3. 3.]]\n"
     ]
    }
   ],
   "source": [
    "array = np.empty((8,4))\n",
    "\n",
    "for i in range(8):\n",
    "    array[i] = i\n",
    "    \n",
    "print(\"datos:\\n\",array)\n",
    "\n",
    "print(\"Indexación/slicing de un elemento:\\n\")\n",
    "print(array[2])\n",
    "\n",
    "print(\"Indexación/slicing de un conjunto (continuo) de elementos:\\n\")\n",
    "print(array[2:5]) \n",
    "\n",
    "print(\"Indexación/slicing de un conjunto (arbitrario) de elementos:\\n\")\n",
    "print(array[[2,5]])\n",
    "\n",
    "print(\"Indexación/slicing de un conjunto (arbitrario) de elementos (índices negativos):\\n\")\n",
    "print(array[[-2,-5]])\n"
   ]
  },
  {
   "cell_type": "code",
   "execution_count": 219,
   "id": "a296bdf5",
   "metadata": {},
   "outputs": [
    {
     "name": "stdout",
     "output_type": "stream",
     "text": [
      "datos:\n",
      " [ 0  1  2  3  4  5  6  7  8  9 10 11 12 13 14 15 16 17 18 19 20 21 22 23\n",
      " 24 25 26 27 28 29 30 31]\n"
     ]
    }
   ],
   "source": [
    "array = np.arange(32)\n",
    "\n",
    "print(\"datos:\\n\",array)\n",
    "\n",
    "print(\"Indexación/slicing con una secuencia de varios niveles (elemento a elemento):\\n\")\n",
    "print"
   ]
  },
  {
   "cell_type": "code",
   "execution_count": null,
   "id": "292354c2",
   "metadata": {},
   "outputs": [],
   "source": []
  }
 ],
 "metadata": {
  "kernelspec": {
   "display_name": "Python 3",
   "language": "python",
   "name": "python3"
  },
  "language_info": {
   "codemirror_mode": {
    "name": "ipython",
    "version": 3
   },
   "file_extension": ".py",
   "mimetype": "text/x-python",
   "name": "python",
   "nbconvert_exporter": "python",
   "pygments_lexer": "ipython3",
   "version": "3.8.8"
  }
 },
 "nbformat": 4,
 "nbformat_minor": 5
}
