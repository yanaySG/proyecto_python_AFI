{
 "cells": [
  {
   "cell_type": "markdown",
   "id": "dcbc8518",
   "metadata": {},
   "source": [
    "# Ejercicio 3. Titanic"
   ]
  },
  {
   "cell_type": "markdown",
   "id": "643b8aa7",
   "metadata": {},
   "source": [
    "Uno de los conjuntos de datos más típicos utilizados, de forma académica, para explicar conceptos de data science es el que contiene información de personas supervivientes y fallecidas en el hundimiento del Titanic.\n",
    "\n",
    "Para obtener este conjunto de datos descargar el fichero train.csv de la página de la competición Titanic: Machine learning for disaster (https://www.kaggle.com/c/titanic/data)."
   ]
  },
  {
   "cell_type": "markdown",
   "id": "ced590fa",
   "metadata": {},
   "source": [
    "## Explorando el Titanic"
   ]
  },
  {
   "cell_type": "markdown",
   "id": "56842a78",
   "metadata": {},
   "source": [
    "El objetivo de este ejercicio, es realizar un análisis exploratorio sencillo sobre este conjunto de datos, utilizando las diferentes funcionalidades que pone a nuestra disposición el módulo pandas de Python.\n",
    "\n",
    "El análisis a realizar sobre el contenido del set de datos deberá ser completo (PERO SIMPLE), incluyendo, por ejemplo:\n",
    "- Listado de variables contenidas en el set de datos.\n",
    "- Descripción/significado de cada una de las variables.\n",
    "- Tipo (categórica o numérica) de cada una de las variables.\n",
    "- Frecuencias sobre los valores de las variables categóricas.\n",
    "- Estadísticos básicos sobre las variables numéricas.\n",
    "- Análisis de valores nulos que incluya qué variables los contienen, su representatividad dentro del set de datos y qué posible solución podríamos dar.\n",
    "\n",
    "Como en cualquier análisis exploratorio es muy importante que el proceso seguido, los análisis realizados y las conclusiones alcanzadas queden perfectamente explicadas y documentadas."
   ]
  },
  {
   "cell_type": "markdown",
   "id": "d7dbe955",
   "metadata": {},
   "source": [
    "## Analizando el Titanic"
   ]
  },
  {
   "cell_type": "markdown",
   "id": "8b4d0277",
   "metadata": {},
   "source": [
    "Tras la exploración del conjunto de datos del ejercicio anterior, debería ser muy sencillo obtener insights o conclusiones sobre los pasajeros del Titanic y su hundimiento.\n",
    "\n",
    "Obviamente, al trabajar únicamente con una muestra del conjunto de datos (sólo estamos utilizando el conjunto de entrenamiento de la competición), las conclusiones alcanzadas no serán completamente correctas y podrán tener cierto sesgo, pero es más que suficiente para un ejercicio académico.\n",
    "\n",
    "El objetivo de este ejercicio, será utilizar las diferentes funcionalidades de agrupación y agregación que pone a nuestra disposición el módulo pandas de Python para responder a un pequeño conjunto de preguntas sobre la catástrofe.\n",
    "\n",
    "El listado de preguntas que se deberá responder es el siguiente:\n",
    "- ¿Fallecieron más mujeres u hombres? ¿Cuánto más en porcentaje?\n",
    "- ¿Qué clase de pasajeros (primera, segunda o tercera) sobrevivió más?\n",
    "- ¿Cuál fue la edad media de los supervivientes en cada una de las clases?\n",
    "- ¿Cuál de los puertos de embarque es el más rico (aquel con la media de precio de billete más cara)?\n",
    "- ¿Qué correlación hay entre la longitud del nombre de un pasajero y el importe de su billete?"
   ]
  },
  {
   "cell_type": "code",
   "execution_count": null,
   "id": "856279ce",
   "metadata": {},
   "outputs": [],
   "source": []
  }
 ],
 "metadata": {
  "kernelspec": {
   "display_name": "Python 3",
   "language": "python",
   "name": "python3"
  },
  "language_info": {
   "codemirror_mode": {
    "name": "ipython",
    "version": 3
   },
   "file_extension": ".py",
   "mimetype": "text/x-python",
   "name": "python",
   "nbconvert_exporter": "python",
   "pygments_lexer": "ipython3",
   "version": "3.8.8"
  }
 },
 "nbformat": 4,
 "nbformat_minor": 5
}
