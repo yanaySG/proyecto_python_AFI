{
 "cells": [
  {
   "cell_type": "markdown",
   "id": "e62b2586",
   "metadata": {},
   "source": [
    "# Encriptar y desencriptar mensajes"
   ]
  },
  {
   "cell_type": "markdown",
   "id": "5a0a44ba",
   "metadata": {},
   "source": [
    "## Enunciado del ejercicio"
   ]
  },
  {
   "cell_type": "markdown",
   "id": "e15fdfd3",
   "metadata": {},
   "source": [
    "En criptografía, un cifrado César es una técnica muy simple de encriptación en la que cada letra de un mensaje se reemplaza por otra letra desplazada en el alfabeto un número fijo de posiciones (módulo el tamaño del alfabeto). Por ejemplo, con un desplazamiento de 3, la letra \"A\" se reemplazaría por la \"D\", \"B\" se convertiría en \"E\", \"Z\" en \"C\" y así sucesivamente. Esta técnica recibe su nombre por Julio César, que la utilizaba para comunicarse con sus generales.\n",
    "\n",
    "El objetivo de este ejercicio, es crear una función de encriptación y otra de desencriptación que implementen esta técnica. Ambas funciones deberán recibir como parámetro tanto el mensaje que se quiere encriptar/desencriptar, como el desplazamiento que se quiere establecer sobre el alfabeto.\n",
    "\n",
    "                    def codifica(mensaje, desplazamiento=13)\n",
    "                    def decodifica(mensaje, desplazamiento=13)\n",
    "\n",
    "Las funciones deben ser capaces de encriptar/desencriptar mensajes que mezclen mayúsculas y minúsculas. Para simplificar un poco las cosas, asume que los mensajes siempre estarán en inglés (o en español sin acentos y sin “ñ”) y que los signos de puntuación y espacios no se deben codificar."
   ]
  },
  {
   "cell_type": "markdown",
   "id": "5043867f",
   "metadata": {},
   "source": [
    "## Solución"
   ]
  },
  {
   "cell_type": "markdown",
   "id": "7cd4d9b0",
   "metadata": {},
   "source": [
    "Se crean dos arreglos con los caracteres del alfabeto en mayúsculas y minúsculas."
   ]
  },
  {
   "cell_type": "code",
   "execution_count": 8,
   "id": "4d0518a4",
   "metadata": {},
   "outputs": [
    {
     "name": "stdout",
     "output_type": "stream",
     "text": [
      "['A', 'B', 'C', 'D', 'E', 'F', 'G', 'H', 'I', 'J', 'K', 'L', 'M', 'N', 'O', 'P', 'Q', 'R', 'S', 'T', 'U', 'V', 'W', 'X', 'Y', 'Z']\n",
      "['a', 'b', 'c', 'd', 'e', 'f', 'g', 'h', 'i', 'j', 'k', 'l', 'm', 'n', 'o', 'p', 'q', 'r', 's', 't', 'u', 'v', 'w', 'x', 'y', 'z']\n"
     ]
    }
   ],
   "source": [
    "alfaM = ['A','B','C','D','E','F','G','H','I','J','K','L','M','N','O','P','Q','R','S','T','U','V','W','X','Y','Z']\n",
    "alfam = [each_letter.lower() for each_letter in alfaM]\n",
    "\n",
    "print(alfaM)\n",
    "print(alfam)"
   ]
  },
  {
   "cell_type": "markdown",
   "id": "66dfdb0c",
   "metadata": {},
   "source": [
    "### Función auxiliar"
   ]
  },
  {
   "cell_type": "markdown",
   "id": "c2cffb94",
   "metadata": {},
   "source": [
    "Se crea una función auxiliar para calcular la nueva posición en el arreglo de caracteres y así hacer las sustituciones de los mismos, lo cual resulta en la encriptación de la cadena. \n",
    "\n",
    "Parámetros de la función:\n",
    "\n",
    "- pos: posición actual del caracter dentro de la lista que contiene el alfabeto \n",
    "- displacement: el desplazamiento sobre la lista\n",
    "- size: tamaño de la lista de caracteres del alfabeto, \n",
    "\n",
    "Salida de la función:\n",
    "- Devuelve un valor que representa la nueva posición para cada caracter de la cadena, pero antes comprueba que esta nueva posición no este fuera del rango de los arreglos del alfabeto, en cuyo caso realiza la corrección adecuada."
   ]
  },
  {
   "cell_type": "code",
   "execution_count": 30,
   "id": "460cd2d0",
   "metadata": {},
   "outputs": [
    {
     "name": "stdout",
     "output_type": "stream",
     "text": [
      "10\n",
      "2\n"
     ]
    }
   ],
   "source": [
    "def new_pos(pos, displacement):\n",
    "    size=len(alfaM)\n",
    "    if(pos + displacement >= size-1):      #comprobar si pos + displacement sobrepasan el tamaño del arreglo del alfabeto \n",
    "        return displacement - (size - pos) #en caso positivo devuelve el desplazamiento corregido\n",
    "    else:\n",
    "        return pos + displacement          # en caso positivo devuelve el desplazamiento\n",
    "\n",
    "\n",
    "# Probando la función\n",
    "print(new_pos(8,2))\n",
    "print(new_pos(len(alfaM),2))\n"
   ]
  },
  {
   "cell_type": "markdown",
   "id": "6e0c080b",
   "metadata": {},
   "source": [
    "### Función de encriptación"
   ]
  },
  {
   "cell_type": "markdown",
   "id": "f9f2736b",
   "metadata": {},
   "source": [
    "Esta función recorre los caracteres de la cadena y detecta la posición de cada uno en su arreglo correspondiente, ya sea de mayúsculas o de minúsculas. Con esta posición, el desplazamiento y el tamaño del arreglo del alfabeto y haciendo uso de la funcion new_pos(), calcula la nueva posición para cada carácter. Posteriormente conforma una nueva cadena concatenando los caracteres resultantes usando las nuevas posiciones de cada uno. Esto da como resultado la encriptación de la cadena insertada. \n",
    "\n",
    "Parámetros de la función:\n",
    "- string: la cadena a encriptar \n",
    "- displacement: el desplazamiento a aplicar sobre el alfabeto "
   ]
  },
  {
   "cell_type": "code",
   "execution_count": 67,
   "id": "e24ae4b5",
   "metadata": {},
   "outputs": [],
   "source": [
    "import re as regex # regular expresions\n",
    "\n",
    "def encrypt(string, displacement=13):\n",
    "    rstring=\"\"\n",
    "    pattern = '[a-zA-Z]'\n",
    "    for c in string:\n",
    "        if c in alfaM and regex.match(pattern, c):          \n",
    "            pos = alfaM.index(c)\n",
    "            rstring += alfaM[new_pos(pos,displacement)]\n",
    "        elif c in alfam and regex.match(pattern, c):\n",
    "            pos = alfam.index(c)\n",
    "            rstring += alfam[new_pos(pos,displacement)]\n",
    "        else:\n",
    "            rstring += c\n",
    "    return rstring\n"
   ]
  },
  {
   "cell_type": "markdown",
   "id": "25f5a66f",
   "metadata": {},
   "source": [
    "### Función de desencriptación"
   ]
  },
  {
   "cell_type": "markdown",
   "id": "c46edc5c",
   "metadata": {},
   "source": [
    "La función de desencriptación realiza una operación similar a la funcion encrypt() con la diferencia de que invierte el sentido del desplazamiento.\n",
    "\n",
    "Parámetros de la función:\n",
    "- string: la cadena a encriptar \n",
    "- displacement: el desplazamiento a aplicar sobre el alfabeto "
   ]
  },
  {
   "cell_type": "code",
   "execution_count": 74,
   "id": "b71e5ba7",
   "metadata": {},
   "outputs": [],
   "source": [
    "import re as regex # regular expresions\n",
    "\n",
    "def decrypt(string, displacement=13):\n",
    "    displacement = - displacement\n",
    "    rstring = \"\"\n",
    "    pattern = '[a-zA-Z]'\n",
    "    for c in string:\n",
    "        if c in alfaM and regex.match(pattern, c):\n",
    "            index = alfaM.index(c)\n",
    "            rstring += alfaM[new_pos(index, displacement)]\n",
    "        elif c in alfam and regex.match(pattern, c):\n",
    "            index = alfam.index(c)\n",
    "            rstring += alfam[new_pos(index,displacement)]\n",
    "        else:\n",
    "            rstring += c\n",
    "    return rstring\n"
   ]
  },
  {
   "cell_type": "markdown",
   "id": "56553f94",
   "metadata": {},
   "source": [
    "### Programa principal para probar las funciones."
   ]
  },
  {
   "cell_type": "code",
   "execution_count": 82,
   "id": "c45a1452",
   "metadata": {},
   "outputs": [
    {
     "name": "stdout",
     "output_type": "stream",
     "text": [
      "Ejemplo1\n",
      "Cadena:Cadena A Decodificar\n",
      "Despazamiento:Por defecto: 13\n",
      "Cadena codificada: Pnqran N Qrpbqvsvpne\n",
      "Cadena decodificada: Cadena A Decodificar\n",
      "\n",
      "\n",
      "Ejemplo2\n",
      "Cadena:My names is Yanay. I exercise 2 times a day.\n",
      "Despazamiento:5\n",
      "Cadena codificada: Rd sfrjx nx Dfsfd. N jcjwhnxj 2 ynrjx f ifd.\n",
      "Cadena decodificada: My names is Yanay. I exercise 2 times a day.\n"
     ]
    }
   ],
   "source": [
    "print(\"Ejemplo1\")\n",
    "string = \"Cadena A Decodificar\"\n",
    "displacement = \"Por defecto: 13\"\n",
    "encrypted_string = encrypt(string)\n",
    "print(\"Cadena:\" + string)\n",
    "print(\"Despazamiento:\" + str(displacement))\n",
    "print(\"Cadena codificada: \" + encrypted_string)\n",
    "print(\"Cadena decodificada: \" + decrypt(encrypted_string))\n",
    "\n",
    "print('\\n')\n",
    "\n",
    "print(\"Ejemplo2\")\n",
    "string = \"My names is Yanay. I exercise 2 times a day.\"\n",
    "displacement = 5\n",
    "encrypted_string = encrypt(string,displacement)\n",
    "print(\"Cadena:\" + string)\n",
    "print(\"Despazamiento:\" + str(displacement))\n",
    "print(\"Cadena codificada: \" + encrypted_string)\n",
    "print(\"Cadena decodificada: \" + decrypt(encrypted_string,displacement))"
   ]
  }
 ],
 "metadata": {
  "kernelspec": {
   "display_name": "Python 3",
   "language": "python",
   "name": "python3"
  },
  "language_info": {
   "codemirror_mode": {
    "name": "ipython",
    "version": 3
   },
   "file_extension": ".py",
   "mimetype": "text/x-python",
   "name": "python",
   "nbconvert_exporter": "python",
   "pygments_lexer": "ipython3",
   "version": "3.8.8"
  }
 },
 "nbformat": 4,
 "nbformat_minor": 5
}
